{
  "cells": [
    {
      "cell_type": "markdown",
      "metadata": {
        "id": "qE4WC2_4wygJ"
      },
      "source": [
        "# Assignment 1\n",
        "**Credits**: Federico Ruggeri, Eleonora Mancini, Paolo Torroni\n",
        "\n",
        "**Keywords**: Sexism Detection, Multi-class Classification, RNNs, Transformers, Huggingface\n",
        "\n"
      ]
    },
    {
      "cell_type": "markdown",
      "metadata": {
        "id": "fL69zGpmx01k"
      },
      "source": [
        "# Contact\n",
        "For any doubt, question, issue or help, you can always contact us at the following email addresses:\n",
        "\n",
        "Teaching Assistants:\n",
        "\n",
        "- Federico Ruggeri -> federico.ruggeri6@unibo.it\n",
        "- Eleonora Mancini -> e.mancini@unibo.it\n",
        "\n",
        "Professor:\n",
        "- Paolo Torroni -> p.torroni@unibo.it"
      ]
    },
    {
      "cell_type": "markdown",
      "metadata": {
        "id": "55jnW-xKxi-2"
      },
      "source": [
        "# Introduction\n",
        "You are asked to address the [EXIST 2023 Task 1](https://clef2023.clef-initiative.eu/index.php?page=Pages/labs.html#EXIST) on sexism detection."
      ]
    },
    {
      "cell_type": "markdown",
      "metadata": {
        "id": "9HWp5bGwySsb"
      },
      "source": [
        "## Problem Definition\n",
        "The systems have to decide whether or not a given tweet contains or describes sexist expressions or behaviors (i.e., it is sexist itself, describes a sexist situation or criticizes a sexist behavior).\n",
        "\n",
        "### Examples:\n",
        "\n",
        "**Text**: *Can’t go a day without women womening*\n",
        "\n",
        "**Label**: Sexist\n",
        "\n",
        "**Text**: *''Society's set norms! Happy men's day though!#weareequal''*\n",
        "\n",
        "**Label**: Not sexist"
      ]
    },
    {
      "cell_type": "markdown",
      "metadata": {
        "id": "2iu1X4I98M8B"
      },
      "source": [
        "# [Task 1 - 1.0 points] Corpus\n",
        "\n",
        "We have preparared a small version of EXIST dataset in our dedicated [Github repository](https://github.com/lt-nlp-lab-unibo/nlp-course-material/tree/main/2024-2025/Assignment%201/data).\n",
        "\n",
        "Check the `A1/data` folder. It contains 3 `.json` files representing `training`, `validation` and `test` sets.\n",
        "\n",
        "The three sets are slightly unbalanced, with a bias toward the `Non-sexist` class.\n",
        "\n"
      ]
    },
    {
      "cell_type": "markdown",
      "metadata": {
        "id": "AASoMV9XN5l6"
      },
      "source": [
        "### Dataset Description\n",
        "- The dataset contains tweets in both English and Spanish.\n",
        "- There are labels for multiple tasks, but we are focusing on **Task 1**.\n",
        "- For Task 1, soft labels are assigned by six annotators.\n",
        "- The labels for Task 1 represent whether the tweet is sexist (\"YES\") or not (\"NO\").\n",
        "\n",
        "\n",
        "\n",
        "\n"
      ]
    },
    {
      "cell_type": "markdown",
      "metadata": {
        "id": "OFjwB_lCOQKj"
      },
      "source": [
        "\n",
        "### Example\n",
        "\n",
        "\n",
        "    \"203260\": {\n",
        "        \"id_EXIST\": \"203260\",\n",
        "        \"lang\": \"en\",\n",
        "        \"tweet\": \"ik when mandy says “you look like a whore” i look cute as FUCK\",\n",
        "        \"number_annotators\": 6,\n",
        "        \"annotators\": [\"Annotator_473\", \"Annotator_474\", \"Annotator_475\", \"Annotator_476\", \"Annotator_477\", \"Annotator_27\"],\n",
        "        \"gender_annotators\": [\"F\", \"F\", \"M\", \"M\", \"M\", \"F\"],\n",
        "        \"age_annotators\": [\"18-22\", \"23-45\", \"18-22\", \"23-45\", \"46+\", \"46+\"],\n",
        "        \"labels_task1\": [\"YES\", \"YES\", \"YES\", \"NO\", \"YES\", \"YES\"],\n",
        "        \"labels_task2\": [\"DIRECT\", \"DIRECT\", \"REPORTED\", \"-\", \"JUDGEMENTAL\", \"REPORTED\"],\n",
        "        \"labels_task3\": [\n",
        "          [\"STEREOTYPING-DOMINANCE\"],\n",
        "          [\"OBJECTIFICATION\"],\n",
        "          [\"SEXUAL-VIOLENCE\"],\n",
        "          [\"-\"],\n",
        "          [\"STEREOTYPING-DOMINANCE\", \"OBJECTIFICATION\"],\n",
        "          [\"OBJECTIFICATION\"]\n",
        "        ],\n",
        "        \"split\": \"TRAIN_EN\"\n",
        "      }\n",
        "    }"
      ]
    },
    {
      "cell_type": "markdown",
      "metadata": {
        "id": "BJ45bvuOOJ7I"
      },
      "source": [
        "### Instructions\n",
        "1. **Download** the `A1/data` folder.\n",
        "2. **Load** the three JSON files and encode them as pandas dataframes.\n",
        "3. **Generate hard labels** for Task 1 using majority voting and store them in a new dataframe column called `hard_label_task1`. Items without a clear majority will be removed from the dataset.\n",
        "4. **Filter the DataFrame** to keep only rows where the `lang` column is `'en'`.\n",
        "5. **Remove unwanted columns**: Keep only `id_EXIST`, `lang`, `tweet`, and `hard_label_task1`.\n",
        "6. **Encode the `hard_label_task1` column**: Use 1 to represent \"YES\" and 0 to represent \"NO\"."
      ]
    },
    {
      "cell_type": "markdown",
      "metadata": {
        "id": "KcksoLekLVgc"
      },
      "source": [
        "### 2. Loading of the three JSON files as dataframes"
      ]
    },
    {
      "cell_type": "code",
      "execution_count": 3,
      "metadata": {
        "id": "8LUWW3uMLVgc",
        "colab": {
          "base_uri": "https://localhost:8080/"
        },
        "outputId": "3c319e72-e908-4a1e-a10b-2fa97b596a11"
      },
      "outputs": [
        {
          "output_type": "stream",
          "name": "stdout",
          "text": [
            "       id id_EXIST lang                                              tweet  \\\n",
            "0  100001   100001   es  @TheChiflis Ignora al otro, es un capullo.El p...   \n",
            "1  100002   100002   es  @ultimonomada_ Si comicsgate se parece en algo...   \n",
            "2  100003   100003   es  @Steven2897 Lee sobre Gamergate, y como eso ha...   \n",
            "3  100004   100004   es  @Lunariita7 Un retraso social bastante lamenta...   \n",
            "4  100005   100005   es  @novadragon21 @icep4ck @TvDannyZ Entonces como...   \n",
            "\n",
            "  number_annotators                                         annotators  \\\n",
            "0                 6  [Annotator_1, Annotator_2, Annotator_3, Annota...   \n",
            "1                 6  [Annotator_7, Annotator_8, Annotator_9, Annota...   \n",
            "2                 6  [Annotator_7, Annotator_8, Annotator_9, Annota...   \n",
            "3                 6  [Annotator_13, Annotator_14, Annotator_15, Ann...   \n",
            "4                 6  [Annotator_19, Annotator_20, Annotator_21, Ann...   \n",
            "\n",
            "    gender_annotators                          age_annotators  \\\n",
            "0  [F, F, F, M, M, M]  [18-22, 23-45, 46+, 46+, 23-45, 18-22]   \n",
            "1  [F, F, F, M, M, M]  [18-22, 23-45, 46+, 46+, 23-45, 18-22]   \n",
            "2  [F, F, F, M, M, M]  [18-22, 23-45, 46+, 46+, 23-45, 18-22]   \n",
            "3  [F, F, F, M, M, M]  [18-22, 23-45, 46+, 46+, 23-45, 18-22]   \n",
            "4  [F, F, F, M, M, M]  [18-22, 23-45, 46+, 46+, 23-45, 18-22]   \n",
            "\n",
            "                    labels_task1  \\\n",
            "0  [YES, YES, NO, YES, YES, YES]   \n",
            "1      [NO, NO, NO, NO, YES, NO]   \n",
            "2       [NO, NO, NO, NO, NO, NO]   \n",
            "3    [NO, NO, YES, NO, YES, YES]   \n",
            "4   [YES, NO, YES, NO, YES, YES]   \n",
            "\n",
            "                                        labels_task2  \\\n",
            "0  [REPORTED, JUDGEMENTAL, -, REPORTED, JUDGEMENT...   \n",
            "1                            [-, -, -, -, DIRECT, -]   \n",
            "2                                 [-, -, -, -, -, -]   \n",
            "3              [-, -, DIRECT, -, REPORTED, REPORTED]   \n",
            "4  [REPORTED, -, JUDGEMENTAL, -, JUDGEMENTAL, DIR...   \n",
            "\n",
            "                                        labels_task3     split  \n",
            "0  [[OBJECTIFICATION], [OBJECTIFICATION, SEXUAL-V...  TRAIN_ES  \n",
            "1       [[-], [-], [-], [-], [OBJECTIFICATION], [-]]  TRAIN_ES  \n",
            "2                     [[-], [-], [-], [-], [-], [-]]  TRAIN_ES  \n",
            "3  [[-], [-], [IDEOLOGICAL-INEQUALITY], [-], [IDE...  TRAIN_ES  \n",
            "4  [[STEREOTYPING-DOMINANCE, OBJECTIFICATION], [-...  TRAIN_ES  \n"
          ]
        }
      ],
      "source": [
        "import pandas as pd\n",
        "\n",
        "#data_train = pd.read_json('data/training.json')\n",
        "data_train = pd.read_json('/content/training.json')\n",
        "\n",
        "df_train = data_train.T\n",
        "df_train.reset_index(inplace=True)\n",
        "df_train.rename(columns={'index': 'id'}, inplace=True)\n",
        "\n",
        "#data_test = pd.read_json('data/test.json')\n",
        "data_test = pd.read_json('/content/test.json')\n",
        "\n",
        "df_test = data_test.T\n",
        "df_test.reset_index(inplace=True)\n",
        "df_test.rename(columns={'index': 'id'}, inplace=True)\n",
        "\n",
        "#data_val = pd.read_json('data/validation.json')\n",
        "data_val = pd.read_json('/content/validation.json')\n",
        "\n",
        "df_val = data_val.T\n",
        "df_val.reset_index(inplace=True)\n",
        "df_val.rename(columns={'index': 'id'}, inplace=True)\n",
        "\n",
        "# DataFrame displaying\n",
        "#print(df_train.head())"
      ]
    },
    {
      "cell_type": "markdown",
      "metadata": {
        "id": "10HueBHELVgc"
      },
      "source": [
        "### 3. Generate hard_label_task1"
      ]
    },
    {
      "cell_type": "code",
      "execution_count": 4,
      "metadata": {
        "id": "qh7mDbtoLVgc",
        "colab": {
          "base_uri": "https://localhost:8080/"
        },
        "outputId": "bb5bdc19-8479-4fe7-9417-b7c30ca82cc9"
      },
      "outputs": [
        {
          "output_type": "stream",
          "name": "stdout",
          "text": [
            "  hard_label_task1\n",
            "0              YES\n",
            "1               NO\n",
            "2               NO\n",
            "3              YES\n",
            "4               NO\n"
          ]
        }
      ],
      "source": [
        "from collections import Counter\n",
        "\n",
        "def majority_vote(labels):\n",
        "    label_counts = Counter(labels)\n",
        "    most_common = label_counts.most_common(1)\n",
        "    if len(most_common) > 0 and most_common[0][1] > len(labels) / 2:\n",
        "        return most_common[0][0]\n",
        "    return None\n",
        "\n",
        "df_train['hard_label_task1'] = df_train['labels_task1'].apply(majority_vote)\n",
        "\n",
        "df_train = df_train.dropna(subset=['hard_label_task1'])\n",
        "\n",
        "df_train.reset_index(drop=True, inplace=True)\n",
        "\n",
        "#print(df_train[['hard_label_task1']].head())"
      ]
    },
    {
      "cell_type": "markdown",
      "metadata": {
        "id": "9R6OaY1ALVgc"
      },
      "source": [
        "### 4. Filter DataFrame"
      ]
    },
    {
      "cell_type": "code",
      "execution_count": 6,
      "metadata": {
        "id": "gi_FsJDQLVgc",
        "colab": {
          "base_uri": "https://localhost:8080/"
        },
        "outputId": "d801ef8c-d0ce-4a3d-ee0b-9b1d06056aa9"
      },
      "outputs": [
        {
          "output_type": "stream",
          "name": "stdout",
          "text": [
            "          id id_EXIST lang                                              tweet  \\\n",
            "3194  200002   200002   en  Writing a uni essay in my local pub with a cof...   \n",
            "3195  200003   200003   en  @UniversalORL it is 2021 not 1921. I dont appr...   \n",
            "3196  200006   200006   en  According to a customer I have plenty of time ...   \n",
            "3197  200007   200007   en  So only 'blokes' drink beer? Sorry, but if you...   \n",
            "3198  200008   200008   en  New to the shelves this week - looking forward...   \n",
            "...      ...      ...  ...                                                ...   \n",
            "6059  203256   203256   en  idk why y’all bitches think having half your a...   \n",
            "6060  203257   203257   en  This has been a part of an experiment with @Wo...   \n",
            "6061  203258   203258   en  \"Take me already\" \"Not yet. You gotta be ready...   \n",
            "6062  203259   203259   en  @clintneedcoffee why do you look like a whore?...   \n",
            "6063  203260   203260   en  ik when mandy says “you look like a whore” i l...   \n",
            "\n",
            "     number_annotators                                         annotators  \\\n",
            "3194                 6  [Annotator_391, Annotator_392, Annotator_393, ...   \n",
            "3195                 6  [Annotator_397, Annotator_398, Annotator_399, ...   \n",
            "3196                 6  [Annotator_409, Annotator_410, Annotator_411, ...   \n",
            "3197                 6  [Annotator_415, Annotator_416, Annotator_417, ...   \n",
            "3198                 6  [Annotator_420, Annotator_296, Annotator_421, ...   \n",
            "...                ...                                                ...   \n",
            "6059                 6  [Annotator_478, Annotator_479, Annotator_480, ...   \n",
            "6060                 6  [Annotator_668, Annotator_669, Annotator_670, ...   \n",
            "6061                 6  [Annotator_467, Annotator_468, Annotator_469, ...   \n",
            "6062                 6  [Annotator_674, Annotator_675, Annotator_676, ...   \n",
            "6063                 6  [Annotator_473, Annotator_474, Annotator_475, ...   \n",
            "\n",
            "       gender_annotators                          age_annotators  \\\n",
            "3194  [F, F, M, M, M, F]  [18-22, 23-45, 18-22, 23-45, 46+, 46+]   \n",
            "3195  [F, F, M, M, M, F]  [18-22, 23-45, 18-22, 23-45, 46+, 46+]   \n",
            "3196  [F, F, M, M, M, F]  [18-22, 23-45, 18-22, 23-45, 46+, 46+]   \n",
            "3197  [F, F, M, M, M, F]  [18-22, 23-45, 18-22, 23-45, 46+, 46+]   \n",
            "3198  [F, F, M, M, M, F]  [18-22, 23-45, 18-22, 23-45, 46+, 46+]   \n",
            "...                  ...                                     ...   \n",
            "6059  [F, F, M, M, M, F]  [18-22, 23-45, 18-22, 23-45, 46+, 46+]   \n",
            "6060  [F, F, M, M, M, F]  [18-22, 23-45, 18-22, 23-45, 46+, 46+]   \n",
            "6061  [F, F, M, M, M, F]  [18-22, 23-45, 18-22, 23-45, 46+, 46+]   \n",
            "6062  [F, F, M, M, M, F]  [18-22, 23-45, 18-22, 23-45, 46+, 46+]   \n",
            "6063  [F, F, M, M, M, F]  [18-22, 23-45, 18-22, 23-45, 46+, 46+]   \n",
            "\n",
            "                        labels_task1  \\\n",
            "3194   [YES, YES, YES, NO, YES, YES]   \n",
            "3195    [YES, YES, NO, YES, NO, YES]   \n",
            "3196  [YES, YES, YES, YES, YES, YES]   \n",
            "3197  [YES, YES, YES, YES, YES, YES]   \n",
            "3198       [NO, NO, NO, YES, NO, NO]   \n",
            "...                              ...   \n",
            "6059  [YES, YES, YES, YES, YES, YES]   \n",
            "6060  [YES, YES, YES, YES, YES, YES]   \n",
            "6061    [NO, YES, NO, YES, YES, YES]   \n",
            "6062  [YES, YES, YES, YES, YES, YES]   \n",
            "6063   [YES, YES, YES, NO, YES, YES]   \n",
            "\n",
            "                                           labels_task2  \\\n",
            "3194  [REPORTED, DIRECT, REPORTED, -, REPORTED, REPO...   \n",
            "3195  [REPORTED, REPORTED, -, REPORTED, -, JUDGEMENTAL]   \n",
            "3196  [REPORTED, REPORTED, REPORTED, REPORTED, REPOR...   \n",
            "3197  [JUDGEMENTAL, REPORTED, REPORTED, DIRECT, DIRE...   \n",
            "3198                       [-, -, -, JUDGEMENTAL, -, -]   \n",
            "...                                                 ...   \n",
            "6059  [JUDGEMENTAL, DIRECT, DIRECT, DIRECT, JUDGEMEN...   \n",
            "6060  [JUDGEMENTAL, REPORTED, JUDGEMENTAL, DIRECT, J...   \n",
            "6061        [-, DIRECT, -, DIRECT, DIRECT, JUDGEMENTAL]   \n",
            "6062  [DIRECT, DIRECT, DIRECT, DIRECT, JUDGEMENTAL, ...   \n",
            "6063  [DIRECT, DIRECT, REPORTED, -, JUDGEMENTAL, REP...   \n",
            "\n",
            "                                           labels_task3     split  \\\n",
            "3194  [[STEREOTYPING-DOMINANCE, OBJECTIFICATION, MIS...  TRAIN_EN   \n",
            "3195  [[OBJECTIFICATION, SEXUAL-VIOLENCE], [STEREOTY...  TRAIN_EN   \n",
            "3196  [[STEREOTYPING-DOMINANCE, OBJECTIFICATION], [S...  TRAIN_EN   \n",
            "3197  [[STEREOTYPING-DOMINANCE], [STEREOTYPING-DOMIN...  TRAIN_EN   \n",
            "3198  [[-], [-], [-], [IDEOLOGICAL-INEQUALITY], [-],...  TRAIN_EN   \n",
            "...                                                 ...       ...   \n",
            "6059  [[OBJECTIFICATION], [STEREOTYPING-DOMINANCE, S...  TRAIN_EN   \n",
            "6060  [[OBJECTIFICATION], [OBJECTIFICATION], [OBJECT...  TRAIN_EN   \n",
            "6061  [[-], [OBJECTIFICATION], [-], [SEXUAL-VIOLENCE...  TRAIN_EN   \n",
            "6062  [[OBJECTIFICATION, SEXUAL-VIOLENCE, MISOGYNY-N...  TRAIN_EN   \n",
            "6063  [[STEREOTYPING-DOMINANCE], [OBJECTIFICATION], ...  TRAIN_EN   \n",
            "\n",
            "     hard_label_task1  \n",
            "3194              YES  \n",
            "3195              YES  \n",
            "3196              YES  \n",
            "3197              YES  \n",
            "3198               NO  \n",
            "...               ...  \n",
            "6059              YES  \n",
            "6060              YES  \n",
            "6061              YES  \n",
            "6062              YES  \n",
            "6063              YES  \n",
            "\n",
            "[2870 rows x 13 columns]\n"
          ]
        }
      ],
      "source": [
        "df_train = df_train[df_train['lang'] == 'en']\n",
        "#print(df_train)"
      ]
    },
    {
      "cell_type": "markdown",
      "metadata": {
        "id": "pLLeN79OLVgd"
      },
      "source": [
        "### 5. Remove Unwanted Columns"
      ]
    },
    {
      "cell_type": "code",
      "execution_count": 8,
      "metadata": {
        "id": "fBLTFgNuLVgd",
        "colab": {
          "base_uri": "https://localhost:8080/"
        },
        "outputId": "f94920c4-8efe-43d8-ffcf-5594f5ac8f17"
      },
      "outputs": [
        {
          "output_type": "stream",
          "name": "stdout",
          "text": [
            "     id_EXIST lang                                              tweet  \\\n",
            "3194   200002   en  Writing a uni essay in my local pub with a cof...   \n",
            "3195   200003   en  @UniversalORL it is 2021 not 1921. I dont appr...   \n",
            "3196   200006   en  According to a customer I have plenty of time ...   \n",
            "3197   200007   en  So only 'blokes' drink beer? Sorry, but if you...   \n",
            "3198   200008   en  New to the shelves this week - looking forward...   \n",
            "\n",
            "     hard_label_task1  \n",
            "3194              YES  \n",
            "3195              YES  \n",
            "3196              YES  \n",
            "3197              YES  \n",
            "3198               NO  \n"
          ]
        }
      ],
      "source": [
        "df_train = df_train[['id_EXIST', 'lang', 'tweet', 'hard_label_task1']]\n",
        "#print(df_train.head())"
      ]
    },
    {
      "cell_type": "markdown",
      "metadata": {
        "id": "8RFvA37OLVgd"
      },
      "source": [
        "### 6. hard_label_task1 encoding"
      ]
    },
    {
      "cell_type": "code",
      "execution_count": 9,
      "metadata": {
        "colab": {
          "base_uri": "https://localhost:8080/"
        },
        "id": "ZND3Mu40LVgd",
        "outputId": "5cb5adad-aace-41db-a3bb-289d5b1d4718"
      },
      "outputs": [
        {
          "output_type": "stream",
          "name": "stdout",
          "text": [
            "     id_EXIST lang                                              tweet  \\\n",
            "3194   200002   en  Writing a uni essay in my local pub with a cof...   \n",
            "3195   200003   en  @UniversalORL it is 2021 not 1921. I dont appr...   \n",
            "3196   200006   en  According to a customer I have plenty of time ...   \n",
            "3197   200007   en  So only 'blokes' drink beer? Sorry, but if you...   \n",
            "3198   200008   en  New to the shelves this week - looking forward...   \n",
            "\n",
            "      hard_label_task1  \n",
            "3194                 1  \n",
            "3195                 1  \n",
            "3196                 1  \n",
            "3197                 1  \n",
            "3198                 0  \n"
          ]
        },
        {
          "output_type": "stream",
          "name": "stderr",
          "text": [
            "<ipython-input-9-1f94baa6fbc2>:1: FutureWarning: Downcasting behavior in `replace` is deprecated and will be removed in a future version. To retain the old behavior, explicitly call `result.infer_objects(copy=False)`. To opt-in to the future behavior, set `pd.set_option('future.no_silent_downcasting', True)`\n",
            "  df_train['hard_label_task1'] = df_train['hard_label_task1'].replace({'YES': 1, 'NO': 0})\n"
          ]
        }
      ],
      "source": [
        "df_train['hard_label_task1'] = df_train['hard_label_task1'].replace({'YES': 1, 'NO': 0})\n",
        "print(df_train.head())"
      ]
    },
    {
      "cell_type": "markdown",
      "metadata": {
        "collapsed": false,
        "id": "RyrGidPaLVgd"
      },
      "source": [
        "# [Task2 - 0.5 points] Data Cleaning\n",
        "In the context of tweets, we have noisy and informal data that often includes unnecessary elements like emojis, hashtags, mentions, and URLs. These elements may interfere with the text analysis.\n"
      ]
    },
    {
      "cell_type": "markdown",
      "metadata": {
        "collapsed": false,
        "id": "aiOvW7DnLVgd"
      },
      "source": [
        "\n",
        "### Instructions\n",
        "- **Remove emojis** from the tweets.\n",
        "- **Remove hashtags** (e.g., `#example`).\n",
        "- **Remove mentions** such as `@user`.\n",
        "- **Remove URLs** from the tweets.\n",
        "- **Remove special characters and symbols**.\n",
        "- **Remove specific quote characters** (e.g., curly quotes).\n",
        "- **Perform lemmatization** to reduce words to their base form."
      ]
    },
    {
      "cell_type": "code",
      "execution_count": 17,
      "metadata": {
        "colab": {
          "base_uri": "https://localhost:8080/"
        },
        "id": "xgXFO2RlLVgd",
        "outputId": "5deb7493-4a64-4dc3-dbd8-b92f7fc2269f"
      },
      "outputs": [
        {
          "output_type": "stream",
          "name": "stderr",
          "text": [
            "[nltk_data] Downloading package punkt_tab to /root/nltk_data...\n",
            "[nltk_data]   Package punkt_tab is already up-to-date!\n",
            "[nltk_data] Downloading package punkt to /root/nltk_data...\n",
            "[nltk_data]   Package punkt is already up-to-date!\n"
          ]
        },
        {
          "output_type": "stream",
          "name": "stdout",
          "text": [
            "                                                  tweet  \\\n",
            "3194  Writing a uni essay in my local pub with a cof...   \n",
            "3195  @UniversalORL it is 2021 not 1921. I dont appr...   \n",
            "3196  According to a customer I have plenty of time ...   \n",
            "3197  So only 'blokes' drink beer? Sorry, but if you...   \n",
            "3198  New to the shelves this week - looking forward...   \n",
            "\n",
            "                                          cleaned_tweet  \n",
            "3194  [Writing, a, uni, essay, in, my, local, pub, w...  \n",
            "3195  [UniversalORL, it, is, 2021, not, 1921, I, don...  \n",
            "3196  [According, to, a, customer, I, have, plenty, ...  \n",
            "3197  [So, only, blokes, drink, beer, Sorry, but, if...  \n",
            "3198  [New, to, the, shelves, this, week, looking, f...  \n"
          ]
        }
      ],
      "source": [
        "import re\n",
        "import nltk\n",
        "#from nltk.tokenize import word_tokenize\n",
        "from nltk import word_tokenize\n",
        "\n",
        "\n",
        "# necessary for being able to tokenize\n",
        "nltk.download('punkt_tab')\n",
        "nltk.download('punkt')\n",
        "\n",
        "# Function to clean and preprocess tweets\n",
        "def clean_tweet(tweet):\n",
        "    # Remove emojis\n",
        "    tweet = re.sub(r'[^\\w\\s,]', '', tweet)  # Unicode patterns for emojis\n",
        "    # Remove mentions (@user)\n",
        "    tweet = re.sub(r'@\\w+', '', tweet)\n",
        "    # Remove hashtags (#example)\n",
        "    tweet = re.sub(r'#\\w+', '', tweet)\n",
        "    # Remove URLs\n",
        "    tweet = re.sub(r'http\\S+|www.\\S+', '', tweet)\n",
        "    # Remove special characters and symbols\n",
        "    tweet = re.sub(r'[^\\w\\s]', '', tweet)\n",
        "    # Remove specific quote characters (e.g., curly quotes)\n",
        "    cleaned_tweet = tweet.replace('“', '').replace('”', '').replace('’', \"'\")\n",
        "    # Tokenize and lemmatize\n",
        "    return cleaned_tweet\n",
        "\n",
        "cleaned_tweets = []\n",
        "\n",
        "for tweet in df_train['tweet']:\n",
        "    cleaned_tweet = clean_tweet(tweet)\n",
        "    tokenized_tweet = word_tokenize(cleaned_tweet)\n",
        "    cleaned_tweets.append(tokenized_tweet)\n",
        "\n",
        "df_train['cleaned_tweet'] = cleaned_tweets\n",
        "\n",
        "print(df_train[['tweet', 'cleaned_tweet']].head())"
      ]
    },
    {
      "cell_type": "markdown",
      "metadata": {
        "id": "s3KylLHNl0bE"
      },
      "source": [
        "# [Task 3 - 0.5 points] Text Encoding\n",
        "To train a neural sexism classifier, you first need to encode text into numerical format.\n",
        "\n",
        "\n"
      ]
    },
    {
      "cell_type": "markdown",
      "metadata": {
        "id": "hr1lTHUVOXff"
      },
      "source": [
        "### Instructions\n",
        "\n",
        "* Embed words using **GloVe embeddings**.\n",
        "* You are **free** to pick any embedding dimension.\n",
        "\n",
        "\n",
        "\n"
      ]
    },
    {
      "cell_type": "code",
      "execution_count": 27,
      "metadata": {
        "id": "AIoWFwyAFmIg",
        "scrolled": false
      },
      "outputs": [],
      "source": [
        "import gensim\n",
        "import gensim.downloader as gloader\n",
        "\n",
        "def load_embedding_model(model_type: str,\n",
        "                         embedding_dimension: int = 50) -> gensim.models.keyedvectors.KeyedVectors:\n",
        "    download_path = \"glove-wiki-gigaword-{}\".format(embedding_dimension)\n",
        "    try:\n",
        "        emb_model = gloader.load(download_path)\n",
        "    except ValueError as e:\n",
        "        print(\"Invalid embedding model name! Check the embedding dimension:\")\n",
        "        print(\"Glove: 50, 100, 200, 300\")\n",
        "        raise e\n",
        "\n",
        "    return emb_model\n",
        "\n",
        "embedding_model = load_embedding_model(model_type=\"glove\",\n",
        "                                       embedding_dimension=50)"
      ]
    },
    {
      "cell_type": "markdown",
      "metadata": {
        "id": "r6NNMEjWOZQr"
      },
      "source": [
        "### Note : What about OOV tokens?\n",
        "   * All the tokens in the **training** set that are not in GloVe **must** be added to the vocabulary.\n",
        "   * For the remaining tokens (i.e., OOV in the validation and test sets), you have to assign them a **special token** (e.g., [UNK]) and a **static** embedding.\n",
        "   * You are **free** to define the static embedding using any strategy (e.g., random, neighbourhood, etc...)\n",
        "\n"
      ]
    },
    {
      "cell_type": "markdown",
      "metadata": {
        "id": "90UztlGUObXk"
      },
      "source": [
        "### More about OOV\n",
        "\n",
        "For a given token:\n",
        "\n",
        "* **If in train set**: add to vocabulary and assign an embedding (use GloVe if token in GloVe, custom embedding otherwise).\n",
        "* **If in val/test set**: assign special token if not in vocabulary and assign custom embedding.\n",
        "\n",
        "Your vocabulary **should**:\n",
        "\n",
        "* Contain all tokens in train set; or\n",
        "* Union of tokens in train set and in GloVe $\\rightarrow$ we make use of existing knowledge!"
      ]
    },
    {
      "cell_type": "markdown",
      "metadata": {
        "id": "6JLnuLGHGAUT"
      },
      "source": [
        "# [Task 4 - 1.0 points] Model definition\n",
        "\n",
        "You are now tasked to define your sexism classifier.\n",
        "\n",
        "\n"
      ]
    },
    {
      "cell_type": "markdown",
      "metadata": {
        "id": "iQFI9J-JOfXD"
      },
      "source": [
        "### Instructions\n",
        "\n",
        "* **Baseline**: implement a Bidirectional LSTM with a Dense layer on top.\n",
        "* You are **free** to experiment with hyper-parameters to define the baseline model.\n",
        "\n",
        "* **Model 1**: add an additional LSTM layer to the Baseline model."
      ]
    },
    {
      "cell_type": "markdown",
      "metadata": {
        "id": "4jALc_qYGS2E"
      },
      "source": [
        "### Token to embedding mapping\n",
        "\n",
        "You can follow two approaches for encoding tokens in your classifier.\n",
        "\n",
        "### Work directly with embeddings\n",
        "\n",
        "- Compute the embedding of each input token\n",
        "- Feed the mini-batches of shape (batch_size, # tokens, embedding_dim) to your model\n",
        "\n",
        "### Work with Embedding layer\n",
        "\n",
        "- Encode input tokens to token ids\n",
        "- Define a Embedding layer as the first layer of your model\n",
        "- Compute the embedding matrix of all known tokens (i.e., tokens in your vocabulary)\n",
        "- Initialize the Embedding layer with the computed embedding matrix\n",
        "- You are **free** to set the Embedding layer trainable or not"
      ]
    },
    {
      "cell_type": "code",
      "execution_count": null,
      "metadata": {
        "id": "Z44PckrNGfTv"
      },
      "outputs": [],
      "source": [
        "embedding = tf.keras.layers.Embedding(input_dim=vocab_size,\n",
        "                                      output_dim=embedding_dimension,\n",
        "                                      weights=[embedding_matrix],\n",
        "                                      mask_zero=True,                   # automatically masks padding tokens\n",
        "                                      name='encoder_embedding')"
      ]
    },
    {
      "cell_type": "markdown",
      "metadata": {
        "id": "GEQTPu6eGgGv"
      },
      "source": [
        "### Padding\n",
        "\n",
        "Pay attention to padding tokens!\n",
        "\n",
        "Your model **should not** be penalized on those tokens.\n",
        "\n",
        "#### How to?\n",
        "\n",
        "There are two main ways.\n",
        "\n",
        "However, their implementation depends on the neural library you are using.\n",
        "\n",
        "- Embedding layer\n",
        "- Custom loss to compute average cross-entropy on non-padding tokens only\n",
        "\n",
        "**Note**: This is a **recommendation**, but we **do not penalize** for missing workarounds."
      ]
    },
    {
      "cell_type": "code",
      "execution_count": null,
      "metadata": {
        "id": "Urz5miEWLVge"
      },
      "outputs": [],
      "source": [
        "import tensorflow.keras as keras\n",
        "from keras.optimizers import AdamW\n",
        "from keras.regularizers import l2\n",
        "from keras.models import Sequential\n",
        "from keras.layers import Embedding\n",
        "from keras.layers import Bidirectional\n",
        "from keras.layers import Embedding\n",
        "from keras.layers import LSTM\n",
        "from keras.layers import Dense\n",
        "\n",
        "\n",
        "def getBaselineModel(vocab_size, embedding_dimension, embedding_matrix, n_units = 128):\n",
        "    model = Sequential([\n",
        "        Embedding(input_dim=vocab_size, output_dim=embedding_dimension, weights=embedding_matrix, mask_zero=True, name='encoder_embedding_baseline'),\n",
        "        Bidirectional(LSTM(n_units), return_sequences=False),\n",
        "        Dense(1, activation='sigmoid', kernel_regularizer=l2(0.05)),\n",
        "    ])\n",
        "\n",
        "    model.compile(loss='binary_crossentropy', optimizer=AdamW(), metrics=['accuracy'])\n",
        "    return model\n",
        "\n",
        "def getModel1(vocab_size, embedding_dimension, embedding_matrix, n_units_1 = 128, n_units_2 = 64 ):\n",
        "    model = Sequential([\n",
        "        Embedding(input_dim=vocab_size, output_dim=embedding_dimension, weights=embedding_matrix, mask_zero=True, name='encoder_embedding_model1'),\n",
        "        Bidirectional(LSTM(n_units_1, return_sequences=True)),\n",
        "        Bidirectional(LSTM(n_units_2), return_sequences=False),\n",
        "        Dense(1, activation='sigmoid'),\n",
        "    ])\n",
        "    model.compile(loss='binary_crossentropy', optimizer=AdamW(), metrics=['accuracy'])\n",
        "    return model"
      ]
    },
    {
      "cell_type": "markdown",
      "metadata": {
        "id": "EFjBgdiRG3wD"
      },
      "source": [
        "# [Task 5 - 1.0 points] Training and Evaluation\n",
        "\n",
        "You are now tasked to train and evaluate the Baseline and Model 1.\n"
      ]
    },
    {
      "cell_type": "markdown",
      "metadata": {
        "id": "TWPK4umGOjtT"
      },
      "source": [
        "\n",
        "### Instructions\n",
        "\n",
        "* Train **all** models on the train set.\n",
        "* Evaluate **all** models on the validation set.\n",
        "* Compute metrics on the validation set.\n",
        "* Pick **at least** three seeds for robust estimation.\n",
        "* Pick the **best** performing model according to the observed validation set performance.\n",
        "* Evaluate your models using macro F1-score."
      ]
    },
    {
      "cell_type": "markdown",
      "metadata": {
        "id": "CSy9sPwYHUoD"
      },
      "source": [
        "# [Task 6 - 1.0 points] Transformers\n",
        "\n",
        "In this section, you will use a transformer model specifically trained for hate speech detection, namely [Twitter-roBERTa-base for Hate Speech Detection](https://huggingface.co/cardiffnlp/twitter-roberta-base-hate).\n",
        "\n",
        "\n"
      ]
    },
    {
      "cell_type": "markdown",
      "metadata": {
        "collapsed": false,
        "id": "KIs_Fg5oLVgf"
      },
      "source": [
        "### Relevant Material\n",
        "- Tutorial 3"
      ]
    },
    {
      "cell_type": "markdown",
      "metadata": {
        "collapsed": false,
        "id": "qE0wYj0wLVgf"
      },
      "source": [
        "### Instructions\n",
        "1. **Load the Tokenizer and Model**\n",
        "\n",
        "2. **Preprocess the Dataset**:\n",
        "   You will need to preprocess your dataset to prepare it for input into the model. Tokenize your text data using the appropriate tokenizer and ensure it is formatted correctly.\n",
        "\n",
        "   **Note**: You have to use the plain text of the dataset and not the version that you tokenized before, as you need to tokenize the cleaned text obtained after the initial cleaning process.\n",
        "\n",
        "3. **Train the Model**:\n",
        "   Use the `Trainer` to train the model on your training data.\n",
        "\n",
        "4. **Evaluate the Model on the Test Set** using F1-macro."
      ]
    },
    {
      "cell_type": "markdown",
      "metadata": {
        "id": "3gtiG2mAL3HM"
      },
      "source": [
        "# [Task 7 - 0.5 points] Error Analysis\n",
        "\n",
        "### Instructions\n",
        "\n",
        "After evaluating the model, perform a brief error analysis:\n",
        "\n",
        " - Review the results and identify common errors.\n",
        "\n",
        " - Summarize your findings regarding the errors and their impact on performance (e.g. but not limited to Out-of-Vocabulary (OOV) words, data imbalance, and performance differences between the custom model and the transformer...)\n",
        " - Suggest possible solutions to address the identified errors.\n",
        "\n"
      ]
    },
    {
      "cell_type": "markdown",
      "metadata": {
        "id": "P42XYjb6K3k5"
      },
      "source": [
        "# [Task 8 - 0.5 points] Report\n",
        "\n",
        "Wrap up your experiment in a short report (up to 2 pages)."
      ]
    },
    {
      "cell_type": "markdown",
      "metadata": {
        "id": "N9oXSaW1K5S7"
      },
      "source": [
        "### Instructions\n",
        "\n",
        "* Use the NLP course report template.\n",
        "* Summarize each task in the report following the provided template."
      ]
    },
    {
      "cell_type": "markdown",
      "metadata": {
        "id": "MHw2L6PlLDyE"
      },
      "source": [
        "### Recommendations\n",
        "\n",
        "The report is not a copy-paste of graphs, tables, and command outputs.\n",
        "\n",
        "* Summarize classification performance in Table format.\n",
        "* **Do not** report command outputs or screenshots.\n",
        "* Report learning curves in Figure format.\n",
        "* The error analysis section should summarize your findings.\n"
      ]
    },
    {
      "cell_type": "markdown",
      "metadata": {
        "id": "bMUqh1utLflM"
      },
      "source": [
        "# Submission\n",
        "\n",
        "* **Submit** your report in PDF format.\n",
        "* **Submit** your python notebook.\n",
        "* Make sure your notebook is **well organized**, with no temporary code, commented sections, tests, etc...\n",
        "* You can upload **model weights** in a cloud repository and report the link in the report."
      ]
    },
    {
      "cell_type": "markdown",
      "metadata": {
        "id": "ypagJed7LheY"
      },
      "source": [
        "# FAQ\n",
        "\n",
        "Please check this frequently asked questions before contacting us"
      ]
    },
    {
      "cell_type": "markdown",
      "metadata": {
        "id": "bgtFwKXMLjww"
      },
      "source": [
        "### Execution Order\n",
        "\n",
        "You are **free** to address tasks in any order (if multiple orderings are available)."
      ]
    },
    {
      "cell_type": "markdown",
      "metadata": {
        "id": "_BjMk5e_M4n7"
      },
      "source": [
        "### Trainable Embeddings\n",
        "\n",
        "You are **free** to define a trainable or non-trainable Embedding layer to load the GloVe embeddings."
      ]
    },
    {
      "cell_type": "markdown",
      "metadata": {
        "id": "e8TVgpYlM6s5"
      },
      "source": [
        "### Model architecture\n",
        "\n",
        "You **should not** change the architecture of a model (i.e., its layers).\n",
        "However, you are **free** to play with their hyper-parameters.\n"
      ]
    },
    {
      "cell_type": "markdown",
      "metadata": {
        "id": "Ia6IapI1M_A7"
      },
      "source": [
        "### Neural Libraries\n",
        "\n",
        "You are **free** to use any library of your choice to implement the networks (e.g., Keras, Tensorflow, PyTorch, JAX, etc...)"
      ]
    },
    {
      "cell_type": "markdown",
      "metadata": {
        "id": "bWDaW8DyNBu5"
      },
      "source": [
        "### Keras TimeDistributed Dense layer\n",
        "\n",
        "If you are using Keras, we recommend wrapping the final Dense layer with `TimeDistributed`."
      ]
    },
    {
      "cell_type": "markdown",
      "metadata": {
        "id": "R1WcrpemNEQm"
      },
      "source": [
        "### Robust Evaluation\n",
        "\n",
        "Each model is trained with at least 3 random seeds.\n",
        "\n",
        "Task 4 requires you to compute the average performance over the 3 seeds and its corresponding standard deviation."
      ]
    },
    {
      "cell_type": "markdown",
      "metadata": {
        "id": "_mVe5dqzNI_u"
      },
      "source": [
        "### Model Selection for Analysis\n",
        "\n",
        "To carry out the error analysis you are **free** to either\n",
        "\n",
        "* Pick examples or perform comparisons with an individual seed run model (e.g., Baseline seed 1337)\n",
        "* Perform ensembling via, for instance, majority voting to obtain a single model."
      ]
    },
    {
      "cell_type": "markdown",
      "metadata": {
        "id": "L8a4pDKSNKzI"
      },
      "source": [
        "### Error Analysis\n",
        "\n",
        "Some topics for discussion include:\n",
        "   * Precision/Recall curves.\n",
        "   * Confusion matrices.\n",
        "   * Specific misclassified samples."
      ]
    },
    {
      "cell_type": "markdown",
      "metadata": {
        "collapsed": false,
        "id": "ctL6rGCOLVgk"
      },
      "source": [
        "### Bonus Points\n",
        "Bonus points are arbitrarily assigned based on significant contributions such as:\n",
        "- Outstanding error analysis\n",
        "- Masterclass code organization\n",
        "- Suitable extensions\n",
        "Note that bonus points are only assigned if all task points are attributed (i.e., 6/6).\n",
        "\n",
        "**Possible Extensions/Explorations for Bonus Points:**\n",
        "- **Try other preprocessing strategies**: e.g., but not limited to, explore techniques tailored specifically for tweets or  methods that are common in social media text.\n",
        "- **Experiment with other custom architectures or models from HuggingFace**\n",
        "- **Explore Spanish tweets**: e.g., but not limited to, leverage multilingual models to process Spanish tweets and assess their performance compared to monolingual models.\n",
        "\n"
      ]
    },
    {
      "cell_type": "markdown",
      "metadata": {
        "id": "8xmMKE7vLu-y"
      },
      "source": [
        "\n",
        "\n",
        "\n",
        "\n",
        "# The End"
      ]
    }
  ],
  "metadata": {
    "accelerator": "GPU",
    "colab": {
      "gpuType": "T4",
      "provenance": []
    },
    "kernelspec": {
      "display_name": "Python 3",
      "name": "python3"
    },
    "language_info": {
      "codemirror_mode": {
        "name": "ipython",
        "version": 3
      },
      "file_extension": ".py",
      "mimetype": "text/x-python",
      "name": "python",
      "nbconvert_exporter": "python",
      "pygments_lexer": "ipython3",
      "version": "3.13.0"
    }
  },
  "nbformat": 4,
  "nbformat_minor": 0
}