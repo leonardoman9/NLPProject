{
  "cells": [
    {
      "cell_type": "markdown",
      "metadata": {
        "id": "qE4WC2_4wygJ"
      },
      "source": [
        "# Assignment 1\n",
        "**Credits**: Federico Ruggeri, Eleonora Mancini, Paolo Torroni\n",
        "\n",
        "**Keywords**: Sexism Detection, Multi-class Classification, RNNs, Transformers, Huggingface\n",
        "\n"
      ]
    },
    {
      "cell_type": "markdown",
      "metadata": {
        "id": "fL69zGpmx01k"
      },
      "source": [
        "# Contact\n",
        "For any doubt, question, issue or help, you can always contact us at the following email addresses:\n",
        "\n",
        "Teaching Assistants:\n",
        "\n",
        "- Federico Ruggeri -> federico.ruggeri6@unibo.it\n",
        "- Eleonora Mancini -> e.mancini@unibo.it\n",
        "\n",
        "Professor:\n",
        "- Paolo Torroni -> p.torroni@unibo.it"
      ]
    },
    {
      "cell_type": "markdown",
      "metadata": {
        "id": "55jnW-xKxi-2"
      },
      "source": [
        "# Introduction\n",
        "You are asked to address the [EXIST 2023 Task 1](https://clef2023.clef-initiative.eu/index.php?page=Pages/labs.html#EXIST) on sexism detection."
      ]
    },
    {
      "cell_type": "markdown",
      "metadata": {
        "id": "9HWp5bGwySsb"
      },
      "source": [
        "## Problem Definition\n",
        "The systems have to decide whether or not a given tweet contains or describes sexist expressions or behaviors (i.e., it is sexist itself, describes a sexist situation or criticizes a sexist behavior).\n",
        "\n",
        "### Examples:\n",
        "\n",
        "**Text**: *Can’t go a day without women womening*\n",
        "\n",
        "**Label**: Sexist\n",
        "\n",
        "**Text**: *''Society's set norms! Happy men's day though!#weareequal''*\n",
        "\n",
        "**Label**: Not sexist"
      ]
    },
    {
      "cell_type": "markdown",
      "metadata": {
        "id": "2iu1X4I98M8B"
      },
      "source": [
        "# [Task 1 - 1.0 points] Corpus\n",
        "\n",
        "We have preparared a small version of EXIST dataset in our dedicated [Github repository](https://github.com/lt-nlp-lab-unibo/nlp-course-material/tree/main/2024-2025/Assignment%201/data).\n",
        "\n",
        "Check the `A1/data` folder. It contains 3 `.json` files representing `training`, `validation` and `test` sets.\n",
        "\n",
        "The three sets are slightly unbalanced, with a bias toward the `Non-sexist` class.\n",
        "\n"
      ]
    },
    {
      "cell_type": "markdown",
      "metadata": {
        "id": "AASoMV9XN5l6"
      },
      "source": [
        "### Dataset Description\n",
        "- The dataset contains tweets in both English and Spanish.\n",
        "- There are labels for multiple tasks, but we are focusing on **Task 1**.\n",
        "- For Task 1, soft labels are assigned by six annotators.\n",
        "- The labels for Task 1 represent whether the tweet is sexist (\"YES\") or not (\"NO\").\n",
        "\n",
        "\n",
        "\n",
        "\n"
      ]
    },
    {
      "cell_type": "markdown",
      "metadata": {
        "id": "OFjwB_lCOQKj"
      },
      "source": [
        "\n",
        "### Example\n",
        "\n",
        "\n",
        "    \"203260\": {\n",
        "        \"id_EXIST\": \"203260\",\n",
        "        \"lang\": \"en\",\n",
        "        \"tweet\": \"ik when mandy says “you look like a whore” i look cute as FUCK\",\n",
        "        \"number_annotators\": 6,\n",
        "        \"annotators\": [\"Annotator_473\", \"Annotator_474\", \"Annotator_475\", \"Annotator_476\", \"Annotator_477\", \"Annotator_27\"],\n",
        "        \"gender_annotators\": [\"F\", \"F\", \"M\", \"M\", \"M\", \"F\"],\n",
        "        \"age_annotators\": [\"18-22\", \"23-45\", \"18-22\", \"23-45\", \"46+\", \"46+\"],\n",
        "        \"labels_task1\": [\"YES\", \"YES\", \"YES\", \"NO\", \"YES\", \"YES\"],\n",
        "        \"labels_task2\": [\"DIRECT\", \"DIRECT\", \"REPORTED\", \"-\", \"JUDGEMENTAL\", \"REPORTED\"],\n",
        "        \"labels_task3\": [\n",
        "          [\"STEREOTYPING-DOMINANCE\"],\n",
        "          [\"OBJECTIFICATION\"],\n",
        "          [\"SEXUAL-VIOLENCE\"],\n",
        "          [\"-\"],\n",
        "          [\"STEREOTYPING-DOMINANCE\", \"OBJECTIFICATION\"],\n",
        "          [\"OBJECTIFICATION\"]\n",
        "        ],\n",
        "        \"split\": \"TRAIN_EN\"\n",
        "      }\n",
        "    }"
      ]
    },
    {
      "cell_type": "markdown",
      "metadata": {
        "id": "BJ45bvuOOJ7I"
      },
      "source": [
        "### Instructions\n",
        "1. **Download** the `A1/data` folder.\n",
        "2. **Load** the three JSON files and encode them as pandas dataframes.\n",
        "3. **Generate hard labels** for Task 1 using majority voting and store them in a new dataframe column called `hard_label_task1`. Items without a clear majority will be removed from the dataset.\n",
        "4. **Filter the DataFrame** to keep only rows where the `lang` column is `'en'`.\n",
        "5. **Remove unwanted columns**: Keep only `id_EXIST`, `lang`, `tweet`, and `hard_label_task1`.\n",
        "6. **Encode the `hard_label_task1` column**: Use 1 to represent \"YES\" and 0 to represent \"NO\"."
      ]
    },
    {
      "cell_type": "markdown",
      "metadata": {
        "id": "KcksoLekLVgc"
      },
      "source": [
        "### 2. Loading of the three JSON files as dataframes"
      ]
    },
    {
      "cell_type": "code",
      "execution_count": 159,
      "metadata": {
        "id": "8LUWW3uMLVgc"
      },
      "outputs": [],
      "source": [
        "import pandas as pd\n",
        "\n",
        "#data_train = pd.read_json('data/training.json')\n",
        "data_train = pd.read_json('content/training.json')\n",
        "\n",
        "df_train = data_train.T\n",
        "df_train.reset_index(inplace=True)\n",
        "df_train.rename(columns={'index': 'id'}, inplace=True)\n",
        "\n",
        "#data_test = pd.read_json('data/test.json')\n",
        "data_test = pd.read_json('content/test.json')\n",
        "\n",
        "df_test = data_test.T\n",
        "df_test.reset_index(inplace=True)\n",
        "df_test.rename(columns={'index': 'id'}, inplace=True)\n",
        "\n",
        "#data_val = pd.read_json('data/validation.json')\n",
        "data_val = pd.read_json('content/validation.json')\n",
        "\n",
        "df_val = data_val.T\n",
        "df_val.reset_index(inplace=True)\n",
        "df_val.rename(columns={'index': 'id'}, inplace=True)\n",
        "\n",
        "# DataFrame displaying\n",
        "#print(df_train.head())"
      ]
    },
    {
      "cell_type": "markdown",
      "metadata": {
        "id": "10HueBHELVgc"
      },
      "source": [
        "### 3. Generate hard_label_task1"
      ]
    },
    {
      "cell_type": "code",
      "execution_count": 160,
      "metadata": {
        "id": "qh7mDbtoLVgc"
      },
      "outputs": [],
      "source": [
        "from collections import Counter\n",
        "\n",
        "def majority_vote(labels):\n",
        "    label_counts = Counter(labels)\n",
        "    most_common = label_counts.most_common(1)\n",
        "    if len(most_common) > 0 and most_common[0][1] > len(labels) / 2:\n",
        "        return most_common[0][0]\n",
        "    return None\n",
        "\n",
        "df_train['hard_label_task1'] = df_train['labels_task1'].apply(majority_vote)\n",
        "\n",
        "df_train = df_train.dropna(subset=['hard_label_task1'])\n",
        "\n",
        "df_train.reset_index(drop=True, inplace=True)\n",
        "\n",
        "#print(df_train[['hard_label_task1']].head())"
      ]
    },
    {
      "cell_type": "markdown",
      "metadata": {
        "id": "9R6OaY1ALVgc"
      },
      "source": [
        "### 4. Filter DataFrame"
      ]
    },
    {
      "cell_type": "code",
      "execution_count": 161,
      "metadata": {
        "id": "gi_FsJDQLVgc"
      },
      "outputs": [],
      "source": [
        "df_train = df_train[df_train['lang'] == 'en']\n",
        "#print(df_train)"
      ]
    },
    {
      "cell_type": "markdown",
      "metadata": {
        "id": "pLLeN79OLVgd"
      },
      "source": [
        "### 5. Remove Unwanted Columns"
      ]
    },
    {
      "cell_type": "code",
      "execution_count": 162,
      "metadata": {
        "id": "fBLTFgNuLVgd"
      },
      "outputs": [],
      "source": [
        "df_train = df_train[['id_EXIST', 'lang', 'tweet', 'hard_label_task1']]\n",
        "#print(df_train.head())"
      ]
    },
    {
      "cell_type": "markdown",
      "metadata": {
        "id": "8RFvA37OLVgd"
      },
      "source": [
        "### 6. hard_label_task1 encoding"
      ]
    },
    {
      "cell_type": "code",
      "execution_count": 163,
      "metadata": {
        "colab": {
          "base_uri": "https://localhost:8080/"
        },
        "id": "ZND3Mu40LVgd",
        "outputId": "e79dd61b-8fcd-42a1-c6d5-b25815af47e1"
      },
      "outputs": [
        {
          "output_type": "stream",
          "name": "stderr",
          "text": [
            "<ipython-input-163-0b51276694c8>:1: FutureWarning: Downcasting behavior in `replace` is deprecated and will be removed in a future version. To retain the old behavior, explicitly call `result.infer_objects(copy=False)`. To opt-in to the future behavior, set `pd.set_option('future.no_silent_downcasting', True)`\n",
            "  df_train['hard_label_task1'] = df_train['hard_label_task1'].replace({'YES': 1, 'NO': 0})\n"
          ]
        }
      ],
      "source": [
        "df_train['hard_label_task1'] = df_train['hard_label_task1'].replace({'YES': 1, 'NO': 0})\n",
        "#print(df_train.head())"
      ]
    },
    {
      "cell_type": "code",
      "source": [
        "for tweet in df_train[\"tweet\"]:\n",
        "  if \"weight\" in tweet and \"lift\" in tweet :\n",
        "    print(tweet)"
      ],
      "metadata": {
        "colab": {
          "base_uri": "https://localhost:8080/"
        },
        "id": "Mcp6AUKkqJIy",
        "outputId": "29e2de09-c5ae-495f-b695-887e3d43ea13"
      },
      "execution_count": 164,
      "outputs": [
        {
          "output_type": "stream",
          "name": "stdout",
          "text": [
            "I SAID SHE'S THICC!Being on the \"Clock App\" for just one week has taught me that little boys don't understand that growing a b00ty through weightlifting almost always necessitates also growing your legs. Silly little boys... Ladies, don't be afraid of … https://t.co/Apwn609Gqi https://t.co/441sFxNqBI\n"
          ]
        }
      ]
    },
    {
      "cell_type": "markdown",
      "metadata": {
        "collapsed": false,
        "id": "RyrGidPaLVgd"
      },
      "source": [
        "# [Task2 - 0.5 points] Data Cleaning\n",
        "In the context of tweets, we have noisy and informal data that often includes unnecessary elements like emojis, hashtags, mentions, and URLs. These elements may interfere with the text analysis.\n"
      ]
    },
    {
      "cell_type": "markdown",
      "metadata": {
        "collapsed": false,
        "id": "aiOvW7DnLVgd"
      },
      "source": [
        "\n",
        "### Instructions\n",
        "- **Remove emojis** from the tweets.\n",
        "- **Remove hashtags** (e.g., `#example`).\n",
        "- **Remove mentions** such as `@user`.\n",
        "- **Remove URLs** from the tweets.\n",
        "- **Remove special characters and symbols**.\n",
        "- **Remove specific quote characters** (e.g., curly quotes).\n",
        "- **Perform lemmatization** to reduce words to their base form."
      ]
    },
    {
      "cell_type": "code",
      "execution_count": 142,
      "metadata": {
        "colab": {
          "base_uri": "https://localhost:8080/"
        },
        "id": "ejGvUvoNzq0p",
        "outputId": "7b878e90-2197-4864-9700-cf8fec4d0560"
      },
      "outputs": [
        {
          "output_type": "stream",
          "name": "stderr",
          "text": [
            "[nltk_data] Downloading package omw-1.4 to /root/nltk_data...\n",
            "[nltk_data]   Package omw-1.4 is already up-to-date!\n",
            "[nltk_data] Downloading package wordnet to /root/nltk_data...\n",
            "[nltk_data]   Package wordnet is already up-to-date!\n",
            "[nltk_data] Downloading package averaged_perceptron_tagger to\n",
            "[nltk_data]     /root/nltk_data...\n",
            "[nltk_data]   Package averaged_perceptron_tagger is already up-to-\n",
            "[nltk_data]       date!\n",
            "[nltk_data] Downloading package averaged_perceptron_tagger_eng to\n",
            "[nltk_data]     /root/nltk_data...\n",
            "[nltk_data]   Package averaged_perceptron_tagger_eng is already up-to-\n",
            "[nltk_data]       date!\n"
          ]
        }
      ],
      "source": [
        "import nltk\n",
        "from nltk.stem import WordNetLemmatizer\n",
        "from nltk import pos_tag\n",
        "from nltk.corpus import wordnet\n",
        "\n",
        "nltk.download('omw-1.4')\n",
        "nltk.download('wordnet')\n",
        "nltk.download('averaged_perceptron_tagger')\n",
        "nltk.download('averaged_perceptron_tagger_eng')\n",
        "\n",
        "lemmatizer = WordNetLemmatizer()\n",
        "\n",
        "\n",
        "def get_wordnet_key(pos_tag):\n",
        "    if pos_tag.startswith('J'):\n",
        "        return wordnet.ADJ\n",
        "    elif pos_tag.startswith('V'):\n",
        "        return wordnet.VERB\n",
        "    elif pos_tag.startswith('N'):\n",
        "        return wordnet.NOUN\n",
        "    elif pos_tag.startswith('R'):\n",
        "        return wordnet.ADV\n",
        "    else:\n",
        "        return 'n'\n",
        "\n",
        "#Lemmatize each token\n",
        "\n",
        "def lem_text(text_token: str):\n",
        "    tagged = pos_tag(text_token)\n",
        "    words = [lemmatizer.lemmatize(word, get_wordnet_key(tag)) for word, tag in tagged]\n",
        "    return words"
      ]
    },
    {
      "cell_type": "code",
      "execution_count": 165,
      "metadata": {
        "colab": {
          "base_uri": "https://localhost:8080/"
        },
        "id": "xgXFO2RlLVgd",
        "outputId": "a73379f2-33dd-41f3-dce2-f29eb484a77d"
      },
      "outputs": [
        {
          "output_type": "stream",
          "name": "stderr",
          "text": [
            "[nltk_data] Downloading package punkt_tab to /root/nltk_data...\n",
            "[nltk_data]   Package punkt_tab is already up-to-date!\n",
            "[nltk_data] Downloading package punkt to /root/nltk_data...\n",
            "[nltk_data]   Package punkt is already up-to-date!\n"
          ]
        },
        {
          "output_type": "stream",
          "name": "stdout",
          "text": [
            "                                                  tweet  \\\n",
            "3194  Writing a uni essay in my local pub with a cof...   \n",
            "3195  @UniversalORL it is 2021 not 1921. I dont appr...   \n",
            "3196  According to a customer I have plenty of time ...   \n",
            "3197  So only 'blokes' drink beer? Sorry, but if you...   \n",
            "3198  New to the shelves this week - looking forward...   \n",
            "\n",
            "                                          cleaned_tweet  \n",
            "3194  [Writing, a, uni, essay, in, my, local, pub, w...  \n",
            "3195  [it, be, not, I, dont, appreciate, that, on, t...  \n",
            "3196  [According, to, a, customer, I, have, plenty, ...  \n",
            "3197  [So, only, blokes, drink, beer, Sorry, but, if...  \n",
            "3198  [New, to, the, shelf, this, week, look, forwar...  \n"
          ]
        }
      ],
      "source": [
        "import re\n",
        "import nltk\n",
        "#from nltk.tokenize import word_tokenize\n",
        "from nltk import word_tokenize\n",
        "from nltk.tokenize import WhitespaceTokenizer\n",
        "tokenizer = WhitespaceTokenizer()\n",
        "\n",
        "# necessary for being able to tokenize\n",
        "nltk.download('punkt_tab')\n",
        "nltk.download('punkt')\n",
        "\n",
        "def split_merge_word(text):\n",
        "    # Use regex to find boundaries between lowercase and uppercase\n",
        "    words = []\n",
        "    for word in text:\n",
        "\n",
        "      words.extend(re.findall(r'[A-Z]?[a-z]+|[A-Z]+(?![a-z])', word))\n",
        "\n",
        "    #words = [re.findall(r'[A-Z]?[a-z]+|[A-Z]+(?![a-z])', w) for w in text]\n",
        "    return words\n",
        "\n",
        "# Function to clean and preprocess tweets\n",
        "def clean_tweet(tweet):\n",
        "    # Remove mentions (@user)\n",
        "    tweet = re.sub(r'@\\w+', ' ', tweet)\n",
        "    # Remove hashtags (#example)\n",
        "    tweet = re.sub(r'#\\w+', ' ', tweet)\n",
        "    # Remove URLs\n",
        "    tweet = re.sub(r'http\\S+|www.\\S+', ' ', tweet)\n",
        "    # Remove special characters and symbols\n",
        "    tweet = re.sub(r'[^\\w\\s]', ' ', tweet)\n",
        "    # Remove emojis\n",
        "    tweet = re.sub(r'[^\\w\\s,]', ' ', tweet)  # Unicode patterns for emojis\n",
        "    # Remove specific quote characters (e.g., curly quotes)\n",
        "    cleaned_tweet = tweet.replace('“', ' ').replace('”', ' ').replace('’', \" \").replace(\"‘\",\" \")\n",
        "\n",
        "\n",
        "\n",
        "    return cleaned_tweet\n",
        "\n",
        "cleaned_tweets = []\n",
        "\n",
        "for tweet in df_train['tweet']:\n",
        "    #Clean the text\n",
        "    cleaned_tweet = clean_tweet(tweet)\n",
        "\n",
        "    #Tokenize the text\n",
        "    tokenized_tweet = word_tokenize(cleaned_tweet)\n",
        "    #tokenized_tweet = tokenizer.tokenize(cleaned_tweet)\n",
        "\n",
        "    #Lemmatize the text\n",
        "    lem_tokenized_tweet = lem_text(tokenized_tweet)\n",
        "\n",
        "    #print(lem_tokenized_tweet, type(lem_tokenized_tweet))\n",
        "    lem_tokenized_tweet = split_merge_word(lem_tokenized_tweet)\n",
        "\n",
        "    #Save the results\n",
        "    cleaned_tweets.append(lem_tokenized_tweet)\n",
        "\n",
        "df_train['cleaned_tweet'] = cleaned_tweets\n",
        "\n",
        "print(df_train[['tweet', 'cleaned_tweet']].head())"
      ]
    },
    {
      "cell_type": "markdown",
      "metadata": {
        "id": "s3KylLHNl0bE"
      },
      "source": [
        "# [Task 3 - 0.5 points] Text Encoding\n",
        "To train a neural sexism classifier, you first need to encode text into numerical format.\n",
        "\n",
        "\n"
      ]
    },
    {
      "cell_type": "markdown",
      "metadata": {
        "id": "hr1lTHUVOXff"
      },
      "source": [
        "### Instructions\n",
        "\n",
        "* Embed words using **GloVe embeddings**.\n",
        "* You are **free** to pick any embedding dimension.\n",
        "\n",
        "\n",
        "\n"
      ]
    },
    {
      "cell_type": "code",
      "source": [
        "from typing import Dict, List\n",
        "from collections import OrderedDict\n",
        "from tqdm import tqdm\n",
        "import pandas as pd\n",
        "\n",
        "def build_vocabulary(df: pd.DataFrame) -> (Dict[int, str], Dict[str, int], List[str]):\n",
        "    \"\"\"\n",
        "    Given a dataset, builds the corresponding word vocabulary.\n",
        "\n",
        "    :param df: dataset from which we want to build the word vocabulary (pandas.DataFrame)\n",
        "    :return:\n",
        "      - word vocabulary: vocabulary index to word\n",
        "      - inverse word vocabulary: word to vocabulary index\n",
        "      - word listing: set of unique terms that build up the vocabulary\n",
        "    \"\"\"\n",
        "    idx_to_word = OrderedDict()\n",
        "    word_to_idx = OrderedDict()\n",
        "\n",
        "    curr_idx = 0\n",
        "    for sentence in tqdm(df.text.values):\n",
        "        tokens = sentence.split()\n",
        "        for token in tokens:\n",
        "            if token not in word_to_idx:\n",
        "                word_to_idx[token] = curr_idx\n",
        "                idx_to_word[curr_idx] = token\n",
        "                curr_idx += 1\n",
        "\n",
        "    word_listing = list(idx_to_word.values())\n",
        "    return idx_to_word, word_to_idx, word_listing"
      ],
      "metadata": {
        "id": "sWmfN9z39qnl"
      },
      "execution_count": 166,
      "outputs": []
    },
    {
      "cell_type": "code",
      "source": [
        "df_train['text'] = df_train['cleaned_tweet'].apply(lambda tokens: ' '.join(tokens).lower())\n",
        "\n",
        "#print(df_train.head())"
      ],
      "metadata": {
        "id": "GTQ_eosEXTMH"
      },
      "execution_count": 167,
      "outputs": []
    },
    {
      "cell_type": "code",
      "source": [
        "idx_to_word, word_to_idx, word_listing = build_vocabulary(df_train)"
      ],
      "metadata": {
        "id": "Rc0vWCZ891dY",
        "outputId": "32a5c37e-ffd2-4c88-fa27-f4b4faf0388b",
        "colab": {
          "base_uri": "https://localhost:8080/"
        }
      },
      "execution_count": 168,
      "outputs": [
        {
          "output_type": "stream",
          "name": "stderr",
          "text": [
            "100%|██████████| 2870/2870 [00:00<00:00, 120886.67it/s]\n"
          ]
        }
      ]
    },
    {
      "cell_type": "code",
      "source": [
        "def evaluate_vocabulary(idx_to_word: Dict[int, str], word_to_idx: Dict[str, int],\n",
        "                        word_listing: List[str], df: pd.DataFrame, check_default_size: bool = False):\n",
        "    print(\"[Vocabulary Evaluation] Size checking...\")\n",
        "    assert len(idx_to_word) == len(word_to_idx)\n",
        "    assert len(idx_to_word) == len(word_listing)\n",
        "\n",
        "    print(\"[Vocabulary Evaluation] Content checking...\")\n",
        "    for i in tqdm(range(0, len(idx_to_word))):\n",
        "        assert idx_to_word[i] in word_to_idx\n",
        "        assert word_to_idx[idx_to_word[i]] == i\n",
        "\n",
        "    print(\"[Vocabulary Evaluation] Consistency checking...\")\n",
        "    _, _, first_word_listing = build_vocabulary(df)\n",
        "    _, _, second_word_listing = build_vocabulary(df)\n",
        "    assert first_word_listing == second_word_listing\n",
        "\n",
        "    print(\"[Vocabulary Evaluation] Toy example checking...\")\n",
        "    toy_df = pd.DataFrame.from_dict({\n",
        "        'text': [\"all that glitters is not gold\", \"all in all i like this assignment\"]\n",
        "    })\n",
        "    _, _, toy_word_listing = build_vocabulary(toy_df)\n",
        "    toy_valid_vocabulary = set(' '.join(toy_df.text.values).split())\n",
        "    assert set(toy_word_listing) == toy_valid_vocabulary"
      ],
      "metadata": {
        "id": "wZiZcrgLByL8"
      },
      "execution_count": 169,
      "outputs": []
    },
    {
      "cell_type": "code",
      "source": [
        "print(\"Vocabulary evaluation...\")\n",
        "evaluate_vocabulary(idx_to_word, word_to_idx, word_listing, df_train)\n",
        "print(\"Evaluation completed!\")"
      ],
      "metadata": {
        "id": "kMhMLwmEBwA-",
        "outputId": "37009ce2-a890-4ca4-a7e7-70f77fb91b8a",
        "colab": {
          "base_uri": "https://localhost:8080/"
        }
      },
      "execution_count": 170,
      "outputs": [
        {
          "output_type": "stream",
          "name": "stdout",
          "text": [
            "Vocabulary evaluation...\n",
            "[Vocabulary Evaluation] Size checking...\n",
            "[Vocabulary Evaluation] Content checking...\n"
          ]
        },
        {
          "output_type": "stream",
          "name": "stderr",
          "text": [
            "100%|██████████| 9112/9112 [00:00<00:00, 568313.25it/s]\n"
          ]
        },
        {
          "output_type": "stream",
          "name": "stdout",
          "text": [
            "[Vocabulary Evaluation] Consistency checking...\n"
          ]
        },
        {
          "output_type": "stream",
          "name": "stderr",
          "text": [
            "100%|██████████| 2870/2870 [00:00<00:00, 71909.94it/s]\n",
            "100%|██████████| 2870/2870 [00:00<00:00, 94252.55it/s]\n"
          ]
        },
        {
          "output_type": "stream",
          "name": "stdout",
          "text": [
            "[Vocabulary Evaluation] Toy example checking...\n"
          ]
        },
        {
          "output_type": "stream",
          "name": "stderr",
          "text": [
            "100%|██████████| 2/2 [00:00<00:00, 3595.63it/s]"
          ]
        },
        {
          "output_type": "stream",
          "name": "stdout",
          "text": [
            "Evaluation completed!\n"
          ]
        },
        {
          "output_type": "stream",
          "name": "stderr",
          "text": [
            "\n"
          ]
        }
      ]
    },
    {
      "cell_type": "code",
      "execution_count": 171,
      "metadata": {
        "id": "AIoWFwyAFmIg",
        "scrolled": false
      },
      "outputs": [],
      "source": [
        "import gensim\n",
        "import gensim.downloader as gloader\n",
        "\n",
        "def load_embedding_glove_model(embedding_dimension: int = 50) -> gensim.models.keyedvectors.KeyedVectors:\n",
        "    download_path = \"glove-wiki-gigaword-{}\".format(embedding_dimension)\n",
        "    try:\n",
        "        emb_model = gloader.load(download_path)\n",
        "    except ValueError as e:\n",
        "        print(\"Invalid embedding model name! Check the embedding dimension:\")\n",
        "        print(\"Glove: 50, 100, 200, 300\")\n",
        "        raise e\n",
        "\n",
        "    return emb_model"
      ]
    },
    {
      "cell_type": "code",
      "source": [
        "embedding_model = load_embedding_glove_model(embedding_dimension=50)"
      ],
      "metadata": {
        "id": "cl9SZWLaCEYA"
      },
      "execution_count": 172,
      "outputs": []
    },
    {
      "cell_type": "markdown",
      "metadata": {
        "id": "r6NNMEjWOZQr"
      },
      "source": [
        "### Note : What about OOV tokens?\n",
        "   * All the tokens in the **training** set that are not in GloVe **must** be added to the vocabulary.\n",
        "   * For the remaining tokens (i.e., OOV in the validation and test sets), you have to assign them a **special token** (e.g., [UNK]) and a **static** embedding.\n",
        "   * You are **free** to define the static embedding using any strategy (e.g., random, neighbourhood, etc...)\n",
        "\n"
      ]
    },
    {
      "cell_type": "markdown",
      "metadata": {
        "id": "90UztlGUObXk"
      },
      "source": [
        "### More about OOV\n",
        "\n",
        "For a given token:\n",
        "\n",
        "* **If in train set**: add to vocabulary and assign an embedding (use GloVe if token in GloVe, custom embedding otherwise).\n",
        "* **If in val/test set**: assign special token if not in vocabulary and assign custom embedding.\n",
        "\n",
        "Your vocabulary **should**:\n",
        "\n",
        "* Contain all tokens in train set; or\n",
        "* Union of tokens in train set and in GloVe $\\rightarrow$ we make use of existing knowledge!"
      ]
    },
    {
      "cell_type": "code",
      "source": [
        "def check_OOV_terms(embedding_model: gensim.models.keyedvectors.KeyedVectors,\n",
        "                    word_listing: List[str]):\n",
        "    \"\"\"\n",
        "    Checks differences between pre-trained embedding model vocabulary\n",
        "    and dataset specific vocabulary in order to highlight out-of-vocabulary terms.\n",
        "\n",
        "    :param embedding_model: pre-trained word embedding model (gensim wrapper)\n",
        "    :param word_listing: dataset specific vocabulary (list)\n",
        "\n",
        "    :return\n",
        "        - list of OOV terms\n",
        "    \"\"\"\n",
        "    embedding_vocabulary = set(embedding_model.key_to_index.keys())\n",
        "    oov = set(word_listing).difference(embedding_vocabulary)\n",
        "    return list(oov)"
      ],
      "metadata": {
        "id": "Csy7Tm7R6QIf"
      },
      "execution_count": 173,
      "outputs": []
    },
    {
      "cell_type": "code",
      "source": [
        "oov_terms = check_OOV_terms(embedding_model, word_listing)\n",
        "oov_percentage = float(len(oov_terms)) * 100 / len(word_listing)\n",
        "print(f\"Total OOV terms: {len(oov_terms)} ({oov_percentage:.2f}%)\")"
      ],
      "metadata": {
        "id": "8FlfIz-W6Yy6",
        "outputId": "af7d3571-2946-42b7-f450-2aaad013d25b",
        "colab": {
          "base_uri": "https://localhost:8080/"
        }
      },
      "execution_count": 174,
      "outputs": [
        {
          "output_type": "stream",
          "name": "stdout",
          "text": [
            "Total OOV terms: 756 (8.30%)\n"
          ]
        }
      ]
    },
    {
      "cell_type": "code",
      "source": [
        "for oov in oov_terms:\n",
        "  print(oov)"
      ],
      "metadata": {
        "colab": {
          "base_uri": "https://localhost:8080/"
        },
        "id": "6b-pX6rsQ9JM",
        "outputId": "5fcbbbd8-e050-4400-97e3-0e7ce57e844d"
      },
      "execution_count": 157,
      "outputs": [
        {
          "output_type": "stream",
          "name": "stdout",
          "text": [
            "guyz\n",
            "femdom\n",
            "bhole\n",
            "autist\n",
            "newb\n",
            "dipshit\n",
            "duely\n",
            "equa\n",
            "deffend\n",
            "inmoral\n",
            "shithole\n",
            "bakey\n",
            "oloriburuku\n",
            "problematised\n",
            "transness\n",
            "dooooo\n",
            "partynextdoor\n",
            "ekyo\n",
            "othering\n",
            "nonary\n",
            "namjoons\n",
            "otherized\n",
            "yonke\n",
            "peekers\n",
            "periodt\n",
            "questuons\n",
            "wabt\n",
            "karke\n",
            "dumbass\n",
            "switchsportsnotallmenwow\n",
            "contagiously\n",
            "pornhub\n",
            "papism\n",
            "enuh\n",
            "probs\n",
            "montain\n",
            "astrodomina\n",
            "brokeside\n",
            "asapits\n",
            "akdhajhdajjahshh\n",
            "murrrphhhur\n",
            "foilage\n",
            "bemuse\n",
            "obvs\n",
            "weightlift\n",
            "jaskier\n",
            "demiboys\n",
            "gine\n",
            "weejuns\n",
            "brexit\n",
            "spitballing\n",
            "fascinado\n",
            "talaks\n",
            "thise\n",
            "jokwon\n",
            "contradictionit\n",
            "chocker\n",
            "kikyuuse\n",
            "prvlgd\n",
            "anyhoo\n",
            "stronk\n",
            "ranpo\n",
            "ughhh\n",
            "jungwoo\n",
            "leafa\n",
            "maaaster\n",
            "becus\n",
            "rekieta\n",
            "retweeted\n",
            "bitchesi\n",
            "whoohahaha\n",
            "paperswritingpro\n",
            "yess\n",
            "allegationsjudge\n",
            "ujiko\n",
            "sirmed\n",
            "neolocal\n",
            "amadour\n",
            "overcode\n",
            "kendis\n",
            "koulchi\n",
            "thinkinglife\n",
            "catastrophizing\n",
            "bowcaster\n",
            "ruind\n",
            "ducttape\n",
            "thicc\n",
            "bahut\n",
            "bohot\n",
            "ohhhhh\n",
            "enby\n",
            "brandsma\n",
            "reconnaissante\n",
            "nagtitake\n",
            "premure\n",
            "ndumba\n",
            "nonbinary\n",
            "amogus\n",
            "godess\n",
            "dvmb\n",
            "squicky\n",
            "tejasswi\n",
            "sissyslave\n",
            "tounge\n",
            "cryptocurrency\n",
            "bubs\n",
            "sawayama\n",
            "incel\n",
            "erens\n",
            "provoker\n",
            "hermain\n",
            "bilocal\n",
            "ladness\n",
            "cosettas\n",
            "breebylon\n",
            "onea\n",
            "cysm\n",
            "afaik\n",
            "remarket\n",
            "oppressedsuch\n",
            "mpeleke\n",
            "omize\n",
            "unironically\n",
            "danimation\n",
            "grrls\n",
            "whyyyyy\n",
            "marginalian\n",
            "tevinter\n",
            "availiaple\n",
            "malewife\n",
            "ikr\n",
            "econmy\n",
            "omw\n",
            "arou\n",
            "slitterhead\n",
            "lmaoooooooo\n",
            "steroided\n",
            "enamor\n",
            "antivax\n",
            "choor\n",
            "immerwahr\n",
            "hotwife\n",
            "tiddies\n",
            "doesnot\n",
            "deffo\n",
            "sumn\n",
            "emoji\n",
            "tigreans\n",
            "keibo\n",
            "reffing\n",
            "alse\n",
            "sjfkkffkgk\n",
            "impassion\n",
            "indention\n",
            "pathologises\n",
            "canva\n",
            "polititcs\n",
            "bakubussy\n",
            "gqp\n",
            "nvm\n",
            "futanari\n",
            "idgaf\n",
            "werent\n",
            "waitlist\n",
            "kehlani\n",
            "iterability\n",
            "activismby\n",
            "glutenfree\n",
            "pavard\n",
            "goiz\n",
            "voiceit\n",
            "unfollowed\n",
            "rewatching\n",
            "youuu\n",
            "suuuuck\n",
            "ofcourse\n",
            "cnz\n",
            "phallocentrism\n",
            "idk\n",
            "gtfo\n",
            "endsars\n",
            "blither\n",
            "fkn\n",
            "glanzer\n",
            "transfems\n",
            "icymi\n",
            "lolz\n",
            "evangelilical\n",
            "akaabir\n",
            "innesota\n",
            "cumhole\n",
            "mgtow\n",
            "catcall\n",
            "hahahaha\n",
            "balise\n",
            "undertale\n",
            "masla\n",
            "coutesy\n",
            "gettinf\n",
            "heckin\n",
            "motherfukers\n",
            "copypaste\n",
            "septenary\n",
            "legutko\n",
            "altseason\n",
            "jeongguk\n",
            "transmascs\n",
            "ammm\n",
            "nsfw\n",
            "afterpay\n",
            "becomming\n",
            "makhulu\n",
            "lalalala\n",
            "cyberwhistle\n",
            "cheerlead\n",
            "fffffffuck\n",
            "tekashi\n",
            "porngirl\n",
            "avax\n",
            "liiiife\n",
            "fucky\n",
            "shmeat\n",
            "vaxxers\n",
            "fuckery\n",
            "hooooly\n",
            "xanx\n",
            "castrat\n",
            "chugli\n",
            "expereince\n",
            "blocklist\n",
            "itsnotacomplimentmelbourne\n",
            "gcfems\n",
            "lmaooooo\n",
            "gobbily\n",
            "selfie\n",
            "waaaa\n",
            "jyl\n",
            "mmyyyy\n",
            "pasiko\n",
            "voyeuristically\n",
            "kaizenix\n",
            "cringy\n",
            "unfollowing\n",
            "csrrying\n",
            "jungkook\n",
            "ouijia\n",
            "funfetti\n",
            "completly\n",
            "peachfuzz\n",
            "youngkin\n",
            "tjprotect\n",
            "titanfall\n",
            "beomgyu\n",
            "namjoon\n",
            "exoticals\n",
            "submissiv\n",
            "gogos\n",
            "diztortion\n",
            "underyou\n",
            "arely\n",
            "airli\n",
            "nonoomf\n",
            "mfw\n",
            "unvaxxed\n",
            "strocking\n",
            "nollaigh\n",
            "whop\n",
            "dmed\n",
            "debutation\n",
            "masqurading\n",
            "allyship\n",
            "shitstain\n",
            "taec\n",
            "stinkpots\n",
            "impend\n",
            "amrylin\n",
            "appropriative\n",
            "lmaoit\n",
            "perjorative\n",
            "transphobes\n",
            "wowsers\n",
            "blackpilado\n",
            "hyperfocused\n",
            "wabr\n",
            "sandles\n",
            "nalang\n",
            "pple\n",
            "wgtn\n",
            "wachana\n",
            "angries\n",
            "uvogin\n",
            "feminazis\n",
            "depency\n",
            "fakesswi\n",
            "barelkowski\n",
            "ortak\n",
            "daoibh\n",
            "casiajonna\n",
            "fariah\n",
            "vaping\n",
            "pandra\n",
            "nutjob\n",
            "exoticization\n",
            "eavestroughs\n",
            "terfs\n",
            "mentionnah\n",
            "soakin\n",
            "swic\n",
            "idrk\n",
            "nervetrainers\n",
            "fnaf\n",
            "colourways\n",
            "slutbag\n",
            "covid\n",
            "whitetrash\n",
            "muzzie\n",
            "fuckingg\n",
            "youtoo\n",
            "qristianity\n",
            "blowjob\n",
            "ironicamente\n",
            "giratina\n",
            "acephalous\n",
            "cishet\n",
            "herei\n",
            "anddodge\n",
            "pppl\n",
            "spsp\n",
            "catholism\n",
            "wyt\n",
            "andhkaar\n",
            "rlly\n",
            "thickhead\n",
            "onlyfans\n",
            "lmfaooo\n",
            "hahaha\n",
            "gojiro\n",
            "adorime\n",
            "dudebros\n",
            "moolaat\n",
            "alaih\n",
            "zunelhak\n",
            "lunabrooooo\n",
            "femoid\n",
            "baaki\n",
            "matriarcal\n",
            "incase\n",
            "stockholme\n",
            "essentialismdrone\n",
            "loooose\n",
            "pardaah\n",
            "malchaamah\n",
            "piux\n",
            "casterly\n",
            "roblox\n",
            "kylo\n",
            "bhululu\n",
            "toattack\n",
            "yzy\n",
            "femcels\n",
            "longevists\n",
            "prolly\n",
            "dvmbses\n",
            "wabout\n",
            "ohoo\n",
            "patriarcal\n",
            "bestie\n",
            "softspun\n",
            "ryalls\n",
            "shanaia\n",
            "senary\n",
            "kungcono\n",
            "snowchester\n",
            "kinju\n",
            "chaturbate\n",
            "maaaybe\n",
            "doinks\n",
            "unting\n",
            "ohmylord\n",
            "halfwit\n",
            "johnleemushr\n",
            "fvck\n",
            "mayb\n",
            "trumpanzee\n",
            "moranbong\n",
            "goxuan\n",
            "ghisipiti\n",
            "ambitionz\n",
            "philiacs\n",
            "gfy\n",
            "alade\n",
            "bidmc\n",
            "shiiit\n",
            "lanez\n",
            "bcuz\n",
            "worldbuilding\n",
            "xrp\n",
            "gronru\n",
            "overshare\n",
            "phallogocentrism\n",
            "twitt\n",
            "titsit\n",
            "straigh\n",
            "drachen\n",
            "souldn\n",
            "nahh\n",
            "lmaoooo\n",
            "ambie\n",
            "entertainmmt\n",
            "katulad\n",
            "femboys\n",
            "tfu\n",
            "greatful\n",
            "russiagate\n",
            "lxp\n",
            "bahahah\n",
            "mikaelson\n",
            "squirter\n",
            "fravor\n",
            "priviledge\n",
            "fuckit\n",
            "cissexist\n",
            "buttling\n",
            "wolflord\n",
            "yooooooo\n",
            "sexualize\n",
            "porsha\n",
            "whitesplaining\n",
            "lmfaooooo\n",
            "cecilt\n",
            "hazviite\n",
            "referreing\n",
            "shouldve\n",
            "chefayo\n",
            "pumuna\n",
            "wfwlct\n",
            "rahmatullahi\n",
            "parellels\n",
            "ngang\n",
            "matriliny\n",
            "pajeet\n",
            "kkab\n",
            "purebloods\n",
            "ahahhaha\n",
            "tlj\n",
            "suburan\n",
            "wanderin\n",
            "womensday\n",
            "kuppalli\n",
            "axiomatizes\n",
            "binarily\n",
            "hodlers\n",
            "slenders\n",
            "pleople\n",
            "hilig\n",
            "rwby\n",
            "redpill\n",
            "cker\n",
            "twtjesus\n",
            "olma\n",
            "selfawareness\n",
            "intwrvewers\n",
            "lmao\n",
            "positionality\n",
            "autogynephiliait\n",
            "hayi\n",
            "beclouded\n",
            "alterlife\n",
            "brazy\n",
            "zka\n",
            "cashmeets\n",
            "quemix\n",
            "gezz\n",
            "nuancebecause\n",
            "retweets\n",
            "unfollow\n",
            "needso\n",
            "surtout\n",
            "urgh\n",
            "sntiques\n",
            "cintebt\n",
            "librel\n",
            "overfeed\n",
            "arklight\n",
            "moreid\n",
            "intersexuality\n",
            "dababy\n",
            "awashilo\n",
            "commodifying\n",
            "wokeness\n",
            "humberman\n",
            "digusting\n",
            "gangbanged\n",
            "tbh\n",
            "pervs\n",
            "goysplaining\n",
            "bacigalupi\n",
            "kinlay\n",
            "moneyyy\n",
            "aislated\n",
            "sosatie\n",
            "hoseok\n",
            "gamergate\n",
            "reify\n",
            "metanarrative\n",
            "soulsmixed\n",
            "femimism\n",
            "infantilise\n",
            "nties\n",
            "innuendosthe\n",
            "chromatica\n",
            "phallocentric\n",
            "perfs\n",
            "antifa\n",
            "shouldnt\n",
            "radness\n",
            "mansplaining\n",
            "wft\n",
            "vishap\n",
            "jeonghan\n",
            "maaaan\n",
            "vestors\n",
            "mkk\n",
            "amadudu\n",
            "sholud\n",
            "dhagne\n",
            "uwu\n",
            "genderfluid\n",
            "yrboi\n",
            "penised\n",
            "pickme\n",
            "spitroast\n",
            "tianlang\n",
            "plandemic\n",
            "fastforward\n",
            "deltarune\n",
            "workshoppers\n",
            "hatefuck\n",
            "joffy\n",
            "radabots\n",
            "bellingcat\n",
            "jcj\n",
            "wildturtle\n",
            "unfahrifhdyfhdh\n",
            "huskiness\n",
            "alresdy\n",
            "womening\n",
            "overexaggerate\n",
            "whoresrape\n",
            "slsjsu\n",
            "simping\n",
            "myt\n",
            "androcentrism\n",
            "religi\n",
            "lillets\n",
            "aytl\n",
            "terf\n",
            "denary\n",
            "talaga\n",
            "leody\n",
            "maskless\n",
            "subserve\n",
            "yeezys\n",
            "pplleeaassee\n",
            "nwx\n",
            "kelangan\n",
            "shezad\n",
            "wjgxk\n",
            "forcely\n",
            "indue\n",
            "kalfar\n",
            "yoongi\n",
            "traumatise\n",
            "itseems\n",
            "ochako\n",
            "applebees\n",
            "metanarratives\n",
            "wvst\n",
            "ayleen\n",
            "nikkab\n",
            "chuuyas\n",
            "notallmen\n",
            "gimbap\n",
            "whitesupremacistcisnormativepatriarchy\n",
            "clossus\n",
            "groupchat\n",
            "archipi\n",
            "unaliving\n",
            "jisse\n",
            "movt\n",
            "rstory\n",
            "yessssss\n",
            "sherni\n",
            "wenu\n",
            "ranchu\n",
            "motuary\n",
            "peacefuls\n",
            "zarkash\n",
            "iwca\n",
            "tansume\n",
            "adorama\n",
            "tinnie\n",
            "maseehullah\n",
            "hoteps\n",
            "halward\n",
            "yeaaaaa\n",
            "handemiyy\n",
            "doctress\n",
            "lmaooooooo\n",
            "nkiru\n",
            "multilocal\n",
            "vawg\n",
            "ainihin\n",
            "ywhere\n",
            "whiteyes\n",
            "needn\n",
            "avunlocal\n",
            "twirra\n",
            "gajab\n",
            "homosapiens\n",
            "scoatlan\n",
            "dosent\n",
            "soobin\n",
            "pndhis\n",
            "taegi\n",
            "etcetctec\n",
            "deadass\n",
            "gooning\n",
            "guzm\n",
            "shld\n",
            "sheisty\n",
            "duodenary\n",
            "lastwithout\n",
            "akaabireen\n",
            "bitvh\n",
            "chomos\n",
            "femboy\n",
            "taehyungjimin\n",
            "fatphobic\n",
            "mazaak\n",
            "findomgoddess\n",
            "tradies\n",
            "taehyun\n",
            "ridah\n",
            "egotistically\n",
            "finna\n",
            "overpeeforming\n",
            "shitstorm\n",
            "mehwish\n",
            "brotopia\n",
            "sasukr\n",
            "leapable\n",
            "rendelshem\n",
            "chappelles\n",
            "igboeze\n",
            "soys\n",
            "professionaly\n",
            "unrape\n",
            "culty\n",
            "yorknew\n",
            "jikook\n",
            "hoomans\n",
            "conscientiza\n",
            "convo\n",
            "victimsand\n",
            "uwinguwi\n",
            "iwd\n",
            "mfing\n",
            "shrinate\n",
            "wagufi\n",
            "shivaami\n",
            "mkbl\n",
            "lkhrin\n",
            "manipulatrix\n",
            "taehyung\n",
            "downvoted\n",
            "fashy\n",
            "vellem\n",
            "poml\n",
            "basmah\n",
            "feminazi\n",
            "spellground\n",
            "breadtube\n",
            "cumdump\n",
            "timehop\n",
            "dforce\n",
            "patrilocal\n",
            "losingyall\n",
            "yhoo\n",
            "trumpanzees\n",
            "lazada\n",
            "sanctomony\n",
            "doucheraj\n",
            "alotta\n",
            "mtgs\n",
            "uburu\n",
            "bayfuna\n",
            "wetin\n",
            "cooky\n",
            "mysogynistic\n",
            "bearmarket\n",
            "crubbs\n",
            "btches\n",
            "yeee\n",
            "journo\n",
            "brnovich\n",
            "suguha\n",
            "nyjc\n",
            "agender\n",
            "lunaria\n",
            "yoohan\n",
            "slimzosrecordings\n",
            "carceral\n",
            "flyering\n",
            "nigcels\n",
            "manspreading\n",
            "clit\n",
            "octonary\n",
            "favs\n",
            "sofoulis\n",
            "collab\n",
            "sequela\n",
            "upstander\n",
            "nevee\n",
            "lionza\n",
            "spainisnotademocracy\n",
            "sexxee\n",
            "lollll\n",
            "casteist\n",
            "lthe\n",
            "lolll\n",
            "dogboys\n",
            "ibang\n",
            "mansplain\n",
            "vatansever\n",
            "twaw\n",
            "contrarianism\n",
            "establiish\n",
            "dunsparce\n",
            "unboxing\n",
            "incels\n",
            "imho\n",
            "himbo\n",
            "estinen\n",
            "quinary\n",
            "kundrra\n",
            "powerwash\n",
            "poubd\n",
            "lmaoo\n",
            "dfkm\n",
            "urbex\n",
            "thems\n",
            "msut\n",
            "transwomen\n",
            "trynna\n",
            "ambanii\n"
          ]
        }
      ]
    },
    {
      "cell_type": "code",
      "source": [
        "idx_to_word, word_to_idx, word_listing = build_vocabulary(df_train)\n",
        "\n",
        "df_train['cleaned_tweet_pro'] = df_train['cleaned_tweet'].str.lower()\n",
        "oov_terms_lowercase = check_OOV_terms(embedding_model, df_train['cleaned_tweet_pro'])\n",
        "oov_terms_lowercase_percentage = float(len(oov_terms_lowercase)) / len(df_train['cleaned_tweet_pro'].unique())\n",
        "print(f\"Total OOV terms: {len(oov_terms_lowercase)} ({oov_terms_lowercase_percentage:.2f}%)\")"
      ],
      "metadata": {
        "colab": {
          "base_uri": "https://localhost:8080/"
        },
        "id": "wsfYRnffQvGm",
        "outputId": "29cc9d01-193c-4586-a098-90d63e7d0005"
      },
      "execution_count": 45,
      "outputs": [
        {
          "output_type": "stream",
          "name": "stdout",
          "text": [
            "Total OOV terms: 2870 (2870.00%)\n"
          ]
        }
      ]
    },
    {
      "cell_type": "markdown",
      "metadata": {
        "id": "6JLnuLGHGAUT"
      },
      "source": [
        "# [Task 4 - 1.0 points] Model definition\n",
        "\n",
        "You are now tasked to define your sexism classifier.\n",
        "\n",
        "\n"
      ]
    },
    {
      "cell_type": "markdown",
      "metadata": {
        "id": "iQFI9J-JOfXD"
      },
      "source": [
        "### Instructions\n",
        "\n",
        "* **Baseline**: implement a Bidirectional LSTM with a Dense layer on top.\n",
        "* You are **free** to experiment with hyper-parameters to define the baseline model.\n",
        "\n",
        "* **Model 1**: add an additional LSTM layer to the Baseline model."
      ]
    },
    {
      "cell_type": "markdown",
      "metadata": {
        "id": "4jALc_qYGS2E"
      },
      "source": [
        "### Token to embedding mapping\n",
        "\n",
        "You can follow two approaches for encoding tokens in your classifier.\n",
        "\n",
        "### Work directly with embeddings\n",
        "\n",
        "- Compute the embedding of each input token\n",
        "- Feed the mini-batches of shape (batch_size, # tokens, embedding_dim) to your model\n",
        "\n",
        "### Work with Embedding layer\n",
        "\n",
        "- Encode input tokens to token ids\n",
        "- Define a Embedding layer as the first layer of your model\n",
        "- Compute the embedding matrix of all known tokens (i.e., tokens in your vocabulary)\n",
        "- Initialize the Embedding layer with the computed embedding matrix\n",
        "- You are **free** to set the Embedding layer trainable or not"
      ]
    },
    {
      "cell_type": "code",
      "execution_count": null,
      "metadata": {
        "id": "Z44PckrNGfTv",
        "outputId": "1a44128c-d45c-4c88-95e5-e61a90c9d6b9",
        "colab": {
          "base_uri": "https://localhost:8080/",
          "height": 219
        }
      },
      "outputs": [
        {
          "output_type": "error",
          "ename": "NameError",
          "evalue": "name 'tf' is not defined",
          "traceback": [
            "\u001b[0;31m---------------------------------------------------------------------------\u001b[0m",
            "\u001b[0;31mNameError\u001b[0m                                 Traceback (most recent call last)",
            "\u001b[0;32m<ipython-input-23-2061e4694c8b>\u001b[0m in \u001b[0;36m<cell line: 1>\u001b[0;34m()\u001b[0m\n\u001b[0;32m----> 1\u001b[0;31m embedding = tf.keras.layers.Embedding(input_dim=vocab_size,\n\u001b[0m\u001b[1;32m      2\u001b[0m                                       \u001b[0moutput_dim\u001b[0m\u001b[0;34m=\u001b[0m\u001b[0membedding_dimension\u001b[0m\u001b[0;34m,\u001b[0m\u001b[0;34m\u001b[0m\u001b[0;34m\u001b[0m\u001b[0m\n\u001b[1;32m      3\u001b[0m                                       \u001b[0mweights\u001b[0m\u001b[0;34m=\u001b[0m\u001b[0;34m[\u001b[0m\u001b[0membedding_matrix\u001b[0m\u001b[0;34m]\u001b[0m\u001b[0;34m,\u001b[0m\u001b[0;34m\u001b[0m\u001b[0;34m\u001b[0m\u001b[0m\n\u001b[1;32m      4\u001b[0m                                       \u001b[0mmask_zero\u001b[0m\u001b[0;34m=\u001b[0m\u001b[0;32mTrue\u001b[0m\u001b[0;34m,\u001b[0m                   \u001b[0;31m# automatically masks padding tokens\u001b[0m\u001b[0;34m\u001b[0m\u001b[0;34m\u001b[0m\u001b[0m\n\u001b[1;32m      5\u001b[0m                                       name='encoder_embedding')\n",
            "\u001b[0;31mNameError\u001b[0m: name 'tf' is not defined"
          ]
        }
      ],
      "source": [
        "embedding = tf.keras.layers.Embedding(input_dim=vocab_size,\n",
        "                                      output_dim=embedding_dimension,\n",
        "                                      weights=[embedding_matrix],\n",
        "                                      mask_zero=True,                   # automatically masks padding tokens\n",
        "                                      name='encoder_embedding')"
      ]
    },
    {
      "cell_type": "code",
      "source": [
        "def build_embedding_matrix(embedding_model: gensim.models.keyedvectors.KeyedVectors,\n",
        "                           embedding_dimension: int,\n",
        "                           word_to_idx: Dict[str, int],\n",
        "                           vocab_size: int,\n",
        "                           oov_terms: List[str]) -> np.ndarray:\n",
        "    \"\"\"\n",
        "    Builds the embedding matrix of a specific dataset given a pre-trained word embedding model\n",
        "\n",
        "    :param embedding_model: pre-trained word embedding model (gensim wrapper)\n",
        "    :param word_to_idx: vocabulary map (word -> index) (dict)\n",
        "    :param vocab_size: size of the vocabulary\n",
        "    :param oov_terms: list of OOV terms (list)\n",
        "\n",
        "    :return\n",
        "        - embedding matrix that assigns a high dimensional vector to each word in the dataset specific vocabulary (shape |V| x d)\n",
        "    \"\"\"\n",
        "    embedding_matrix = np.zeros((vocab_size, embedding_dimension), dtype=np.float32)\n",
        "    for word, idx in tqdm(word_to_idx.items()):\n",
        "        try:\n",
        "            embedding_vector = embedding_model[word]\n",
        "        except (KeyError, TypeError):\n",
        "            embedding_vector = np.random.uniform(low=-0.05, high=0.05, size=embedding_dimension)\n",
        "\n",
        "        embedding_matrix[idx] = embedding_vector\n",
        "\n",
        "    return embedding_matrix"
      ],
      "metadata": {
        "id": "UHHdpQJ_IBKO"
      },
      "execution_count": null,
      "outputs": []
    },
    {
      "cell_type": "code",
      "source": [
        "# Testing\n",
        "embedding_dimension = 50\n",
        "embedding_matrix = build_embedding_matrix(embedding_model, embedding_dimension, word_to_idx, len(word_to_idx), oov_terms)\n",
        "print(f\"Embedding matrix shape: {embedding_matrix.shape}\")"
      ],
      "metadata": {
        "id": "yygGuZubH6gx"
      },
      "execution_count": null,
      "outputs": []
    },
    {
      "cell_type": "code",
      "source": [],
      "metadata": {
        "id": "YMxI1EDvH6Pd"
      },
      "execution_count": null,
      "outputs": []
    },
    {
      "cell_type": "code",
      "source": [],
      "metadata": {
        "id": "AO5PgEj9H5bO"
      },
      "execution_count": null,
      "outputs": []
    },
    {
      "cell_type": "code",
      "source": [],
      "metadata": {
        "id": "ovhsRICjH5K1"
      },
      "execution_count": null,
      "outputs": []
    },
    {
      "cell_type": "code",
      "source": [],
      "metadata": {
        "id": "W9E8Zx_LH4_3"
      },
      "execution_count": null,
      "outputs": []
    },
    {
      "cell_type": "code",
      "source": [],
      "metadata": {
        "id": "I7zPzLjnH4xV"
      },
      "execution_count": null,
      "outputs": []
    },
    {
      "cell_type": "markdown",
      "metadata": {
        "id": "GEQTPu6eGgGv"
      },
      "source": [
        "### Padding\n",
        "\n",
        "Pay attention to padding tokens!\n",
        "\n",
        "Your model **should not** be penalized on those tokens.\n",
        "\n",
        "#### How to?\n",
        "\n",
        "There are two main ways.\n",
        "\n",
        "However, their implementation depends on the neural library you are using.\n",
        "\n",
        "- Embedding layer\n",
        "- Custom loss to compute average cross-entropy on non-padding tokens only\n",
        "\n",
        "**Note**: This is a **recommendation**, but we **do not penalize** for missing workarounds."
      ]
    },
    {
      "cell_type": "code",
      "execution_count": null,
      "metadata": {
        "id": "Urz5miEWLVge"
      },
      "outputs": [],
      "source": [
        "import tensorflow.keras as keras\n",
        "from keras.optimizers import AdamW\n",
        "from keras.regularizers import l2\n",
        "from keras.models import Sequential\n",
        "from keras.layers import Embedding\n",
        "from keras.layers import Bidirectional\n",
        "from keras.layers import Embedding\n",
        "from keras.layers import LSTM\n",
        "from keras.layers import Dense\n",
        "\n",
        "\n",
        "def getBaselineModel(vocab_size, embedding_dimension, embedding_matrix, n_units = 128):\n",
        "    model = Sequential([\n",
        "        Embedding(input_dim=vocab_size, output_dim=embedding_dimension, weights=embedding_matrix, mask_zero=True, name='encoder_embedding_baseline'),\n",
        "        Bidirectional(LSTM(n_units), return_sequences=False),\n",
        "        Dense(1, activation='sigmoid', kernel_regularizer=l2(0.05)),\n",
        "    ])\n",
        "\n",
        "    model.compile(loss='binary_crossentropy', optimizer=AdamW(), metrics=['accuracy'])\n",
        "    return model\n",
        "\n",
        "def getModel1(vocab_size, embedding_dimension, embedding_matrix, n_units_1 = 128, n_units_2 = 64 ):\n",
        "    model = Sequential([\n",
        "        Embedding(input_dim=vocab_size, output_dim=embedding_dimension, weights=embedding_matrix, mask_zero=True, name='encoder_embedding_model1'),\n",
        "        Bidirectional(LSTM(n_units_1, return_sequences=True)),\n",
        "        Bidirectional(LSTM(n_units_2), return_sequences=False),\n",
        "        Dense(1, activation='sigmoid'),\n",
        "    ])\n",
        "    model.compile(loss='binary_crossentropy', optimizer=AdamW(), metrics=['accuracy'])\n",
        "    return model"
      ]
    },
    {
      "cell_type": "markdown",
      "metadata": {
        "id": "EFjBgdiRG3wD"
      },
      "source": [
        "# [Task 5 - 1.0 points] Training and Evaluation\n",
        "\n",
        "You are now tasked to train and evaluate the Baseline and Model 1.\n"
      ]
    },
    {
      "cell_type": "markdown",
      "metadata": {
        "id": "TWPK4umGOjtT"
      },
      "source": [
        "\n",
        "### Instructions\n",
        "\n",
        "* Train **all** models on the train set.\n",
        "* Evaluate **all** models on the validation set.\n",
        "* Compute metrics on the validation set.\n",
        "* Pick **at least** three seeds for robust estimation.\n",
        "* Pick the **best** performing model according to the observed validation set performance.\n",
        "* Evaluate your models using macro F1-score."
      ]
    },
    {
      "cell_type": "markdown",
      "metadata": {
        "id": "CSy9sPwYHUoD"
      },
      "source": [
        "# [Task 6 - 1.0 points] Transformers\n",
        "\n",
        "In this section, you will use a transformer model specifically trained for hate speech detection, namely [Twitter-roBERTa-base for Hate Speech Detection](https://huggingface.co/cardiffnlp/twitter-roberta-base-hate).\n",
        "\n",
        "\n"
      ]
    },
    {
      "cell_type": "markdown",
      "metadata": {
        "collapsed": false,
        "id": "KIs_Fg5oLVgf"
      },
      "source": [
        "### Relevant Material\n",
        "- Tutorial 3"
      ]
    },
    {
      "cell_type": "markdown",
      "metadata": {
        "collapsed": false,
        "id": "qE0wYj0wLVgf"
      },
      "source": [
        "### Instructions\n",
        "1. **Load the Tokenizer and Model**\n",
        "\n",
        "2. **Preprocess the Dataset**:\n",
        "   You will need to preprocess your dataset to prepare it for input into the model. Tokenize your text data using the appropriate tokenizer and ensure it is formatted correctly.\n",
        "\n",
        "   **Note**: You have to use the plain text of the dataset and not the version that you tokenized before, as you need to tokenize the cleaned text obtained after the initial cleaning process.\n",
        "\n",
        "3. **Train the Model**:\n",
        "   Use the `Trainer` to train the model on your training data.\n",
        "\n",
        "4. **Evaluate the Model on the Test Set** using F1-macro."
      ]
    },
    {
      "cell_type": "markdown",
      "metadata": {
        "id": "3gtiG2mAL3HM"
      },
      "source": [
        "# [Task 7 - 0.5 points] Error Analysis\n",
        "\n",
        "### Instructions\n",
        "\n",
        "After evaluating the model, perform a brief error analysis:\n",
        "\n",
        " - Review the results and identify common errors.\n",
        "\n",
        " - Summarize your findings regarding the errors and their impact on performance (e.g. but not limited to Out-of-Vocabulary (OOV) words, data imbalance, and performance differences between the custom model and the transformer...)\n",
        " - Suggest possible solutions to address the identified errors.\n",
        "\n"
      ]
    },
    {
      "cell_type": "markdown",
      "metadata": {
        "id": "P42XYjb6K3k5"
      },
      "source": [
        "# [Task 8 - 0.5 points] Report\n",
        "\n",
        "Wrap up your experiment in a short report (up to 2 pages)."
      ]
    },
    {
      "cell_type": "markdown",
      "metadata": {
        "id": "N9oXSaW1K5S7"
      },
      "source": [
        "### Instructions\n",
        "\n",
        "* Use the NLP course report template.\n",
        "* Summarize each task in the report following the provided template."
      ]
    },
    {
      "cell_type": "markdown",
      "metadata": {
        "id": "MHw2L6PlLDyE"
      },
      "source": [
        "### Recommendations\n",
        "\n",
        "The report is not a copy-paste of graphs, tables, and command outputs.\n",
        "\n",
        "* Summarize classification performance in Table format.\n",
        "* **Do not** report command outputs or screenshots.\n",
        "* Report learning curves in Figure format.\n",
        "* The error analysis section should summarize your findings.\n"
      ]
    },
    {
      "cell_type": "markdown",
      "metadata": {
        "id": "bMUqh1utLflM"
      },
      "source": [
        "# Submission\n",
        "\n",
        "* **Submit** your report in PDF format.\n",
        "* **Submit** your python notebook.\n",
        "* Make sure your notebook is **well organized**, with no temporary code, commented sections, tests, etc...\n",
        "* You can upload **model weights** in a cloud repository and report the link in the report."
      ]
    },
    {
      "cell_type": "markdown",
      "metadata": {
        "id": "ypagJed7LheY"
      },
      "source": [
        "# FAQ\n",
        "\n",
        "Please check this frequently asked questions before contacting us"
      ]
    },
    {
      "cell_type": "markdown",
      "metadata": {
        "id": "bgtFwKXMLjww"
      },
      "source": [
        "### Execution Order\n",
        "\n",
        "You are **free** to address tasks in any order (if multiple orderings are available)."
      ]
    },
    {
      "cell_type": "markdown",
      "metadata": {
        "id": "_BjMk5e_M4n7"
      },
      "source": [
        "### Trainable Embeddings\n",
        "\n",
        "You are **free** to define a trainable or non-trainable Embedding layer to load the GloVe embeddings."
      ]
    },
    {
      "cell_type": "markdown",
      "metadata": {
        "id": "e8TVgpYlM6s5"
      },
      "source": [
        "### Model architecture\n",
        "\n",
        "You **should not** change the architecture of a model (i.e., its layers).\n",
        "However, you are **free** to play with their hyper-parameters.\n"
      ]
    },
    {
      "cell_type": "markdown",
      "metadata": {
        "id": "Ia6IapI1M_A7"
      },
      "source": [
        "### Neural Libraries\n",
        "\n",
        "You are **free** to use any library of your choice to implement the networks (e.g., Keras, Tensorflow, PyTorch, JAX, etc...)"
      ]
    },
    {
      "cell_type": "markdown",
      "metadata": {
        "id": "bWDaW8DyNBu5"
      },
      "source": [
        "### Keras TimeDistributed Dense layer\n",
        "\n",
        "If you are using Keras, we recommend wrapping the final Dense layer with `TimeDistributed`."
      ]
    },
    {
      "cell_type": "markdown",
      "metadata": {
        "id": "R1WcrpemNEQm"
      },
      "source": [
        "### Robust Evaluation\n",
        "\n",
        "Each model is trained with at least 3 random seeds.\n",
        "\n",
        "Task 4 requires you to compute the average performance over the 3 seeds and its corresponding standard deviation."
      ]
    },
    {
      "cell_type": "markdown",
      "metadata": {
        "id": "_mVe5dqzNI_u"
      },
      "source": [
        "### Model Selection for Analysis\n",
        "\n",
        "To carry out the error analysis you are **free** to either\n",
        "\n",
        "* Pick examples or perform comparisons with an individual seed run model (e.g., Baseline seed 1337)\n",
        "* Perform ensembling via, for instance, majority voting to obtain a single model."
      ]
    },
    {
      "cell_type": "markdown",
      "metadata": {
        "id": "L8a4pDKSNKzI"
      },
      "source": [
        "### Error Analysis\n",
        "\n",
        "Some topics for discussion include:\n",
        "   * Precision/Recall curves.\n",
        "   * Confusion matrices.\n",
        "   * Specific misclassified samples."
      ]
    },
    {
      "cell_type": "markdown",
      "metadata": {
        "collapsed": false,
        "id": "ctL6rGCOLVgk"
      },
      "source": [
        "### Bonus Points\n",
        "Bonus points are arbitrarily assigned based on significant contributions such as:\n",
        "- Outstanding error analysis\n",
        "- Masterclass code organization\n",
        "- Suitable extensions\n",
        "Note that bonus points are only assigned if all task points are attributed (i.e., 6/6).\n",
        "\n",
        "**Possible Extensions/Explorations for Bonus Points:**\n",
        "- **Try other preprocessing strategies**: e.g., but not limited to, explore techniques tailored specifically for tweets or  methods that are common in social media text.\n",
        "- **Experiment with other custom architectures or models from HuggingFace**\n",
        "- **Explore Spanish tweets**: e.g., but not limited to, leverage multilingual models to process Spanish tweets and assess their performance compared to monolingual models.\n",
        "\n"
      ]
    },
    {
      "cell_type": "markdown",
      "metadata": {
        "id": "8xmMKE7vLu-y"
      },
      "source": [
        "\n",
        "\n",
        "\n",
        "\n",
        "# The End"
      ]
    }
  ],
  "metadata": {
    "colab": {
      "provenance": []
    },
    "kernelspec": {
      "display_name": "Python 3",
      "name": "python3"
    },
    "language_info": {
      "codemirror_mode": {
        "name": "ipython",
        "version": 3
      },
      "file_extension": ".py",
      "mimetype": "text/x-python",
      "name": "python",
      "nbconvert_exporter": "python",
      "pygments_lexer": "ipython3",
      "version": "3.13.0"
    }
  },
  "nbformat": 4,
  "nbformat_minor": 0
}