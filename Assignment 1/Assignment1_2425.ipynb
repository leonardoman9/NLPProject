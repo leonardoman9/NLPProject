{
  "cells": [
    {
      "cell_type": "markdown",
      "metadata": {
        "id": "qE4WC2_4wygJ"
      },
      "source": [
        "# Assignment 1\n",
        "**Credits**: Federico Ruggeri, Eleonora Mancini, Paolo Torroni\n",
        "\n",
        "**Keywords**: Sexism Detection, Multi-class Classification, RNNs, Transformers, Huggingface\n",
        "\n"
      ]
    },
    {
      "cell_type": "markdown",
      "metadata": {
        "id": "fL69zGpmx01k"
      },
      "source": [
        "# Contact\n",
        "For any doubt, question, issue or help, you can always contact us at the following email addresses:\n",
        "\n",
        "Teaching Assistants:\n",
        "\n",
        "- Federico Ruggeri -> federico.ruggeri6@unibo.it\n",
        "- Eleonora Mancini -> e.mancini@unibo.it\n",
        "\n",
        "Professor:\n",
        "- Paolo Torroni -> p.torroni@unibo.it"
      ]
    },
    {
      "cell_type": "markdown",
      "metadata": {
        "id": "55jnW-xKxi-2"
      },
      "source": [
        "# Introduction\n",
        "You are asked to address the [EXIST 2023 Task 1](https://clef2023.clef-initiative.eu/index.php?page=Pages/labs.html#EXIST) on sexism detection."
      ]
    },
    {
      "cell_type": "markdown",
      "metadata": {
        "id": "9HWp5bGwySsb"
      },
      "source": [
        "## Problem Definition\n",
        "The systems have to decide whether or not a given tweet contains or describes sexist expressions or behaviors (i.e., it is sexist itself, describes a sexist situation or criticizes a sexist behavior).\n",
        "\n",
        "### Examples:\n",
        "\n",
        "**Text**: *Can’t go a day without women womening*\n",
        "\n",
        "**Label**: Sexist\n",
        "\n",
        "**Text**: *''Society's set norms! Happy men's day though!#weareequal''*\n",
        "\n",
        "**Label**: Not sexist"
      ]
    },
    {
      "cell_type": "markdown",
      "metadata": {
        "id": "2iu1X4I98M8B"
      },
      "source": [
        "# [Task 1 - 1.0 points] Corpus\n",
        "\n",
        "We have preparared a small version of EXIST dataset in our dedicated [Github repository](https://github.com/lt-nlp-lab-unibo/nlp-course-material/tree/main/2024-2025/Assignment%201/data).\n",
        "\n",
        "Check the `A1/data` folder. It contains 3 `.json` files representing `training`, `validation` and `test` sets.\n",
        "\n",
        "The three sets are slightly unbalanced, with a bias toward the `Non-sexist` class.\n",
        "\n"
      ]
    },
    {
      "cell_type": "markdown",
      "metadata": {
        "id": "AASoMV9XN5l6"
      },
      "source": [
        "### Dataset Description\n",
        "- The dataset contains tweets in both English and Spanish.\n",
        "- There are labels for multiple tasks, but we are focusing on **Task 1**.\n",
        "- For Task 1, soft labels are assigned by six annotators.\n",
        "- The labels for Task 1 represent whether the tweet is sexist (\"YES\") or not (\"NO\").\n",
        "\n",
        "\n",
        "\n",
        "\n"
      ]
    },
    {
      "cell_type": "markdown",
      "metadata": {
        "id": "OFjwB_lCOQKj"
      },
      "source": [
        "\n",
        "### Example\n",
        "\n",
        "\n",
        "    \"203260\": {\n",
        "        \"id_EXIST\": \"203260\",\n",
        "        \"lang\": \"en\",\n",
        "        \"tweet\": \"ik when mandy says “you look like a whore” i look cute as FUCK\",\n",
        "        \"number_annotators\": 6,\n",
        "        \"annotators\": [\"Annotator_473\", \"Annotator_474\", \"Annotator_475\", \"Annotator_476\", \"Annotator_477\", \"Annotator_27\"],\n",
        "        \"gender_annotators\": [\"F\", \"F\", \"M\", \"M\", \"M\", \"F\"],\n",
        "        \"age_annotators\": [\"18-22\", \"23-45\", \"18-22\", \"23-45\", \"46+\", \"46+\"],\n",
        "        \"labels_task1\": [\"YES\", \"YES\", \"YES\", \"NO\", \"YES\", \"YES\"],\n",
        "        \"labels_task2\": [\"DIRECT\", \"DIRECT\", \"REPORTED\", \"-\", \"JUDGEMENTAL\", \"REPORTED\"],\n",
        "        \"labels_task3\": [\n",
        "          [\"STEREOTYPING-DOMINANCE\"],\n",
        "          [\"OBJECTIFICATION\"],\n",
        "          [\"SEXUAL-VIOLENCE\"],\n",
        "          [\"-\"],\n",
        "          [\"STEREOTYPING-DOMINANCE\", \"OBJECTIFICATION\"],\n",
        "          [\"OBJECTIFICATION\"]\n",
        "        ],\n",
        "        \"split\": \"TRAIN_EN\"\n",
        "      }\n",
        "    }"
      ]
    },
    {
      "cell_type": "markdown",
      "metadata": {
        "id": "BJ45bvuOOJ7I"
      },
      "source": [
        "### Instructions\n",
        "1. **Download** the `A1/data` folder.\n",
        "2. **Load** the three JSON files and encode them as pandas dataframes.\n",
        "3. **Generate hard labels** for Task 1 using majority voting and store them in a new dataframe column called `hard_label_task1`. Items without a clear majority will be removed from the dataset.\n",
        "4. **Filter the DataFrame** to keep only rows where the `lang` column is `'en'`.\n",
        "5. **Remove unwanted columns**: Keep only `id_EXIST`, `lang`, `tweet`, and `hard_label_task1`.\n",
        "6. **Encode the `hard_label_task1` column**: Use 1 to represent \"YES\" and 0 to represent \"NO\"."
      ]
    },
    {
      "cell_type": "code",
      "source": [
        "pip install emoji"
      ],
      "metadata": {
        "colab": {
          "base_uri": "https://localhost:8080/"
        },
        "id": "qgtU1jX_R9Hm",
        "outputId": "d1f1ed64-2f85-4a86-f18d-e47c286bed91"
      },
      "execution_count": 1,
      "outputs": [
        {
          "output_type": "stream",
          "name": "stdout",
          "text": [
            "Collecting emoji\n",
            "  Downloading emoji-2.14.0-py3-none-any.whl.metadata (5.7 kB)\n",
            "Downloading emoji-2.14.0-py3-none-any.whl (586 kB)\n",
            "\u001b[?25l   \u001b[90m━━━━━━━━━━━━━━━━━━━━━━━━━━━━━━━━━━━━━━━━\u001b[0m \u001b[32m0.0/586.9 kB\u001b[0m \u001b[31m?\u001b[0m eta \u001b[36m-:--:--\u001b[0m\r\u001b[2K   \u001b[90m━━━━━━━━━━━━━━━━━━━━━━━━━━━━━━━━━━━━━━━━\u001b[0m \u001b[32m586.9/586.9 kB\u001b[0m \u001b[31m21.7 MB/s\u001b[0m eta \u001b[36m0:00:00\u001b[0m\n",
            "\u001b[?25hInstalling collected packages: emoji\n",
            "Successfully installed emoji-2.14.0\n"
          ]
        }
      ]
    },
    {
      "cell_type": "code",
      "source": [
        "pip install pyspellchecker"
      ],
      "metadata": {
        "colab": {
          "base_uri": "https://localhost:8080/"
        },
        "id": "0F5FpADuuJK2",
        "outputId": "bc385130-c7fe-43e7-b3a6-de340513f4c0"
      },
      "execution_count": 2,
      "outputs": [
        {
          "output_type": "stream",
          "name": "stdout",
          "text": [
            "Collecting pyspellchecker\n",
            "  Downloading pyspellchecker-0.8.2-py3-none-any.whl.metadata (9.4 kB)\n",
            "Downloading pyspellchecker-0.8.2-py3-none-any.whl (7.1 MB)\n",
            "\u001b[2K   \u001b[90m━━━━━━━━━━━━━━━━━━━━━━━━━━━━━━━━━━━━━━━━\u001b[0m \u001b[32m7.1/7.1 MB\u001b[0m \u001b[31m15.9 MB/s\u001b[0m eta \u001b[36m0:00:00\u001b[0m\n",
            "\u001b[?25hInstalling collected packages: pyspellchecker\n",
            "Successfully installed pyspellchecker-0.8.2\n"
          ]
        }
      ]
    },
    {
      "cell_type": "code",
      "source": [
        "pip install textblob"
      ],
      "metadata": {
        "colab": {
          "base_uri": "https://localhost:8080/"
        },
        "id": "fHgKtVTh06JX",
        "outputId": "20081bee-f97b-4ebe-d78d-8565fadd15f4"
      },
      "execution_count": 3,
      "outputs": [
        {
          "output_type": "stream",
          "name": "stdout",
          "text": [
            "Requirement already satisfied: textblob in /usr/local/lib/python3.10/dist-packages (0.17.1)\n",
            "Requirement already satisfied: nltk>=3.1 in /usr/local/lib/python3.10/dist-packages (from textblob) (3.9.1)\n",
            "Requirement already satisfied: click in /usr/local/lib/python3.10/dist-packages (from nltk>=3.1->textblob) (8.1.7)\n",
            "Requirement already satisfied: joblib in /usr/local/lib/python3.10/dist-packages (from nltk>=3.1->textblob) (1.4.2)\n",
            "Requirement already satisfied: regex>=2021.8.3 in /usr/local/lib/python3.10/dist-packages (from nltk>=3.1->textblob) (2024.11.6)\n",
            "Requirement already satisfied: tqdm in /usr/local/lib/python3.10/dist-packages (from nltk>=3.1->textblob) (4.67.1)\n"
          ]
        }
      ]
    },
    {
      "cell_type": "markdown",
      "metadata": {
        "id": "KcksoLekLVgc"
      },
      "source": [
        "### 2. Loading of the three JSON files as dataframes"
      ]
    },
    {
      "cell_type": "code",
      "execution_count": 5,
      "metadata": {
        "id": "8LUWW3uMLVgc"
      },
      "outputs": [],
      "source": [
        "import pandas as pd\n",
        "\n",
        "#data_train = pd.read_json('data/training.json')\n",
        "data_train = pd.read_json('content/training.json') #Lorenzo\n",
        "#data_train = pd.read_json('/content/training.json') #Diego\n",
        "\n",
        "\n",
        "df_train = data_train.T\n",
        "df_train.reset_index(inplace=True)\n",
        "df_train.rename(columns={'index': 'id'}, inplace=True)\n",
        "\n",
        "#data_test = pd.read_json('data/test.json')\n",
        "data_test = pd.read_json('content/test.json') #Lorenzo\n",
        "#data_test = pd.read_json('/content/test.json') #Diego\n",
        "\n",
        "df_test = data_test.T\n",
        "df_test.reset_index(inplace=True)\n",
        "df_test.rename(columns={'index': 'id'}, inplace=True)\n",
        "\n",
        "#data_val = pd.read_json('data/validation.json')\n",
        "data_val = pd.read_json('content/validation.json') #Lorenzo\n",
        "#data_val = pd.read_json('/content/validation.json') #Diego\n",
        "\n",
        "\n",
        "df_val = data_val.T\n",
        "df_val.reset_index(inplace=True)\n",
        "df_val.rename(columns={'index': 'id'}, inplace=True)\n",
        "\n",
        "# DataFrame displaying\n",
        "#print(df_train.head())"
      ]
    },
    {
      "cell_type": "markdown",
      "metadata": {
        "id": "10HueBHELVgc"
      },
      "source": [
        "### 3. Generate hard_label_task1"
      ]
    },
    {
      "cell_type": "code",
      "execution_count": 6,
      "metadata": {
        "id": "qh7mDbtoLVgc"
      },
      "outputs": [],
      "source": [
        "from collections import Counter\n",
        "\n",
        "def majority_vote(labels):\n",
        "    label_counts = Counter(labels)\n",
        "    most_common = label_counts.most_common(1)\n",
        "    if len(most_common) > 0 and most_common[0][1] > len(labels) / 2:\n",
        "        return most_common[0][0]\n",
        "    return None\n",
        "\n",
        "df_train['hard_label_task1'] = df_train['labels_task1'].apply(majority_vote)\n",
        "df_train = df_train.dropna(subset=['hard_label_task1'])\n",
        "df_train.reset_index(drop=True, inplace=True)\n",
        "\n",
        "df_test['hard_label_task1'] = df_test['labels_task1'].apply(majority_vote)\n",
        "df_test = df_test.dropna(subset=['hard_label_task1'])\n",
        "df_test.reset_index(drop=True, inplace=True)\n",
        "\n",
        "df_val['hard_label_task1'] = df_val['labels_task1'].apply(majority_vote)\n",
        "df_val = df_val.dropna(subset=['hard_label_task1'])\n",
        "df_val.reset_index(drop=True, inplace=True)\n"
      ]
    },
    {
      "cell_type": "markdown",
      "metadata": {
        "id": "9R6OaY1ALVgc"
      },
      "source": [
        "### 4. Filter DataFrame"
      ]
    },
    {
      "cell_type": "code",
      "execution_count": 7,
      "metadata": {
        "id": "gi_FsJDQLVgc"
      },
      "outputs": [],
      "source": [
        "df_train = df_train[df_train['lang'] == 'en']\n",
        "df_test = df_test[df_test['lang'] == 'en']\n",
        "df_val = df_val[df_val['lang'] == 'en']"
      ]
    },
    {
      "cell_type": "markdown",
      "metadata": {
        "id": "pLLeN79OLVgd"
      },
      "source": [
        "### 5. Remove Unwanted Columns"
      ]
    },
    {
      "cell_type": "code",
      "execution_count": 8,
      "metadata": {
        "id": "fBLTFgNuLVgd"
      },
      "outputs": [],
      "source": [
        "df_train = df_train[['id_EXIST', 'lang', 'tweet', 'hard_label_task1']]\n",
        "df_test = df_test[['id_EXIST', 'lang', 'tweet', 'hard_label_task1']]\n",
        "df_val = df_val[['id_EXIST', 'lang', 'tweet', 'hard_label_task1']]"
      ]
    },
    {
      "cell_type": "markdown",
      "metadata": {
        "id": "8RFvA37OLVgd"
      },
      "source": [
        "### 6. hard_label_task1 encoding"
      ]
    },
    {
      "cell_type": "code",
      "execution_count": 9,
      "metadata": {
        "colab": {
          "base_uri": "https://localhost:8080/"
        },
        "id": "ZND3Mu40LVgd",
        "outputId": "356903aa-1443-4b7d-e9c8-5799f9361d0c"
      },
      "outputs": [
        {
          "output_type": "stream",
          "name": "stderr",
          "text": [
            "<ipython-input-9-956ecd6188b9>:1: FutureWarning: Downcasting behavior in `replace` is deprecated and will be removed in a future version. To retain the old behavior, explicitly call `result.infer_objects(copy=False)`. To opt-in to the future behavior, set `pd.set_option('future.no_silent_downcasting', True)`\n",
            "  df_train['hard_label_task1'] = df_train['hard_label_task1'].replace({'YES': 1, 'NO': 0})\n",
            "<ipython-input-9-956ecd6188b9>:2: FutureWarning: Downcasting behavior in `replace` is deprecated and will be removed in a future version. To retain the old behavior, explicitly call `result.infer_objects(copy=False)`. To opt-in to the future behavior, set `pd.set_option('future.no_silent_downcasting', True)`\n",
            "  df_test['hard_label_task1'] = df_test['hard_label_task1'].replace({'YES': 1, 'NO': 0})\n",
            "<ipython-input-9-956ecd6188b9>:3: FutureWarning: Downcasting behavior in `replace` is deprecated and will be removed in a future version. To retain the old behavior, explicitly call `result.infer_objects(copy=False)`. To opt-in to the future behavior, set `pd.set_option('future.no_silent_downcasting', True)`\n",
            "  df_val['hard_label_task1'] = df_val['hard_label_task1'].replace({'YES': 1, 'NO': 0})\n"
          ]
        }
      ],
      "source": [
        "df_train['hard_label_task1'] = df_train['hard_label_task1'].replace({'YES': 1, 'NO': 0})\n",
        "df_test['hard_label_task1'] = df_test['hard_label_task1'].replace({'YES': 1, 'NO': 0})\n",
        "df_val['hard_label_task1'] = df_val['hard_label_task1'].replace({'YES': 1, 'NO': 0})"
      ]
    },
    {
      "cell_type": "markdown",
      "metadata": {
        "collapsed": false,
        "id": "RyrGidPaLVgd"
      },
      "source": [
        "# [Task2 - 0.5 points] Data Cleaning\n",
        "In the context of tweets, we have noisy and informal data that often includes unnecessary elements like emojis, hashtags, mentions, and URLs. These elements may interfere with the text analysis.\n"
      ]
    },
    {
      "cell_type": "markdown",
      "metadata": {
        "collapsed": false,
        "id": "aiOvW7DnLVgd"
      },
      "source": [
        "\n",
        "### Instructions\n",
        "- **Remove emojis** from the tweets.\n",
        "- **Remove hashtags** (e.g., `#example`).\n",
        "- **Remove mentions** such as `@user`.\n",
        "- **Remove URLs** from the tweets.\n",
        "- **Remove special characters and symbols**.\n",
        "- **Remove specific quote characters** (e.g., curly quotes).\n",
        "- **Perform lemmatization** to reduce words to their base form."
      ]
    },
    {
      "cell_type": "code",
      "execution_count": 10,
      "metadata": {
        "colab": {
          "base_uri": "https://localhost:8080/"
        },
        "id": "ejGvUvoNzq0p",
        "outputId": "b65a5b05-c84c-41b9-94dd-f98f381b248e"
      },
      "outputs": [
        {
          "output_type": "stream",
          "name": "stderr",
          "text": [
            "[nltk_data] Downloading package omw-1.4 to /root/nltk_data...\n",
            "[nltk_data] Downloading package wordnet to /root/nltk_data...\n",
            "[nltk_data] Downloading package averaged_perceptron_tagger to\n",
            "[nltk_data]     /root/nltk_data...\n",
            "[nltk_data]   Unzipping taggers/averaged_perceptron_tagger.zip.\n",
            "[nltk_data] Downloading package averaged_perceptron_tagger_eng to\n",
            "[nltk_data]     /root/nltk_data...\n",
            "[nltk_data]   Unzipping taggers/averaged_perceptron_tagger_eng.zip.\n"
          ]
        }
      ],
      "source": [
        "import nltk\n",
        "from nltk.stem import WordNetLemmatizer\n",
        "from nltk import pos_tag\n",
        "from nltk.corpus import wordnet\n",
        "\n",
        "nltk.download('omw-1.4')\n",
        "nltk.download('wordnet')\n",
        "nltk.download('averaged_perceptron_tagger')\n",
        "nltk.download('averaged_perceptron_tagger_eng')\n",
        "\n",
        "lemmatizer = WordNetLemmatizer()\n",
        "\n",
        "def get_wordnet_key(pos_tag):\n",
        "    if pos_tag.startswith('J'):\n",
        "        return wordnet.ADJ\n",
        "    elif pos_tag.startswith('V'):\n",
        "        return wordnet.VERB\n",
        "    elif pos_tag.startswith('N'):\n",
        "        return wordnet.NOUN\n",
        "    elif pos_tag.startswith('R'):\n",
        "        return wordnet.ADV\n",
        "    else:\n",
        "        return 'n'\n",
        "\n",
        "#Lemmatize each token\n",
        "def lem_text(text: str):\n",
        "  tokens = word_tokenize(text)\n",
        "  tagged = pos_tag(tokens)\n",
        "  words = [lemmatizer.lemmatize(word, get_wordnet_key(tag)) for word, tag in tagged]\n",
        "  return \" \".join(words)"
      ]
    },
    {
      "cell_type": "code",
      "execution_count": 11,
      "metadata": {
        "colab": {
          "base_uri": "https://localhost:8080/"
        },
        "id": "xgXFO2RlLVgd",
        "outputId": "9e0e5ffe-2961-4a26-f020-574e4b12c59d"
      },
      "outputs": [
        {
          "output_type": "stream",
          "name": "stderr",
          "text": [
            "[nltk_data] Downloading package punkt_tab to /root/nltk_data...\n",
            "[nltk_data]   Unzipping tokenizers/punkt_tab.zip.\n",
            "[nltk_data] Downloading package punkt to /root/nltk_data...\n",
            "[nltk_data]   Unzipping tokenizers/punkt.zip.\n",
            "100%|██████████| 2870/2870 [00:09<00:00, 291.95it/s]\n",
            "100%|██████████| 158/158 [00:00<00:00, 286.68it/s]\n",
            "100%|██████████| 286/286 [00:00<00:00, 312.14it/s]"
          ]
        },
        {
          "output_type": "stream",
          "name": "stdout",
          "text": [
            "                                                  tweet  \\\n",
            "3194  Writing a uni essay in my local pub with a cof...   \n",
            "3195  @UniversalORL it is 2021 not 1921. I dont appr...   \n",
            "3196  According to a customer I have plenty of time ...   \n",
            "3197  So only 'blokes' drink beer? Sorry, but if you...   \n",
            "3198  New to the shelves this week - looking forward...   \n",
            "\n",
            "                                          cleaned_tweet  \n",
            "3194  writing a uni essay in my local pub with a cof...  \n",
            "3195  it be 2021 not 1921 i dont appreciate that on ...  \n",
            "3196  according to a customer i have plenty of time ...  \n",
            "3197  so only blokes drink beer sorry but if you are...  \n",
            "3198  new to the shelf this week look forward to rea...  \n"
          ]
        },
        {
          "output_type": "stream",
          "name": "stderr",
          "text": [
            "\n"
          ]
        }
      ],
      "source": [
        "import emoji\n",
        "import re\n",
        "import nltk\n",
        "from tqdm import tqdm\n",
        "import unicodedata\n",
        "from textblob import TextBlob\n",
        "#from nltk.tokenize import word_tokenize\n",
        "from emoji import *\n",
        "from nltk import word_tokenize\n",
        "\n",
        "\n",
        "# necessary for being able to tokenize\n",
        "nltk.download('punkt_tab')\n",
        "nltk.download('punkt')\n",
        "\n",
        "def correct_spelling(text):\n",
        "  blob = TextBlob(text)\n",
        "  corrected_text = blob.correct()\n",
        "  return str(corrected_text)\n",
        "\n",
        "def remove_style(text):\n",
        "    # Normalize text into the closest ASCII equivalent\n",
        "    return ''.join(\n",
        "        c for c in unicodedata.normalize('NFKC', text)\n",
        "        if not unicodedata.combining(c)  # Exclude combining marks\n",
        "    )\n",
        "\n",
        "def split_merge_word(text):\n",
        "    # Use regex to find boundaries between lowercase and uppercase\n",
        "    return re.sub(r'(?<=[a-z])(?=[A-Z])', ' ', text)\n",
        "\n",
        "def replace_space(text):\n",
        "  return re.sub(r'\\s+', ' ', text).strip()\n",
        "\n",
        "# Function to clean and preprocess tweets\n",
        "def clean_tweet(tweet):\n",
        "    # Remove mentions (@user)\n",
        "    tweet = re.sub(r'@\\w+', ' ', tweet)\n",
        "    # Remove hashtags (#example)\n",
        "    tweet = re.sub(r'#\\w+', ' ', tweet)\n",
        "    # Remove URLs\n",
        "    tweet = re.sub(r'http\\S+|www.\\S+', ' ', tweet)\n",
        "    # Remove special characters and symbols\n",
        "    tweet = re.sub(r'[^\\w\\s]', ' ', tweet)\n",
        "    # Remove emojis\n",
        "    tweet = replace_emoji(tweet, ' ')\n",
        "    # Remove specific quote characters (e.g., curly quotes)\n",
        "    cleaned_tweet = tweet.replace('“', ' ').replace('”', ' ').replace('’', \" \").replace(\"‘\",\" \").replace('\"', \" \").replace(\"'\", \" \")\n",
        "\n",
        "    return cleaned_tweet\n",
        "\n",
        "def clean_column_dataset(df_column):\n",
        "  cleaned_tweets = []\n",
        "\n",
        "  for tweet in tqdm(df_column):\n",
        "    cleaned_tweet = clean_tweet(tweet)   #Clean the text\n",
        "    lem_tweet = lem_text(cleaned_tweet) #Lemmatize the text\n",
        "    lem_tweet_split = split_merge_word(lem_tweet) #Split words like \"endYou\"\n",
        "    norm_tweet = remove_style(lem_tweet_split) #remove bold and italic style\n",
        "    lowercase_tweet = norm_tweet.lower() #lower case the dataset\n",
        "    cleaned_tweets.append(lowercase_tweet)  #Save the results\n",
        "  return cleaned_tweets\n",
        "\n",
        "df_train['cleaned_tweet'] = clean_column_dataset(df_train['tweet'])\n",
        "df_val['cleaned_tweet'] = clean_column_dataset(df_val['tweet'])\n",
        "df_test['cleaned_tweet'] = clean_column_dataset(df_test['tweet'])\n",
        "\n",
        "\n",
        "print(df_train[['tweet', 'cleaned_tweet']].head())"
      ]
    },
    {
      "cell_type": "code",
      "source": [
        "df_train[['tweet', 'cleaned_tweet']].head(100)"
      ],
      "metadata": {
        "colab": {
          "base_uri": "https://localhost:8080/",
          "height": 444
        },
        "id": "CWEEv5Yae9nB",
        "outputId": "708189fb-7e01-4f65-c3e1-a97d6395c2ae"
      },
      "execution_count": 12,
      "outputs": [
        {
          "output_type": "execute_result",
          "data": {
            "text/plain": [
              "                                                  tweet  \\\n",
              "3194  Writing a uni essay in my local pub with a cof...   \n",
              "3195  @UniversalORL it is 2021 not 1921. I dont appr...   \n",
              "3196  According to a customer I have plenty of time ...   \n",
              "3197  So only 'blokes' drink beer? Sorry, but if you...   \n",
              "3198  New to the shelves this week - looking forward...   \n",
              "...                                                 ...   \n",
              "3289  They can fight for Hijabs but not against Trip...   \n",
              "3290  The whiskey and cigars, the $99 dollar seminar...   \n",
              "3291  I would be glad to see the violence on Twitter...   \n",
              "3292  @ProteanRedux @HugoThePinkCat @DeclarationOn @...   \n",
              "3293  Over 400 people used our #streetharassment hel...   \n",
              "\n",
              "                                          cleaned_tweet  \n",
              "3194  writing a uni essay in my local pub with a cof...  \n",
              "3195  it be 2021 not 1921 i dont appreciate that on ...  \n",
              "3196  according to a customer i have plenty of time ...  \n",
              "3197  so only blokes drink beer sorry but if you are...  \n",
              "3198  new to the shelf this week look forward to rea...  \n",
              "...                                                 ...  \n",
              "3289  they can fight for hijabs but not against trip...  \n",
              "3290  the whiskey and cigars the 99 dollar seminar t...  \n",
              "3291  i would be glad to see the violence on twitter...  \n",
              "3292  action aid conduct a survey on street harassme...  \n",
              "3293  over 400 people use our helpline this year you...  \n",
              "\n",
              "[100 rows x 2 columns]"
            ],
            "text/html": [
              "\n",
              "  <div id=\"df-1bce003f-08d3-46b3-93f0-779fb401548b\" class=\"colab-df-container\">\n",
              "    <div>\n",
              "<style scoped>\n",
              "    .dataframe tbody tr th:only-of-type {\n",
              "        vertical-align: middle;\n",
              "    }\n",
              "\n",
              "    .dataframe tbody tr th {\n",
              "        vertical-align: top;\n",
              "    }\n",
              "\n",
              "    .dataframe thead th {\n",
              "        text-align: right;\n",
              "    }\n",
              "</style>\n",
              "<table border=\"1\" class=\"dataframe\">\n",
              "  <thead>\n",
              "    <tr style=\"text-align: right;\">\n",
              "      <th></th>\n",
              "      <th>tweet</th>\n",
              "      <th>cleaned_tweet</th>\n",
              "    </tr>\n",
              "  </thead>\n",
              "  <tbody>\n",
              "    <tr>\n",
              "      <th>3194</th>\n",
              "      <td>Writing a uni essay in my local pub with a cof...</td>\n",
              "      <td>writing a uni essay in my local pub with a cof...</td>\n",
              "    </tr>\n",
              "    <tr>\n",
              "      <th>3195</th>\n",
              "      <td>@UniversalORL it is 2021 not 1921. I dont appr...</td>\n",
              "      <td>it be 2021 not 1921 i dont appreciate that on ...</td>\n",
              "    </tr>\n",
              "    <tr>\n",
              "      <th>3196</th>\n",
              "      <td>According to a customer I have plenty of time ...</td>\n",
              "      <td>according to a customer i have plenty of time ...</td>\n",
              "    </tr>\n",
              "    <tr>\n",
              "      <th>3197</th>\n",
              "      <td>So only 'blokes' drink beer? Sorry, but if you...</td>\n",
              "      <td>so only blokes drink beer sorry but if you are...</td>\n",
              "    </tr>\n",
              "    <tr>\n",
              "      <th>3198</th>\n",
              "      <td>New to the shelves this week - looking forward...</td>\n",
              "      <td>new to the shelf this week look forward to rea...</td>\n",
              "    </tr>\n",
              "    <tr>\n",
              "      <th>...</th>\n",
              "      <td>...</td>\n",
              "      <td>...</td>\n",
              "    </tr>\n",
              "    <tr>\n",
              "      <th>3289</th>\n",
              "      <td>They can fight for Hijabs but not against Trip...</td>\n",
              "      <td>they can fight for hijabs but not against trip...</td>\n",
              "    </tr>\n",
              "    <tr>\n",
              "      <th>3290</th>\n",
              "      <td>The whiskey and cigars, the $99 dollar seminar...</td>\n",
              "      <td>the whiskey and cigars the 99 dollar seminar t...</td>\n",
              "    </tr>\n",
              "    <tr>\n",
              "      <th>3291</th>\n",
              "      <td>I would be glad to see the violence on Twitter...</td>\n",
              "      <td>i would be glad to see the violence on twitter...</td>\n",
              "    </tr>\n",
              "    <tr>\n",
              "      <th>3292</th>\n",
              "      <td>@ProteanRedux @HugoThePinkCat @DeclarationOn @...</td>\n",
              "      <td>action aid conduct a survey on street harassme...</td>\n",
              "    </tr>\n",
              "    <tr>\n",
              "      <th>3293</th>\n",
              "      <td>Over 400 people used our #streetharassment hel...</td>\n",
              "      <td>over 400 people use our helpline this year you...</td>\n",
              "    </tr>\n",
              "  </tbody>\n",
              "</table>\n",
              "<p>100 rows × 2 columns</p>\n",
              "</div>\n",
              "    <div class=\"colab-df-buttons\">\n",
              "\n",
              "  <div class=\"colab-df-container\">\n",
              "    <button class=\"colab-df-convert\" onclick=\"convertToInteractive('df-1bce003f-08d3-46b3-93f0-779fb401548b')\"\n",
              "            title=\"Convert this dataframe to an interactive table.\"\n",
              "            style=\"display:none;\">\n",
              "\n",
              "  <svg xmlns=\"http://www.w3.org/2000/svg\" height=\"24px\" viewBox=\"0 -960 960 960\">\n",
              "    <path d=\"M120-120v-720h720v720H120Zm60-500h600v-160H180v160Zm220 220h160v-160H400v160Zm0 220h160v-160H400v160ZM180-400h160v-160H180v160Zm440 0h160v-160H620v160ZM180-180h160v-160H180v160Zm440 0h160v-160H620v160Z\"/>\n",
              "  </svg>\n",
              "    </button>\n",
              "\n",
              "  <style>\n",
              "    .colab-df-container {\n",
              "      display:flex;\n",
              "      gap: 12px;\n",
              "    }\n",
              "\n",
              "    .colab-df-convert {\n",
              "      background-color: #E8F0FE;\n",
              "      border: none;\n",
              "      border-radius: 50%;\n",
              "      cursor: pointer;\n",
              "      display: none;\n",
              "      fill: #1967D2;\n",
              "      height: 32px;\n",
              "      padding: 0 0 0 0;\n",
              "      width: 32px;\n",
              "    }\n",
              "\n",
              "    .colab-df-convert:hover {\n",
              "      background-color: #E2EBFA;\n",
              "      box-shadow: 0px 1px 2px rgba(60, 64, 67, 0.3), 0px 1px 3px 1px rgba(60, 64, 67, 0.15);\n",
              "      fill: #174EA6;\n",
              "    }\n",
              "\n",
              "    .colab-df-buttons div {\n",
              "      margin-bottom: 4px;\n",
              "    }\n",
              "\n",
              "    [theme=dark] .colab-df-convert {\n",
              "      background-color: #3B4455;\n",
              "      fill: #D2E3FC;\n",
              "    }\n",
              "\n",
              "    [theme=dark] .colab-df-convert:hover {\n",
              "      background-color: #434B5C;\n",
              "      box-shadow: 0px 1px 3px 1px rgba(0, 0, 0, 0.15);\n",
              "      filter: drop-shadow(0px 1px 2px rgba(0, 0, 0, 0.3));\n",
              "      fill: #FFFFFF;\n",
              "    }\n",
              "  </style>\n",
              "\n",
              "    <script>\n",
              "      const buttonEl =\n",
              "        document.querySelector('#df-1bce003f-08d3-46b3-93f0-779fb401548b button.colab-df-convert');\n",
              "      buttonEl.style.display =\n",
              "        google.colab.kernel.accessAllowed ? 'block' : 'none';\n",
              "\n",
              "      async function convertToInteractive(key) {\n",
              "        const element = document.querySelector('#df-1bce003f-08d3-46b3-93f0-779fb401548b');\n",
              "        const dataTable =\n",
              "          await google.colab.kernel.invokeFunction('convertToInteractive',\n",
              "                                                    [key], {});\n",
              "        if (!dataTable) return;\n",
              "\n",
              "        const docLinkHtml = 'Like what you see? Visit the ' +\n",
              "          '<a target=\"_blank\" href=https://colab.research.google.com/notebooks/data_table.ipynb>data table notebook</a>'\n",
              "          + ' to learn more about interactive tables.';\n",
              "        element.innerHTML = '';\n",
              "        dataTable['output_type'] = 'display_data';\n",
              "        await google.colab.output.renderOutput(dataTable, element);\n",
              "        const docLink = document.createElement('div');\n",
              "        docLink.innerHTML = docLinkHtml;\n",
              "        element.appendChild(docLink);\n",
              "      }\n",
              "    </script>\n",
              "  </div>\n",
              "\n",
              "\n",
              "<div id=\"df-b6f9671e-62b7-4b01-8025-40c272b657b3\">\n",
              "  <button class=\"colab-df-quickchart\" onclick=\"quickchart('df-b6f9671e-62b7-4b01-8025-40c272b657b3')\"\n",
              "            title=\"Suggest charts\"\n",
              "            style=\"display:none;\">\n",
              "\n",
              "<svg xmlns=\"http://www.w3.org/2000/svg\" height=\"24px\"viewBox=\"0 0 24 24\"\n",
              "     width=\"24px\">\n",
              "    <g>\n",
              "        <path d=\"M19 3H5c-1.1 0-2 .9-2 2v14c0 1.1.9 2 2 2h14c1.1 0 2-.9 2-2V5c0-1.1-.9-2-2-2zM9 17H7v-7h2v7zm4 0h-2V7h2v10zm4 0h-2v-4h2v4z\"/>\n",
              "    </g>\n",
              "</svg>\n",
              "  </button>\n",
              "\n",
              "<style>\n",
              "  .colab-df-quickchart {\n",
              "      --bg-color: #E8F0FE;\n",
              "      --fill-color: #1967D2;\n",
              "      --hover-bg-color: #E2EBFA;\n",
              "      --hover-fill-color: #174EA6;\n",
              "      --disabled-fill-color: #AAA;\n",
              "      --disabled-bg-color: #DDD;\n",
              "  }\n",
              "\n",
              "  [theme=dark] .colab-df-quickchart {\n",
              "      --bg-color: #3B4455;\n",
              "      --fill-color: #D2E3FC;\n",
              "      --hover-bg-color: #434B5C;\n",
              "      --hover-fill-color: #FFFFFF;\n",
              "      --disabled-bg-color: #3B4455;\n",
              "      --disabled-fill-color: #666;\n",
              "  }\n",
              "\n",
              "  .colab-df-quickchart {\n",
              "    background-color: var(--bg-color);\n",
              "    border: none;\n",
              "    border-radius: 50%;\n",
              "    cursor: pointer;\n",
              "    display: none;\n",
              "    fill: var(--fill-color);\n",
              "    height: 32px;\n",
              "    padding: 0;\n",
              "    width: 32px;\n",
              "  }\n",
              "\n",
              "  .colab-df-quickchart:hover {\n",
              "    background-color: var(--hover-bg-color);\n",
              "    box-shadow: 0 1px 2px rgba(60, 64, 67, 0.3), 0 1px 3px 1px rgba(60, 64, 67, 0.15);\n",
              "    fill: var(--button-hover-fill-color);\n",
              "  }\n",
              "\n",
              "  .colab-df-quickchart-complete:disabled,\n",
              "  .colab-df-quickchart-complete:disabled:hover {\n",
              "    background-color: var(--disabled-bg-color);\n",
              "    fill: var(--disabled-fill-color);\n",
              "    box-shadow: none;\n",
              "  }\n",
              "\n",
              "  .colab-df-spinner {\n",
              "    border: 2px solid var(--fill-color);\n",
              "    border-color: transparent;\n",
              "    border-bottom-color: var(--fill-color);\n",
              "    animation:\n",
              "      spin 1s steps(1) infinite;\n",
              "  }\n",
              "\n",
              "  @keyframes spin {\n",
              "    0% {\n",
              "      border-color: transparent;\n",
              "      border-bottom-color: var(--fill-color);\n",
              "      border-left-color: var(--fill-color);\n",
              "    }\n",
              "    20% {\n",
              "      border-color: transparent;\n",
              "      border-left-color: var(--fill-color);\n",
              "      border-top-color: var(--fill-color);\n",
              "    }\n",
              "    30% {\n",
              "      border-color: transparent;\n",
              "      border-left-color: var(--fill-color);\n",
              "      border-top-color: var(--fill-color);\n",
              "      border-right-color: var(--fill-color);\n",
              "    }\n",
              "    40% {\n",
              "      border-color: transparent;\n",
              "      border-right-color: var(--fill-color);\n",
              "      border-top-color: var(--fill-color);\n",
              "    }\n",
              "    60% {\n",
              "      border-color: transparent;\n",
              "      border-right-color: var(--fill-color);\n",
              "    }\n",
              "    80% {\n",
              "      border-color: transparent;\n",
              "      border-right-color: var(--fill-color);\n",
              "      border-bottom-color: var(--fill-color);\n",
              "    }\n",
              "    90% {\n",
              "      border-color: transparent;\n",
              "      border-bottom-color: var(--fill-color);\n",
              "    }\n",
              "  }\n",
              "</style>\n",
              "\n",
              "  <script>\n",
              "    async function quickchart(key) {\n",
              "      const quickchartButtonEl =\n",
              "        document.querySelector('#' + key + ' button');\n",
              "      quickchartButtonEl.disabled = true;  // To prevent multiple clicks.\n",
              "      quickchartButtonEl.classList.add('colab-df-spinner');\n",
              "      try {\n",
              "        const charts = await google.colab.kernel.invokeFunction(\n",
              "            'suggestCharts', [key], {});\n",
              "      } catch (error) {\n",
              "        console.error('Error during call to suggestCharts:', error);\n",
              "      }\n",
              "      quickchartButtonEl.classList.remove('colab-df-spinner');\n",
              "      quickchartButtonEl.classList.add('colab-df-quickchart-complete');\n",
              "    }\n",
              "    (() => {\n",
              "      let quickchartButtonEl =\n",
              "        document.querySelector('#df-b6f9671e-62b7-4b01-8025-40c272b657b3 button');\n",
              "      quickchartButtonEl.style.display =\n",
              "        google.colab.kernel.accessAllowed ? 'block' : 'none';\n",
              "    })();\n",
              "  </script>\n",
              "</div>\n",
              "\n",
              "    </div>\n",
              "  </div>\n"
            ],
            "application/vnd.google.colaboratory.intrinsic+json": {
              "type": "dataframe",
              "summary": "{\n  \"name\": \"df_train[['tweet', 'cleaned_tweet']]\",\n  \"rows\": 100,\n  \"fields\": [\n    {\n      \"column\": \"tweet\",\n      \"properties\": {\n        \"dtype\": \"string\",\n        \"num_unique_values\": 100,\n        \"samples\": [\n          \"An excellent thread on how the patriarchy deforms men's souls and damages their lives. https://t.co/hQ16C565CT\",\n          \"black femcels, nigcels, hoteps, d!vestors, femininity nuts, black luxury ppl, black mgtow &amp; other online groups fascinate me LOLthe way they twist legitimate ideas abt race and oppression to fit their catastrophizing worldview + inform behavior that leads them back to ws is\\u2026\",\n          \"Any person putting pronouns in their bio and chanting TWAW is saying #NotAllMen. This is not \\u2018anti\\u2019 anyone - it\\u2019s recognising that in order to address the entrenched misogyny, the abuse and violence that is inflicted on women we have to recognise sex. #sexmatters\"\n        ],\n        \"semantic_type\": \"\",\n        \"description\": \"\"\n      }\n    },\n    {\n      \"column\": \"cleaned_tweet\",\n      \"properties\": {\n        \"dtype\": \"string\",\n        \"num_unique_values\": 100,\n        \"samples\": [\n          \"an excellent thread on how the patriarchy deform men s soul and damage their life\",\n          \"black femcels nigcels hoteps d vestors femininity nut black luxury ppl black mgtow amp other online group fascinate me lolthe way they twist legitimate idea abt race and oppression to fit their catastrophizing worldview inform behavior that lead them back to w be\",\n          \"any person put pronoun in their bio and chant twaw be say this be not anti anyone it s recognise that in order to address the entrenched misogyny the abuse and violence that be inflict on woman we have to recognise sex\"\n        ],\n        \"semantic_type\": \"\",\n        \"description\": \"\"\n      }\n    }\n  ]\n}"
            }
          },
          "metadata": {},
          "execution_count": 12
        }
      ]
    },
    {
      "cell_type": "markdown",
      "metadata": {
        "id": "s3KylLHNl0bE"
      },
      "source": [
        "# [Task 3 - 0.5 points] Text Encoding\n",
        "To train a neural sexism classifier, you first need to encode text into numerical format.\n",
        "\n",
        "\n"
      ]
    },
    {
      "cell_type": "markdown",
      "metadata": {
        "id": "hr1lTHUVOXff"
      },
      "source": [
        "### Instructions\n",
        "\n",
        "* Embed words using **GloVe embeddings**.\n",
        "* You are **free** to pick any embedding dimension.\n",
        "\n",
        "\n",
        "\n"
      ]
    },
    {
      "cell_type": "code",
      "source": [
        "from typing import Dict, List\n",
        "from collections import OrderedDict\n",
        "from tqdm import tqdm\n",
        "import pandas as pd\n",
        "\n",
        "def build_vocabulary(df: pd.DataFrame) -> (Dict[int, str], Dict[str, int], List[str]):\n",
        "    \"\"\"\n",
        "    Given a dataset, builds the corresponding word vocabulary.\n",
        "\n",
        "    :param df: dataset from which we want to build the word vocabulary (pandas.DataFrame)\n",
        "    :return:\n",
        "      - word vocabulary: vocabulary index to word\n",
        "      - inverse word vocabulary: word to vocabulary index\n",
        "      - word listing: set of unique terms that build up the vocabulary\n",
        "    \"\"\"\n",
        "    idx_to_word = OrderedDict()\n",
        "    word_to_idx = OrderedDict()\n",
        "\n",
        "    curr_idx = 0\n",
        "    for sentence in tqdm(df.text.values):\n",
        "        tokens = sentence.split()\n",
        "        for token in tokens:\n",
        "            if token not in word_to_idx:\n",
        "                word_to_idx[token] = curr_idx\n",
        "                idx_to_word[curr_idx] = token\n",
        "                curr_idx += 1\n",
        "\n",
        "    word_to_idx[\"UNK\"] = curr_idx\n",
        "    idx_to_word[curr_idx] = 'UNK'\n",
        "\n",
        "    word_listing = list(idx_to_word.values())\n",
        "    return idx_to_word, word_to_idx, word_listing"
      ],
      "metadata": {
        "id": "sWmfN9z39qnl"
      },
      "execution_count": null,
      "outputs": []
    },
    {
      "cell_type": "code",
      "source": [
        "df_train['text'] = df_train['cleaned_tweet']\n",
        "df_test['text'] = df_test['cleaned_tweet']\n",
        "df_val['text'] = df_val['cleaned_tweet']"
      ],
      "metadata": {
        "id": "GTQ_eosEXTMH"
      },
      "execution_count": null,
      "outputs": []
    },
    {
      "cell_type": "code",
      "source": [
        "idx_to_word_train, word_to_idx_train, word_listing_train = build_vocabulary(df_train)\n",
        "idx_to_word_test, word_to_idx_test, word_listing_test = build_vocabulary(df_test)\n",
        "idx_to_word_val, word_to_idx_val, word_listing_val = build_vocabulary(df_val)"
      ],
      "metadata": {
        "id": "Rc0vWCZ891dY",
        "outputId": "8ebf5fb8-5f0d-49ab-c462-4205d43cdbcc",
        "colab": {
          "base_uri": "https://localhost:8080/"
        }
      },
      "execution_count": null,
      "outputs": [
        {
          "output_type": "stream",
          "name": "stderr",
          "text": [
            "100%|██████████| 2870/2870 [00:00<00:00, 121778.19it/s]\n",
            "100%|██████████| 286/286 [00:00<00:00, 85482.15it/s]\n",
            "100%|██████████| 158/158 [00:00<00:00, 94617.37it/s]\n"
          ]
        }
      ]
    },
    {
      "cell_type": "code",
      "source": [
        "def evaluate_vocabulary(idx_to_word: Dict[int, str], word_to_idx: Dict[str, int],\n",
        "                        word_listing: List[str], df: pd.DataFrame, check_default_size: bool = False):\n",
        "    print(\"[Vocabulary Evaluation] Size checking...\")\n",
        "    assert len(idx_to_word) == len(word_to_idx)\n",
        "    assert len(idx_to_word) == len(word_listing)\n",
        "\n",
        "    print(\"[Vocabulary Evaluation] Content checking...\")\n",
        "    for i in tqdm(range(0, len(idx_to_word))):\n",
        "        assert idx_to_word[i] in word_to_idx\n",
        "        assert word_to_idx[idx_to_word[i]] == i\n",
        "\n",
        "    print(\"[Vocabulary Evaluation] Consistency checking...\")\n",
        "    _, _, first_word_listing = build_vocabulary(df)\n",
        "    _, _, second_word_listing = build_vocabulary(df)\n",
        "    assert first_word_listing == second_word_listing\n",
        "\n",
        "    print(\"[Vocabulary Evaluation] Toy example checking...\")\n",
        "    toy_df = pd.DataFrame.from_dict({\n",
        "        'text': [\"all that glitters is not gold\", \"all in all i like this assignment\"]\n",
        "    })\n",
        "    _, _, toy_word_listing = build_vocabulary(toy_df)\n",
        "    toy_valid_vocabulary = set(' '.join(toy_df.text.values).split())\n",
        "    assert set(toy_word_listing) == toy_valid_vocabulary"
      ],
      "metadata": {
        "id": "wZiZcrgLByL8"
      },
      "execution_count": null,
      "outputs": []
    },
    {
      "cell_type": "code",
      "source": [
        "print(\"Vocabulary evaluation...\")\n",
        "evaluate_vocabulary(idx_to_word_train, word_to_idx_train, word_listing_train, df_train)\n",
        "print(\"Evaluation completed!\")"
      ],
      "metadata": {
        "id": "kMhMLwmEBwA-",
        "outputId": "38e2bb4b-664e-4c38-c30b-138506f496bc",
        "colab": {
          "base_uri": "https://localhost:8080/"
        }
      },
      "execution_count": null,
      "outputs": [
        {
          "output_type": "stream",
          "name": "stdout",
          "text": [
            "Vocabulary evaluation...\n",
            "[Vocabulary Evaluation] Size checking...\n",
            "[Vocabulary Evaluation] Content checking...\n"
          ]
        },
        {
          "output_type": "stream",
          "name": "stderr",
          "text": [
            "100%|██████████| 9387/9387 [00:00<00:00, 552860.09it/s]\n"
          ]
        },
        {
          "output_type": "stream",
          "name": "stdout",
          "text": [
            "[Vocabulary Evaluation] Consistency checking...\n"
          ]
        },
        {
          "output_type": "stream",
          "name": "stderr",
          "text": [
            "100%|██████████| 2870/2870 [00:00<00:00, 79716.39it/s]\n",
            "100%|██████████| 2870/2870 [00:00<00:00, 93540.65it/s]\n"
          ]
        },
        {
          "output_type": "stream",
          "name": "stdout",
          "text": [
            "[Vocabulary Evaluation] Toy example checking...\n"
          ]
        },
        {
          "output_type": "stream",
          "name": "stderr",
          "text": [
            "100%|██████████| 2/2 [00:00<00:00, 720.67it/s]"
          ]
        },
        {
          "output_type": "stream",
          "name": "stdout",
          "text": [
            "Evaluation completed!\n"
          ]
        },
        {
          "output_type": "stream",
          "name": "stderr",
          "text": [
            "\n"
          ]
        }
      ]
    },
    {
      "cell_type": "code",
      "execution_count": null,
      "metadata": {
        "id": "AIoWFwyAFmIg",
        "scrolled": false
      },
      "outputs": [],
      "source": [
        "import gensim\n",
        "import gensim.downloader as gloader\n",
        "\n",
        "def load_embedding_glove_model(embedding_dimension: int = 50) -> gensim.models.keyedvectors.KeyedVectors:\n",
        "    download_path = \"glove-wiki-gigaword-{}\".format(embedding_dimension)\n",
        "    try:\n",
        "        emb_model = gloader.load(download_path)\n",
        "    except ValueError as e:\n",
        "        print(\"Invalid embedding model name! Check the embedding dimension:\")\n",
        "        print(\"Glove: 50, 100, 200, 300\")\n",
        "        raise e\n",
        "\n",
        "    return emb_model"
      ]
    },
    {
      "cell_type": "code",
      "source": [
        "embedding_model = load_embedding_glove_model(embedding_dimension=50)"
      ],
      "metadata": {
        "id": "cl9SZWLaCEYA",
        "outputId": "95cb6e97-fbc0-4ad8-9245-3b7c1dfa9259",
        "colab": {
          "base_uri": "https://localhost:8080/"
        }
      },
      "execution_count": null,
      "outputs": [
        {
          "output_type": "stream",
          "name": "stdout",
          "text": [
            "[==================================================] 100.0% 66.0/66.0MB downloaded\n"
          ]
        }
      ]
    },
    {
      "cell_type": "markdown",
      "metadata": {
        "id": "r6NNMEjWOZQr"
      },
      "source": [
        "### Note : What about OOV tokens?\n",
        "   * All the tokens in the **training** set that are not in GloVe **must** be added to the vocabulary.\n",
        "   * For the remaining tokens (i.e., OOV in the validation and test sets), you have to assign them a **special token** (e.g., [UNK]) and a **static** embedding.\n",
        "   * You are **free** to define the static embedding using any strategy (e.g., random, neighbourhood, etc...)\n",
        "\n"
      ]
    },
    {
      "cell_type": "markdown",
      "metadata": {
        "id": "90UztlGUObXk"
      },
      "source": [
        "### More about OOV\n",
        "\n",
        "For a given token:\n",
        "\n",
        "* **If in train set**: add to vocabulary and assign an embedding (use GloVe if token in GloVe, custom embedding otherwise).\n",
        "* **If in val/test set**: assign special token if not in vocabulary and assign custom embedding.\n",
        "\n",
        "Your vocabulary **should**:\n",
        "\n",
        "* Contain all tokens in train set; or\n",
        "* Union of tokens in train set and in GloVe $\\rightarrow$ we make use of existing knowledge!"
      ]
    },
    {
      "cell_type": "code",
      "source": [
        "def check_OOV_terms(embedding_model: gensim.models.keyedvectors.KeyedVectors,\n",
        "                    word_listing: List[str]):\n",
        "    \"\"\"\n",
        "    Checks differences between pre-trained embedding model vocabulary\n",
        "    and dataset specific vocabulary in order to highlight out-of-vocabulary terms.\n",
        "\n",
        "    :param embedding_model: pre-trained word embedding model (gensim wrapper)\n",
        "    :param word_listing: dataset specific vocabulary (list)\n",
        "\n",
        "    :return\n",
        "        - list of OOV terms\n",
        "    \"\"\"\n",
        "    embedding_vocabulary = set(embedding_model.key_to_index.keys())\n",
        "    oov = set(word_listing).difference(embedding_vocabulary)\n",
        "    return list(oov)"
      ],
      "metadata": {
        "id": "Csy7Tm7R6QIf"
      },
      "execution_count": null,
      "outputs": []
    },
    {
      "cell_type": "code",
      "source": [
        "oov_terms_train = check_OOV_terms(embedding_model, word_listing_train)\n",
        "oov_percentage_train = float(len(oov_terms_train)) * 100 / len(word_listing_train)\n",
        "print(f\"Total OOV terms: {len(oov_terms_train)} ({oov_percentage_train:.2f}%)\")\n",
        "\n",
        "oov_terms_test = check_OOV_terms(embedding_model, word_listing_test)\n",
        "oov_percentage_test = float(len(oov_terms_test)) * 100 / len(word_listing_test)\n",
        "print(f\"Total OOV terms: {len(oov_terms_test)} ({oov_percentage_test:.2f}%)\")\n",
        "\n",
        "oov_terms_val = check_OOV_terms(embedding_model, word_listing_val)\n",
        "oov_percentage_val = float(len(oov_terms_val)) * 100 / len(word_listing_val)\n",
        "print(f\"Total OOV terms: {len(oov_terms_val)} ({oov_percentage_val:.2f}%)\")"
      ],
      "metadata": {
        "id": "8FlfIz-W6Yy6",
        "outputId": "4bd67e27-34b9-4c42-c6c6-5673f216cb1a",
        "colab": {
          "base_uri": "https://localhost:8080/"
        }
      },
      "execution_count": null,
      "outputs": [
        {
          "output_type": "stream",
          "name": "stdout",
          "text": [
            "Total OOV terms: 879 (9.36%)\n",
            "Total OOV terms: 101 (4.68%)\n",
            "Total OOV terms: 67 (4.36%)\n"
          ]
        }
      ]
    },
    {
      "cell_type": "code",
      "source": [
        "for oov in oov_terms_train:\n",
        "  print(oov)"
      ],
      "metadata": {
        "id": "6b-pX6rsQ9JM",
        "outputId": "698f175a-82c2-4d0f-dadd-adc0eb82006d",
        "colab": {
          "base_uri": "https://localhost:8080/"
        }
      },
      "execution_count": null,
      "outputs": [
        {
          "output_type": "stream",
          "name": "stdout",
          "text": [
            "nahh\n",
            "casiajonna3874\n",
            "mikaelson\n",
            "nervetrainers\n",
            "maaaster\n",
            "redpill\n",
            "glutenfree\n",
            "hahahaha\n",
            "lionza\n",
            "ppvs\n",
            "alaih\n",
            "pickme\n",
            "kinju\n",
            "fascinado\n",
            "wh0r3s\n",
            "ryalls\n",
            "plandemic\n",
            "taehyung\n",
            "adorime\n",
            "vestors\n",
            "whiteyes\n",
            "gimbap\n",
            "slitterhead\n",
            "himbo\n",
            "applebees\n",
            "wgtn\n",
            "needso\n",
            "roblox\n",
            "twirra\n",
            "appropriative\n",
            "blowjob\n",
            "mfer\n",
            "cysm\n",
            "tounge\n",
            "fuckit\n",
            "alice3\n",
            "1size\n",
            "indention\n",
            "enby\n",
            "ocding\n",
            "casterly\n",
            "youtoo\n",
            "shithole\n",
            "jungwoo\n",
            "dooooo\n",
            "arklight\n",
            "324k\n",
            "amogus\n",
            "mainex\n",
            "finna\n",
            "cishet\n",
            "btches\n",
            "twtjesus\n",
            "65k\n",
            "downvoted\n",
            "ghisipiti\n",
            "cosettas\n",
            "pathologises\n",
            "cryptocurrency\n",
            "bubs\n",
            "diztortion\n",
            "ahahhaha\n",
            "cecilt\n",
            "surtout\n",
            "gooning\n",
            "yeee\n",
            "bemuse\n",
            "bahut\n",
            "big0ted\n",
            "bohot\n",
            "vatansever\n",
            "shitstorm\n",
            "taehyun\n",
            "funfetti\n",
            "moneyyy\n",
            "autogynephiliait\n",
            "assanger\n",
            "hoteps\n",
            "whoresrape\n",
            "ambitionz\n",
            "doll5\n",
            "perjorative\n",
            "retweets\n",
            "alterlife\n",
            "beclouded\n",
            "fffffffuck\n",
            "namjoons\n",
            "ndumba\n",
            "cyberwhistle\n",
            "gcfems\n",
            "femdom\n",
            "erens\n",
            "carousel30\n",
            "b00ty\n",
            "lolthe\n",
            "longevists\n",
            "4of\n",
            "alreadyeither\n",
            "akaabireen\n",
            "axiomatizes\n",
            "wolflord\n",
            "movt\n",
            "conscientização\n",
            "awashilo\n",
            "swic\n",
            "overexaggerate\n",
            "no_tall_men\n",
            "sjfkkffkgk\n",
            "spainisnotademocracy\n",
            "in2022\n",
            "truefender\n",
            "infantilise\n",
            "bayfuna\n",
            "wh1t3\n",
            "etcetctec\n",
            "godess\n",
            "genderfluid\n",
            "shrinate\n",
            "sholud\n",
            "kalfar\n",
            "contagiously\n",
            "bestie\n",
            "bearmarket\n",
            "xxr\n",
            "bakubussy\n",
            "b24\n",
            "5days\n",
            "bitchesi\n",
            "angries\n",
            "periodt\n",
            "lmaoooooooo\n",
            "spellground\n",
            "wowsers\n",
            "bowcaster\n",
            "stronk\n",
            "contradictionit\n",
            "avunlocal\n",
            "ep01\n",
            "retweeted\n",
            "egotistically\n",
            "subserve\n",
            "cnz\n",
            "dosent\n",
            "pandra\n",
            "catholism\n",
            "xrp\n",
            "ọnịcha\n",
            "pplleeaassee\n",
            "tfumy\n",
            "pie0o\n",
            "vaxxers\n",
            "koulchi\n",
            "greatful\n",
            "strocking\n",
            "titsit\n",
            "mgtow\n",
            "releasecommission\n",
            "roga4them\n",
            "fuckingg\n",
            "positionality\n",
            "shld\n",
            "sirmed\n",
            "soys\n",
            "lxp\n",
            "homosapiens\n",
            "wft\n",
            "russiagate\n",
            "femboys\n",
            "pasiko\n",
            "web3\n",
            "chappelles\n",
            "doesnot\n",
            "lastwithout\n",
            "foilage\n",
            "entertainmmt\n",
            "xanx\n",
            "chaturbate\n",
            "straigh\n",
            "autist\n",
            "itsnotacomplimentmelbourne\n",
            "tianlang\n",
            "weightlift\n",
            "feminazi\n",
            "lanez\n",
            "unboxing\n",
            "bahahah\n",
            "x3watch\n",
            "overshare\n",
            "anddodge\n",
            "olma\n",
            "38original\n",
            "neolocal\n",
            "allegationsjudge\n",
            "wabout\n",
            "pervs\n",
            "30pm\n",
            "ao3\n",
            "akdhajhdajjahshh\n",
            "来自\n",
            "commodifying\n",
            "trumpanzee\n",
            "yessssss\n",
            "vishap\n",
            "lmaoit\n",
            "femcels\n",
            "some1\n",
            "slimzosrecordings\n",
            "amasịrị\n",
            "yhoo\n",
            "hilig\n",
            "dababy\n",
            "jeonghan\n",
            "blither\n",
            "evangelilical\n",
            "unfahrifhdyfhdh\n",
            "basmah\n",
            "pornhub\n",
            "premure\n",
            "femboy\n",
            "leafa\n",
            "titanfall\n",
            "brotopia\n",
            "p5srm7ai\n",
            "patrilocal\n",
            "contrarianism\n",
            "leody\n",
            "lolll\n",
            "notallmen\n",
            "yeezys\n",
            "30yo\n",
            "incels\n",
            "talaks\n",
            "activismby\n",
            "lmaoooo\n",
            "fe3h\n",
            "shiiit\n",
            "acephalous\n",
            "chromatica\n",
            "avax\n",
            "scoatlan\n",
            "spitballing\n",
            "brexit\n",
            "quinary\n",
            "librel\n",
            "dance11\n",
            "womensday\n",
            "gajab\n",
            "ww3\n",
            "altseason\n",
            "nollaigh\n",
            "2022time\n",
            "keibo\n",
            "dvmb\n",
            "cumhole\n",
            "3dimension\n",
            "radness\n",
            "spitroast\n",
            "papism\n",
            "alotta\n",
            "mansplaining\n",
            "doinks\n",
            "copypaste\n",
            "remarket\n",
            "trumpanzees\n",
            "obvs\n",
            "goiz\n",
            "bhululu\n",
            "aislated\n",
            "ohhhhh\n",
            "idgaf\n",
            "othering\n",
            "rahmatullahi\n",
            "dunsparce\n",
            "septenary\n",
            "hazviite\n",
            "ridah\n",
            "nuancebecause\n",
            "allyship\n",
            "a108m31\n",
            "mehwish\n",
            "choor\n",
            "whoohahaha\n",
            "ლ\n",
            "42yrs\n",
            "nvm\n",
            "gronru\n",
            "whitesplaining\n",
            "socials10\n",
            "iterability\n",
            "glanzer\n",
            "kuppalli\n",
            "iwca\n",
            "partynextdoor\n",
            "cintebt\n",
            "tjprotect\n",
            "beomgyu\n",
            "deffend\n",
            "8yrs\n",
            "incel\n",
            "arou\n",
            "moots10\n",
            "amadour\n",
            "rekieta\n",
            "exoticization\n",
            "parellels\n",
            "aytl3\n",
            "powerwash\n",
            "lmfaooooo\n",
            "flir1\n",
            "wabt\n",
            "mysogynistic\n",
            "wagufi\n",
            "s01\n",
            "squicky\n",
            "doucheraj\n",
            "econmy\n",
            "icymi\n",
            "immerwahr\n",
            "masla\n",
            "collab\n",
            "replay6\n",
            "kinlay\n",
            "rrot\n",
            "handemiyy\n",
            "gtfo\n",
            "340gsm\n",
            "depency\n",
            "lolz\n",
            "transness\n",
            "covid\n",
            "deltarune\n",
            "trynna\n",
            "fuckery\n",
            "ọkpọsị\n",
            "pajeet\n",
            "youngkin\n",
            "buttling\n",
            "unfollowing\n",
            "metanarratives\n",
            "drachen\n",
            "catcall\n",
            "sequela\n",
            "submissiv\n",
            "voyeuristically\n",
            "rwby\n",
            "taegi\n",
            "namjoon\n",
            "clossus\n",
            "maaaybe\n",
            "shitstain\n",
            "demiboys\n",
            "indue\n",
            "lmaoo\n",
            "sherni\n",
            "steroided\n",
            "pndhis\n",
            "kehlani\n",
            "nkiru\n",
            "matriliny\n",
            "unrape\n",
            "pple\n",
            "woman4\n",
            "27any\n",
            "gangbanged\n",
            "probs\n",
            "jungkook\n",
            "age10\n",
            "dforce\n",
            "1yrs\n",
            "grrls\n",
            "nutjob\n",
            "ddd06jan\n",
            "stinkpots\n",
            "fu45\n",
            "thinkinglife\n",
            "shouldnt\n",
            "jp2\n",
            "quemix\n",
            "mmyyyy\n",
            "yr7\n",
            "softspun\n",
            "interacted10\n",
            "montain\n",
            "hayi\n",
            "mras\n",
            "lmfaooo\n",
            "14400\n",
            "anyhoo\n",
            "arely\n",
            "coutesy\n",
            "akaabir\n",
            "yoohan\n",
            "ijāba\n",
            "makhulu\n",
            "hodlers\n",
            "upstander\n",
            "uwinguwi\n",
            "religi0n\n",
            "oppressedsuch\n",
            "envelope4\n",
            "poubd\n",
            "provoker\n",
            "thicc\n",
            "country10\n",
            "ikr\n",
            "polititcs\n",
            "ayleen\n",
            "sexxee\n",
            "goysplaining\n",
            "endsars\n",
            "exoticals\n",
            "ín\n",
            "impassion\n",
            "snowchester\n",
            "suça\n",
            "lkhrin\n",
            "balise\n",
            "ranchu\n",
            "waaaa\n",
            "toattack\n",
            "hoomans\n",
            "nonbinary\n",
            "giratina\n",
            "transphobes\n",
            "mansplain\n",
            "establiish\n",
            "otherized\n",
            "perfs\n",
            "pardaah\n",
            "tevinter\n",
            "sissyslave\n",
            "inmoral\n",
            "cashmeets\n",
            "favs\n",
            "likeyou\n",
            "murrrphhhur\n",
            "terfs\n",
            "jisse\n",
            "nyjc\n",
            "dvmbses\n",
            "sosatie\n",
            "thems\n",
            "asapits\n",
            "dumbass\n",
            "emoji\n",
            "urgh\n",
            "ainihin\n",
            "90k\n",
            "tlj\n",
            "brnovich\n",
            "antifa\n",
            "moreid\n",
            "doctress\n",
            "afaik\n",
            "1time\n",
            "liiiife\n",
            "mkbl\n",
            "brandsma\n",
            "hyperfocused\n",
            "metanarrative\n",
            "radabots\n",
            "qristianity\n",
            "onlyfans\n",
            "kendis\n",
            "oloriburuku\n",
            "legutko\n",
            "bacigalupi\n",
            "estinen\n",
            "sheisty\n",
            "jyl\n",
            "5pcs\n",
            "problematised\n",
            "vaccinated100\n",
            "breadtube\n",
            "taehyungjimin\n",
            "unironically\n",
            "underyou\n",
            "bhole\n",
            "brokeside\n",
            "reify\n",
            "findomgoddess\n",
            "senary\n",
            "groupchat\n",
            "marginalian\n",
            "moolaat\n",
            "ambanii\n",
            "sumn\n",
            "dfkm\n",
            "r1000\n",
            "archipiélago\n",
            "ouijia\n",
            "000s\n",
            "kep1e\n",
            "wanderin\n",
            "hatefuck\n",
            "lunaria\n",
            "7years\n",
            "vawg\n",
            "weejuns\n",
            "unting\n",
            "blocklist\n",
            "yess\n",
            "fashy\n",
            "tekashi\n",
            "tiddies\n",
            "gfy\n",
            "yorknew\n",
            "matriarcal\n",
            "waitlist\n",
            "slsjsu\n",
            "lustwhat\n",
            "cisd5oic\n",
            "workshoppers\n",
            "wetin\n",
            "victimsand\n",
            "shezad\n",
            "androcentrism\n",
            "dipshit\n",
            "availiaple\n",
            "yoongi\n",
            "voiceit\n",
            "whitetrash\n",
            "pppl\n",
            "unaliving\n",
            "yeaaaaa\n",
            "lollll\n",
            "deffo\n",
            "katulad\n",
            "omw\n",
            "joffy\n",
            "intersexuality\n",
            "halward\n",
            "dmed10\n",
            "hooooly\n",
            "selfie\n",
            "twaw\n",
            "peachfuzz\n",
            "simping\n",
            "leapable\n",
            "journo\n",
            "masqurading\n",
            "bcuz\n",
            "fariah\n",
            "hoseok\n",
            "gobbily\n",
            "jo1\n",
            "multilocal\n",
            "fnaf\n",
            "gamergate\n",
            "afterpay\n",
            "kylo\n",
            "4pics\n",
            "becus\n",
            "guyz\n",
            "innesota\n",
            "ammm\n",
            "casteist\n",
            "chocker\n",
            "all4guys\n",
            "gqp\n",
            "rights4\n",
            "xx9s\n",
            "tjs0902\n",
            "25inch\n",
            "kn95\n",
            "unfollowed\n",
            "brazy\n",
            "vaping\n",
            "selfawareness\n",
            "suuuuck\n",
            "chomos\n",
            "imho\n",
            "fkn\n",
            "suburan\n",
            "prvlgd\n",
            "sfprice\n",
            "bitvh\n",
            "loooose\n",
            "heckin\n",
            "hotwife\n",
            "ᴗ\n",
            "dhagne\n",
            "castrat3d\n",
            "nwxyr\n",
            "sandles\n",
            "mfw\n",
            "nalang\n",
            "phallocentrism\n",
            "sofoulis\n",
            "tejasswi\n",
            "113rd\n",
            "wokeness\n",
            "wachana\n",
            "muzzie\n",
            "porngirl\n",
            "nikkab\n",
            "philiacs\n",
            "expereince\n",
            "priviledge\n",
            "rewatching\n",
            "slenders\n",
            "canva\n",
            "lunabrooooo\n",
            "patriarcal\n",
            "humberman\n",
            "enuh\n",
            "cumdump\n",
            "alade\n",
            "eavestroughs\n",
            "p55x8wjgxk\n",
            "uvogin\n",
            "shanaia\n",
            "overpeeforming\n",
            "shivaami\n",
            "reffing\n",
            "ujiko\n",
            "omize\n",
            "mkk\n",
            "mfing\n",
            "kelangan\n",
            "tf2\n",
            "fastforward\n",
            "fakesswi\n",
            "rlly\n",
            "soakin\n",
            "3danimation\n",
            "rvmt1d\n",
            "overcode\n",
            "nonoomf\n",
            "yzy\n",
            "nigcels\n",
            "undertale\n",
            "gojiro7story\n",
            "idrk\n",
            "adorama\n",
            "rendelshem\n",
            "ᅠhina\n",
            "malewife\n",
            "alresdy\n",
            "vellem\n",
            "transmascs\n",
            "ladness\n",
            "cr7\n",
            "wfwlct\n",
            "gine\n",
            "foebut\n",
            "ochako\n",
            "forcely\n",
            "lazada\n",
            "tbh\n",
            "whop\n",
            "youuu\n",
            "catastrophizing\n",
            "nonary\n",
            "flyering\n",
            "switchsportsnotallmenwow\n",
            "ᅠ\n",
            "chefayo\n",
            "mazaak\n",
            "thise\n",
            "transwomen\n",
            "44k\n",
            "jaskier\n",
            "twitt\n",
            "piux\n",
            "ironicamente\n",
            "digusting\n",
            "culty\n",
            "b9aw\n",
            "timehop\n",
            "hermain\n",
            "ambie\n",
            "barelkowski\n",
            "zarkashī\n",
            "womening\n",
            "fravor\n",
            "sanctomony\n",
            "ibang\n",
            "penised\n",
            "wendyallure\n",
            "duely\n",
            "convo\n",
            "octonary\n",
            "myt\n",
            "idk\n",
            "jtrump\n",
            "christmas2\n",
            "phallocentric\n",
            "bakey\n",
            "jeongguk\n",
            "itseems\n",
            "innuendosthe\n",
            "maskless\n",
            "cheerlead\n",
            "crubbs\n",
            "urbex\n",
            "paperswritingpro\n",
            "binarily\n",
            "amrylin\n",
            "spsp\n",
            "traumatise\n",
            "wenu\n",
            "sawayama\n",
            "uburu\n",
            "seatcomment\n",
            "phallogocentrism\n",
            "3762\n",
            "carceral\n",
            "sntiques\n",
            "unvaxxed\n",
            "iwd\n",
            "feminazis\n",
            "futanari\n",
            "65purchase\n",
            "gettinf\n",
            "ekyo\n",
            "lmaooooooo\n",
            "yrboi\n",
            "squirter\n",
            "halfwit\n",
            "andhkaar\n",
            "deadass\n",
            "mpeleke\n",
            "lmao\n",
            "peekers\n",
            "karke\n",
            "dogboys\n",
            "thickhead\n",
            "mtgs\n",
            "reconnaissante\n",
            "malchaamah\n",
            "cringy\n",
            "jokwon\n",
            "covid2\n",
            "pleople\n",
            "essentialismdrone\n",
            "cker\n",
            "passan\n",
            "becomming\n",
            "incase\n",
            "completly\n",
            "nagtitake\n",
            "losingyall\n",
            "p4nties\n",
            "40x40cms\n",
            "ofcourse\n",
            "shouldve\n",
            "s3xy\n",
            "pumuna\n",
            "i2m\n",
            "go2\n",
            "herei\n",
            "colourways\n",
            "impend\n",
            "maaaan\n",
            "suguha\n",
            "referreing\n",
            "duodenary\n",
            "ruind\n",
            "lillets\n",
            "bidmc\n",
            "agender\n",
            "breebylon\n",
            "enamor\n",
            "astrodomina\n",
            "maseehullah\n",
            "kaizenix\n",
            "fvck\n",
            "yooooooo\n",
            "cissexist\n",
            "ranpo\n",
            "nevee\n",
            "smtreading\n",
            "p5qw1g\n",
            "terf\n",
            "manspreading\n",
            "gezz\n",
            "2014i\n",
            "lalalala\n",
            "transfems\n",
            "purebloods\n",
            "stockholme\n",
            "55k\n",
            "intwrvewers\n",
            "fatphobic\n",
            "kundrra\n",
            "hahaha\n",
            "wyt\n",
            "택모닝\n",
            "johnleemushr\n",
            "unfollow\n",
            "femoid\n",
            "bellingcat\n",
            "chugli\n",
            "kungcono\n",
            "pomlázka\n",
            "fucky\n",
            "tansume\n",
            "soobin\n",
            "clit\n",
            "msut\n",
            "jikook\n",
            "moranbong\n",
            "gogos\n",
            "amadudu\n",
            "poet2021\n",
            "0r\n",
            "sexuality10\n",
            "cooky\n",
            "wildturtle\n",
            "ohoo\n",
            "yonke\n",
            "sasukr\n",
            "questuons\n",
            "needn\n",
            "ds5k\n",
            "manipulatrix\n",
            "tigreans\n",
            "onea\n",
            "newb\n",
            "ngang\n",
            "taec\n",
            "souldn\n",
            "tradies\n",
            "worldbuilding\n",
            "motherfukers\n",
            "prolly\n",
            "uwu\n",
            "1111super\n",
            "blackpilado\n",
            "debutation\n",
            "professionaly\n",
            "wvst\n",
            "talaga\n",
            "kep1er\n",
            "wabr3\n",
            "dudebros\n",
            "goxuan\n",
            "chuuyas\n",
            "zunelhak\n",
            "huskiness\n",
            "daoibh\n",
            "mayb\n",
            "shmeat\n",
            "csrrying\n",
            "whyyyyy\n",
            "tinnie\n",
            "whitesupremacistcisnormativepatriarchy\n",
            "igboeze\n",
            "pavard\n",
            "denary\n",
            "ortak\n",
            "nsfw\n",
            "lmaooooo\n",
            "ughhh\n",
            "ohmylord\n",
            "airli\n",
            "femimism\n",
            "sexualize\n",
            "peacefuls\n",
            "overfeed\n",
            "porsha\n",
            "ducttape\n",
            "alse\n",
            "bilocal\n",
            "4get\n",
            "kjvsource\n",
            "jcj\n",
            "kkab\n",
            "motuary\n",
            "kikyuuse\n",
            "werent\n",
            "baaki\n",
            "slutbag\n",
            "soulsmixed\n",
            "antivax\n",
            "mentionnah\n",
            "njäää\n",
            "voice10\n"
          ]
        }
      ]
    },
    {
      "cell_type": "code",
      "source": [
        "import numpy as np\n",
        "from gensim.models import KeyedVectors\n",
        "\n",
        "def add_oov_terms_with_batches(embedding_model: KeyedVectors, oov_terms: List[str], vector_size: int = None, batch_size: int = 1000):\n",
        "    vector_size = vector_size or embedding_model.vector_size\n",
        "\n",
        "    # Create a new KeyedVectors object\n",
        "    new_kv = KeyedVectors(vector_size)\n",
        "\n",
        "    # Prepare data for batch addition\n",
        "    words = list(embedding_model.key_to_index.keys()) + oov_terms\n",
        "    vectors = [embedding_model[word] for word in embedding_model.key_to_index] + [np.random.uniform(-0.1, 0.1, vector_size) for _ in oov_terms]\n",
        "\n",
        "    # Add vectors in batches\n",
        "    for i in range(0, len(words), batch_size):\n",
        "        batch_words = words[i:i + batch_size]\n",
        "        batch_vectors = vectors[i:i + batch_size]\n",
        "        new_kv.add_vectors(batch_words, batch_vectors)\n",
        "\n",
        "    return new_kv\n",
        "\n",
        "# Example usage:\n",
        "vector_size = embedding_model.vector_size\n",
        "extended_model = add_oov_terms_with_batches(embedding_model, oov_terms_train, vector_size, batch_size=1000)"
      ],
      "metadata": {
        "id": "CytMrxGeuI0I"
      },
      "execution_count": null,
      "outputs": []
    },
    {
      "cell_type": "code",
      "source": [
        "# Assuming you have a KeyedVectors object `embedding_model` and a list `oov_terms`\n",
        "extended_model = add_oov_terms_with_batches(embedding_model, oov_terms_train, batch_size=1000)\n",
        "\n",
        "# Verify the size of the new vocabulary\n",
        "print(\"Extended vocabulary size:\", len(extended_model.key_to_index))\n"
      ],
      "metadata": {
        "id": "4TXoBpUQuNoG",
        "outputId": "9ce6f627-041c-439b-c0cc-95a0a7f84c09",
        "colab": {
          "base_uri": "https://localhost:8080/"
        }
      },
      "execution_count": null,
      "outputs": [
        {
          "output_type": "stream",
          "name": "stdout",
          "text": [
            "Extended vocabulary size: 400879\n"
          ]
        }
      ]
    },
    {
      "cell_type": "code",
      "source": [
        "import numpy as np\n",
        "import gensim\n",
        "\n",
        "def assign_static_embeddings(oov_terms, embedding_dim):\n",
        "    oov_to_token = {term: f\"[UNK]\" for i, term in enumerate(oov_terms)}\n",
        "\n",
        "    np.random.seed(42)  # For reproducibility\n",
        "    static_embeddings = {\n",
        "        token: np.random.uniform(-0.1, 0.1, embedding_dim)\n",
        "        for token in oov_to_token.values()\n",
        "    }\n",
        "\n",
        "    return oov_to_token, static_embeddings\n",
        "\n",
        "embedding_dim = embedding_model.vector_size\n",
        "\n",
        "special_token_test, static_embedding_test = assign_static_embeddings(oov_terms_test, embedding_dim)\n",
        "special_token_val, static_embedding_val = assign_static_embeddings(oov_terms_val, embedding_dim)"
      ],
      "metadata": {
        "id": "kkBM4U5xBTZa"
      },
      "execution_count": null,
      "outputs": []
    },
    {
      "cell_type": "markdown",
      "metadata": {
        "id": "6JLnuLGHGAUT"
      },
      "source": [
        "# [Task 4 - 1.0 points] Model definition\n",
        "\n",
        "You are now tasked to define your sexism classifier.\n",
        "\n",
        "\n"
      ]
    },
    {
      "cell_type": "markdown",
      "metadata": {
        "id": "iQFI9J-JOfXD"
      },
      "source": [
        "### Instructions\n",
        "\n",
        "* **Baseline**: implement a Bidirectional LSTM with a Dense layer on top.\n",
        "* You are **free** to experiment with hyper-parameters to define the baseline model.\n",
        "\n",
        "* **Model 1**: add an additional LSTM layer to the Baseline model."
      ]
    },
    {
      "cell_type": "markdown",
      "metadata": {
        "id": "4jALc_qYGS2E"
      },
      "source": [
        "### Token to embedding mapping\n",
        "\n",
        "You can follow two approaches for encoding tokens in your classifier.\n",
        "\n",
        "### Work directly with embeddings\n",
        "\n",
        "- Compute the embedding of each input token\n",
        "- Feed the mini-batches of shape (batch_size, # tokens, embedding_dim) to your model\n",
        "\n",
        "### Work with Embedding layer\n",
        "\n",
        "- Encode input tokens to token ids\n",
        "- Define a Embedding layer as the first layer of your model\n",
        "- Compute the embedding matrix of all known tokens (i.e., tokens in your vocabulary)\n",
        "- Initialize the Embedding layer with the computed embedding matrix\n",
        "- You are **free** to set the Embedding layer trainable or not"
      ]
    },
    {
      "cell_type": "code",
      "source": [
        "def build_embedding_matrix(embedding_model: gensim.models.keyedvectors.KeyedVectors,\n",
        "                           embedding_dimension: int,\n",
        "                           word_to_idx: Dict[str, int],\n",
        "                           vocab_size: int,\n",
        "                           oov_terms: List[str]) -> np.ndarray:\n",
        "    \"\"\"\n",
        "    Builds the embedding matrix of a specific dataset given a pre-trained word embedding model\n",
        "\n",
        "    :param embedding_model: pre-trained word embedding model (gensim wrapper)\n",
        "    :param word_to_idx: vocabulary map (word -> index) (dict)\n",
        "    :param vocab_size: size of the vocabulary\n",
        "    :param oov_terms: list of OOV terms (list)\n",
        "\n",
        "    :return\n",
        "        - embedding matrix that assigns a high dimensional vector to each word in the dataset specific vocabulary (shape |V| x d)\n",
        "    \"\"\"\n",
        "    embedding_matrix = np.zeros((vocab_size, embedding_dimension), dtype=np.float32)\n",
        "    for word, idx in tqdm(word_to_idx.items()):\n",
        "        if word == 'UNK':\n",
        "          embedding_matrix[idx] = np.zeros(embedding_dimension)\n",
        "        else:\n",
        "          try:\n",
        "              embedding_vector = embedding_model[word]\n",
        "          except (KeyError, TypeError):\n",
        "              embedding_vector = np.random.uniform(low=-0.05, high=0.05, size=embedding_dimension)\n",
        "\n",
        "          embedding_matrix[idx] = embedding_vector\n",
        "\n",
        "    return embedding_matrix"
      ],
      "metadata": {
        "id": "UHHdpQJ_IBKO"
      },
      "execution_count": null,
      "outputs": []
    },
    {
      "cell_type": "code",
      "source": [
        "# Testing\n",
        "embedding_dimension = 50\n",
        "embedding_matrix = build_embedding_matrix(embedding_model, embedding_dimension, word_to_idx_train, len(word_to_idx_train), oov_terms_train)\n",
        "print(f\"Embedding matrix shape: {embedding_matrix.shape}\")"
      ],
      "metadata": {
        "id": "yygGuZubH6gx",
        "outputId": "ff72c411-39fb-4932-a249-7274c7224dd9",
        "colab": {
          "base_uri": "https://localhost:8080/"
        }
      },
      "execution_count": null,
      "outputs": [
        {
          "output_type": "stream",
          "name": "stderr",
          "text": [
            "100%|██████████| 9387/9387 [00:00<00:00, 278899.27it/s]"
          ]
        },
        {
          "output_type": "stream",
          "name": "stdout",
          "text": [
            "Embedding matrix shape: (9387, 50)\n"
          ]
        },
        {
          "output_type": "stream",
          "name": "stderr",
          "text": [
            "\n"
          ]
        }
      ]
    },
    {
      "cell_type": "code",
      "source": [
        "import tensorflow as tf"
      ],
      "metadata": {
        "id": "ChnY86Gx6tSm"
      },
      "execution_count": null,
      "outputs": []
    },
    {
      "cell_type": "code",
      "execution_count": null,
      "metadata": {
        "id": "Z44PckrNGfTv"
      },
      "outputs": [],
      "source": [
        "embedding = tf.keras.layers.Embedding(input_dim=len(word_to_idx_train),\n",
        "                                      output_dim=50,                    #embedding dimension\n",
        "                                      weights=[embedding_matrix],\n",
        "                                      mask_zero=True,                   # automatically masks padding tokens\n",
        "                                      name='encoder_embedding')"
      ]
    },
    {
      "cell_type": "markdown",
      "metadata": {
        "id": "GEQTPu6eGgGv"
      },
      "source": [
        "### Padding\n",
        "\n",
        "Pay attention to padding tokens!\n",
        "\n",
        "Your model **should not** be penalized on those tokens.\n",
        "\n",
        "#### How to?\n",
        "\n",
        "There are two main ways.\n",
        "\n",
        "However, their implementation depends on the neural library you are using.\n",
        "\n",
        "- Embedding layer\n",
        "- Custom loss to compute average cross-entropy on non-padding tokens only\n",
        "\n",
        "**Note**: This is a **recommendation**, but we **do not penalize** for missing workarounds."
      ]
    },
    {
      "cell_type": "code",
      "execution_count": null,
      "metadata": {
        "id": "Urz5miEWLVge"
      },
      "outputs": [],
      "source": [
        "import tensorflow.keras as keras\n",
        "from keras.optimizers import AdamW\n",
        "from keras.regularizers import l2\n",
        "from keras.models import Sequential\n",
        "from keras.layers import Embedding\n",
        "from keras.layers import Bidirectional\n",
        "from keras.layers import Embedding\n",
        "from keras.layers import LSTM\n",
        "from keras.layers import Dense\n",
        "\n",
        "\n",
        "def getBaselineModel(vocab_size, embedding_dimension, embedding_matrix, n_units = 128):\n",
        "    model = Sequential([\n",
        "        Embedding(input_dim=vocab_size, output_dim=embedding_dimension, weights=embedding_matrix, mask_zero=True, name='encoder_embedding_baseline'),\n",
        "        Bidirectional(LSTM(n_units), return_sequences=False),\n",
        "        Dense(1, activation='sigmoid', kernel_regularizer=l2(0.05)),\n",
        "        #TimeDistributed(Dense(units=len(-----), activation='softmax'), name = 'timedistr_dense_layer')),\n",
        "    ])\n",
        "\n",
        "    model.compile(loss='binary_crossentropy', optimizer=AdamW(), metrics=['accuracy'])\n",
        "    return model\n",
        "\n",
        "def getModel1(vocab_size, embedding_dimension, embedding_matrix, n_units_1 = 128, n_units_2 = 64 ):\n",
        "    model = Sequential([\n",
        "        Embedding(input_dim=vocab_size, output_dim=embedding_dimension, weights=embedding_matrix, mask_zero=True, name='encoder_embedding_model1'),\n",
        "        Bidirectional(LSTM(n_units_1, return_sequences=True)),\n",
        "        Bidirectional(LSTM(n_units_2), return_sequences=False),\n",
        "        Dense(1, activation='sigmoid'),\n",
        "    ])\n",
        "    model.compile(loss='binary_crossentropy', optimizer=AdamW(), metrics=['accuracy'])\n",
        "    return model"
      ]
    },
    {
      "cell_type": "markdown",
      "metadata": {
        "id": "EFjBgdiRG3wD"
      },
      "source": [
        "# [Task 5 - 1.0 points] Training and Evaluation\n",
        "\n",
        "You are now tasked to train and evaluate the Baseline and Model 1.\n"
      ]
    },
    {
      "cell_type": "markdown",
      "metadata": {
        "id": "TWPK4umGOjtT"
      },
      "source": [
        "\n",
        "### Instructions\n",
        "\n",
        "* Train **all** models on the train set.\n",
        "* Evaluate **all** models on the validation set.\n",
        "* Compute metrics on the validation set.\n",
        "* Pick **at least** three seeds for robust estimation.\n",
        "* Pick the **best** performing model according to the observed validation set performance.\n",
        "* Evaluate your models using macro F1-score."
      ]
    },
    {
      "cell_type": "markdown",
      "metadata": {
        "id": "CSy9sPwYHUoD"
      },
      "source": [
        "# [Task 6 - 1.0 points] Transformers\n",
        "\n",
        "In this section, you will use a transformer model specifically trained for hate speech detection, namely [Twitter-roBERTa-base for Hate Speech Detection](https://huggingface.co/cardiffnlp/twitter-roberta-base-hate).\n",
        "\n",
        "\n"
      ]
    },
    {
      "cell_type": "markdown",
      "metadata": {
        "collapsed": false,
        "id": "KIs_Fg5oLVgf"
      },
      "source": [
        "### Relevant Material\n",
        "- Tutorial 3"
      ]
    },
    {
      "cell_type": "markdown",
      "metadata": {
        "collapsed": false,
        "id": "qE0wYj0wLVgf"
      },
      "source": [
        "### Instructions\n",
        "1. **Load the Tokenizer and Model**\n",
        "\n",
        "2. **Preprocess the Dataset**:\n",
        "   You will need to preprocess your dataset to prepare it for input into the model. Tokenize your text data using the appropriate tokenizer and ensure it is formatted correctly.\n",
        "\n",
        "   **Note**: You have to use the plain text of the dataset and not the version that you tokenized before, as you need to tokenize the cleaned text obtained after the initial cleaning process.\n",
        "\n",
        "3. **Train the Model**:\n",
        "   Use the `Trainer` to train the model on your training data.\n",
        "\n",
        "4. **Evaluate the Model on the Test Set** using F1-macro."
      ]
    },
    {
      "cell_type": "markdown",
      "metadata": {
        "id": "3gtiG2mAL3HM"
      },
      "source": [
        "# [Task 7 - 0.5 points] Error Analysis\n",
        "\n",
        "### Instructions\n",
        "\n",
        "After evaluating the model, perform a brief error analysis:\n",
        "\n",
        " - Review the results and identify common errors.\n",
        "\n",
        " - Summarize your findings regarding the errors and their impact on performance (e.g. but not limited to Out-of-Vocabulary (OOV) words, data imbalance, and performance differences between the custom model and the transformer...)\n",
        " - Suggest possible solutions to address the identified errors.\n",
        "\n"
      ]
    },
    {
      "cell_type": "markdown",
      "metadata": {
        "id": "P42XYjb6K3k5"
      },
      "source": [
        "# [Task 8 - 0.5 points] Report\n",
        "\n",
        "Wrap up your experiment in a short report (up to 2 pages)."
      ]
    },
    {
      "cell_type": "markdown",
      "metadata": {
        "id": "N9oXSaW1K5S7"
      },
      "source": [
        "### Instructions\n",
        "\n",
        "* Use the NLP course report template.\n",
        "* Summarize each task in the report following the provided template."
      ]
    },
    {
      "cell_type": "markdown",
      "metadata": {
        "id": "MHw2L6PlLDyE"
      },
      "source": [
        "### Recommendations\n",
        "\n",
        "The report is not a copy-paste of graphs, tables, and command outputs.\n",
        "\n",
        "* Summarize classification performance in Table format.\n",
        "* **Do not** report command outputs or screenshots.\n",
        "* Report learning curves in Figure format.\n",
        "* The error analysis section should summarize your findings.\n"
      ]
    },
    {
      "cell_type": "markdown",
      "metadata": {
        "id": "bMUqh1utLflM"
      },
      "source": [
        "# Submission\n",
        "\n",
        "* **Submit** your report in PDF format.\n",
        "* **Submit** your python notebook.\n",
        "* Make sure your notebook is **well organized**, with no temporary code, commented sections, tests, etc...\n",
        "* You can upload **model weights** in a cloud repository and report the link in the report."
      ]
    },
    {
      "cell_type": "markdown",
      "metadata": {
        "id": "ypagJed7LheY"
      },
      "source": [
        "# FAQ\n",
        "\n",
        "Please check this frequently asked questions before contacting us"
      ]
    },
    {
      "cell_type": "markdown",
      "metadata": {
        "id": "bgtFwKXMLjww"
      },
      "source": [
        "### Execution Order\n",
        "\n",
        "You are **free** to address tasks in any order (if multiple orderings are available)."
      ]
    },
    {
      "cell_type": "markdown",
      "metadata": {
        "id": "_BjMk5e_M4n7"
      },
      "source": [
        "### Trainable Embeddings\n",
        "\n",
        "You are **free** to define a trainable or non-trainable Embedding layer to load the GloVe embeddings."
      ]
    },
    {
      "cell_type": "markdown",
      "metadata": {
        "id": "e8TVgpYlM6s5"
      },
      "source": [
        "### Model architecture\n",
        "\n",
        "You **should not** change the architecture of a model (i.e., its layers).\n",
        "However, you are **free** to play with their hyper-parameters.\n"
      ]
    },
    {
      "cell_type": "markdown",
      "metadata": {
        "id": "Ia6IapI1M_A7"
      },
      "source": [
        "### Neural Libraries\n",
        "\n",
        "You are **free** to use any library of your choice to implement the networks (e.g., Keras, Tensorflow, PyTorch, JAX, etc...)"
      ]
    },
    {
      "cell_type": "markdown",
      "metadata": {
        "id": "bWDaW8DyNBu5"
      },
      "source": [
        "### Keras TimeDistributed Dense layer\n",
        "\n",
        "If you are using Keras, we recommend wrapping the final Dense layer with `TimeDistributed`."
      ]
    },
    {
      "cell_type": "markdown",
      "metadata": {
        "id": "R1WcrpemNEQm"
      },
      "source": [
        "### Robust Evaluation\n",
        "\n",
        "Each model is trained with at least 3 random seeds.\n",
        "\n",
        "Task 4 requires you to compute the average performance over the 3 seeds and its corresponding standard deviation."
      ]
    },
    {
      "cell_type": "markdown",
      "metadata": {
        "id": "_mVe5dqzNI_u"
      },
      "source": [
        "### Model Selection for Analysis\n",
        "\n",
        "To carry out the error analysis you are **free** to either\n",
        "\n",
        "* Pick examples or perform comparisons with an individual seed run model (e.g., Baseline seed 1337)\n",
        "* Perform ensembling via, for instance, majority voting to obtain a single model."
      ]
    },
    {
      "cell_type": "markdown",
      "metadata": {
        "id": "L8a4pDKSNKzI"
      },
      "source": [
        "### Error Analysis\n",
        "\n",
        "Some topics for discussion include:\n",
        "   * Precision/Recall curves.\n",
        "   * Confusion matrices.\n",
        "   * Specific misclassified samples."
      ]
    },
    {
      "cell_type": "markdown",
      "metadata": {
        "collapsed": false,
        "id": "ctL6rGCOLVgk"
      },
      "source": [
        "### Bonus Points\n",
        "Bonus points are arbitrarily assigned based on significant contributions such as:\n",
        "- Outstanding error analysis\n",
        "- Masterclass code organization\n",
        "- Suitable extensions\n",
        "Note that bonus points are only assigned if all task points are attributed (i.e., 6/6).\n",
        "\n",
        "**Possible Extensions/Explorations for Bonus Points:**\n",
        "- **Try other preprocessing strategies**: e.g., but not limited to, explore techniques tailored specifically for tweets or  methods that are common in social media text.\n",
        "- **Experiment with other custom architectures or models from HuggingFace**\n",
        "- **Explore Spanish tweets**: e.g., but not limited to, leverage multilingual models to process Spanish tweets and assess their performance compared to monolingual models.\n",
        "\n"
      ]
    },
    {
      "cell_type": "markdown",
      "metadata": {
        "id": "8xmMKE7vLu-y"
      },
      "source": [
        "\n",
        "\n",
        "\n",
        "\n",
        "# The End"
      ]
    }
  ],
  "metadata": {
    "colab": {
      "provenance": []
    },
    "kernelspec": {
      "display_name": "Python 3",
      "name": "python3"
    },
    "language_info": {
      "codemirror_mode": {
        "name": "ipython",
        "version": 3
      },
      "file_extension": ".py",
      "mimetype": "text/x-python",
      "name": "python",
      "nbconvert_exporter": "python",
      "pygments_lexer": "ipython3",
      "version": "3.13.0"
    }
  },
  "nbformat": 4,
  "nbformat_minor": 0
}