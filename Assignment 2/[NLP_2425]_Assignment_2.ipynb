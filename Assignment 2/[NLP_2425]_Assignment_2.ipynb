{
  "cells": [
    {
      "cell_type": "markdown",
      "metadata": {
        "id": "view-in-github",
        "colab_type": "text"
      },
      "source": [
        "<a href=\"https://colab.research.google.com/github/leonardoman9/NLPProject/blob/main/Assignment%202/%5BNLP_2425%5D_Assignment_2.ipynb\" target=\"_parent\"><img src=\"https://colab.research.google.com/assets/colab-badge.svg\" alt=\"Open In Colab\"/></a>"
      ]
    },
    {
      "cell_type": "markdown",
      "metadata": {
        "id": "-WeCeITXoxLf"
      },
      "source": [
        "# Assignment 2\n",
        "\n",
        "**Credits**: Federico Ruggeri, Eleonora Mancini, Paolo Torroni\n",
        "\n",
        "**Keywords**: Sexism Detection, Multi-class Classification, LLMs, Prompting"
      ]
    },
    {
      "cell_type": "markdown",
      "metadata": {
        "id": "vFN9Q2rGLJnc"
      },
      "source": [
        "\n",
        "# Contact\n",
        "\n",
        "For any doubt, question, issue or help, you can always contact us at the following email addresses:\n",
        "\n",
        "Teaching Assistants:\n",
        "\n",
        "* Federico Ruggeri -> federico.ruggeri6@unibo.it\n",
        "* Eleonora Mancini -> e.mancini@unibo.it\n",
        "\n",
        "Professor:\n",
        "\n",
        "* Paolo Torroni -> p.torroni@unibo.it"
      ]
    },
    {
      "cell_type": "markdown",
      "metadata": {
        "id": "bN4nmQacznGV"
      },
      "source": [
        "# Relevant Material\n",
        "\n",
        "- Tutorial 3\n",
        "- Huggingface documentation\n",
        "- Huggingface hub"
      ]
    },
    {
      "cell_type": "markdown",
      "metadata": {
        "id": "Ck47wFhrLJnc"
      },
      "source": [
        "# Introduction\n",
        "\n",
        "You are tasked to address the [EDOS Task A](https://github.com/rewire-online/edos) on sexism detection."
      ]
    },
    {
      "cell_type": "markdown",
      "metadata": {
        "id": "5mtjp0cGLJnc"
      },
      "source": [
        "## Problem definition\n",
        "\n",
        "Given an input text sentence, the task is to label the sentence as sexist or not sexist (binary classification).\n",
        "\n",
        "### Examples:\n",
        "\n",
        "**Text**: *``Schedule a date with her, then don't show up. Then text her \"GOTCHA B___H\".''*\n",
        "\n",
        "**Label**: Sexist\n",
        "\n",
        "**Text**: *``That’s completely ridiculous a woman flashing her boobs is not sexual assault in the slightest.''*\n",
        "\n",
        "**Label**: Not sexist\n",
        "\n"
      ]
    },
    {
      "cell_type": "markdown",
      "metadata": {
        "id": "3dqwRZx-QNGX"
      },
      "source": [
        "## Approach\n",
        "\n",
        "We will tackle the binary classification task with LLMs.\n",
        "\n",
        "In particular, we'll consider zero-/few-shot prompting approaches to assess the capability of some popular open-source LLMs on this task."
      ]
    },
    {
      "cell_type": "markdown",
      "metadata": {
        "id": "PS3igwXpQcAY"
      },
      "source": [
        "## Preliminaries\n",
        "\n",
        "We are going to download LLMs from [Huggingface](https://huggingface.co/).\n",
        "\n",
        "Many of these open-source LLMs require you to accept their \"Community License Agreement\" to download them.\n",
        "\n",
        "In summary:\n",
        "\n",
        "- If not already, create an account of Huggingface (~2 mins)\n",
        "- Check a LLM model card page (e.g., [Mistral v3](https://huggingface.co/mistralai/Mistral-7B-Instruct-v0.3)) and accept its \"Community License Agreement\".\n",
        "- Go to your account -> Settings -> Access Tokens -> Create new token -> \"Repositories permissions\" -> add the LLM model card you want to use.\n",
        "- Save the token (we'll need it later)"
      ]
    },
    {
      "cell_type": "markdown",
      "metadata": {
        "id": "xqEsPH_JSxw6"
      },
      "source": [
        "### Huggingface Login\n",
        "\n",
        "Once we have created an account and an access token, we need to login to Huggingface via code.\n",
        "\n",
        "- Type your token and press Enter\n",
        "- You can say No to Github linking"
      ]
    },
    {
      "cell_type": "code",
      "execution_count": 9,
      "metadata": {
        "id": "_uWEUjs0THxP",
        "colab": {
          "base_uri": "https://localhost:8080/"
        },
        "outputId": "da217e41-d8df-46e9-b433-10157381800e"
      },
      "outputs": [
        {
          "output_type": "stream",
          "name": "stdout",
          "text": [
            "\n",
            "    _|    _|  _|    _|    _|_|_|    _|_|_|  _|_|_|  _|      _|    _|_|_|      _|_|_|_|    _|_|      _|_|_|  _|_|_|_|\n",
            "    _|    _|  _|    _|  _|        _|          _|    _|_|    _|  _|            _|        _|    _|  _|        _|\n",
            "    _|_|_|_|  _|    _|  _|  _|_|  _|  _|_|    _|    _|  _|  _|  _|  _|_|      _|_|_|    _|_|_|_|  _|        _|_|_|\n",
            "    _|    _|  _|    _|  _|    _|  _|    _|    _|    _|    _|_|  _|    _|      _|        _|    _|  _|        _|\n",
            "    _|    _|    _|_|      _|_|_|    _|_|_|  _|_|_|  _|      _|    _|_|_|      _|        _|    _|    _|_|_|  _|_|_|_|\n",
            "\n",
            "    To log in, `huggingface_hub` requires a token generated from https://huggingface.co/settings/tokens .\n",
            "Enter your token (input will not be visible): \n",
            "Add token as git credential? (Y/n) n\n",
            "Token is valid (permission: fineGrained).\n",
            "The token `mistral v0.2+v0.3` has been saved to /root/.cache/huggingface/stored_tokens\n",
            "Your token has been saved to /root/.cache/huggingface/token\n",
            "Login successful.\n",
            "The current active token is: `mistral v0.2+v0.3`\n"
          ]
        }
      ],
      "source": [
        "!huggingface-cli login"
      ]
    },
    {
      "cell_type": "markdown",
      "metadata": {
        "id": "MLxSrY-4e_0J"
      },
      "source": [
        "After login, you can download all models associated with your access token in addition to those that are not protected by an access token."
      ]
    },
    {
      "cell_type": "markdown",
      "metadata": {
        "id": "pEYMBnAQLJnc"
      },
      "source": [
        "### Data Loading\n",
        "\n",
        "Since we are only interested in prompting, we do not require a train dataset.\n",
        "\n",
        "We have preparared a small test set version of EDOS in our dedicated [Github repository](https://github.com/lt-nlp-lab-unibo/nlp-course-material).\n",
        "\n",
        "Check the ``Assignment 2/data`` folder.\n",
        "It contains:\n",
        "\n",
        "- ``a2_test.csv`` → a small test set of 300 samples.\n",
        "- ``demonstrations.csv`` -> a batch of 1000 samples for few-shot prompting.\n",
        "\n",
        "Both datasets contain a balanced number of sexist and not sexist samples.\n"
      ]
    },
    {
      "cell_type": "markdown",
      "metadata": {
        "id": "B5XyOcFGLJnd"
      },
      "source": [
        "### Instructions\n",
        "\n",
        "We require you to:\n",
        "\n",
        "* **Download** the ``A2/data`` folder.\n",
        "* **Encode** ``a2_test.csv`` into a ``pandas.DataFrame`` object."
      ]
    },
    {
      "cell_type": "code",
      "source": [
        "import requests\n",
        "import os\n",
        "import pandas as pd\n",
        "\n",
        "# Create directory structure if it doesn't exist\n",
        "base_dir = 'Assignment 2/data'\n",
        "if not os.path.exists(base_dir):\n",
        "    os.makedirs(base_dir)\n",
        "\n",
        "# Updated URLs for the raw files on GitHub\n",
        "urls = {\n",
        "    'test': 'https://raw.githubusercontent.com/lt-nlp-lab-unibo/nlp-course-material/main/2024-2025/Assignment%202/data/a2_test.csv',\n",
        "    'demos': 'https://raw.githubusercontent.com/lt-nlp-lab-unibo/nlp-course-material/main/2024-2025/Assignment%202/data/demonstrations.csv'\n",
        "}\n",
        "\n",
        "# Download files\n",
        "for name, url in urls.items():\n",
        "    response = requests.get(url)\n",
        "    if response.status_code == 200:\n",
        "        filepath = os.path.join(base_dir, f'{name}.csv')\n",
        "        with open(filepath, 'wb') as f:\n",
        "            f.write(response.content)\n",
        "        print(f\"Successfully downloaded {filepath}\")\n",
        "    else:\n",
        "        print(f\"Failed to download {name} dataset. Status code: {response.status_code}\")\n",
        "        print(f\"URL attempted: {url}\")\n",
        "\n",
        "# Verify files exist before loading\n",
        "if os.path.exists(os.path.join(base_dir, 'test.csv')) and os.path.exists(os.path.join(base_dir, 'demos.csv')):\n",
        "    # Load the datasets using pandas\n",
        "\n",
        "    test_df = pd.read_csv(os.path.join(base_dir, 'test.csv'))\n",
        "    demos_df = pd.read_csv(os.path.join(base_dir, 'demos.csv'))\n",
        "\n",
        "    # Display first few rows of test dataset\n",
        "    print(\"\\nFirst few rows of test dataset:\")\n",
        "    print(test_df.head())\n",
        "    # Display basic information about both datasets\n",
        "    print(\"\\nTest dataset info:\")\n",
        "    print(test_df.info())\n",
        "    print(\"\\nDemonstrations dataset info:\")\n",
        "    print(demos_df.info())\n",
        "else:\n",
        "    print(\"\\nFiles were not downloaded successfully. Please check the repository URLs.\")"
      ],
      "metadata": {
        "colab": {
          "base_uri": "https://localhost:8080/"
        },
        "id": "EyyeGacKsS-6",
        "outputId": "de6c090b-6920-40c0-a469-3c97d4e52e27"
      },
      "execution_count": 10,
      "outputs": [
        {
          "output_type": "stream",
          "name": "stdout",
          "text": [
            "Successfully downloaded Assignment 2/data/test.csv\n",
            "Successfully downloaded Assignment 2/data/demos.csv\n",
            "\n",
            "First few rows of test dataset:\n",
            "                  rewire_id  \\\n",
            "0  sexism2022_english-17133   \n",
            "1  sexism2022_english-14197   \n",
            "2   sexism2022_english-3018   \n",
            "3   sexism2022_english-5301   \n",
            "4  sexism2022_english-17796   \n",
            "\n",
            "                                                text label_sexist  \n",
            "0  The boys must be gaming because there goes the...   not sexist  \n",
            "1  Look at those eyes. Either someone unexpectedl...       sexist  \n",
            "2                  Old man mogs everyone in this sub   not sexist  \n",
            "3  Excellent, I was just looking at another post ...   not sexist  \n",
            "4  So you run back to daddy whenever you need hel...       sexist  \n",
            "\n",
            "Test dataset info:\n",
            "<class 'pandas.core.frame.DataFrame'>\n",
            "RangeIndex: 300 entries, 0 to 299\n",
            "Data columns (total 3 columns):\n",
            " #   Column        Non-Null Count  Dtype \n",
            "---  ------        --------------  ----- \n",
            " 0   rewire_id     300 non-null    object\n",
            " 1   text          300 non-null    object\n",
            " 2   label_sexist  300 non-null    object\n",
            "dtypes: object(3)\n",
            "memory usage: 7.2+ KB\n",
            "None\n",
            "\n",
            "Demonstrations dataset info:\n",
            "<class 'pandas.core.frame.DataFrame'>\n",
            "RangeIndex: 1000 entries, 0 to 999\n",
            "Data columns (total 3 columns):\n",
            " #   Column        Non-Null Count  Dtype \n",
            "---  ------        --------------  ----- \n",
            " 0   rewire_id     1000 non-null   object\n",
            " 1   text          1000 non-null   object\n",
            " 2   label_sexist  1000 non-null   object\n",
            "dtypes: object(3)\n",
            "memory usage: 23.6+ KB\n",
            "None\n"
          ]
        }
      ]
    },
    {
      "cell_type": "markdown",
      "metadata": {
        "id": "HJp08l4yLJnd"
      },
      "source": [
        "# [Task 1 - 0.5 points] Model setup\n",
        "\n",
        "Once the test data has been loaded, we have to setup the model pipeline for inference.\n",
        "\n",
        "In particular, we have to:\n",
        "- Load the model weights from Huggingface\n",
        "- Quantize the model to fit into a single-GPU limited hardware"
      ]
    },
    {
      "cell_type": "markdown",
      "metadata": {
        "id": "ptffotFIjq89"
      },
      "source": [
        "## Which LLMs?\n",
        "\n",
        "The pool of LLMs is ever increasing and it's impossible to keep track of all new entries.\n",
        "\n",
        "We focus on popular open-source models.\n",
        "\n",
        "- [Mistral v2](mistralai/Mistral-7B-Instruct-v0.2)\n",
        "- [Mistral v3](mistralai/Mistral-7B-Instruct-v0.3)\n",
        "- [Llama v3.1](https://huggingface.co/meta-llama/Llama-3.1-8B-Instruct)\n",
        "- [Phi3-mini](https://huggingface.co/microsoft/Phi-3-mini-4k-instruct)\n",
        "\n",
        "Other open-source models are more than welcome!"
      ]
    },
    {
      "cell_type": "markdown",
      "metadata": {
        "id": "uH1YShLfLJnd"
      },
      "source": [
        "### Instructions\n",
        "\n",
        "In order to get Task 1 points, we require you to:\n",
        "\n",
        "* Pick 2 model cards from the provided list.\n",
        "* For each model:\n",
        "  - Define a separate section of your notebook for the model.\n",
        "  - Setup a quantization configuration for the model.\n",
        "  - Load the model via HuggingFace APIs.\n"
      ]
    },
    {
      "cell_type": "markdown",
      "metadata": {
        "id": "Y8ORld7klCfG"
      },
      "source": [
        "### Notes\n",
        "\n",
        "1. There's a popular library integrated with Huggingface's ``transformers`` to perform quantization.\n",
        "\n",
        "2. Define two separate sections of your notebook to show that you have implemented the prompting pipeline for each selected model card."
      ]
    },
    {
      "cell_type": "code",
      "source": [
        "# system packages\n",
        "from pathlib import Path\n",
        "import shutil\n",
        "import urllib\n",
        "import tarfile\n",
        "import sys\n",
        "\n",
        "# data and numerical management packages\n",
        "import pandas as pd\n",
        "import numpy as np\n",
        "\n",
        "# useful during debugging (progress bars)\n",
        "from tqdm import tqdm"
      ],
      "metadata": {
        "id": "c5pm0YQbrclr"
      },
      "execution_count": 11,
      "outputs": []
    },
    {
      "cell_type": "code",
      "source": [
        "!pip install transformers\n",
        "!pip install datasets\n",
        "!pip install accelerate -U\n",
        "!pip install evaluate\n",
        "!pip install bitsandbytes"
      ],
      "metadata": {
        "colab": {
          "base_uri": "https://localhost:8080/"
        },
        "id": "CQF5gJtqreHs",
        "outputId": "89c4cceb-d9ad-4c15-f2d3-5af0432d587f"
      },
      "execution_count": 12,
      "outputs": [
        {
          "output_type": "stream",
          "name": "stdout",
          "text": [
            "Requirement already satisfied: transformers in /usr/local/lib/python3.10/dist-packages (4.46.2)\n",
            "Requirement already satisfied: filelock in /usr/local/lib/python3.10/dist-packages (from transformers) (3.16.1)\n",
            "Requirement already satisfied: huggingface-hub<1.0,>=0.23.2 in /usr/local/lib/python3.10/dist-packages (from transformers) (0.26.2)\n",
            "Requirement already satisfied: numpy>=1.17 in /usr/local/lib/python3.10/dist-packages (from transformers) (1.26.4)\n",
            "Requirement already satisfied: packaging>=20.0 in /usr/local/lib/python3.10/dist-packages (from transformers) (24.2)\n",
            "Requirement already satisfied: pyyaml>=5.1 in /usr/local/lib/python3.10/dist-packages (from transformers) (6.0.2)\n",
            "Requirement already satisfied: regex!=2019.12.17 in /usr/local/lib/python3.10/dist-packages (from transformers) (2024.9.11)\n",
            "Requirement already satisfied: requests in /usr/local/lib/python3.10/dist-packages (from transformers) (2.32.3)\n",
            "Requirement already satisfied: safetensors>=0.4.1 in /usr/local/lib/python3.10/dist-packages (from transformers) (0.4.5)\n",
            "Requirement already satisfied: tokenizers<0.21,>=0.20 in /usr/local/lib/python3.10/dist-packages (from transformers) (0.20.3)\n",
            "Requirement already satisfied: tqdm>=4.27 in /usr/local/lib/python3.10/dist-packages (from transformers) (4.66.6)\n",
            "Requirement already satisfied: fsspec>=2023.5.0 in /usr/local/lib/python3.10/dist-packages (from huggingface-hub<1.0,>=0.23.2->transformers) (2024.9.0)\n",
            "Requirement already satisfied: typing-extensions>=3.7.4.3 in /usr/local/lib/python3.10/dist-packages (from huggingface-hub<1.0,>=0.23.2->transformers) (4.12.2)\n",
            "Requirement already satisfied: charset-normalizer<4,>=2 in /usr/local/lib/python3.10/dist-packages (from requests->transformers) (3.4.0)\n",
            "Requirement already satisfied: idna<4,>=2.5 in /usr/local/lib/python3.10/dist-packages (from requests->transformers) (3.10)\n",
            "Requirement already satisfied: urllib3<3,>=1.21.1 in /usr/local/lib/python3.10/dist-packages (from requests->transformers) (2.2.3)\n",
            "Requirement already satisfied: certifi>=2017.4.17 in /usr/local/lib/python3.10/dist-packages (from requests->transformers) (2024.8.30)\n",
            "Requirement already satisfied: datasets in /usr/local/lib/python3.10/dist-packages (3.1.0)\n",
            "Requirement already satisfied: filelock in /usr/local/lib/python3.10/dist-packages (from datasets) (3.16.1)\n",
            "Requirement already satisfied: numpy>=1.17 in /usr/local/lib/python3.10/dist-packages (from datasets) (1.26.4)\n",
            "Requirement already satisfied: pyarrow>=15.0.0 in /usr/local/lib/python3.10/dist-packages (from datasets) (17.0.0)\n",
            "Requirement already satisfied: dill<0.3.9,>=0.3.0 in /usr/local/lib/python3.10/dist-packages (from datasets) (0.3.8)\n",
            "Requirement already satisfied: pandas in /usr/local/lib/python3.10/dist-packages (from datasets) (2.2.2)\n",
            "Requirement already satisfied: requests>=2.32.2 in /usr/local/lib/python3.10/dist-packages (from datasets) (2.32.3)\n",
            "Requirement already satisfied: tqdm>=4.66.3 in /usr/local/lib/python3.10/dist-packages (from datasets) (4.66.6)\n",
            "Requirement already satisfied: xxhash in /usr/local/lib/python3.10/dist-packages (from datasets) (3.5.0)\n",
            "Requirement already satisfied: multiprocess<0.70.17 in /usr/local/lib/python3.10/dist-packages (from datasets) (0.70.16)\n",
            "Requirement already satisfied: fsspec<=2024.9.0,>=2023.1.0 in /usr/local/lib/python3.10/dist-packages (from fsspec[http]<=2024.9.0,>=2023.1.0->datasets) (2024.9.0)\n",
            "Requirement already satisfied: aiohttp in /usr/local/lib/python3.10/dist-packages (from datasets) (3.11.2)\n",
            "Requirement already satisfied: huggingface-hub>=0.23.0 in /usr/local/lib/python3.10/dist-packages (from datasets) (0.26.2)\n",
            "Requirement already satisfied: packaging in /usr/local/lib/python3.10/dist-packages (from datasets) (24.2)\n",
            "Requirement already satisfied: pyyaml>=5.1 in /usr/local/lib/python3.10/dist-packages (from datasets) (6.0.2)\n",
            "Requirement already satisfied: aiohappyeyeballs>=2.3.0 in /usr/local/lib/python3.10/dist-packages (from aiohttp->datasets) (2.4.3)\n",
            "Requirement already satisfied: aiosignal>=1.1.2 in /usr/local/lib/python3.10/dist-packages (from aiohttp->datasets) (1.3.1)\n",
            "Requirement already satisfied: attrs>=17.3.0 in /usr/local/lib/python3.10/dist-packages (from aiohttp->datasets) (24.2.0)\n",
            "Requirement already satisfied: frozenlist>=1.1.1 in /usr/local/lib/python3.10/dist-packages (from aiohttp->datasets) (1.5.0)\n",
            "Requirement already satisfied: multidict<7.0,>=4.5 in /usr/local/lib/python3.10/dist-packages (from aiohttp->datasets) (6.1.0)\n",
            "Requirement already satisfied: propcache>=0.2.0 in /usr/local/lib/python3.10/dist-packages (from aiohttp->datasets) (0.2.0)\n",
            "Requirement already satisfied: yarl<2.0,>=1.17.0 in /usr/local/lib/python3.10/dist-packages (from aiohttp->datasets) (1.17.2)\n",
            "Requirement already satisfied: async-timeout<6.0,>=4.0 in /usr/local/lib/python3.10/dist-packages (from aiohttp->datasets) (4.0.3)\n",
            "Requirement already satisfied: typing-extensions>=3.7.4.3 in /usr/local/lib/python3.10/dist-packages (from huggingface-hub>=0.23.0->datasets) (4.12.2)\n",
            "Requirement already satisfied: charset-normalizer<4,>=2 in /usr/local/lib/python3.10/dist-packages (from requests>=2.32.2->datasets) (3.4.0)\n",
            "Requirement already satisfied: idna<4,>=2.5 in /usr/local/lib/python3.10/dist-packages (from requests>=2.32.2->datasets) (3.10)\n",
            "Requirement already satisfied: urllib3<3,>=1.21.1 in /usr/local/lib/python3.10/dist-packages (from requests>=2.32.2->datasets) (2.2.3)\n",
            "Requirement already satisfied: certifi>=2017.4.17 in /usr/local/lib/python3.10/dist-packages (from requests>=2.32.2->datasets) (2024.8.30)\n",
            "Requirement already satisfied: python-dateutil>=2.8.2 in /usr/local/lib/python3.10/dist-packages (from pandas->datasets) (2.8.2)\n",
            "Requirement already satisfied: pytz>=2020.1 in /usr/local/lib/python3.10/dist-packages (from pandas->datasets) (2024.2)\n",
            "Requirement already satisfied: tzdata>=2022.7 in /usr/local/lib/python3.10/dist-packages (from pandas->datasets) (2024.2)\n",
            "Requirement already satisfied: six>=1.5 in /usr/local/lib/python3.10/dist-packages (from python-dateutil>=2.8.2->pandas->datasets) (1.16.0)\n",
            "Requirement already satisfied: accelerate in /usr/local/lib/python3.10/dist-packages (1.1.1)\n",
            "Requirement already satisfied: huggingface-hub>=0.21.0 in /usr/local/lib/python3.10/dist-packages (from accelerate) (0.26.2)\n",
            "Requirement already satisfied: numpy<3.0.0,>=1.17 in /usr/local/lib/python3.10/dist-packages (from accelerate) (1.26.4)\n",
            "Requirement already satisfied: packaging>=20.0 in /usr/local/lib/python3.10/dist-packages (from accelerate) (24.2)\n",
            "Requirement already satisfied: psutil in /usr/local/lib/python3.10/dist-packages (from accelerate) (5.9.5)\n",
            "Requirement already satisfied: pyyaml in /usr/local/lib/python3.10/dist-packages (from accelerate) (6.0.2)\n",
            "Requirement already satisfied: safetensors>=0.4.3 in /usr/local/lib/python3.10/dist-packages (from accelerate) (0.4.5)\n",
            "Requirement already satisfied: torch>=1.10.0 in /usr/local/lib/python3.10/dist-packages (from accelerate) (2.5.1+cu121)\n",
            "Requirement already satisfied: filelock in /usr/local/lib/python3.10/dist-packages (from huggingface-hub>=0.21.0->accelerate) (3.16.1)\n",
            "Requirement already satisfied: fsspec>=2023.5.0 in /usr/local/lib/python3.10/dist-packages (from huggingface-hub>=0.21.0->accelerate) (2024.9.0)\n",
            "Requirement already satisfied: requests in /usr/local/lib/python3.10/dist-packages (from huggingface-hub>=0.21.0->accelerate) (2.32.3)\n",
            "Requirement already satisfied: tqdm>=4.42.1 in /usr/local/lib/python3.10/dist-packages (from huggingface-hub>=0.21.0->accelerate) (4.66.6)\n",
            "Requirement already satisfied: typing-extensions>=3.7.4.3 in /usr/local/lib/python3.10/dist-packages (from huggingface-hub>=0.21.0->accelerate) (4.12.2)\n",
            "Requirement already satisfied: networkx in /usr/local/lib/python3.10/dist-packages (from torch>=1.10.0->accelerate) (3.4.2)\n",
            "Requirement already satisfied: jinja2 in /usr/local/lib/python3.10/dist-packages (from torch>=1.10.0->accelerate) (3.1.4)\n",
            "Requirement already satisfied: sympy==1.13.1 in /usr/local/lib/python3.10/dist-packages (from torch>=1.10.0->accelerate) (1.13.1)\n",
            "Requirement already satisfied: mpmath<1.4,>=1.1.0 in /usr/local/lib/python3.10/dist-packages (from sympy==1.13.1->torch>=1.10.0->accelerate) (1.3.0)\n",
            "Requirement already satisfied: MarkupSafe>=2.0 in /usr/local/lib/python3.10/dist-packages (from jinja2->torch>=1.10.0->accelerate) (3.0.2)\n",
            "Requirement already satisfied: charset-normalizer<4,>=2 in /usr/local/lib/python3.10/dist-packages (from requests->huggingface-hub>=0.21.0->accelerate) (3.4.0)\n",
            "Requirement already satisfied: idna<4,>=2.5 in /usr/local/lib/python3.10/dist-packages (from requests->huggingface-hub>=0.21.0->accelerate) (3.10)\n",
            "Requirement already satisfied: urllib3<3,>=1.21.1 in /usr/local/lib/python3.10/dist-packages (from requests->huggingface-hub>=0.21.0->accelerate) (2.2.3)\n",
            "Requirement already satisfied: certifi>=2017.4.17 in /usr/local/lib/python3.10/dist-packages (from requests->huggingface-hub>=0.21.0->accelerate) (2024.8.30)\n",
            "Requirement already satisfied: evaluate in /usr/local/lib/python3.10/dist-packages (0.4.3)\n",
            "Requirement already satisfied: datasets>=2.0.0 in /usr/local/lib/python3.10/dist-packages (from evaluate) (3.1.0)\n",
            "Requirement already satisfied: numpy>=1.17 in /usr/local/lib/python3.10/dist-packages (from evaluate) (1.26.4)\n",
            "Requirement already satisfied: dill in /usr/local/lib/python3.10/dist-packages (from evaluate) (0.3.8)\n",
            "Requirement already satisfied: pandas in /usr/local/lib/python3.10/dist-packages (from evaluate) (2.2.2)\n",
            "Requirement already satisfied: requests>=2.19.0 in /usr/local/lib/python3.10/dist-packages (from evaluate) (2.32.3)\n",
            "Requirement already satisfied: tqdm>=4.62.1 in /usr/local/lib/python3.10/dist-packages (from evaluate) (4.66.6)\n",
            "Requirement already satisfied: xxhash in /usr/local/lib/python3.10/dist-packages (from evaluate) (3.5.0)\n",
            "Requirement already satisfied: multiprocess in /usr/local/lib/python3.10/dist-packages (from evaluate) (0.70.16)\n",
            "Requirement already satisfied: fsspec>=2021.05.0 in /usr/local/lib/python3.10/dist-packages (from fsspec[http]>=2021.05.0->evaluate) (2024.9.0)\n",
            "Requirement already satisfied: huggingface-hub>=0.7.0 in /usr/local/lib/python3.10/dist-packages (from evaluate) (0.26.2)\n",
            "Requirement already satisfied: packaging in /usr/local/lib/python3.10/dist-packages (from evaluate) (24.2)\n",
            "Requirement already satisfied: filelock in /usr/local/lib/python3.10/dist-packages (from datasets>=2.0.0->evaluate) (3.16.1)\n",
            "Requirement already satisfied: pyarrow>=15.0.0 in /usr/local/lib/python3.10/dist-packages (from datasets>=2.0.0->evaluate) (17.0.0)\n",
            "Requirement already satisfied: aiohttp in /usr/local/lib/python3.10/dist-packages (from datasets>=2.0.0->evaluate) (3.11.2)\n",
            "Requirement already satisfied: pyyaml>=5.1 in /usr/local/lib/python3.10/dist-packages (from datasets>=2.0.0->evaluate) (6.0.2)\n",
            "Requirement already satisfied: typing-extensions>=3.7.4.3 in /usr/local/lib/python3.10/dist-packages (from huggingface-hub>=0.7.0->evaluate) (4.12.2)\n",
            "Requirement already satisfied: charset-normalizer<4,>=2 in /usr/local/lib/python3.10/dist-packages (from requests>=2.19.0->evaluate) (3.4.0)\n",
            "Requirement already satisfied: idna<4,>=2.5 in /usr/local/lib/python3.10/dist-packages (from requests>=2.19.0->evaluate) (3.10)\n",
            "Requirement already satisfied: urllib3<3,>=1.21.1 in /usr/local/lib/python3.10/dist-packages (from requests>=2.19.0->evaluate) (2.2.3)\n",
            "Requirement already satisfied: certifi>=2017.4.17 in /usr/local/lib/python3.10/dist-packages (from requests>=2.19.0->evaluate) (2024.8.30)\n",
            "Requirement already satisfied: python-dateutil>=2.8.2 in /usr/local/lib/python3.10/dist-packages (from pandas->evaluate) (2.8.2)\n",
            "Requirement already satisfied: pytz>=2020.1 in /usr/local/lib/python3.10/dist-packages (from pandas->evaluate) (2024.2)\n",
            "Requirement already satisfied: tzdata>=2022.7 in /usr/local/lib/python3.10/dist-packages (from pandas->evaluate) (2024.2)\n",
            "Requirement already satisfied: aiohappyeyeballs>=2.3.0 in /usr/local/lib/python3.10/dist-packages (from aiohttp->datasets>=2.0.0->evaluate) (2.4.3)\n",
            "Requirement already satisfied: aiosignal>=1.1.2 in /usr/local/lib/python3.10/dist-packages (from aiohttp->datasets>=2.0.0->evaluate) (1.3.1)\n",
            "Requirement already satisfied: attrs>=17.3.0 in /usr/local/lib/python3.10/dist-packages (from aiohttp->datasets>=2.0.0->evaluate) (24.2.0)\n",
            "Requirement already satisfied: frozenlist>=1.1.1 in /usr/local/lib/python3.10/dist-packages (from aiohttp->datasets>=2.0.0->evaluate) (1.5.0)\n",
            "Requirement already satisfied: multidict<7.0,>=4.5 in /usr/local/lib/python3.10/dist-packages (from aiohttp->datasets>=2.0.0->evaluate) (6.1.0)\n",
            "Requirement already satisfied: propcache>=0.2.0 in /usr/local/lib/python3.10/dist-packages (from aiohttp->datasets>=2.0.0->evaluate) (0.2.0)\n",
            "Requirement already satisfied: yarl<2.0,>=1.17.0 in /usr/local/lib/python3.10/dist-packages (from aiohttp->datasets>=2.0.0->evaluate) (1.17.2)\n",
            "Requirement already satisfied: async-timeout<6.0,>=4.0 in /usr/local/lib/python3.10/dist-packages (from aiohttp->datasets>=2.0.0->evaluate) (4.0.3)\n",
            "Requirement already satisfied: six>=1.5 in /usr/local/lib/python3.10/dist-packages (from python-dateutil>=2.8.2->pandas->evaluate) (1.16.0)\n",
            "Requirement already satisfied: bitsandbytes in /usr/local/lib/python3.10/dist-packages (0.44.1)\n",
            "Requirement already satisfied: torch in /usr/local/lib/python3.10/dist-packages (from bitsandbytes) (2.5.1+cu121)\n",
            "Requirement already satisfied: numpy in /usr/local/lib/python3.10/dist-packages (from bitsandbytes) (1.26.4)\n",
            "Requirement already satisfied: filelock in /usr/local/lib/python3.10/dist-packages (from torch->bitsandbytes) (3.16.1)\n",
            "Requirement already satisfied: typing-extensions>=4.8.0 in /usr/local/lib/python3.10/dist-packages (from torch->bitsandbytes) (4.12.2)\n",
            "Requirement already satisfied: networkx in /usr/local/lib/python3.10/dist-packages (from torch->bitsandbytes) (3.4.2)\n",
            "Requirement already satisfied: jinja2 in /usr/local/lib/python3.10/dist-packages (from torch->bitsandbytes) (3.1.4)\n",
            "Requirement already satisfied: fsspec in /usr/local/lib/python3.10/dist-packages (from torch->bitsandbytes) (2024.9.0)\n",
            "Requirement already satisfied: sympy==1.13.1 in /usr/local/lib/python3.10/dist-packages (from torch->bitsandbytes) (1.13.1)\n",
            "Requirement already satisfied: mpmath<1.4,>=1.1.0 in /usr/local/lib/python3.10/dist-packages (from sympy==1.13.1->torch->bitsandbytes) (1.3.0)\n",
            "Requirement already satisfied: MarkupSafe>=2.0 in /usr/local/lib/python3.10/dist-packages (from jinja2->torch->bitsandbytes) (3.0.2)\n"
          ]
        }
      ]
    },
    {
      "cell_type": "code",
      "source": [
        "import torch\n",
        "torch.cuda.is_available()"
      ],
      "metadata": {
        "colab": {
          "base_uri": "https://localhost:8080/"
        },
        "id": "Gqc-CCvRrsmF",
        "outputId": "411e7245-3c22-4ea8-b017-07f44132b535"
      },
      "execution_count": 13,
      "outputs": [
        {
          "output_type": "execute_result",
          "data": {
            "text/plain": [
              "True"
            ]
          },
          "metadata": {},
          "execution_count": 13
        }
      ]
    },
    {
      "cell_type": "code",
      "source": [
        "!nvidia-smi"
      ],
      "metadata": {
        "colab": {
          "base_uri": "https://localhost:8080/"
        },
        "id": "w4xvu-raruNK",
        "outputId": "a9f449ca-521c-4c2a-98cf-f5a7a728394b"
      },
      "execution_count": 14,
      "outputs": [
        {
          "output_type": "stream",
          "name": "stdout",
          "text": [
            "Tue Nov 26 23:14:59 2024       \n",
            "+---------------------------------------------------------------------------------------+\n",
            "| NVIDIA-SMI 535.104.05             Driver Version: 535.104.05   CUDA Version: 12.2     |\n",
            "|-----------------------------------------+----------------------+----------------------+\n",
            "| GPU  Name                 Persistence-M | Bus-Id        Disp.A | Volatile Uncorr. ECC |\n",
            "| Fan  Temp   Perf          Pwr:Usage/Cap |         Memory-Usage | GPU-Util  Compute M. |\n",
            "|                                         |                      |               MIG M. |\n",
            "|=========================================+======================+======================|\n",
            "|   0  Tesla T4                       Off | 00000000:00:04.0 Off |                    0 |\n",
            "| N/A   44C    P8              11W /  70W |      3MiB / 15360MiB |      0%      Default |\n",
            "|                                         |                      |                  N/A |\n",
            "+-----------------------------------------+----------------------+----------------------+\n",
            "                                                                                         \n",
            "+---------------------------------------------------------------------------------------+\n",
            "| Processes:                                                                            |\n",
            "|  GPU   GI   CI        PID   Type   Process name                            GPU Memory |\n",
            "|        ID   ID                                                             Usage      |\n",
            "|=======================================================================================|\n",
            "|  No running processes found                                                           |\n",
            "+---------------------------------------------------------------------------------------+\n"
          ]
        }
      ]
    },
    {
      "cell_type": "code",
      "source": [
        "from notebook.services.config import ConfigManager\n",
        "cm = ConfigManager()\n",
        "cm.update('livereveal', {\n",
        "        'width': 2560,\n",
        "        'height': 1440,\n",
        "        'scroll': True,\n",
        "})"
      ],
      "metadata": {
        "colab": {
          "base_uri": "https://localhost:8080/"
        },
        "id": "7qzdm7eXrv1-",
        "outputId": "3e0ef571-3dd7-4873-ecfc-8e08db127c00"
      },
      "execution_count": 15,
      "outputs": [
        {
          "output_type": "execute_result",
          "data": {
            "text/plain": [
              "{'width': 2560, 'height': 1440, 'scroll': True}"
            ]
          },
          "metadata": {},
          "execution_count": 15
        }
      ]
    },
    {
      "cell_type": "code",
      "source": [
        "from transformers import pipeline, AutoModelForCausalLM, AutoTokenizer\n",
        "\n",
        "model_card = \"mistralai/Mistral-7B-Instruct-v0.3\"\n",
        "\n",
        "tokenizer = AutoTokenizer.from_pretrained(model_card)\n",
        "tokenizer.pad_token = tokenizer.eos_token\n",
        "\n",
        "terminators = [\n",
        "    tokenizer.eos_token_id,\n",
        "    tokenizer.convert_tokens_to_ids(\"<|eot_id|>\")\n",
        "]"
      ],
      "metadata": {
        "colab": {
          "base_uri": "https://localhost:8080/",
          "height": 249,
          "referenced_widgets": [
            "d99509feb714404a81a3a95cb94e8085",
            "2950a71d744a46c79428317b00f3c745",
            "e5d5b1550798411f9887d66fdf174a59",
            "e2f4a3a2cd7642459df70bec81561c86",
            "b26f95bcd62549da81b83e2d7524be5b",
            "76dcf2c4011c4b1da1a8f46b3a665d25",
            "08899d6759d84d47b6784edc77cd0c20",
            "4389bd5cbbc7404ebb2887994ed5561c",
            "ba3a66d8872849b789971d382085086d",
            "4d281c9110da40eea30423523f9a7fe4",
            "c5783f70c9ec48a7b3fd9cee751ad5eb",
            "cfa416cd5aec4c9ab151e2bf4a0cf286",
            "8d891039efdc40cbadb2444dd2f70586",
            "4d4f2cf633aa4121b5a9c1cc0654ba33",
            "e328425ec4334eedbc8ecd8860cb4888",
            "1f4d8b2900ea45ba8e15a27c4fcdf72b",
            "a1122d61d5a74b549798f8253cd9302e",
            "4e41c6b6ea47420ab809ef71cddcf10b",
            "ad9657e6f6dd49989ba3dfce6ff1a177",
            "7ea87a9b9810449a8c8c00c894531222",
            "8ef84cc7f4e44f0eab02e6ca6e757c15",
            "1fb76c2db8614f779f45965087700567",
            "9933f0493fdc4e04a224bbb543fa1526",
            "4f444fe374b74cfba26aec2198e9a713",
            "838fda0348ca446ab14fab9e172324a1",
            "a6476a23461e46d49266594693b409a0",
            "2bbfeb7c396442f08378cf2d071e5d6f",
            "308a57deef3149199180ef2cbf65ecbc",
            "58ca0073dedb48baab02f19a92497e88",
            "a772dda040c54334b626adbc91cdbc58",
            "ca85b213550f458e8d6c72cbb9fa6a5f",
            "7a8b845a7751468a9a8f519f13b718ff",
            "fe5c8787231a4a2b92bd23edc5c45995",
            "b946e8aea13e4fb6b3f46928b5b23022",
            "8c04a56bd82a46789203ce90ae021281",
            "9f951a6fd1a345f18143151b9a40ea00",
            "3bbc0e2c72b647a7acc6361115a2ef8d",
            "6eb23e0f54fd4f81b131a75bb4c9fef0",
            "3e1cb1bb5859461db19f2e60603e0ca9",
            "79122d0914ff4b63a9d4934f42e423d0",
            "a3d4b73ce26a424db8d5b0106e1bb213",
            "7b21566df3954a3795e31111b9ff12ce",
            "544ad55d427a44afa5617e2d2a8e0ca5",
            "5356eef58cd0427c97e85f4d648fbe11"
          ]
        },
        "id": "YE-TZhuFr3Lz",
        "outputId": "33cf9032-11c7-4e3d-f011-5b824e27320f"
      },
      "execution_count": 16,
      "outputs": [
        {
          "output_type": "stream",
          "name": "stderr",
          "text": [
            "/usr/local/lib/python3.10/dist-packages/huggingface_hub/utils/_auth.py:94: UserWarning: \n",
            "The secret `HF_TOKEN` does not exist in your Colab secrets.\n",
            "To authenticate with the Hugging Face Hub, create a token in your settings tab (https://huggingface.co/settings/tokens), set it as secret in your Google Colab and restart your session.\n",
            "You will be able to reuse this secret in all of your notebooks.\n",
            "Please note that authentication is recommended but still optional to access public models or datasets.\n",
            "  warnings.warn(\n"
          ]
        },
        {
          "output_type": "display_data",
          "data": {
            "text/plain": [
              "tokenizer_config.json:   0%|          | 0.00/141k [00:00<?, ?B/s]"
            ],
            "application/vnd.jupyter.widget-view+json": {
              "version_major": 2,
              "version_minor": 0,
              "model_id": "d99509feb714404a81a3a95cb94e8085"
            }
          },
          "metadata": {}
        },
        {
          "output_type": "display_data",
          "data": {
            "text/plain": [
              "tokenizer.model:   0%|          | 0.00/587k [00:00<?, ?B/s]"
            ],
            "application/vnd.jupyter.widget-view+json": {
              "version_major": 2,
              "version_minor": 0,
              "model_id": "cfa416cd5aec4c9ab151e2bf4a0cf286"
            }
          },
          "metadata": {}
        },
        {
          "output_type": "display_data",
          "data": {
            "text/plain": [
              "tokenizer.json:   0%|          | 0.00/1.96M [00:00<?, ?B/s]"
            ],
            "application/vnd.jupyter.widget-view+json": {
              "version_major": 2,
              "version_minor": 0,
              "model_id": "9933f0493fdc4e04a224bbb543fa1526"
            }
          },
          "metadata": {}
        },
        {
          "output_type": "display_data",
          "data": {
            "text/plain": [
              "special_tokens_map.json:   0%|          | 0.00/414 [00:00<?, ?B/s]"
            ],
            "application/vnd.jupyter.widget-view+json": {
              "version_major": 2,
              "version_minor": 0,
              "model_id": "b946e8aea13e4fb6b3f46928b5b23022"
            }
          },
          "metadata": {}
        }
      ]
    },
    {
      "cell_type": "code",
      "source": [
        "from transformers import BitsAndBytesConfig\n",
        "\n",
        "bnb_config = BitsAndBytesConfig(\n",
        "    load_in_4bit=True,\n",
        "    bnb_4bit_use_double_quant=True,\n",
        "    bnb_4bit_quant_type=\"nf4\",\n",
        "    bnb_4bit_compute_dtype=torch.bfloat16,\n",
        ")\n",
        "\n",
        "model = AutoModelForCausalLM.from_pretrained(\n",
        "    model_card,\n",
        "    return_dict=True,\n",
        "    quantization_config=bnb_config,\n",
        "    device_map='auto'\n",
        ")"
      ],
      "metadata": {
        "colab": {
          "base_uri": "https://localhost:8080/",
          "height": 273,
          "referenced_widgets": [
            "6b7f548b64744823a99c8aeb29cf01df",
            "4e9a1d2a6f4f480da185b9d8f3f881e4",
            "a611fb6b53ce40608a57b76361056434",
            "22c16e4fa54e4a9db56ba6d9292308aa",
            "3518577049194930bd92a70ef49c82c5",
            "4d743977d5fe4cc3a82f6e035dbb64de",
            "3a369a1e2a054b869a312b0f74f396b4",
            "0504858aa72442229306aeecffc6353d",
            "1916f21426bd4a74ab9292219d53a4ad",
            "6a3c72a0da064ccfb9c523f3634593b1",
            "89e54f33cab042ad9863c26aa136bb50",
            "e679868d8e614b8dad960e1d08350f61",
            "9f7b81b6e89343039a93f5683bacb609",
            "5a786dcb098345bc940fd60b5b85008d",
            "1cb0799fd8ef4596ae4d0c64dca9de9a",
            "604b079b879a4bd79a0845360b902302",
            "ba621cf8124e447685b05fecc1511524",
            "096261e639f94d329f40154b9f00a7dc",
            "681339f78e32498f8f49c173ec476161",
            "fe79f6e65b694ff79eff04f68b882072",
            "4859183cac184f4aa1a3b90475a35815",
            "3708d6d31f064861b64303a0acb939cf",
            "ac0022817cc8487c8f9991161f4f86f1",
            "23c97d83f68047d68e9014b616a6357d",
            "5d4feda1174a4e2d9a8ea082b5150c50",
            "e55f049d9708439d8a6e9663cc42dfa7",
            "04ca22d4578b4f308b0071c60ebf5f75",
            "35908858b1d34feb948873a366ca2447",
            "224775f4ac7a48c8b2b97c30cd3703ee",
            "6eeeeb1a0e6341d18c8d30b8897778aa",
            "723d592d23e14042a1d63b12907de4b4",
            "f9f420636d4c42f99db8bf0ad7c856c2",
            "3defd69ddb5c4be8b772e2686ddeb2d6",
            "031f3809e3344cc9ba1096b0c4e909e9",
            "a4c53ea9171b41e69f2f764d70903797",
            "cc9c3429e4e44df081f6d72b849a0b8b",
            "5fdad33892f842d787dafb93bc3420c3",
            "09dba792c97c40a6b45014b5dd9de55a",
            "e6b44a56a8654600afd7cde554a093da",
            "29da1bfc62384b1b8385690437775220",
            "7f6e4d78462c462eb539914a1e2b2ccc",
            "0ed3ad0cf74b4a96aa7fbe993e2205c6",
            "2c6281e915f84d889f85b6f791da64f0",
            "31f32cf00cab4b2db69f4b2db9b7ad22",
            "eaa73a2fcf5a4684b0b0280a72f74477",
            "d004af7aa2df4bb7bb6bc8a3d8fd18fb",
            "96b739eb0cd14f5cbe3e1f799972e112",
            "75b8adcb961842658bfecf40ad3cbcab",
            "8c903cffe241485db4c4c76ebe600e5f",
            "41843eb44d9943d5bf75b836d9e4009e",
            "502a3869a5334e5dbca808cee06836e0",
            "497fbdb746c848e497e329ee25a11636",
            "b449e8418ddc463f9a9867c451809edd",
            "352218e6ca02400f87c0744af4dc9aa4",
            "b8dee78c285148bdb0cc6e7148e5a215",
            "a84f9a6ad90849fbb58ddd5471cad2c3",
            "4c2a4bd133164f41a366353975cdbd25",
            "a048f173a7a3450cbbe738045cf7dfd2",
            "8f3f4303d22a4cd08bc6dfd91f98c967",
            "d0776a7cf3574d90866d3a575ffbbb42",
            "55a3394235e542138e009acb6ae48238",
            "1a1983467c5e4d42947ae9c05a422db1",
            "43c324aded95416abe5353ac4d8c09b3",
            "f86fac8b833342d5af58358a01a62c0d",
            "95b6b542a267462d91d1df1b1187209a",
            "59e587b4d741468190e8e86345f41348",
            "fe8d84e5d7bf4566b71d3792e44711cc",
            "ca7bd26c2e9e441187bf54e74b1ea0b2",
            "f57647b45f784552a44581df99dd83bd",
            "23addea401504dc9bc532e796f907d28",
            "02c9e1cb656b446e987c1b38a0ea6949",
            "4032177c3b5c4c1ea3c1fe571e548b45",
            "163d8fd5243b427789c5181b0de58009",
            "6e1134ee826c484bae5211686df6bdcc",
            "313d8fbfeb0f4b40a3ec2e520e48977e",
            "a8560285b9d64a4db8e5d6e0580a73d5",
            "05126e2139f54d568d5c5890db77ab5c",
            "65ff1a37fa704242aea23033cef45020",
            "a719880c46334ac2bd0e6133c1fb0b37",
            "c8520c65f4ae458987a134afc033c939",
            "ed6bbc7065b24e428c0ee8897b3bbd27",
            "94d341ffc778431da443ee70dd37e093",
            "65c1ea1a72b640b0af502f3aaed98b5b",
            "95230bfecc72477ea91e3cce68f97b8b",
            "81b65c61d740415c8873b3ced7ab46b9",
            "4242d3e9cdbd4e07bb58451b583b33c7",
            "d5e7b13fe837441b869f18c59af099ca",
            "71097df507584b9195ce0cfcb8210ad0"
          ]
        },
        "id": "WWKXHA_nr5B0",
        "outputId": "e090ec8a-8b69-4e82-d680-dbe11a8788fd"
      },
      "execution_count": 17,
      "outputs": [
        {
          "output_type": "display_data",
          "data": {
            "text/plain": [
              "config.json:   0%|          | 0.00/601 [00:00<?, ?B/s]"
            ],
            "application/vnd.jupyter.widget-view+json": {
              "version_major": 2,
              "version_minor": 0,
              "model_id": "6b7f548b64744823a99c8aeb29cf01df"
            }
          },
          "metadata": {}
        },
        {
          "output_type": "display_data",
          "data": {
            "text/plain": [
              "model.safetensors.index.json:   0%|          | 0.00/23.9k [00:00<?, ?B/s]"
            ],
            "application/vnd.jupyter.widget-view+json": {
              "version_major": 2,
              "version_minor": 0,
              "model_id": "e679868d8e614b8dad960e1d08350f61"
            }
          },
          "metadata": {}
        },
        {
          "output_type": "display_data",
          "data": {
            "text/plain": [
              "Downloading shards:   0%|          | 0/3 [00:00<?, ?it/s]"
            ],
            "application/vnd.jupyter.widget-view+json": {
              "version_major": 2,
              "version_minor": 0,
              "model_id": "ac0022817cc8487c8f9991161f4f86f1"
            }
          },
          "metadata": {}
        },
        {
          "output_type": "display_data",
          "data": {
            "text/plain": [
              "model-00001-of-00003.safetensors:   0%|          | 0.00/4.95G [00:00<?, ?B/s]"
            ],
            "application/vnd.jupyter.widget-view+json": {
              "version_major": 2,
              "version_minor": 0,
              "model_id": "031f3809e3344cc9ba1096b0c4e909e9"
            }
          },
          "metadata": {}
        },
        {
          "output_type": "display_data",
          "data": {
            "text/plain": [
              "model-00002-of-00003.safetensors:   0%|          | 0.00/5.00G [00:00<?, ?B/s]"
            ],
            "application/vnd.jupyter.widget-view+json": {
              "version_major": 2,
              "version_minor": 0,
              "model_id": "eaa73a2fcf5a4684b0b0280a72f74477"
            }
          },
          "metadata": {}
        },
        {
          "output_type": "display_data",
          "data": {
            "text/plain": [
              "model-00003-of-00003.safetensors:   0%|          | 0.00/4.55G [00:00<?, ?B/s]"
            ],
            "application/vnd.jupyter.widget-view+json": {
              "version_major": 2,
              "version_minor": 0,
              "model_id": "a84f9a6ad90849fbb58ddd5471cad2c3"
            }
          },
          "metadata": {}
        },
        {
          "output_type": "display_data",
          "data": {
            "text/plain": [
              "Loading checkpoint shards:   0%|          | 0/3 [00:00<?, ?it/s]"
            ],
            "application/vnd.jupyter.widget-view+json": {
              "version_major": 2,
              "version_minor": 0,
              "model_id": "fe8d84e5d7bf4566b71d3792e44711cc"
            }
          },
          "metadata": {}
        },
        {
          "output_type": "display_data",
          "data": {
            "text/plain": [
              "generation_config.json:   0%|          | 0.00/116 [00:00<?, ?B/s]"
            ],
            "application/vnd.jupyter.widget-view+json": {
              "version_major": 2,
              "version_minor": 0,
              "model_id": "65ff1a37fa704242aea23033cef45020"
            }
          },
          "metadata": {}
        }
      ]
    },
    {
      "cell_type": "markdown",
      "metadata": {
        "id": "TzNNzb1VLJnd"
      },
      "source": [
        "# [Task 2 - 1.0 points] Prompt setup\n",
        "\n",
        "Prompting requires an input pre-processing phase where we convert each input example into a specific instruction prompt.\n"
      ]
    },
    {
      "cell_type": "markdown",
      "metadata": {
        "id": "9GaBtKXomY_m"
      },
      "source": [
        "## Prompt Template\n",
        "\n",
        "Use the following prompt template to process input texts."
      ]
    },
    {
      "cell_type": "code",
      "execution_count": 18,
      "metadata": {
        "id": "7e8P-Kk8me6q"
      },
      "outputs": [],
      "source": [
        "prompt = [\n",
        "    {\n",
        "        'role': 'system',\n",
        "        'content': 'You are an annotator for sexism detection.'\n",
        "    },\n",
        "    {\n",
        "        'role': 'user',\n",
        "        'content': \"\"\"Your task is to classify input text as containing sexism or not. Respond only YES or NO.\n",
        "\n",
        "        TEXT:\n",
        "        {text}\n",
        "\n",
        "        ANSWER:\n",
        "        \"\"\"\n",
        "    }\n",
        "]"
      ]
    },
    {
      "cell_type": "markdown",
      "metadata": {
        "id": "VHeoEN7MLJnd"
      },
      "source": [
        "### Instructions\n",
        "\n",
        "In order to get Task 2 points, we require you to:\n",
        "\n",
        "* Write a ``prepare_prompts`` function as the one reported below."
      ]
    },
    {
      "cell_type": "code",
      "execution_count": 19,
      "metadata": {
        "id": "PUjRVMtMm9CE"
      },
      "outputs": [],
      "source": [
        "def prepare_prompts(texts, prompt_template, tokenizer):\n",
        "    \"\"\"\n",
        "    This function formats input text samples into instruction prompts.\n",
        "\n",
        "    Inputs:\n",
        "      texts: input texts to classify via prompting\n",
        "      prompt_template: the prompt template provided in this assignment\n",
        "      tokenizer: the transformers Tokenizer object instance associated with the chosen model card\n",
        "\n",
        "    Outputs:\n",
        "      input texts to classify in the form of instruction prompts\n",
        "    \"\"\"\n",
        "    formatted_prompts = []\n",
        "\n",
        "    for text in texts:\n",
        "        # Create a copy of the template to avoid modifying the original\n",
        "        current_prompt = prompt_template.copy()\n",
        "\n",
        "        # Format the user content by replacing the {text} placeholder\n",
        "        current_prompt[1]['content'] = current_prompt[1]['content'].format(text=text)\n",
        "\n",
        "        # Convert the prompt list into a chat format string\n",
        "        chat_text = f\"{current_prompt[0]['content']}\\n\\n{current_prompt[1]['content']}\"\n",
        "\n",
        "        # Tokenize the formatted prompt\n",
        "        encoded_prompt = tokenizer(\n",
        "            chat_text,\n",
        "            padding=True,\n",
        "            truncation=True,\n",
        "            return_tensors=\"pt\"\n",
        "        )\n",
        "\n",
        "        formatted_prompts.append(encoded_prompt)\n",
        "\n",
        "    # Return the formatted prompts\n",
        "    return formatted_prompts\n"
      ]
    },
    {
      "cell_type": "markdown",
      "metadata": {
        "id": "BOCRgGf7mifk"
      },
      "source": [
        "### Notes\n",
        "\n",
        "1. You are free to modify the prompt format (**not its content**) as you like depending on your code implementation.\n",
        "\n",
        "2. Note that the provided prompt has placeholders. You need to format the string to replace placeholders. Huggingface might have dedicated APIs for this."
      ]
    },
    {
      "cell_type": "markdown",
      "metadata": {
        "id": "lgBhkBwuLJnd"
      },
      "source": [
        "# [Task 3 - 1.0 points] Inference\n",
        "\n",
        "We are now ready to define the inference loop where we prompt the model with each pre-processed sample."
      ]
    },
    {
      "cell_type": "markdown",
      "metadata": {
        "id": "7WsrQSvcLJnd"
      },
      "source": [
        "### Instructions\n",
        "\n",
        "In order to get Task 3 points, we require you to:\n",
        "\n",
        "* Write a ``generate_responses`` function as the one reported below.\n",
        "* Write a ``process_response`` function as the one reported below."
      ]
    },
    {
      "cell_type": "code",
      "execution_count": 20,
      "metadata": {
        "id": "bG3CDXNlyD5k"
      },
      "outputs": [],
      "source": [
        "def generate_responses(model, prompt_examples):\n",
        "    \"\"\"\n",
        "    This function implements the inference loop for a LLM model.\n",
        "    Given a set of examples, the model is tasked to generate a response.\n",
        "\n",
        "    Inputs:\n",
        "      model: LLM model instance for prompting\n",
        "      prompt_examples: pre-processed text samples\n",
        "\n",
        "    Outputs:\n",
        "      generated responses\n",
        "    \"\"\"\n",
        "    responses = []\n",
        "    for encoded_prompt in prompt_examples:\n",
        "        outputs = model.generate(\n",
        "            input_ids=encoded_prompt['input_ids'].to(model.device),\n",
        "            attention_mask=encoded_prompt['attention_mask'].to(model.device),\n",
        "            max_new_tokens=10,\n",
        "            do_sample=False,\n",
        "            num_beams=1\n",
        "        )\n",
        "        response = tokenizer.decode(outputs[0], skip_special_tokens=True).split(\"ANSWER:\")[-1].strip()\n",
        "        responses.append(response)\n",
        "    return responses"
      ]
    },
    {
      "cell_type": "code",
      "execution_count": 21,
      "metadata": {
        "id": "uiCoMrutyXTU"
      },
      "outputs": [],
      "source": [
        "def process_response(response):\n",
        "    \"\"\"\n",
        "    This function takes a textual response generated by the LLM\n",
        "    and processes it to map the response to a binary label.\n",
        "\n",
        "    Inputs:\n",
        "      response: generated response from LLM\n",
        "\n",
        "    Outputs:\n",
        "      parsed binary response: return 1 if YES and 0 if NO\n",
        "    \"\"\"\n",
        "    # Convert response to uppercase and strip whitespace\n",
        "    processed_response = response.strip().upper()\n",
        "\n",
        "    # Check if response contains 1 or 0\n",
        "    if \"YES\" in processed_response:\n",
        "        return \"sexist\"\n",
        "    elif \"NO\" in processed_response:\n",
        "        return \"not sexist\"\n",
        "    else:\n",
        "        return 0"
      ]
    },
    {
      "cell_type": "markdown",
      "source": [
        "Test:"
      ],
      "metadata": {
        "id": "HpxqDykXs9Yy"
      }
    },
    {
      "cell_type": "code",
      "source": [
        "import time\n",
        "from datetime import timedelta\n",
        "import random\n",
        "\n",
        "def test_random_samples_with_timing(model, tokenizer, test_df, prompt_template, num_samples=300):\n",
        "    # Start timing\n",
        "    start_time = time.time()\n",
        "\n",
        "    # Results list\n",
        "    results = []\n",
        "\n",
        "    # Set padding token for tokenizer\n",
        "    tokenizer.pad_token = tokenizer.eos_token\n",
        "\n",
        "    # Loop over the specified number of samples\n",
        "    for i in range(num_samples):\n",
        "        # Get a random index\n",
        "        random_idx = random.randint(0, len(test_df) - 1)\n",
        "\n",
        "        # Get the sample text and true label\n",
        "        sample_text = test_df['text'].iloc[random_idx:random_idx+1]  # Keep as series for compatibility\n",
        "        true_label = test_df['label_sexist'].iloc[random_idx]\n",
        "\n",
        "        print(f\"Testing sample {i+1}/{num_samples} (Index: {random_idx})\")\n",
        "        print(f\"Text: {sample_text.iloc[0]}\")\n",
        "        print(f\"True label: {true_label}\")\n",
        "\n",
        "        # Format the prompt with the Mistral chat format\n",
        "        formatted_prompts = prepare_prompts(sample_text, prompt_template, tokenizer)\n",
        "\n",
        "        # Generate response\n",
        "        responses = generate_responses(model, formatted_prompts)\n",
        "\n",
        "        # Process response\n",
        "        binary_label = process_response(responses[0])\n",
        "        print(f\"Predicted label: {binary_label}\")\n",
        "        # Save result for this sample\n",
        "        result = {\n",
        "            'sample_idx': random_idx,\n",
        "            'text': sample_text.iloc[0],\n",
        "            'true_label': true_label,\n",
        "            'predicted_label': binary_label,\n",
        "            'raw_response': responses[0],\n",
        "            'processing_time': None,  # Will calculate at the end\n",
        "            'correct': binary_label == true_label\n",
        "        }\n",
        "        results.append(result)\n",
        "\n",
        "        # Print elapsed time after this sample\n",
        "        elapsed_time = time.time() - start_time\n",
        "        print(f\"Elapsed time: {str(timedelta(seconds=elapsed_time))}\\n\")\n",
        "\n",
        "    # End timing\n",
        "    total_time = time.time() - start_time\n",
        "\n",
        "    # Add processing time for all samples\n",
        "    avg_time_per_sample = total_time / num_samples\n",
        "    for result in results:\n",
        "        result['processing_time'] = avg_time_per_sample\n",
        "\n",
        "    print(f\"\\nTotal processing time for {num_samples} samples: {str(timedelta(seconds=total_time))}\")\n",
        "    print(f\"Average time per sample: {avg_time_per_sample:.2f} seconds\")\n",
        "\n",
        "    # Return results\n",
        "    return results\n",
        "\n",
        "# Run test on 300 samples\n",
        "test_results = test_random_samples_with_timing(model, tokenizer, test_df, prompt, num_samples=300)\n",
        "\n",
        "# Print summary of results\n",
        "correct_predictions = sum(result['correct'] for result in test_results)\n",
        "accuracy = correct_predictions / len(test_results)\n",
        "\n",
        "print(\"\\nTest Summary:\")\n",
        "print(f\"Total samples tested: {len(test_results)}\")\n",
        "print(f\"Accuracy: {accuracy:.2%}\")\n"
      ],
      "metadata": {
        "colab": {
          "base_uri": "https://localhost:8080/"
        },
        "id": "WtfWswiss-bS",
        "outputId": "90975d79-2afc-4ea0-e138-cc2e5d4d9490"
      },
      "execution_count": 23,
      "outputs": [
        {
          "output_type": "stream",
          "name": "stderr",
          "text": [
            "Setting `pad_token_id` to `eos_token_id`:None for open-end generation.\n"
          ]
        },
        {
          "output_type": "stream",
          "name": "stdout",
          "text": [
            "Testing sample 1/300 (Index: 234)\n",
            "Text: This woman is just stupid. [URL]\n",
            "True label: sexist\n"
          ]
        },
        {
          "output_type": "stream",
          "name": "stderr",
          "text": [
            "Setting `pad_token_id` to `eos_token_id`:None for open-end generation.\n"
          ]
        },
        {
          "output_type": "stream",
          "name": "stdout",
          "text": [
            "Predicted label: sexist\n",
            "Elapsed time: 0:00:01.368757\n",
            "\n",
            "Testing sample 2/300 (Index: 164)\n",
            "Text: \"wtf do you care what she does online\" It she has LTR potential it cares! Has nothing to do with \"sadness\" \"desperate\" or \"buthurt\"\n",
            "True label: not sexist\n"
          ]
        },
        {
          "output_type": "stream",
          "name": "stderr",
          "text": [
            "Setting `pad_token_id` to `eos_token_id`:None for open-end generation.\n"
          ]
        },
        {
          "output_type": "stream",
          "name": "stdout",
          "text": [
            "Predicted label: sexist\n",
            "Elapsed time: 0:00:02.703732\n",
            "\n",
            "Testing sample 3/300 (Index: 255)\n",
            "Text: this just this! enjoy it. what a bozo she is..... #Freaky Frederica\n",
            "True label: not sexist\n"
          ]
        },
        {
          "output_type": "stream",
          "name": "stderr",
          "text": [
            "Setting `pad_token_id` to `eos_token_id`:None for open-end generation.\n"
          ]
        },
        {
          "output_type": "stream",
          "name": "stdout",
          "text": [
            "Predicted label: sexist\n",
            "Elapsed time: 0:00:04.075085\n",
            "\n",
            "Testing sample 4/300 (Index: 278)\n",
            "Text: I don't now days because of covid but you can. You don't gotta bang her, just get her comfortable with your touch.\n",
            "True label: not sexist\n"
          ]
        },
        {
          "output_type": "stream",
          "name": "stderr",
          "text": [
            "Setting `pad_token_id` to `eos_token_id`:None for open-end generation.\n"
          ]
        },
        {
          "output_type": "stream",
          "name": "stdout",
          "text": [
            "Predicted label: sexist\n",
            "Elapsed time: 0:00:05.347907\n",
            "\n",
            "Testing sample 5/300 (Index: 150)\n",
            "Text: Typical praising of women and bashing of men. They're so predictable. And dumb.\n",
            "True label: sexist\n"
          ]
        },
        {
          "output_type": "stream",
          "name": "stderr",
          "text": [
            "Setting `pad_token_id` to `eos_token_id`:None for open-end generation.\n"
          ]
        },
        {
          "output_type": "stream",
          "name": "stdout",
          "text": [
            "Predicted label: sexist\n",
            "Elapsed time: 0:00:06.612270\n",
            "\n",
            "Testing sample 6/300 (Index: 196)\n",
            "Text: you're may be right. i'm assuming for a hookup, face matters little, because of the positions they'd be in.\n",
            "True label: not sexist\n"
          ]
        },
        {
          "output_type": "stream",
          "name": "stderr",
          "text": [
            "Setting `pad_token_id` to `eos_token_id`:None for open-end generation.\n"
          ]
        },
        {
          "output_type": "stream",
          "name": "stdout",
          "text": [
            "Predicted label: sexist\n",
            "Elapsed time: 0:00:07.881409\n",
            "\n",
            "Testing sample 7/300 (Index: 272)\n",
            "Text: white girl is trash Truly surprising\n",
            "True label: sexist\n"
          ]
        },
        {
          "output_type": "stream",
          "name": "stderr",
          "text": [
            "Setting `pad_token_id` to `eos_token_id`:None for open-end generation.\n"
          ]
        },
        {
          "output_type": "stream",
          "name": "stdout",
          "text": [
            "Predicted label: sexist\n",
            "Elapsed time: 0:00:09.142903\n",
            "\n",
            "Testing sample 8/300 (Index: 12)\n",
            "Text: Thanks for the response brotha, I'll work towards it. It's just another nasty remnant of my beta days. But like you said, I'm a man. Men conquer.\n",
            "True label: sexist\n"
          ]
        },
        {
          "output_type": "stream",
          "name": "stderr",
          "text": [
            "Setting `pad_token_id` to `eos_token_id`:None for open-end generation.\n"
          ]
        },
        {
          "output_type": "stream",
          "name": "stdout",
          "text": [
            "Predicted label: sexist\n",
            "Elapsed time: 0:00:10.409328\n",
            "\n",
            "Testing sample 9/300 (Index: 278)\n",
            "Text: I don't now days because of covid but you can. You don't gotta bang her, just get her comfortable with your touch.\n",
            "True label: not sexist\n"
          ]
        },
        {
          "output_type": "stream",
          "name": "stderr",
          "text": [
            "Setting `pad_token_id` to `eos_token_id`:None for open-end generation.\n"
          ]
        },
        {
          "output_type": "stream",
          "name": "stdout",
          "text": [
            "Predicted label: sexist\n",
            "Elapsed time: 0:00:11.678127\n",
            "\n",
            "Testing sample 10/300 (Index: 280)\n",
            "Text: [USER] Exactly... which is why she loved Obama. Well sorry old hag... your time is done. The world is waking up to the truth.\n",
            "True label: sexist\n"
          ]
        },
        {
          "output_type": "stream",
          "name": "stderr",
          "text": [
            "Setting `pad_token_id` to `eos_token_id`:None for open-end generation.\n"
          ]
        },
        {
          "output_type": "stream",
          "name": "stdout",
          "text": [
            "Predicted label: sexist\n",
            "Elapsed time: 0:00:12.956708\n",
            "\n",
            "Testing sample 11/300 (Index: 81)\n",
            "Text: Basically they are together and I only saw them twice and she never spoke to me as her dad was there\n",
            "True label: not sexist\n"
          ]
        },
        {
          "output_type": "stream",
          "name": "stderr",
          "text": [
            "Setting `pad_token_id` to `eos_token_id`:None for open-end generation.\n"
          ]
        },
        {
          "output_type": "stream",
          "name": "stdout",
          "text": [
            "Predicted label: sexist\n",
            "Elapsed time: 0:00:14.223317\n",
            "\n",
            "Testing sample 12/300 (Index: 120)\n",
            "Text: You think she is ready to have her genitals removed? [URL]\n",
            "True label: not sexist\n"
          ]
        },
        {
          "output_type": "stream",
          "name": "stderr",
          "text": [
            "Setting `pad_token_id` to `eos_token_id`:None for open-end generation.\n"
          ]
        },
        {
          "output_type": "stream",
          "name": "stdout",
          "text": [
            "Predicted label: sexist\n",
            "Elapsed time: 0:00:15.565376\n",
            "\n",
            "Testing sample 13/300 (Index: 204)\n",
            "Text: What an evil traitorous bitch\n",
            "True label: sexist\n"
          ]
        },
        {
          "output_type": "stream",
          "name": "stderr",
          "text": [
            "Setting `pad_token_id` to `eos_token_id`:None for open-end generation.\n"
          ]
        },
        {
          "output_type": "stream",
          "name": "stdout",
          "text": [
            "Predicted label: sexist\n",
            "Elapsed time: 0:00:16.959860\n",
            "\n",
            "Testing sample 14/300 (Index: 46)\n",
            "Text: Overheard at Star Wars RPG Night: “I cut open the door with my lightsaber and roll through the hole in one move. Best use of a Triumph EVER!” Me: “I don’t know. I once saw a guy pick up 3 hot girls in a TR-3.”\n",
            "True label: not sexist\n"
          ]
        },
        {
          "output_type": "stream",
          "name": "stderr",
          "text": [
            "Setting `pad_token_id` to `eos_token_id`:None for open-end generation.\n"
          ]
        },
        {
          "output_type": "stream",
          "name": "stdout",
          "text": [
            "Predicted label: sexist\n",
            "Elapsed time: 0:00:18.321968\n",
            "\n",
            "Testing sample 15/300 (Index: 220)\n",
            "Text: what have you tried already? I like to point out that nobody blinks when a smaller man starts shit with a larger man and gets his ass beat, men and women are equal right?\n",
            "True label: sexist\n"
          ]
        },
        {
          "output_type": "stream",
          "name": "stderr",
          "text": [
            "Setting `pad_token_id` to `eos_token_id`:None for open-end generation.\n"
          ]
        },
        {
          "output_type": "stream",
          "name": "stdout",
          "text": [
            "Predicted label: sexist\n",
            "Elapsed time: 0:00:19.603135\n",
            "\n",
            "Testing sample 16/300 (Index: 140)\n",
            "Text: Karma's a bitch!\n",
            "True label: sexist\n"
          ]
        },
        {
          "output_type": "stream",
          "name": "stderr",
          "text": [
            "Setting `pad_token_id` to `eos_token_id`:None for open-end generation.\n"
          ]
        },
        {
          "output_type": "stream",
          "name": "stdout",
          "text": [
            "Predicted label: sexist\n",
            "Elapsed time: 0:00:20.886124\n",
            "\n",
            "Testing sample 17/300 (Index: 164)\n",
            "Text: \"wtf do you care what she does online\" It she has LTR potential it cares! Has nothing to do with \"sadness\" \"desperate\" or \"buthurt\"\n",
            "True label: not sexist\n"
          ]
        },
        {
          "output_type": "stream",
          "name": "stderr",
          "text": [
            "Setting `pad_token_id` to `eos_token_id`:None for open-end generation.\n"
          ]
        },
        {
          "output_type": "stream",
          "name": "stdout",
          "text": [
            "Predicted label: sexist\n",
            "Elapsed time: 0:00:22.172227\n",
            "\n",
            "Testing sample 18/300 (Index: 167)\n",
            "Text: I'm getting older and I can't keep doing that grind to spin plates / seek out new pussy. I want to be with a woman long term, but want to learn how to avoid this issue from getting in the way.\n",
            "True label: sexist\n"
          ]
        },
        {
          "output_type": "stream",
          "name": "stderr",
          "text": [
            "Setting `pad_token_id` to `eos_token_id`:None for open-end generation.\n"
          ]
        },
        {
          "output_type": "stream",
          "name": "stdout",
          "text": [
            "Predicted label: sexist\n",
            "Elapsed time: 0:00:23.478837\n",
            "\n",
            "Testing sample 19/300 (Index: 159)\n",
            "Text: I see. I hope that your balls are metaphorical, little lady.\n",
            "True label: not sexist\n"
          ]
        },
        {
          "output_type": "stream",
          "name": "stderr",
          "text": [
            "Setting `pad_token_id` to `eos_token_id`:None for open-end generation.\n"
          ]
        },
        {
          "output_type": "stream",
          "name": "stdout",
          "text": [
            "Predicted label: sexist\n",
            "Elapsed time: 0:00:24.766537\n",
            "\n",
            "Testing sample 20/300 (Index: 222)\n",
            "Text: Damn Global Warming! [URL]\n",
            "True label: not sexist\n"
          ]
        },
        {
          "output_type": "stream",
          "name": "stderr",
          "text": [
            "Setting `pad_token_id` to `eos_token_id`:None for open-end generation.\n"
          ]
        },
        {
          "output_type": "stream",
          "name": "stdout",
          "text": [
            "Predicted label: sexist\n",
            "Elapsed time: 0:00:26.048091\n",
            "\n",
            "Testing sample 21/300 (Index: 73)\n",
            "Text: Raising women and children is demeaning. Allowing strangers to fuck you at will and aborting their unborn children with no consequences of fatherhood is empowering. #feminismiscancer\n",
            "True label: sexist\n"
          ]
        },
        {
          "output_type": "stream",
          "name": "stderr",
          "text": [
            "Setting `pad_token_id` to `eos_token_id`:None for open-end generation.\n"
          ]
        },
        {
          "output_type": "stream",
          "name": "stdout",
          "text": [
            "Predicted label: sexist\n",
            "Elapsed time: 0:00:27.336750\n",
            "\n",
            "Testing sample 22/300 (Index: 167)\n",
            "Text: I'm getting older and I can't keep doing that grind to spin plates / seek out new pussy. I want to be with a woman long term, but want to learn how to avoid this issue from getting in the way.\n",
            "True label: sexist\n"
          ]
        },
        {
          "output_type": "stream",
          "name": "stderr",
          "text": [
            "Setting `pad_token_id` to `eos_token_id`:None for open-end generation.\n"
          ]
        },
        {
          "output_type": "stream",
          "name": "stdout",
          "text": [
            "Predicted label: sexist\n",
            "Elapsed time: 0:00:28.720612\n",
            "\n",
            "Testing sample 23/300 (Index: 116)\n",
            "Text: Whores pimped out by ma n pa.\n",
            "True label: sexist\n"
          ]
        },
        {
          "output_type": "stream",
          "name": "stderr",
          "text": [
            "Setting `pad_token_id` to `eos_token_id`:None for open-end generation.\n"
          ]
        },
        {
          "output_type": "stream",
          "name": "stdout",
          "text": [
            "Predicted label: sexist\n",
            "Elapsed time: 0:00:30.118066\n",
            "\n",
            "Testing sample 24/300 (Index: 31)\n",
            "Text: I don’t date women with body imperfections. This is why if she has asymmetric breasts, stretch marks, cellulite, a weird vagina etc I ghost after the creampie\n",
            "True label: sexist\n"
          ]
        },
        {
          "output_type": "stream",
          "name": "stderr",
          "text": [
            "Setting `pad_token_id` to `eos_token_id`:None for open-end generation.\n"
          ]
        },
        {
          "output_type": "stream",
          "name": "stdout",
          "text": [
            "Predicted label: sexist\n",
            "Elapsed time: 0:00:31.440734\n",
            "\n",
            "Testing sample 25/300 (Index: 23)\n",
            "Text: I get the impression that incel never skipped a meal in his life.\n",
            "True label: not sexist\n"
          ]
        },
        {
          "output_type": "stream",
          "name": "stderr",
          "text": [
            "Setting `pad_token_id` to `eos_token_id`:None for open-end generation.\n"
          ]
        },
        {
          "output_type": "stream",
          "name": "stdout",
          "text": [
            "Predicted label: sexist\n",
            "Elapsed time: 0:00:32.757146\n",
            "\n",
            "Testing sample 26/300 (Index: 79)\n",
            "Text: OMG you think I can slay Asian pussy I already have 5 Asian girlfriends but I need 10 to not be considered an incel. I’m going to take over the whole continent\n",
            "True label: sexist\n"
          ]
        },
        {
          "output_type": "stream",
          "name": "stderr",
          "text": [
            "Setting `pad_token_id` to `eos_token_id`:None for open-end generation.\n"
          ]
        },
        {
          "output_type": "stream",
          "name": "stdout",
          "text": [
            "Predicted label: sexist\n",
            "Elapsed time: 0:00:34.051953\n",
            "\n",
            "Testing sample 27/300 (Index: 276)\n",
            "Text: Trump extortionist Stormy Daniels to facilitate cryptocurrency payments on her website for porn content - [URL] #news #finance #bitcoin #stormydaniels\n",
            "True label: not sexist\n"
          ]
        },
        {
          "output_type": "stream",
          "name": "stderr",
          "text": [
            "Setting `pad_token_id` to `eos_token_id`:None for open-end generation.\n"
          ]
        },
        {
          "output_type": "stream",
          "name": "stdout",
          "text": [
            "Predicted label: sexist\n",
            "Elapsed time: 0:00:35.346541\n",
            "\n",
            "Testing sample 28/300 (Index: 3)\n",
            "Text: Excellent, I was just looking at another post where the female fvcked men to get grades, why support that, or even risk exposing ourselves to that type of fraudulent behavior.\n",
            "True label: not sexist\n"
          ]
        },
        {
          "output_type": "stream",
          "name": "stderr",
          "text": [
            "Setting `pad_token_id` to `eos_token_id`:None for open-end generation.\n"
          ]
        },
        {
          "output_type": "stream",
          "name": "stdout",
          "text": [
            "Predicted label: sexist\n",
            "Elapsed time: 0:00:36.647632\n",
            "\n",
            "Testing sample 29/300 (Index: 92)\n",
            "Text: courage precludes the wise and strong from prostrating to his base emotions. let the woman freak out. were cooler under pressure, so lets be cool under pressure. let the women attack us physically, were stronger. being punched by a woman is a joke.\n",
            "True label: sexist\n"
          ]
        },
        {
          "output_type": "stream",
          "name": "stderr",
          "text": [
            "Setting `pad_token_id` to `eos_token_id`:None for open-end generation.\n"
          ]
        },
        {
          "output_type": "stream",
          "name": "stdout",
          "text": [
            "Predicted label: sexist\n",
            "Elapsed time: 0:00:37.952747\n",
            "\n",
            "Testing sample 30/300 (Index: 79)\n",
            "Text: OMG you think I can slay Asian pussy I already have 5 Asian girlfriends but I need 10 to not be considered an incel. I’m going to take over the whole continent\n",
            "True label: sexist\n"
          ]
        },
        {
          "output_type": "stream",
          "name": "stderr",
          "text": [
            "Setting `pad_token_id` to `eos_token_id`:None for open-end generation.\n"
          ]
        },
        {
          "output_type": "stream",
          "name": "stdout",
          "text": [
            "Predicted label: sexist\n",
            "Elapsed time: 0:00:39.245632\n",
            "\n",
            "Testing sample 31/300 (Index: 84)\n",
            "Text: I hope the DOJ goes after EVERY DEMOCRAT for ANY tax, bank, campaign fraud they can find. ANY of it! EVEN IF from 10 years ago. These political prosecutions will only end when the dems cry \"Uncle!\"\n",
            "True label: not sexist\n"
          ]
        },
        {
          "output_type": "stream",
          "name": "stderr",
          "text": [
            "Setting `pad_token_id` to `eos_token_id`:None for open-end generation.\n"
          ]
        },
        {
          "output_type": "stream",
          "name": "stdout",
          "text": [
            "Predicted label: sexist\n",
            "Elapsed time: 0:00:40.546105\n",
            "\n",
            "Testing sample 32/300 (Index: 221)\n",
            "Text: If your a simp women will destroy you. If you tell them to fuck off they are MUCH more likely to leave you alone. Choose.\n",
            "True label: sexist\n"
          ]
        },
        {
          "output_type": "stream",
          "name": "stderr",
          "text": [
            "Setting `pad_token_id` to `eos_token_id`:None for open-end generation.\n"
          ]
        },
        {
          "output_type": "stream",
          "name": "stdout",
          "text": [
            "Predicted label: sexist\n",
            "Elapsed time: 0:00:41.914683\n",
            "\n",
            "Testing sample 33/300 (Index: 257)\n",
            "Text: Rrrrrr im going to fuck u in the ass for this\n",
            "True label: not sexist\n"
          ]
        },
        {
          "output_type": "stream",
          "name": "stderr",
          "text": [
            "Setting `pad_token_id` to `eos_token_id`:None for open-end generation.\n"
          ]
        },
        {
          "output_type": "stream",
          "name": "stdout",
          "text": [
            "Predicted label: sexist\n",
            "Elapsed time: 0:00:43.332647\n",
            "\n",
            "Testing sample 34/300 (Index: 211)\n",
            "Text: She's not crying. She's probably texting her friends complaining about the Fags at the gym.\n",
            "True label: not sexist\n"
          ]
        },
        {
          "output_type": "stream",
          "name": "stderr",
          "text": [
            "Setting `pad_token_id` to `eos_token_id`:None for open-end generation.\n"
          ]
        },
        {
          "output_type": "stream",
          "name": "stdout",
          "text": [
            "Predicted label: sexist\n",
            "Elapsed time: 0:00:44.790280\n",
            "\n",
            "Testing sample 35/300 (Index: 165)\n",
            "Text: Tell that to Weev you lying shitskin son of a bitch.\n",
            "True label: sexist\n"
          ]
        },
        {
          "output_type": "stream",
          "name": "stderr",
          "text": [
            "Setting `pad_token_id` to `eos_token_id`:None for open-end generation.\n"
          ]
        },
        {
          "output_type": "stream",
          "name": "stdout",
          "text": [
            "Predicted label: sexist\n",
            "Elapsed time: 0:00:46.216873\n",
            "\n",
            "Testing sample 36/300 (Index: 173)\n",
            "Text: How many gun activists can attack a gun owner or their home before one of them get shot and then the activist will use it to esculate their actions including the confiscation laws you know they want.\n",
            "True label: not sexist\n"
          ]
        },
        {
          "output_type": "stream",
          "name": "stderr",
          "text": [
            "Setting `pad_token_id` to `eos_token_id`:None for open-end generation.\n"
          ]
        },
        {
          "output_type": "stream",
          "name": "stdout",
          "text": [
            "Predicted label: sexist\n",
            "Elapsed time: 0:00:47.516745\n",
            "\n",
            "Testing sample 37/300 (Index: 140)\n",
            "Text: Karma's a bitch!\n",
            "True label: sexist\n"
          ]
        },
        {
          "output_type": "stream",
          "name": "stderr",
          "text": [
            "Setting `pad_token_id` to `eos_token_id`:None for open-end generation.\n"
          ]
        },
        {
          "output_type": "stream",
          "name": "stdout",
          "text": [
            "Predicted label: sexist\n",
            "Elapsed time: 0:00:48.801754\n",
            "\n",
            "Testing sample 38/300 (Index: 70)\n",
            "Text: Hillary Clinton fucking delivered a damn BlackHawk helicopter to ISIS Leader Baghdadi as a GIFT!!!! How sweet of her!!! The Bitch!\n",
            "True label: sexist\n"
          ]
        },
        {
          "output_type": "stream",
          "name": "stderr",
          "text": [
            "Setting `pad_token_id` to `eos_token_id`:None for open-end generation.\n"
          ]
        },
        {
          "output_type": "stream",
          "name": "stdout",
          "text": [
            "Predicted label: sexist\n",
            "Elapsed time: 0:00:50.075881\n",
            "\n",
            "Testing sample 39/300 (Index: 43)\n",
            "Text: statistic.. because women don't find plurals attractive, i say statistic not statistics stay true to yourselves fat shy introverts\n",
            "True label: sexist\n"
          ]
        },
        {
          "output_type": "stream",
          "name": "stderr",
          "text": [
            "Setting `pad_token_id` to `eos_token_id`:None for open-end generation.\n"
          ]
        },
        {
          "output_type": "stream",
          "name": "stdout",
          "text": [
            "Predicted label: sexist\n",
            "Elapsed time: 0:00:51.358243\n",
            "\n",
            "Testing sample 40/300 (Index: 107)\n",
            "Text: well it is disgusting. but if she wants to get eaten out find another man\n",
            "True label: not sexist\n"
          ]
        },
        {
          "output_type": "stream",
          "name": "stderr",
          "text": [
            "Setting `pad_token_id` to `eos_token_id`:None for open-end generation.\n"
          ]
        },
        {
          "output_type": "stream",
          "name": "stdout",
          "text": [
            "Predicted label: sexist\n",
            "Elapsed time: 0:00:52.638197\n",
            "\n",
            "Testing sample 41/300 (Index: 165)\n",
            "Text: Tell that to Weev you lying shitskin son of a bitch.\n",
            "True label: sexist\n"
          ]
        },
        {
          "output_type": "stream",
          "name": "stderr",
          "text": [
            "Setting `pad_token_id` to `eos_token_id`:None for open-end generation.\n"
          ]
        },
        {
          "output_type": "stream",
          "name": "stdout",
          "text": [
            "Predicted label: sexist\n",
            "Elapsed time: 0:00:53.922020\n",
            "\n",
            "Testing sample 42/300 (Index: 116)\n",
            "Text: Whores pimped out by ma n pa.\n",
            "True label: sexist\n"
          ]
        },
        {
          "output_type": "stream",
          "name": "stderr",
          "text": [
            "Setting `pad_token_id` to `eos_token_id`:None for open-end generation.\n"
          ]
        },
        {
          "output_type": "stream",
          "name": "stdout",
          "text": [
            "Predicted label: sexist\n",
            "Elapsed time: 0:00:55.197885\n",
            "\n",
            "Testing sample 43/300 (Index: 121)\n",
            "Text: Oh my GAWD! This woman needs to be cuffed immediatly [URL] I can not wait to see what #Wikileaks has in store next week! .... Is this the work of #KimDotCom Something is getting ready to explode Major #FreedomBoner\n",
            "True label: not sexist\n"
          ]
        },
        {
          "output_type": "stream",
          "name": "stderr",
          "text": [
            "Setting `pad_token_id` to `eos_token_id`:None for open-end generation.\n"
          ]
        },
        {
          "output_type": "stream",
          "name": "stdout",
          "text": [
            "Predicted label: sexist\n",
            "Elapsed time: 0:00:56.579486\n",
            "\n",
            "Testing sample 44/300 (Index: 35)\n",
            "Text: There was an experiment where the scientists were introducing the value of the money to monkeys or chimpanzees. Just little shiny discs they could trade for food and things. It didn't take the females long to start selling sex. Well, there you go.\n",
            "True label: sexist\n"
          ]
        },
        {
          "output_type": "stream",
          "name": "stderr",
          "text": [
            "Setting `pad_token_id` to `eos_token_id`:None for open-end generation.\n"
          ]
        },
        {
          "output_type": "stream",
          "name": "stdout",
          "text": [
            "Predicted label: sexist\n",
            "Elapsed time: 0:00:57.979893\n",
            "\n",
            "Testing sample 45/300 (Index: 232)\n",
            "Text: How many fat women who got wimps locked actually started working out?\n",
            "True label: not sexist\n"
          ]
        },
        {
          "output_type": "stream",
          "name": "stderr",
          "text": [
            "Setting `pad_token_id` to `eos_token_id`:None for open-end generation.\n"
          ]
        },
        {
          "output_type": "stream",
          "name": "stdout",
          "text": [
            "Predicted label: sexist\n",
            "Elapsed time: 0:00:59.259722\n",
            "\n",
            "Testing sample 46/300 (Index: 80)\n",
            "Text: Damn...this pisses me off to no end! These mother fuckers need to start gracing the halls of maximum security federal facilities!\n",
            "True label: not sexist\n"
          ]
        },
        {
          "output_type": "stream",
          "name": "stderr",
          "text": [
            "Setting `pad_token_id` to `eos_token_id`:None for open-end generation.\n"
          ]
        },
        {
          "output_type": "stream",
          "name": "stdout",
          "text": [
            "Predicted label: sexist\n",
            "Elapsed time: 0:01:00.539845\n",
            "\n",
            "Testing sample 47/300 (Index: 247)\n",
            "Text: I don't see why they even bothered, nobody said cellulite wasn't natural, just that it isn't attractive at all. Oh boo hoo women have to deal with having a flawed appearance, cry me a river.\n",
            "True label: sexist\n"
          ]
        },
        {
          "output_type": "stream",
          "name": "stderr",
          "text": [
            "Setting `pad_token_id` to `eos_token_id`:None for open-end generation.\n"
          ]
        },
        {
          "output_type": "stream",
          "name": "stdout",
          "text": [
            "Predicted label: sexist\n",
            "Elapsed time: 0:01:01.824374\n",
            "\n",
            "Testing sample 48/300 (Index: 125)\n",
            "Text: Let’s hope her goal never materializes\n",
            "True label: not sexist\n"
          ]
        },
        {
          "output_type": "stream",
          "name": "stderr",
          "text": [
            "Setting `pad_token_id` to `eos_token_id`:None for open-end generation.\n"
          ]
        },
        {
          "output_type": "stream",
          "name": "stdout",
          "text": [
            "Predicted label: sexist\n",
            "Elapsed time: 0:01:03.101237\n",
            "\n",
            "Testing sample 49/300 (Index: 184)\n",
            "Text: Pretty soon, looking at a woman is \"eye rape\". All men should move to Mars and leave this stinking Earth to women.\n",
            "True label: sexist\n"
          ]
        },
        {
          "output_type": "stream",
          "name": "stderr",
          "text": [
            "Setting `pad_token_id` to `eos_token_id`:None for open-end generation.\n"
          ]
        },
        {
          "output_type": "stream",
          "name": "stdout",
          "text": [
            "Predicted label: sexist\n",
            "Elapsed time: 0:01:04.385530\n",
            "\n",
            "Testing sample 50/300 (Index: 137)\n",
            "Text: Feminist ignore RACE when it comes to rape statistics - are cops falsely arresting nignogs darkies for rape? Or are nignog darkies raping whityle women as if nignogs are too retarded for civil society?\n",
            "True label: not sexist\n"
          ]
        },
        {
          "output_type": "stream",
          "name": "stderr",
          "text": [
            "Setting `pad_token_id` to `eos_token_id`:None for open-end generation.\n"
          ]
        },
        {
          "output_type": "stream",
          "name": "stdout",
          "text": [
            "Predicted label: sexist\n",
            "Elapsed time: 0:01:05.657005\n",
            "\n",
            "Testing sample 51/300 (Index: 159)\n",
            "Text: I see. I hope that your balls are metaphorical, little lady.\n",
            "True label: not sexist\n"
          ]
        },
        {
          "output_type": "stream",
          "name": "stderr",
          "text": [
            "Setting `pad_token_id` to `eos_token_id`:None for open-end generation.\n"
          ]
        },
        {
          "output_type": "stream",
          "name": "stdout",
          "text": [
            "Predicted label: sexist\n",
            "Elapsed time: 0:01:06.949954\n",
            "\n",
            "Testing sample 52/300 (Index: 251)\n",
            "Text: so they confirm being a women means being a hole. sexist pig vice! REEEEEEEE\n",
            "True label: sexist\n"
          ]
        },
        {
          "output_type": "stream",
          "name": "stderr",
          "text": [
            "Setting `pad_token_id` to `eos_token_id`:None for open-end generation.\n"
          ]
        },
        {
          "output_type": "stream",
          "name": "stdout",
          "text": [
            "Predicted label: sexist\n",
            "Elapsed time: 0:01:08.222080\n",
            "\n",
            "Testing sample 53/300 (Index: 38)\n",
            "Text: Yes, let's all be LECTURED by a Jack-ass like this Jimbo Bono's Bud in Red #BoycottedOscars #BoycottHollywood\n",
            "True label: not sexist\n"
          ]
        },
        {
          "output_type": "stream",
          "name": "stderr",
          "text": [
            "Setting `pad_token_id` to `eos_token_id`:None for open-end generation.\n"
          ]
        },
        {
          "output_type": "stream",
          "name": "stdout",
          "text": [
            "Predicted label: sexist\n",
            "Elapsed time: 0:01:09.557274\n",
            "\n",
            "Testing sample 54/300 (Index: 72)\n",
            "Text: But he’s tall, surely she wouldn’t cheat on him with a 5’11 Jeremy Meeks\n",
            "True label: not sexist\n"
          ]
        },
        {
          "output_type": "stream",
          "name": "stderr",
          "text": [
            "Setting `pad_token_id` to `eos_token_id`:None for open-end generation.\n"
          ]
        },
        {
          "output_type": "stream",
          "name": "stdout",
          "text": [
            "Predicted label: sexist\n",
            "Elapsed time: 0:01:10.937717\n",
            "\n",
            "Testing sample 55/300 (Index: 258)\n",
            "Text: Can't hit girls though......but.... a c@#t punt might be an idea..\n",
            "True label: sexist\n"
          ]
        },
        {
          "output_type": "stream",
          "name": "stderr",
          "text": [
            "Setting `pad_token_id` to `eos_token_id`:None for open-end generation.\n"
          ]
        },
        {
          "output_type": "stream",
          "name": "stdout",
          "text": [
            "Predicted label: sexist\n",
            "Elapsed time: 0:01:12.227857\n",
            "\n",
            "Testing sample 56/300 (Index: 121)\n",
            "Text: Oh my GAWD! This woman needs to be cuffed immediatly [URL] I can not wait to see what #Wikileaks has in store next week! .... Is this the work of #KimDotCom Something is getting ready to explode Major #FreedomBoner\n",
            "True label: not sexist\n"
          ]
        },
        {
          "output_type": "stream",
          "name": "stderr",
          "text": [
            "Setting `pad_token_id` to `eos_token_id`:None for open-end generation.\n"
          ]
        },
        {
          "output_type": "stream",
          "name": "stdout",
          "text": [
            "Predicted label: sexist\n",
            "Elapsed time: 0:01:13.500271\n",
            "\n",
            "Testing sample 57/300 (Index: 153)\n",
            "Text: There’s no way that bitch is coordinated enough to pull that off.\n",
            "True label: sexist\n"
          ]
        },
        {
          "output_type": "stream",
          "name": "stderr",
          "text": [
            "Setting `pad_token_id` to `eos_token_id`:None for open-end generation.\n"
          ]
        },
        {
          "output_type": "stream",
          "name": "stdout",
          "text": [
            "Predicted label: sexist\n",
            "Elapsed time: 0:01:14.772335\n",
            "\n",
            "Testing sample 58/300 (Index: 38)\n",
            "Text: Yes, let's all be LECTURED by a Jack-ass like this Jimbo Bono's Bud in Red #BoycottedOscars #BoycottHollywood\n",
            "True label: not sexist\n"
          ]
        },
        {
          "output_type": "stream",
          "name": "stderr",
          "text": [
            "Setting `pad_token_id` to `eos_token_id`:None for open-end generation.\n"
          ]
        },
        {
          "output_type": "stream",
          "name": "stdout",
          "text": [
            "Predicted label: sexist\n",
            "Elapsed time: 0:01:16.040185\n",
            "\n",
            "Testing sample 59/300 (Index: 85)\n",
            "Text: The mormans have female cucks. We literally outlawed it because it's bad for scociety.\n",
            "True label: not sexist\n"
          ]
        },
        {
          "output_type": "stream",
          "name": "stderr",
          "text": [
            "Setting `pad_token_id` to `eos_token_id`:None for open-end generation.\n"
          ]
        },
        {
          "output_type": "stream",
          "name": "stdout",
          "text": [
            "Predicted label: sexist\n",
            "Elapsed time: 0:01:17.317709\n",
            "\n",
            "Testing sample 60/300 (Index: 79)\n",
            "Text: OMG you think I can slay Asian pussy I already have 5 Asian girlfriends but I need 10 to not be considered an incel. I’m going to take over the whole continent\n",
            "True label: sexist\n"
          ]
        },
        {
          "output_type": "stream",
          "name": "stderr",
          "text": [
            "Setting `pad_token_id` to `eos_token_id`:None for open-end generation.\n"
          ]
        },
        {
          "output_type": "stream",
          "name": "stdout",
          "text": [
            "Predicted label: sexist\n",
            "Elapsed time: 0:01:18.592044\n",
            "\n",
            "Testing sample 61/300 (Index: 197)\n",
            "Text: The moment my mom divorced my dad and went riding the cock carousel I knew I’d never date again. Seven years later I’ve held up. Been a great 7 years.\n",
            "True label: sexist\n"
          ]
        },
        {
          "output_type": "stream",
          "name": "stderr",
          "text": [
            "Setting `pad_token_id` to `eos_token_id`:None for open-end generation.\n"
          ]
        },
        {
          "output_type": "stream",
          "name": "stdout",
          "text": [
            "Predicted label: sexist\n",
            "Elapsed time: 0:01:19.871480\n",
            "\n",
            "Testing sample 62/300 (Index: 137)\n",
            "Text: Feminist ignore RACE when it comes to rape statistics - are cops falsely arresting nignogs darkies for rape? Or are nignog darkies raping whityle women as if nignogs are too retarded for civil society?\n",
            "True label: not sexist\n"
          ]
        },
        {
          "output_type": "stream",
          "name": "stderr",
          "text": [
            "Setting `pad_token_id` to `eos_token_id`:None for open-end generation.\n"
          ]
        },
        {
          "output_type": "stream",
          "name": "stdout",
          "text": [
            "Predicted label: sexist\n",
            "Elapsed time: 0:01:21.137025\n",
            "\n",
            "Testing sample 63/300 (Index: 289)\n",
            "Text: Damn now i have an idea. Making a fake Chad account and getting multiple roasties emotionally invested and then breaking their hearts, if they even have one. I shall find out for SCIENCE.\n",
            "True label: sexist\n"
          ]
        },
        {
          "output_type": "stream",
          "name": "stderr",
          "text": [
            "Setting `pad_token_id` to `eos_token_id`:None for open-end generation.\n"
          ]
        },
        {
          "output_type": "stream",
          "name": "stdout",
          "text": [
            "Predicted label: sexist\n",
            "Elapsed time: 0:01:22.485644\n",
            "\n",
            "Testing sample 64/300 (Index: 212)\n",
            "Text: It hasn't for many because this greedy bastard had to try and get it all for himself.\n",
            "True label: not sexist\n"
          ]
        },
        {
          "output_type": "stream",
          "name": "stderr",
          "text": [
            "Setting `pad_token_id` to `eos_token_id`:None for open-end generation.\n"
          ]
        },
        {
          "output_type": "stream",
          "name": "stdout",
          "text": [
            "Predicted label: sexist\n",
            "Elapsed time: 0:01:23.855121\n",
            "\n",
            "Testing sample 65/300 (Index: 289)\n",
            "Text: Damn now i have an idea. Making a fake Chad account and getting multiple roasties emotionally invested and then breaking their hearts, if they even have one. I shall find out for SCIENCE.\n",
            "True label: sexist\n"
          ]
        },
        {
          "output_type": "stream",
          "name": "stderr",
          "text": [
            "Setting `pad_token_id` to `eos_token_id`:None for open-end generation.\n"
          ]
        },
        {
          "output_type": "stream",
          "name": "stdout",
          "text": [
            "Predicted label: sexist\n",
            "Elapsed time: 0:01:25.144125\n",
            "\n",
            "Testing sample 66/300 (Index: 17)\n",
            "Text: Na he's not flirting with her so she's reading him as gay.\n",
            "True label: not sexist\n"
          ]
        },
        {
          "output_type": "stream",
          "name": "stderr",
          "text": [
            "Setting `pad_token_id` to `eos_token_id`:None for open-end generation.\n"
          ]
        },
        {
          "output_type": "stream",
          "name": "stdout",
          "text": [
            "Predicted label: sexist\n",
            "Elapsed time: 0:01:26.428378\n",
            "\n",
            "Testing sample 67/300 (Index: 89)\n",
            "Text: \"just smile even though you want to kill yourself, bro\"\n",
            "True label: not sexist\n"
          ]
        },
        {
          "output_type": "stream",
          "name": "stderr",
          "text": [
            "Setting `pad_token_id` to `eos_token_id`:None for open-end generation.\n"
          ]
        },
        {
          "output_type": "stream",
          "name": "stdout",
          "text": [
            "Predicted label: sexist\n",
            "Elapsed time: 0:01:27.708842\n",
            "\n",
            "Testing sample 68/300 (Index: 88)\n",
            "Text: And if he was a male sex slave he'd bitch and whine\n",
            "True label: sexist\n"
          ]
        },
        {
          "output_type": "stream",
          "name": "stderr",
          "text": [
            "Setting `pad_token_id` to `eos_token_id`:None for open-end generation.\n"
          ]
        },
        {
          "output_type": "stream",
          "name": "stdout",
          "text": [
            "Predicted label: sexist\n",
            "Elapsed time: 0:01:28.984143\n",
            "\n",
            "Testing sample 69/300 (Index: 97)\n",
            "Text: Damn right. Contraceptives and carpet bombs. We made 'em, we can take 'em out. It is our right as the reason why they exist in the first place, we are their gods. We can giveth and we can taketh away. / Too far ?\n",
            "True label: not sexist\n"
          ]
        },
        {
          "output_type": "stream",
          "name": "stderr",
          "text": [
            "Setting `pad_token_id` to `eos_token_id`:None for open-end generation.\n"
          ]
        },
        {
          "output_type": "stream",
          "name": "stdout",
          "text": [
            "Predicted label: sexist\n",
            "Elapsed time: 0:01:30.250375\n",
            "\n",
            "Testing sample 70/300 (Index: 97)\n",
            "Text: Damn right. Contraceptives and carpet bombs. We made 'em, we can take 'em out. It is our right as the reason why they exist in the first place, we are their gods. We can giveth and we can taketh away. / Too far ?\n",
            "True label: not sexist\n"
          ]
        },
        {
          "output_type": "stream",
          "name": "stderr",
          "text": [
            "Setting `pad_token_id` to `eos_token_id`:None for open-end generation.\n"
          ]
        },
        {
          "output_type": "stream",
          "name": "stdout",
          "text": [
            "Predicted label: sexist\n",
            "Elapsed time: 0:01:31.529207\n",
            "\n",
            "Testing sample 71/300 (Index: 204)\n",
            "Text: What an evil traitorous bitch\n",
            "True label: sexist\n"
          ]
        },
        {
          "output_type": "stream",
          "name": "stderr",
          "text": [
            "Setting `pad_token_id` to `eos_token_id`:None for open-end generation.\n"
          ]
        },
        {
          "output_type": "stream",
          "name": "stdout",
          "text": [
            "Predicted label: sexist\n",
            "Elapsed time: 0:01:32.819390\n",
            "\n",
            "Testing sample 72/300 (Index: 226)\n",
            "Text: Twitter hasn't suspended the account? They must really hate guys and whites lol\n",
            "True label: not sexist\n"
          ]
        },
        {
          "output_type": "stream",
          "name": "stderr",
          "text": [
            "Setting `pad_token_id` to `eos_token_id`:None for open-end generation.\n"
          ]
        },
        {
          "output_type": "stream",
          "name": "stdout",
          "text": [
            "Predicted label: sexist\n",
            "Elapsed time: 0:01:34.086545\n",
            "\n",
            "Testing sample 73/300 (Index: 141)\n",
            "Text: Coffee, drink, walk in the park. That way if she's retarded you only wasted 20 mins of your life.\n",
            "True label: not sexist\n"
          ]
        },
        {
          "output_type": "stream",
          "name": "stderr",
          "text": [
            "Setting `pad_token_id` to `eos_token_id`:None for open-end generation.\n"
          ]
        },
        {
          "output_type": "stream",
          "name": "stdout",
          "text": [
            "Predicted label: sexist\n",
            "Elapsed time: 0:01:35.424891\n",
            "\n",
            "Testing sample 74/300 (Index: 14)\n",
            "Text: The queen is not representing herself and a direct descendant of Muhammad & high up in the Catholic church of the illuminati ... so are you surprised about this abuse of children?\n",
            "True label: not sexist\n"
          ]
        },
        {
          "output_type": "stream",
          "name": "stderr",
          "text": [
            "Setting `pad_token_id` to `eos_token_id`:None for open-end generation.\n"
          ]
        },
        {
          "output_type": "stream",
          "name": "stdout",
          "text": [
            "Predicted label: sexist\n",
            "Elapsed time: 0:01:36.790320\n",
            "\n",
            "Testing sample 75/300 (Index: 175)\n",
            "Text: This website needs stronger digital technology... shit takes way too long to post and view... need more RAM bitches!\n",
            "True label: sexist\n"
          ]
        },
        {
          "output_type": "stream",
          "name": "stderr",
          "text": [
            "Setting `pad_token_id` to `eos_token_id`:None for open-end generation.\n"
          ]
        },
        {
          "output_type": "stream",
          "name": "stdout",
          "text": [
            "Predicted label: sexist\n",
            "Elapsed time: 0:01:38.084388\n",
            "\n",
            "Testing sample 76/300 (Index: 243)\n",
            "Text: Womyn are always on the market, or to put it in another way: she's not yours, it's just your turn.\n",
            "True label: sexist\n"
          ]
        },
        {
          "output_type": "stream",
          "name": "stderr",
          "text": [
            "Setting `pad_token_id` to `eos_token_id`:None for open-end generation.\n"
          ]
        },
        {
          "output_type": "stream",
          "name": "stdout",
          "text": [
            "Predicted label: sexist\n",
            "Elapsed time: 0:01:39.357376\n",
            "\n",
            "Testing sample 77/300 (Index: 176)\n",
            "Text: \"Only love can beat hate!\" It was not love that drove the Ottomans from Europe and liberated those they subjugated and oppressed, it was the winged hussars might and bravery.\n",
            "True label: not sexist\n"
          ]
        },
        {
          "output_type": "stream",
          "name": "stderr",
          "text": [
            "Setting `pad_token_id` to `eos_token_id`:None for open-end generation.\n"
          ]
        },
        {
          "output_type": "stream",
          "name": "stdout",
          "text": [
            "Predicted label: sexist\n",
            "Elapsed time: 0:01:40.637275\n",
            "\n",
            "Testing sample 78/300 (Index: 175)\n",
            "Text: This website needs stronger digital technology... shit takes way too long to post and view... need more RAM bitches!\n",
            "True label: sexist\n"
          ]
        },
        {
          "output_type": "stream",
          "name": "stderr",
          "text": [
            "Setting `pad_token_id` to `eos_token_id`:None for open-end generation.\n"
          ]
        },
        {
          "output_type": "stream",
          "name": "stdout",
          "text": [
            "Predicted label: sexist\n",
            "Elapsed time: 0:01:41.921958\n",
            "\n",
            "Testing sample 79/300 (Index: 251)\n",
            "Text: so they confirm being a women means being a hole. sexist pig vice! REEEEEEEE\n",
            "True label: sexist\n"
          ]
        },
        {
          "output_type": "stream",
          "name": "stderr",
          "text": [
            "Setting `pad_token_id` to `eos_token_id`:None for open-end generation.\n"
          ]
        },
        {
          "output_type": "stream",
          "name": "stdout",
          "text": [
            "Predicted label: sexist\n",
            "Elapsed time: 0:01:43.205574\n",
            "\n",
            "Testing sample 80/300 (Index: 242)\n",
            "Text: #Hillary continues to blame everyone but herself. #MAGA #PresidentTrump #FakeNews [URL]\n",
            "True label: not sexist\n"
          ]
        },
        {
          "output_type": "stream",
          "name": "stderr",
          "text": [
            "Setting `pad_token_id` to `eos_token_id`:None for open-end generation.\n"
          ]
        },
        {
          "output_type": "stream",
          "name": "stdout",
          "text": [
            "Predicted label: sexist\n",
            "Elapsed time: 0:01:44.489319\n",
            "\n",
            "Testing sample 81/300 (Index: 127)\n",
            "Text: I have an alt account pretending to be a woman. My mission is making FDS females as toxic as possible I've gotten thousands of up votes while posting grade A bitch shit\n",
            "True label: sexist\n"
          ]
        },
        {
          "output_type": "stream",
          "name": "stderr",
          "text": [
            "Setting `pad_token_id` to `eos_token_id`:None for open-end generation.\n"
          ]
        },
        {
          "output_type": "stream",
          "name": "stdout",
          "text": [
            "Predicted label: sexist\n",
            "Elapsed time: 0:01:45.762054\n",
            "\n",
            "Testing sample 82/300 (Index: 8)\n",
            "Text: That's female fantasy. I have a lot of experience in that field and nurses marry doctors all the time. Something statistics also support.\n",
            "True label: sexist\n"
          ]
        },
        {
          "output_type": "stream",
          "name": "stderr",
          "text": [
            "Setting `pad_token_id` to `eos_token_id`:None for open-end generation.\n"
          ]
        },
        {
          "output_type": "stream",
          "name": "stdout",
          "text": [
            "Predicted label: sexist\n",
            "Elapsed time: 0:01:47.039548\n",
            "\n",
            "Testing sample 83/300 (Index: 286)\n",
            "Text: no, it's just not true shared environment has basically no effect on adult iq the data is clear iq is genetic just don't starve your kid or beat them after that it's genes and chance\n",
            "True label: not sexist\n"
          ]
        },
        {
          "output_type": "stream",
          "name": "stderr",
          "text": [
            "Setting `pad_token_id` to `eos_token_id`:None for open-end generation.\n"
          ]
        },
        {
          "output_type": "stream",
          "name": "stdout",
          "text": [
            "Predicted label: sexist\n",
            "Elapsed time: 0:01:48.422081\n",
            "\n",
            "Testing sample 84/300 (Index: 287)\n",
            "Text: Top kek. Disgusting old cripple resenting Chad for not wanting to fuck her roast beef cunt.\n",
            "True label: sexist\n"
          ]
        },
        {
          "output_type": "stream",
          "name": "stderr",
          "text": [
            "Setting `pad_token_id` to `eos_token_id`:None for open-end generation.\n"
          ]
        },
        {
          "output_type": "stream",
          "name": "stdout",
          "text": [
            "Predicted label: sexist\n",
            "Elapsed time: 0:01:49.815296\n",
            "\n",
            "Testing sample 85/300 (Index: 221)\n",
            "Text: If your a simp women will destroy you. If you tell them to fuck off they are MUCH more likely to leave you alone. Choose.\n",
            "True label: sexist\n"
          ]
        },
        {
          "output_type": "stream",
          "name": "stderr",
          "text": [
            "Setting `pad_token_id` to `eos_token_id`:None for open-end generation.\n"
          ]
        },
        {
          "output_type": "stream",
          "name": "stdout",
          "text": [
            "Predicted label: sexist\n",
            "Elapsed time: 0:01:51.102915\n",
            "\n",
            "Testing sample 86/300 (Index: 294)\n",
            "Text: It's so nice to see these ideas delivered unapologetically, with no concern given to the poor hurt feelings of the feminists who are wrong about them. I'd love to send this blogger some flowers. (Or she might prefer weed. Or catnip.)\n",
            "True label: not sexist\n"
          ]
        },
        {
          "output_type": "stream",
          "name": "stderr",
          "text": [
            "Setting `pad_token_id` to `eos_token_id`:None for open-end generation.\n"
          ]
        },
        {
          "output_type": "stream",
          "name": "stdout",
          "text": [
            "Predicted label: sexist\n",
            "Elapsed time: 0:01:52.400904\n",
            "\n",
            "Testing sample 87/300 (Index: 3)\n",
            "Text: Excellent, I was just looking at another post where the female fvcked men to get grades, why support that, or even risk exposing ourselves to that type of fraudulent behavior.\n",
            "True label: not sexist\n"
          ]
        },
        {
          "output_type": "stream",
          "name": "stderr",
          "text": [
            "Setting `pad_token_id` to `eos_token_id`:None for open-end generation.\n"
          ]
        },
        {
          "output_type": "stream",
          "name": "stdout",
          "text": [
            "Predicted label: sexist\n",
            "Elapsed time: 0:01:53.684936\n",
            "\n",
            "Testing sample 88/300 (Index: 31)\n",
            "Text: I don’t date women with body imperfections. This is why if she has asymmetric breasts, stretch marks, cellulite, a weird vagina etc I ghost after the creampie\n",
            "True label: sexist\n"
          ]
        },
        {
          "output_type": "stream",
          "name": "stderr",
          "text": [
            "Setting `pad_token_id` to `eos_token_id`:None for open-end generation.\n"
          ]
        },
        {
          "output_type": "stream",
          "name": "stdout",
          "text": [
            "Predicted label: sexist\n",
            "Elapsed time: 0:01:54.980025\n",
            "\n",
            "Testing sample 89/300 (Index: 148)\n",
            "Text: Worse. A whore who overestimates her own value.\n",
            "True label: sexist\n"
          ]
        },
        {
          "output_type": "stream",
          "name": "stderr",
          "text": [
            "Setting `pad_token_id` to `eos_token_id`:None for open-end generation.\n"
          ]
        },
        {
          "output_type": "stream",
          "name": "stdout",
          "text": [
            "Predicted label: sexist\n",
            "Elapsed time: 0:01:56.263822\n",
            "\n",
            "Testing sample 90/300 (Index: 284)\n",
            "Text: Don’t hate women I just understand the price that is paid being with them (not sex) and it’s not worth it...AT ALL.\n",
            "True label: sexist\n"
          ]
        },
        {
          "output_type": "stream",
          "name": "stderr",
          "text": [
            "Setting `pad_token_id` to `eos_token_id`:None for open-end generation.\n"
          ]
        },
        {
          "output_type": "stream",
          "name": "stdout",
          "text": [
            "Predicted label: sexist\n",
            "Elapsed time: 0:01:57.554005\n",
            "\n",
            "Testing sample 91/300 (Index: 64)\n",
            "Text: Does this actually work? This seems like the easiest way to get prostitutes, undercover cops, or STDs.\n",
            "True label: not sexist\n"
          ]
        },
        {
          "output_type": "stream",
          "name": "stderr",
          "text": [
            "Setting `pad_token_id` to `eos_token_id`:None for open-end generation.\n"
          ]
        },
        {
          "output_type": "stream",
          "name": "stdout",
          "text": [
            "Predicted label: sexist\n",
            "Elapsed time: 0:01:58.835556\n",
            "\n",
            "Testing sample 92/300 (Index: 243)\n",
            "Text: Womyn are always on the market, or to put it in another way: she's not yours, it's just your turn.\n",
            "True label: sexist\n"
          ]
        },
        {
          "output_type": "stream",
          "name": "stderr",
          "text": [
            "Setting `pad_token_id` to `eos_token_id`:None for open-end generation.\n"
          ]
        },
        {
          "output_type": "stream",
          "name": "stdout",
          "text": [
            "Predicted label: sexist\n",
            "Elapsed time: 0:02:00.109903\n",
            "\n",
            "Testing sample 93/300 (Index: 175)\n",
            "Text: This website needs stronger digital technology... shit takes way too long to post and view... need more RAM bitches!\n",
            "True label: sexist\n"
          ]
        },
        {
          "output_type": "stream",
          "name": "stderr",
          "text": [
            "Setting `pad_token_id` to `eos_token_id`:None for open-end generation.\n"
          ]
        },
        {
          "output_type": "stream",
          "name": "stdout",
          "text": [
            "Predicted label: sexist\n",
            "Elapsed time: 0:02:01.455453\n",
            "\n",
            "Testing sample 94/300 (Index: 191)\n",
            "Text: My cat I had for 15 years died and I broke down a little infront of a plate. Absolutely nothing changed. Just never bring it up again. Think of it as a test for her. If she leaves, she was trash to begin with.\n",
            "True label: not sexist\n"
          ]
        },
        {
          "output_type": "stream",
          "name": "stderr",
          "text": [
            "Setting `pad_token_id` to `eos_token_id`:None for open-end generation.\n"
          ]
        },
        {
          "output_type": "stream",
          "name": "stdout",
          "text": [
            "Predicted label: sexist\n",
            "Elapsed time: 0:02:02.851620\n",
            "\n",
            "Testing sample 95/300 (Index: 199)\n",
            "Text: Little sister basically ruined my life and my family’s at an early age. I’m trying my best to get out of this house pronto.\n",
            "True label: not sexist\n"
          ]
        },
        {
          "output_type": "stream",
          "name": "stderr",
          "text": [
            "Setting `pad_token_id` to `eos_token_id`:None for open-end generation.\n"
          ]
        },
        {
          "output_type": "stream",
          "name": "stdout",
          "text": [
            "Predicted label: sexist\n",
            "Elapsed time: 0:02:04.136661\n",
            "\n",
            "Testing sample 96/300 (Index: 250)\n",
            "Text: You've seduced a girl before right? Just do the same thing with her without the kissing. Pull ya dick out and make er suck for god sakes\n",
            "True label: sexist\n"
          ]
        },
        {
          "output_type": "stream",
          "name": "stderr",
          "text": [
            "Setting `pad_token_id` to `eos_token_id`:None for open-end generation.\n"
          ]
        },
        {
          "output_type": "stream",
          "name": "stdout",
          "text": [
            "Predicted label: sexist\n",
            "Elapsed time: 0:02:05.422320\n",
            "\n",
            "Testing sample 97/300 (Index: 241)\n",
            "Text: either shes a ho or shes not. If shes not u got no shot in 5 minutes. If she is it don't matter what you say ur golden.\n",
            "True label: sexist\n"
          ]
        },
        {
          "output_type": "stream",
          "name": "stderr",
          "text": [
            "Setting `pad_token_id` to `eos_token_id`:None for open-end generation.\n"
          ]
        },
        {
          "output_type": "stream",
          "name": "stdout",
          "text": [
            "Predicted label: sexist\n",
            "Elapsed time: 0:02:06.701776\n",
            "\n",
            "Testing sample 98/300 (Index: 215)\n",
            "Text: I would love to suck her tits\n",
            "True label: not sexist\n"
          ]
        },
        {
          "output_type": "stream",
          "name": "stderr",
          "text": [
            "Setting `pad_token_id` to `eos_token_id`:None for open-end generation.\n"
          ]
        },
        {
          "output_type": "stream",
          "name": "stdout",
          "text": [
            "Predicted label: sexist\n",
            "Elapsed time: 0:02:07.985071\n",
            "\n",
            "Testing sample 99/300 (Index: 298)\n",
            "Text: Thats because all women are different, but all female nature is the same.\n",
            "True label: not sexist\n"
          ]
        },
        {
          "output_type": "stream",
          "name": "stderr",
          "text": [
            "Setting `pad_token_id` to `eos_token_id`:None for open-end generation.\n"
          ]
        },
        {
          "output_type": "stream",
          "name": "stdout",
          "text": [
            "Predicted label: sexist\n",
            "Elapsed time: 0:02:09.259874\n",
            "\n",
            "Testing sample 100/300 (Index: 219)\n",
            "Text: Folks [USER] is what having a small cock looks like Poor little [USER]. Nobody likes him, he has a small pencil dick, he has problems meeting women, and he can't get his testosterone patch dosage correct!\n",
            "True label: not sexist\n"
          ]
        },
        {
          "output_type": "stream",
          "name": "stderr",
          "text": [
            "Setting `pad_token_id` to `eos_token_id`:None for open-end generation.\n"
          ]
        },
        {
          "output_type": "stream",
          "name": "stdout",
          "text": [
            "Predicted label: sexist\n",
            "Elapsed time: 0:02:10.538446\n",
            "\n",
            "Testing sample 101/300 (Index: 248)\n",
            "Text: .It would cause civil war of he was taken out but it seems like he is under #ISrael's balls since he asked them 2 rescue the #WhiteHelmets from Syria not too long ago!\n",
            "True label: not sexist\n"
          ]
        },
        {
          "output_type": "stream",
          "name": "stderr",
          "text": [
            "Setting `pad_token_id` to `eos_token_id`:None for open-end generation.\n"
          ]
        },
        {
          "output_type": "stream",
          "name": "stdout",
          "text": [
            "Predicted label: sexist\n",
            "Elapsed time: 0:02:11.823802\n",
            "\n",
            "Testing sample 102/300 (Index: 193)\n",
            "Text: Sorry but not sorry for the guy. She cheated and he still kept her? What the fuck is wrong with that guy?\n",
            "True label: not sexist\n"
          ]
        },
        {
          "output_type": "stream",
          "name": "stderr",
          "text": [
            "Setting `pad_token_id` to `eos_token_id`:None for open-end generation.\n"
          ]
        },
        {
          "output_type": "stream",
          "name": "stdout",
          "text": [
            "Predicted label: sexist\n",
            "Elapsed time: 0:02:13.118701\n",
            "\n",
            "Testing sample 103/300 (Index: 96)\n",
            "Text: Too many damn emojis.\n",
            "True label: not sexist\n"
          ]
        },
        {
          "output_type": "stream",
          "name": "stderr",
          "text": [
            "Setting `pad_token_id` to `eos_token_id`:None for open-end generation.\n"
          ]
        },
        {
          "output_type": "stream",
          "name": "stdout",
          "text": [
            "Predicted label: sexist\n",
            "Elapsed time: 0:02:14.473408\n",
            "\n",
            "Testing sample 104/300 (Index: 210)\n",
            "Text: So how did men reproduce before the female virus kicked in?\n",
            "True label: sexist\n"
          ]
        },
        {
          "output_type": "stream",
          "name": "stderr",
          "text": [
            "Setting `pad_token_id` to `eos_token_id`:None for open-end generation.\n"
          ]
        },
        {
          "output_type": "stream",
          "name": "stdout",
          "text": [
            "Predicted label: sexist\n",
            "Elapsed time: 0:02:15.847186\n",
            "\n",
            "Testing sample 105/300 (Index: 17)\n",
            "Text: Na he's not flirting with her so she's reading him as gay.\n",
            "True label: not sexist\n"
          ]
        },
        {
          "output_type": "stream",
          "name": "stderr",
          "text": [
            "Setting `pad_token_id` to `eos_token_id`:None for open-end generation.\n"
          ]
        },
        {
          "output_type": "stream",
          "name": "stdout",
          "text": [
            "Predicted label: sexist\n",
            "Elapsed time: 0:02:17.152523\n",
            "\n",
            "Testing sample 106/300 (Index: 112)\n",
            "Text: It probably wanted to suicide but was too much of a pussy.\n",
            "True label: sexist\n"
          ]
        },
        {
          "output_type": "stream",
          "name": "stderr",
          "text": [
            "Setting `pad_token_id` to `eos_token_id`:None for open-end generation.\n"
          ]
        },
        {
          "output_type": "stream",
          "name": "stdout",
          "text": [
            "Predicted label: sexist\n",
            "Elapsed time: 0:02:18.433819\n",
            "\n",
            "Testing sample 107/300 (Index: 266)\n",
            "Text: and whats new about this. a woman can be total garbage, but as long as she is fuckable she gets something.\n",
            "True label: sexist\n"
          ]
        },
        {
          "output_type": "stream",
          "name": "stderr",
          "text": [
            "Setting `pad_token_id` to `eos_token_id`:None for open-end generation.\n"
          ]
        },
        {
          "output_type": "stream",
          "name": "stdout",
          "text": [
            "Predicted label: sexist\n",
            "Elapsed time: 0:02:19.713799\n",
            "\n",
            "Testing sample 108/300 (Index: 158)\n",
            "Text: having sex at 15 is not ok! Let alone a gangbang...damn.... And people like u are trying so desperately to normalize it...at 15....they are just kids man!!\n",
            "True label: not sexist\n"
          ]
        },
        {
          "output_type": "stream",
          "name": "stderr",
          "text": [
            "Setting `pad_token_id` to `eos_token_id`:None for open-end generation.\n"
          ]
        },
        {
          "output_type": "stream",
          "name": "stdout",
          "text": [
            "Predicted label: sexist\n",
            "Elapsed time: 0:02:20.996283\n",
            "\n",
            "Testing sample 109/300 (Index: 265)\n",
            "Text: she says nothing but i know she wishes she had aborted me or that i would die.\n",
            "True label: not sexist\n"
          ]
        },
        {
          "output_type": "stream",
          "name": "stderr",
          "text": [
            "Setting `pad_token_id` to `eos_token_id`:None for open-end generation.\n"
          ]
        },
        {
          "output_type": "stream",
          "name": "stdout",
          "text": [
            "Predicted label: sexist\n",
            "Elapsed time: 0:02:22.288247\n",
            "\n",
            "Testing sample 110/300 (Index: 31)\n",
            "Text: I don’t date women with body imperfections. This is why if she has asymmetric breasts, stretch marks, cellulite, a weird vagina etc I ghost after the creampie\n",
            "True label: sexist\n"
          ]
        },
        {
          "output_type": "stream",
          "name": "stderr",
          "text": [
            "Setting `pad_token_id` to `eos_token_id`:None for open-end generation.\n"
          ]
        },
        {
          "output_type": "stream",
          "name": "stdout",
          "text": [
            "Predicted label: sexist\n",
            "Elapsed time: 0:02:23.572336\n",
            "\n",
            "Testing sample 111/300 (Index: 195)\n",
            "Text: penis 5.5 inch\n",
            "True label: not sexist\n"
          ]
        },
        {
          "output_type": "stream",
          "name": "stderr",
          "text": [
            "Setting `pad_token_id` to `eos_token_id`:None for open-end generation.\n"
          ]
        },
        {
          "output_type": "stream",
          "name": "stdout",
          "text": [
            "Predicted label: sexist\n",
            "Elapsed time: 0:02:24.847246\n",
            "\n",
            "Testing sample 112/300 (Index: 4)\n",
            "Text: So you run back to daddy whenever you need help. I thought men were sooo bad? Lol. Like I said at the end you need the help of men and can't do shit on your own. Your dad must be a major cuck to raise such a stupid daughter, what went wrong\n",
            "True label: sexist\n"
          ]
        },
        {
          "output_type": "stream",
          "name": "stderr",
          "text": [
            "Setting `pad_token_id` to `eos_token_id`:None for open-end generation.\n"
          ]
        },
        {
          "output_type": "stream",
          "name": "stdout",
          "text": [
            "Predicted label: sexist\n",
            "Elapsed time: 0:02:26.119967\n",
            "\n",
            "Testing sample 113/300 (Index: 10)\n",
            "Text: The black African will soon be labeling her a racist. Race card coming soon\n",
            "True label: not sexist\n"
          ]
        },
        {
          "output_type": "stream",
          "name": "stderr",
          "text": [
            "Setting `pad_token_id` to `eos_token_id`:None for open-end generation.\n"
          ]
        },
        {
          "output_type": "stream",
          "name": "stdout",
          "text": [
            "Predicted label: sexist\n",
            "Elapsed time: 0:02:27.464913\n",
            "\n",
            "Testing sample 114/300 (Index: 71)\n",
            "Text: [URL] Obviously written by an incel\n",
            "True label: not sexist\n"
          ]
        },
        {
          "output_type": "stream",
          "name": "stderr",
          "text": [
            "Setting `pad_token_id` to `eos_token_id`:None for open-end generation.\n"
          ]
        },
        {
          "output_type": "stream",
          "name": "stdout",
          "text": [
            "Predicted label: sexist\n",
            "Elapsed time: 0:02:28.842567\n",
            "\n",
            "Testing sample 115/300 (Index: 201)\n",
            "Text: AWALT, yes, but this sounds more than a cunty wife. Get to a hospital ASAP.\n",
            "True label: sexist\n"
          ]
        },
        {
          "output_type": "stream",
          "name": "stderr",
          "text": [
            "Setting `pad_token_id` to `eos_token_id`:None for open-end generation.\n"
          ]
        },
        {
          "output_type": "stream",
          "name": "stdout",
          "text": [
            "Predicted label: sexist\n",
            "Elapsed time: 0:02:30.122768\n",
            "\n",
            "Testing sample 116/300 (Index: 100)\n",
            "Text: The New York Times, ladies and gents: \"truth is...irrelevant, we just hate Trump\" #SpeakFreely #MAGA #GabFam [URL]\n",
            "True label: not sexist\n"
          ]
        },
        {
          "output_type": "stream",
          "name": "stderr",
          "text": [
            "Setting `pad_token_id` to `eos_token_id`:None for open-end generation.\n"
          ]
        },
        {
          "output_type": "stream",
          "name": "stdout",
          "text": [
            "Predicted label: sexist\n",
            "Elapsed time: 0:02:31.397614\n",
            "\n",
            "Testing sample 117/300 (Index: 36)\n",
            "Text: [URL] he should have punched her out she is nothing but a hag from the uk feel free to punch ex pats they are excrement\n",
            "True label: sexist\n"
          ]
        },
        {
          "output_type": "stream",
          "name": "stderr",
          "text": [
            "Setting `pad_token_id` to `eos_token_id`:None for open-end generation.\n"
          ]
        },
        {
          "output_type": "stream",
          "name": "stdout",
          "text": [
            "Predicted label: sexist\n",
            "Elapsed time: 0:02:32.684777\n",
            "\n",
            "Testing sample 118/300 (Index: 207)\n",
            "Text: i expect to have boomers dissing national socialists right up until the communists shoot them all.\n",
            "True label: not sexist\n"
          ]
        },
        {
          "output_type": "stream",
          "name": "stderr",
          "text": [
            "Setting `pad_token_id` to `eos_token_id`:None for open-end generation.\n"
          ]
        },
        {
          "output_type": "stream",
          "name": "stdout",
          "text": [
            "Predicted label: sexist\n",
            "Elapsed time: 0:02:33.966243\n",
            "\n",
            "Testing sample 119/300 (Index: 9)\n",
            "Text: Miss Pony [USER] posting her own home made porn photos Your one sick bitch !\n",
            "True label: sexist\n"
          ]
        },
        {
          "output_type": "stream",
          "name": "stderr",
          "text": [
            "Setting `pad_token_id` to `eos_token_id`:None for open-end generation.\n"
          ]
        },
        {
          "output_type": "stream",
          "name": "stdout",
          "text": [
            "Predicted label: sexist\n",
            "Elapsed time: 0:02:35.239294\n",
            "\n",
            "Testing sample 120/300 (Index: 154)\n",
            "Text: As an Eagle Scout, I'm less than pleased with all of this. If women wanted to destroy the BSA, they've done it.\n",
            "True label: sexist\n"
          ]
        },
        {
          "output_type": "stream",
          "name": "stderr",
          "text": [
            "Setting `pad_token_id` to `eos_token_id`:None for open-end generation.\n"
          ]
        },
        {
          "output_type": "stream",
          "name": "stdout",
          "text": [
            "Predicted label: sexist\n",
            "Elapsed time: 0:02:36.513444\n",
            "\n",
            "Testing sample 121/300 (Index: 249)\n",
            "Text: I know mine is higher with smart women than dumb women. Or rather, it's lower with dumb women because my lack of knowledge or interest in what (Insert celebrity) did comes across as patronizing.\n",
            "True label: sexist\n"
          ]
        },
        {
          "output_type": "stream",
          "name": "stderr",
          "text": [
            "Setting `pad_token_id` to `eos_token_id`:None for open-end generation.\n"
          ]
        },
        {
          "output_type": "stream",
          "name": "stdout",
          "text": [
            "Predicted label: sexist\n",
            "Elapsed time: 0:02:37.800400\n",
            "\n",
            "Testing sample 122/300 (Index: 255)\n",
            "Text: this just this! enjoy it. what a bozo she is..... #Freaky Frederica\n",
            "True label: not sexist\n"
          ]
        },
        {
          "output_type": "stream",
          "name": "stderr",
          "text": [
            "Setting `pad_token_id` to `eos_token_id`:None for open-end generation.\n"
          ]
        },
        {
          "output_type": "stream",
          "name": "stdout",
          "text": [
            "Predicted label: sexist\n",
            "Elapsed time: 0:02:39.077977\n",
            "\n",
            "Testing sample 123/300 (Index: 139)\n",
            "Text: Providing Emotional Support is gay. The best way to pull anyone women included out of depression is squats and nutritious food. You should be leading your girlfriend not being her vagina boy. She already has a vagina she doesn't need a second.\n",
            "True label: sexist\n"
          ]
        },
        {
          "output_type": "stream",
          "name": "stderr",
          "text": [
            "Setting `pad_token_id` to `eos_token_id`:None for open-end generation.\n"
          ]
        },
        {
          "output_type": "stream",
          "name": "stdout",
          "text": [
            "Predicted label: sexist\n",
            "Elapsed time: 0:02:40.410814\n",
            "\n",
            "Testing sample 124/300 (Index: 200)\n",
            "Text: Truefemcels is troll idk about fa, inb4 bbw whaling starts ranting about fa having truecel women\n",
            "True label: not sexist\n"
          ]
        },
        {
          "output_type": "stream",
          "name": "stderr",
          "text": [
            "Setting `pad_token_id` to `eos_token_id`:None for open-end generation.\n"
          ]
        },
        {
          "output_type": "stream",
          "name": "stdout",
          "text": [
            "Predicted label: sexist\n",
            "Elapsed time: 0:02:41.806111\n",
            "\n",
            "Testing sample 125/300 (Index: 116)\n",
            "Text: Whores pimped out by ma n pa.\n",
            "True label: sexist\n"
          ]
        },
        {
          "output_type": "stream",
          "name": "stderr",
          "text": [
            "Setting `pad_token_id` to `eos_token_id`:None for open-end generation.\n"
          ]
        },
        {
          "output_type": "stream",
          "name": "stdout",
          "text": [
            "Predicted label: sexist\n",
            "Elapsed time: 0:02:43.086399\n",
            "\n",
            "Testing sample 126/300 (Index: 136)\n",
            "Text: oh bloody summer okay then take a small gift for her hope she likes it\n",
            "True label: not sexist\n"
          ]
        },
        {
          "output_type": "stream",
          "name": "stderr",
          "text": [
            "Setting `pad_token_id` to `eos_token_id`:None for open-end generation.\n"
          ]
        },
        {
          "output_type": "stream",
          "name": "stdout",
          "text": [
            "Predicted label: sexist\n",
            "Elapsed time: 0:02:44.372170\n",
            "\n",
            "Testing sample 127/300 (Index: 194)\n",
            "Text: CRAZY BIMBO IS BACK! White Uncle Tom: Rachel Dolezal says she's \"Trans-Black.\" Ugh, this dumb bitch! I thought society was through with her! [URL]\n",
            "True label: sexist\n"
          ]
        },
        {
          "output_type": "stream",
          "name": "stderr",
          "text": [
            "Setting `pad_token_id` to `eos_token_id`:None for open-end generation.\n"
          ]
        },
        {
          "output_type": "stream",
          "name": "stdout",
          "text": [
            "Predicted label: sexist\n",
            "Elapsed time: 0:02:45.649172\n",
            "\n",
            "Testing sample 128/300 (Index: 44)\n",
            "Text: They are just so pissed off cuz no woman wants neither one of them and they know it. Both little fat round pigs who probably play tiddlywinks together!\n",
            "True label: not sexist\n"
          ]
        },
        {
          "output_type": "stream",
          "name": "stderr",
          "text": [
            "Setting `pad_token_id` to `eos_token_id`:None for open-end generation.\n"
          ]
        },
        {
          "output_type": "stream",
          "name": "stdout",
          "text": [
            "Predicted label: sexist\n",
            "Elapsed time: 0:02:46.928705\n",
            "\n",
            "Testing sample 129/300 (Index: 110)\n",
            "Text: Don't pay attention to what women say.\n",
            "True label: sexist\n"
          ]
        },
        {
          "output_type": "stream",
          "name": "stderr",
          "text": [
            "Setting `pad_token_id` to `eos_token_id`:None for open-end generation.\n"
          ]
        },
        {
          "output_type": "stream",
          "name": "stdout",
          "text": [
            "Predicted label: sexist\n",
            "Elapsed time: 0:02:48.207182\n",
            "\n",
            "Testing sample 130/300 (Index: 106)\n",
            "Text: Even us girls did this with or without our brothers. I miss those days when we loved earning money. The pride we felt was an amazing feeling. My kids did the same thing. Raised them right and now the grand kids are learning the same lesson. ;-)\n",
            "True label: not sexist\n"
          ]
        },
        {
          "output_type": "stream",
          "name": "stderr",
          "text": [
            "Setting `pad_token_id` to `eos_token_id`:None for open-end generation.\n"
          ]
        },
        {
          "output_type": "stream",
          "name": "stdout",
          "text": [
            "Predicted label: sexist\n",
            "Elapsed time: 0:02:49.489314\n",
            "\n",
            "Testing sample 131/300 (Index: 70)\n",
            "Text: Hillary Clinton fucking delivered a damn BlackHawk helicopter to ISIS Leader Baghdadi as a GIFT!!!! How sweet of her!!! The Bitch!\n",
            "True label: sexist\n"
          ]
        },
        {
          "output_type": "stream",
          "name": "stderr",
          "text": [
            "Setting `pad_token_id` to `eos_token_id`:None for open-end generation.\n"
          ]
        },
        {
          "output_type": "stream",
          "name": "stdout",
          "text": [
            "Predicted label: sexist\n",
            "Elapsed time: 0:02:50.764146\n",
            "\n",
            "Testing sample 132/300 (Index: 157)\n",
            "Text: Fake News media whore.... politicized and sensationalized tragedy, instrumentalized grieving victims, all to prop up ratings (perhaps her 401-k, also) for a sinking, sinking, failing, lying network...She is a A despicable, deranged pos\n",
            "True label: sexist\n"
          ]
        },
        {
          "output_type": "stream",
          "name": "stderr",
          "text": [
            "Setting `pad_token_id` to `eos_token_id`:None for open-end generation.\n"
          ]
        },
        {
          "output_type": "stream",
          "name": "stdout",
          "text": [
            "Predicted label: sexist\n",
            "Elapsed time: 0:02:52.039328\n",
            "\n",
            "Testing sample 133/300 (Index: 246)\n",
            "Text: selection bias - plus most women on tinder are there for validation not sex\n",
            "True label: sexist\n"
          ]
        },
        {
          "output_type": "stream",
          "name": "stderr",
          "text": [
            "Setting `pad_token_id` to `eos_token_id`:None for open-end generation.\n"
          ]
        },
        {
          "output_type": "stream",
          "name": "stdout",
          "text": [
            "Predicted label: sexist\n",
            "Elapsed time: 0:02:53.380942\n",
            "\n",
            "Testing sample 134/300 (Index: 37)\n",
            "Text: Why do women settle down with you after you spent your youth getting your dick wet with as many different pussies as you can? Because people change over time, they mature, they become different than they were ten years ago.\n",
            "True label: sexist\n"
          ]
        },
        {
          "output_type": "stream",
          "name": "stderr",
          "text": [
            "Setting `pad_token_id` to `eos_token_id`:None for open-end generation.\n"
          ]
        },
        {
          "output_type": "stream",
          "name": "stdout",
          "text": [
            "Predicted label: sexist\n",
            "Elapsed time: 0:02:54.754313\n",
            "\n",
            "Testing sample 135/300 (Index: 22)\n",
            "Text: *women spend all free time trying to block male only activities*\n",
            "True label: sexist\n"
          ]
        },
        {
          "output_type": "stream",
          "name": "stderr",
          "text": [
            "Setting `pad_token_id` to `eos_token_id`:None for open-end generation.\n"
          ]
        },
        {
          "output_type": "stream",
          "name": "stdout",
          "text": [
            "Predicted label: sexist\n",
            "Elapsed time: 0:02:56.028764\n",
            "\n",
            "Testing sample 136/300 (Index: 40)\n",
            "Text: How do you make Lady Gaga scream? Bite her clit off.\n",
            "True label: sexist\n"
          ]
        },
        {
          "output_type": "stream",
          "name": "stderr",
          "text": [
            "Setting `pad_token_id` to `eos_token_id`:None for open-end generation.\n"
          ]
        },
        {
          "output_type": "stream",
          "name": "stdout",
          "text": [
            "Predicted label: sexist\n",
            "Elapsed time: 0:02:57.302936\n",
            "\n",
            "Testing sample 137/300 (Index: 168)\n",
            "Text: Add about 400 lbs to her fat ass... And maybe\n",
            "True label: not sexist\n"
          ]
        },
        {
          "output_type": "stream",
          "name": "stderr",
          "text": [
            "Setting `pad_token_id` to `eos_token_id`:None for open-end generation.\n"
          ]
        },
        {
          "output_type": "stream",
          "name": "stdout",
          "text": [
            "Predicted label: sexist\n",
            "Elapsed time: 0:02:58.582803\n",
            "\n",
            "Testing sample 138/300 (Index: 134)\n",
            "Text: No she's not lmao. IRL ratings are sugarcoated. She might be a 5 or a 6 IRL, but her more accurate PSL (puahate-sluthate-lookism) rating is 4. [URL] Large nose, asymmetric jawline and a strong chin.\n",
            "True label: sexist\n"
          ]
        },
        {
          "output_type": "stream",
          "name": "stderr",
          "text": [
            "Setting `pad_token_id` to `eos_token_id`:None for open-end generation.\n"
          ]
        },
        {
          "output_type": "stream",
          "name": "stdout",
          "text": [
            "Predicted label: sexist\n",
            "Elapsed time: 0:02:59.858963\n",
            "\n",
            "Testing sample 139/300 (Index: 111)\n",
            "Text: It's a sickening thought to realize roughly half our nation's population think we're their enemy because we genuinely support our Constitution. They support Social Justice and Gender Neutrality.... #WeCanNoLongerCoexistInPeace\n",
            "True label: not sexist\n"
          ]
        },
        {
          "output_type": "stream",
          "name": "stderr",
          "text": [
            "Setting `pad_token_id` to `eos_token_id`:None for open-end generation.\n"
          ]
        },
        {
          "output_type": "stream",
          "name": "stdout",
          "text": [
            "Predicted label: sexist\n",
            "Elapsed time: 0:03:01.144056\n",
            "\n",
            "Testing sample 140/300 (Index: 59)\n",
            "Text: Greens, eh? The fateful question of the Occident is thus now whether young female university graduates can be continually served with yoga and Pilates courses even amidst the ruins looming on the horizon.\n",
            "True label: sexist\n"
          ]
        },
        {
          "output_type": "stream",
          "name": "stderr",
          "text": [
            "Setting `pad_token_id` to `eos_token_id`:None for open-end generation.\n"
          ]
        },
        {
          "output_type": "stream",
          "name": "stdout",
          "text": [
            "Predicted label: sexist\n",
            "Elapsed time: 0:03:02.437552\n",
            "\n",
            "Testing sample 141/300 (Index: 102)\n",
            "Text: #EmpressMichelle just needs to pack her shit, #stfu and move to Venezuela. Thank you to all the #Libtards who gave us these two pieces of shit [URL]\n",
            "True label: not sexist\n"
          ]
        },
        {
          "output_type": "stream",
          "name": "stderr",
          "text": [
            "Setting `pad_token_id` to `eos_token_id`:None for open-end generation.\n"
          ]
        },
        {
          "output_type": "stream",
          "name": "stdout",
          "text": [
            "Predicted label: sexist\n",
            "Elapsed time: 0:03:03.727421\n",
            "\n",
            "Testing sample 142/300 (Index: 228)\n",
            "Text: [URL] Excellent video, neatly showing how women steal from men. Marriage, meritricious law and diamond rings are all jew inventions that transfer wealth from men to women.\n",
            "True label: sexist\n"
          ]
        },
        {
          "output_type": "stream",
          "name": "stderr",
          "text": [
            "Setting `pad_token_id` to `eos_token_id`:None for open-end generation.\n"
          ]
        },
        {
          "output_type": "stream",
          "name": "stdout",
          "text": [
            "Predicted label: sexist\n",
            "Elapsed time: 0:03:05.003502\n",
            "\n",
            "Testing sample 143/300 (Index: 208)\n",
            "Text: Get packing you miserable freeze-dried old Kike cunt.\n",
            "True label: sexist\n"
          ]
        },
        {
          "output_type": "stream",
          "name": "stderr",
          "text": [
            "Setting `pad_token_id` to `eos_token_id`:None for open-end generation.\n"
          ]
        },
        {
          "output_type": "stream",
          "name": "stdout",
          "text": [
            "Predicted label: sexist\n",
            "Elapsed time: 0:03:06.339286\n",
            "\n",
            "Testing sample 144/300 (Index: 128)\n",
            "Text: Abused for four years, yet she marries him after 2.5 years of abuse? If it were true, then she's a f.....g masochistic moron.\n",
            "True label: sexist\n"
          ]
        },
        {
          "output_type": "stream",
          "name": "stderr",
          "text": [
            "Setting `pad_token_id` to `eos_token_id`:None for open-end generation.\n"
          ]
        },
        {
          "output_type": "stream",
          "name": "stdout",
          "text": [
            "Predicted label: sexist\n",
            "Elapsed time: 0:03:07.762863\n",
            "\n",
            "Testing sample 145/300 (Index: 31)\n",
            "Text: I don’t date women with body imperfections. This is why if she has asymmetric breasts, stretch marks, cellulite, a weird vagina etc I ghost after the creampie\n",
            "True label: sexist\n"
          ]
        },
        {
          "output_type": "stream",
          "name": "stderr",
          "text": [
            "Setting `pad_token_id` to `eos_token_id`:None for open-end generation.\n"
          ]
        },
        {
          "output_type": "stream",
          "name": "stdout",
          "text": [
            "Predicted label: sexist\n",
            "Elapsed time: 0:03:09.046941\n",
            "\n",
            "Testing sample 146/300 (Index: 118)\n",
            "Text: \"Muh poor oppressed women\" What is this retarded faggot shit?\n",
            "True label: sexist\n"
          ]
        },
        {
          "output_type": "stream",
          "name": "stderr",
          "text": [
            "Setting `pad_token_id` to `eos_token_id`:None for open-end generation.\n"
          ]
        },
        {
          "output_type": "stream",
          "name": "stdout",
          "text": [
            "Predicted label: sexist\n",
            "Elapsed time: 0:03:10.321377\n",
            "\n",
            "Testing sample 147/300 (Index: 56)\n",
            "Text: The Latest: Spain suspects bought weapons after first attack - Tyranny News [URL]\n",
            "True label: not sexist\n"
          ]
        },
        {
          "output_type": "stream",
          "name": "stderr",
          "text": [
            "Setting `pad_token_id` to `eos_token_id`:None for open-end generation.\n"
          ]
        },
        {
          "output_type": "stream",
          "name": "stdout",
          "text": [
            "Predicted label: sexist\n",
            "Elapsed time: 0:03:11.603202\n",
            "\n",
            "Testing sample 148/300 (Index: 94)\n",
            "Text: I hate when I see a nigga come /this close 👌/ to saying women need to stick to our roles, but then adds just a pinch of feminist bullshit in a cucked attempt to not look \"sexist\".\n",
            "True label: not sexist\n"
          ]
        },
        {
          "output_type": "stream",
          "name": "stderr",
          "text": [
            "Setting `pad_token_id` to `eos_token_id`:None for open-end generation.\n"
          ]
        },
        {
          "output_type": "stream",
          "name": "stdout",
          "text": [
            "Predicted label: sexist\n",
            "Elapsed time: 0:03:12.892692\n",
            "\n",
            "Testing sample 149/300 (Index: 12)\n",
            "Text: Thanks for the response brotha, I'll work towards it. It's just another nasty remnant of my beta days. But like you said, I'm a man. Men conquer.\n",
            "True label: sexist\n"
          ]
        },
        {
          "output_type": "stream",
          "name": "stderr",
          "text": [
            "Setting `pad_token_id` to `eos_token_id`:None for open-end generation.\n"
          ]
        },
        {
          "output_type": "stream",
          "name": "stdout",
          "text": [
            "Predicted label: sexist\n",
            "Elapsed time: 0:03:14.172583\n",
            "\n",
            "Testing sample 150/300 (Index: 225)\n",
            "Text: Hit her with a club on the back of the head and carry her back to your cave oonga boonga style\n",
            "True label: sexist\n"
          ]
        },
        {
          "output_type": "stream",
          "name": "stderr",
          "text": [
            "Setting `pad_token_id` to `eos_token_id`:None for open-end generation.\n"
          ]
        },
        {
          "output_type": "stream",
          "name": "stdout",
          "text": [
            "Predicted label: sexist\n",
            "Elapsed time: 0:03:15.451838\n",
            "\n",
            "Testing sample 151/300 (Index: 250)\n",
            "Text: You've seduced a girl before right? Just do the same thing with her without the kissing. Pull ya dick out and make er suck for god sakes\n",
            "True label: sexist\n"
          ]
        },
        {
          "output_type": "stream",
          "name": "stderr",
          "text": [
            "Setting `pad_token_id` to `eos_token_id`:None for open-end generation.\n"
          ]
        },
        {
          "output_type": "stream",
          "name": "stdout",
          "text": [
            "Predicted label: sexist\n",
            "Elapsed time: 0:03:16.726833\n",
            "\n",
            "Testing sample 152/300 (Index: 158)\n",
            "Text: having sex at 15 is not ok! Let alone a gangbang...damn.... And people like u are trying so desperately to normalize it...at 15....they are just kids man!!\n",
            "True label: not sexist\n"
          ]
        },
        {
          "output_type": "stream",
          "name": "stderr",
          "text": [
            "Setting `pad_token_id` to `eos_token_id`:None for open-end generation.\n"
          ]
        },
        {
          "output_type": "stream",
          "name": "stdout",
          "text": [
            "Predicted label: sexist\n",
            "Elapsed time: 0:03:18.037528\n",
            "\n",
            "Testing sample 153/300 (Index: 255)\n",
            "Text: this just this! enjoy it. what a bozo she is..... #Freaky Frederica\n",
            "True label: not sexist\n"
          ]
        },
        {
          "output_type": "stream",
          "name": "stderr",
          "text": [
            "Setting `pad_token_id` to `eos_token_id`:None for open-end generation.\n"
          ]
        },
        {
          "output_type": "stream",
          "name": "stdout",
          "text": [
            "Predicted label: sexist\n",
            "Elapsed time: 0:03:19.389938\n",
            "\n",
            "Testing sample 154/300 (Index: 197)\n",
            "Text: The moment my mom divorced my dad and went riding the cock carousel I knew I’d never date again. Seven years later I’ve held up. Been a great 7 years.\n",
            "True label: sexist\n"
          ]
        },
        {
          "output_type": "stream",
          "name": "stderr",
          "text": [
            "Setting `pad_token_id` to `eos_token_id`:None for open-end generation.\n"
          ]
        },
        {
          "output_type": "stream",
          "name": "stdout",
          "text": [
            "Predicted label: sexist\n",
            "Elapsed time: 0:03:20.763221\n",
            "\n",
            "Testing sample 155/300 (Index: 91)\n",
            "Text: I don't know if it would make it past the House but we can try to get a law passed saying that you can't turn your kid into a God damn fucking faggot ass drag queen or else you will spend some time in Federal prison getting boned up the ass.\n",
            "True label: not sexist\n"
          ]
        },
        {
          "output_type": "stream",
          "name": "stderr",
          "text": [
            "Setting `pad_token_id` to `eos_token_id`:None for open-end generation.\n"
          ]
        },
        {
          "output_type": "stream",
          "name": "stdout",
          "text": [
            "Predicted label: sexist\n",
            "Elapsed time: 0:03:22.042362\n",
            "\n",
            "Testing sample 156/300 (Index: 223)\n",
            "Text: What seems to be the case is.... if a female puts in her bio “Venmo me and see what happens”, “if you are not rich don’t HMU”, “if you are fat don’t HMU” then it’s perfectly fine but if a guy has some standards, apparently im a piece of shit.\n",
            "True label: sexist\n"
          ]
        },
        {
          "output_type": "stream",
          "name": "stderr",
          "text": [
            "Setting `pad_token_id` to `eos_token_id`:None for open-end generation.\n"
          ]
        },
        {
          "output_type": "stream",
          "name": "stdout",
          "text": [
            "Predicted label: sexist\n",
            "Elapsed time: 0:03:23.333335\n",
            "\n",
            "Testing sample 157/300 (Index: 65)\n",
            "Text: #Question The amount of muslims?\n",
            "True label: not sexist\n"
          ]
        },
        {
          "output_type": "stream",
          "name": "stderr",
          "text": [
            "Setting `pad_token_id` to `eos_token_id`:None for open-end generation.\n"
          ]
        },
        {
          "output_type": "stream",
          "name": "stdout",
          "text": [
            "Predicted label: sexist\n",
            "Elapsed time: 0:03:24.613217\n",
            "\n",
            "Testing sample 158/300 (Index: 183)\n",
            "Text: Well if you have a penis you have to wear skinny jeans and be a beta, if you own a vagina, don't wash it for a week and bow up and act tough BUT be sure to scream \"you hit a girl\" if you're punched. Oh and if you see a car coming MOVE OUT OF THE WAY!\n",
            "True label: sexist\n"
          ]
        },
        {
          "output_type": "stream",
          "name": "stderr",
          "text": [
            "Setting `pad_token_id` to `eos_token_id`:None for open-end generation.\n"
          ]
        },
        {
          "output_type": "stream",
          "name": "stdout",
          "text": [
            "Predicted label: sexist\n",
            "Elapsed time: 0:03:25.887731\n",
            "\n",
            "Testing sample 159/300 (Index: 60)\n",
            "Text: My state? I'm not Jewish. They literally won't stop until they destroy Israel and kill every Jewish person. Have you even read the Qur'an? It was created to give them a sanctuary if Nazi Germany type countries ever rose up again.\n",
            "True label: not sexist\n"
          ]
        },
        {
          "output_type": "stream",
          "name": "stderr",
          "text": [
            "Setting `pad_token_id` to `eos_token_id`:None for open-end generation.\n"
          ]
        },
        {
          "output_type": "stream",
          "name": "stdout",
          "text": [
            "Predicted label: sexist\n",
            "Elapsed time: 0:03:27.161429\n",
            "\n",
            "Testing sample 160/300 (Index: 259)\n",
            "Text: No women love chads And tyrones with the bbc Women love black men\n",
            "True label: sexist\n"
          ]
        },
        {
          "output_type": "stream",
          "name": "stderr",
          "text": [
            "Setting `pad_token_id` to `eos_token_id`:None for open-end generation.\n"
          ]
        },
        {
          "output_type": "stream",
          "name": "stdout",
          "text": [
            "Predicted label: sexist\n",
            "Elapsed time: 0:03:28.456954\n",
            "\n",
            "Testing sample 161/300 (Index: 123)\n",
            "Text: Good god I'd crawl bare-belly over broken beer bottles just to watch her pee\n",
            "True label: not sexist\n"
          ]
        },
        {
          "output_type": "stream",
          "name": "stderr",
          "text": [
            "Setting `pad_token_id` to `eos_token_id`:None for open-end generation.\n"
          ]
        },
        {
          "output_type": "stream",
          "name": "stdout",
          "text": [
            "Predicted label: sexist\n",
            "Elapsed time: 0:03:29.733958\n",
            "\n",
            "Testing sample 162/300 (Index: 257)\n",
            "Text: Rrrrrr im going to fuck u in the ass for this\n",
            "True label: not sexist\n"
          ]
        },
        {
          "output_type": "stream",
          "name": "stderr",
          "text": [
            "Setting `pad_token_id` to `eos_token_id`:None for open-end generation.\n"
          ]
        },
        {
          "output_type": "stream",
          "name": "stdout",
          "text": [
            "Predicted label: sexist\n",
            "Elapsed time: 0:03:31.011672\n",
            "\n",
            "Testing sample 163/300 (Index: 54)\n",
            "Text: The \"migrant\" first eats her snatch, then the disease eats it.\n",
            "True label: not sexist\n"
          ]
        },
        {
          "output_type": "stream",
          "name": "stderr",
          "text": [
            "Setting `pad_token_id` to `eos_token_id`:None for open-end generation.\n"
          ]
        },
        {
          "output_type": "stream",
          "name": "stdout",
          "text": [
            "Predicted label: sexist\n",
            "Elapsed time: 0:03:32.337793\n",
            "\n",
            "Testing sample 164/300 (Index: 108)\n",
            "Text: \"THIS is the beauty of concealed carry #GunsSaveLives\" by [USER] [URL] , i live in canaduh wish we had women like that here .... sigh\n",
            "True label: not sexist\n"
          ]
        },
        {
          "output_type": "stream",
          "name": "stderr",
          "text": [
            "Setting `pad_token_id` to `eos_token_id`:None for open-end generation.\n"
          ]
        },
        {
          "output_type": "stream",
          "name": "stdout",
          "text": [
            "Predicted label: sexist\n",
            "Elapsed time: 0:03:33.736860\n",
            "\n",
            "Testing sample 165/300 (Index: 27)\n",
            "Text: #Italy: #Muslim #migrant gropes American student’s girlfriend, then #stabs the student twice: [URL]\n",
            "True label: not sexist\n"
          ]
        },
        {
          "output_type": "stream",
          "name": "stderr",
          "text": [
            "Setting `pad_token_id` to `eos_token_id`:None for open-end generation.\n"
          ]
        },
        {
          "output_type": "stream",
          "name": "stdout",
          "text": [
            "Predicted label: sexist\n",
            "Elapsed time: 0:03:35.030062\n",
            "\n",
            "Testing sample 166/300 (Index: 52)\n",
            "Text: Ah, /r/redpillwomen, where ladies are free to speak their minds about any subject they like, so long as it involves either trading recipes or bashing Gloria Steinem. And nothing else.\n",
            "True label: not sexist\n"
          ]
        },
        {
          "output_type": "stream",
          "name": "stderr",
          "text": [
            "Setting `pad_token_id` to `eos_token_id`:None for open-end generation.\n"
          ]
        },
        {
          "output_type": "stream",
          "name": "stdout",
          "text": [
            "Predicted label: sexist\n",
            "Elapsed time: 0:03:36.311668\n",
            "\n",
            "Testing sample 167/300 (Index: 294)\n",
            "Text: It's so nice to see these ideas delivered unapologetically, with no concern given to the poor hurt feelings of the feminists who are wrong about them. I'd love to send this blogger some flowers. (Or she might prefer weed. Or catnip.)\n",
            "True label: not sexist\n"
          ]
        },
        {
          "output_type": "stream",
          "name": "stderr",
          "text": [
            "Setting `pad_token_id` to `eos_token_id`:None for open-end generation.\n"
          ]
        },
        {
          "output_type": "stream",
          "name": "stdout",
          "text": [
            "Predicted label: sexist\n",
            "Elapsed time: 0:03:37.585721\n",
            "\n",
            "Testing sample 168/300 (Index: 107)\n",
            "Text: well it is disgusting. but if she wants to get eaten out find another man\n",
            "True label: not sexist\n"
          ]
        },
        {
          "output_type": "stream",
          "name": "stderr",
          "text": [
            "Setting `pad_token_id` to `eos_token_id`:None for open-end generation.\n"
          ]
        },
        {
          "output_type": "stream",
          "name": "stdout",
          "text": [
            "Predicted label: sexist\n",
            "Elapsed time: 0:03:38.864162\n",
            "\n",
            "Testing sample 169/300 (Index: 189)\n",
            "Text: Of course I’m judgemental. If you can talk about a someone that you haven’t even meet to its fair that I get to judge you isn’t it. Or do you want to be exempt from those standards. Like a women wants.\n",
            "True label: sexist\n"
          ]
        },
        {
          "output_type": "stream",
          "name": "stderr",
          "text": [
            "Setting `pad_token_id` to `eos_token_id`:None for open-end generation.\n"
          ]
        },
        {
          "output_type": "stream",
          "name": "stdout",
          "text": [
            "Predicted label: sexist\n",
            "Elapsed time: 0:03:40.139861\n",
            "\n",
            "Testing sample 170/300 (Index: 200)\n",
            "Text: Truefemcels is troll idk about fa, inb4 bbw whaling starts ranting about fa having truecel women\n",
            "True label: not sexist\n"
          ]
        },
        {
          "output_type": "stream",
          "name": "stderr",
          "text": [
            "Setting `pad_token_id` to `eos_token_id`:None for open-end generation.\n"
          ]
        },
        {
          "output_type": "stream",
          "name": "stdout",
          "text": [
            "Predicted label: sexist\n",
            "Elapsed time: 0:03:41.421895\n",
            "\n",
            "Testing sample 171/300 (Index: 226)\n",
            "Text: Twitter hasn't suspended the account? They must really hate guys and whites lol\n",
            "True label: not sexist\n"
          ]
        },
        {
          "output_type": "stream",
          "name": "stderr",
          "text": [
            "Setting `pad_token_id` to `eos_token_id`:None for open-end generation.\n"
          ]
        },
        {
          "output_type": "stream",
          "name": "stdout",
          "text": [
            "Predicted label: sexist\n",
            "Elapsed time: 0:03:42.699897\n",
            "\n",
            "Testing sample 172/300 (Index: 65)\n",
            "Text: #Question The amount of muslims?\n",
            "True label: not sexist\n"
          ]
        },
        {
          "output_type": "stream",
          "name": "stderr",
          "text": [
            "Setting `pad_token_id` to `eos_token_id`:None for open-end generation.\n"
          ]
        },
        {
          "output_type": "stream",
          "name": "stdout",
          "text": [
            "Predicted label: sexist\n",
            "Elapsed time: 0:03:43.976575\n",
            "\n",
            "Testing sample 173/300 (Index: 220)\n",
            "Text: what have you tried already? I like to point out that nobody blinks when a smaller man starts shit with a larger man and gets his ass beat, men and women are equal right?\n",
            "True label: sexist\n"
          ]
        },
        {
          "output_type": "stream",
          "name": "stderr",
          "text": [
            "Setting `pad_token_id` to `eos_token_id`:None for open-end generation.\n"
          ]
        },
        {
          "output_type": "stream",
          "name": "stdout",
          "text": [
            "Predicted label: sexist\n",
            "Elapsed time: 0:03:45.306526\n",
            "\n",
            "Testing sample 174/300 (Index: 113)\n",
            "Text: No, it's called 'guys like girls that look like bimbos' and it's a trend that needs to die. Yes, some of it is uncanny territory, but the botox lips and hooker paint job is a design choice.\n",
            "True label: sexist\n"
          ]
        },
        {
          "output_type": "stream",
          "name": "stderr",
          "text": [
            "Setting `pad_token_id` to `eos_token_id`:None for open-end generation.\n"
          ]
        },
        {
          "output_type": "stream",
          "name": "stdout",
          "text": [
            "Predicted label: sexist\n",
            "Elapsed time: 0:03:46.699234\n",
            "\n",
            "Testing sample 175/300 (Index: 25)\n",
            "Text: Why did he move out? She's the cheater, she should be forced out.\n",
            "True label: sexist\n"
          ]
        },
        {
          "output_type": "stream",
          "name": "stderr",
          "text": [
            "Setting `pad_token_id` to `eos_token_id`:None for open-end generation.\n"
          ]
        },
        {
          "output_type": "stream",
          "name": "stdout",
          "text": [
            "Predicted label: sexist\n",
            "Elapsed time: 0:03:47.992130\n",
            "\n",
            "Testing sample 176/300 (Index: 273)\n",
            "Text: You have no idea what you are talking about. Just another pussy making excuses for the world you're NOT fixing.\n",
            "True label: sexist\n"
          ]
        },
        {
          "output_type": "stream",
          "name": "stderr",
          "text": [
            "Setting `pad_token_id` to `eos_token_id`:None for open-end generation.\n"
          ]
        },
        {
          "output_type": "stream",
          "name": "stdout",
          "text": [
            "Predicted label: sexist\n",
            "Elapsed time: 0:03:49.272002\n",
            "\n",
            "Testing sample 177/300 (Index: 259)\n",
            "Text: No women love chads And tyrones with the bbc Women love black men\n",
            "True label: sexist\n"
          ]
        },
        {
          "output_type": "stream",
          "name": "stderr",
          "text": [
            "Setting `pad_token_id` to `eos_token_id`:None for open-end generation.\n"
          ]
        },
        {
          "output_type": "stream",
          "name": "stdout",
          "text": [
            "Predicted label: sexist\n",
            "Elapsed time: 0:03:50.549546\n",
            "\n",
            "Testing sample 178/300 (Index: 248)\n",
            "Text: .It would cause civil war of he was taken out but it seems like he is under #ISrael's balls since he asked them 2 rescue the #WhiteHelmets from Syria not too long ago!\n",
            "True label: not sexist\n"
          ]
        },
        {
          "output_type": "stream",
          "name": "stderr",
          "text": [
            "Setting `pad_token_id` to `eos_token_id`:None for open-end generation.\n"
          ]
        },
        {
          "output_type": "stream",
          "name": "stdout",
          "text": [
            "Predicted label: sexist\n",
            "Elapsed time: 0:03:51.833429\n",
            "\n",
            "Testing sample 179/300 (Index: 209)\n",
            "Text: Man already jailed to be arraigned in Tucson girls' slayings [URL] #ToxicDiversity\n",
            "True label: not sexist\n"
          ]
        },
        {
          "output_type": "stream",
          "name": "stderr",
          "text": [
            "Setting `pad_token_id` to `eos_token_id`:None for open-end generation.\n"
          ]
        },
        {
          "output_type": "stream",
          "name": "stdout",
          "text": [
            "Predicted label: sexist\n",
            "Elapsed time: 0:03:53.121398\n",
            "\n",
            "Testing sample 180/300 (Index: 0)\n",
            "Text: The boys must be gaming because there goes the wifi.\n",
            "True label: not sexist\n"
          ]
        },
        {
          "output_type": "stream",
          "name": "stderr",
          "text": [
            "Setting `pad_token_id` to `eos_token_id`:None for open-end generation.\n"
          ]
        },
        {
          "output_type": "stream",
          "name": "stdout",
          "text": [
            "Predicted label: sexist\n",
            "Elapsed time: 0:03:54.407455\n",
            "\n",
            "Testing sample 181/300 (Index: 90)\n",
            "Text: Guys a retard , who wants attention\n",
            "True label: not sexist\n"
          ]
        },
        {
          "output_type": "stream",
          "name": "stderr",
          "text": [
            "Setting `pad_token_id` to `eos_token_id`:None for open-end generation.\n"
          ]
        },
        {
          "output_type": "stream",
          "name": "stdout",
          "text": [
            "Predicted label: sexist\n",
            "Elapsed time: 0:03:55.684152\n",
            "\n",
            "Testing sample 182/300 (Index: 173)\n",
            "Text: How many gun activists can attack a gun owner or their home before one of them get shot and then the activist will use it to esculate their actions including the confiscation laws you know they want.\n",
            "True label: not sexist\n"
          ]
        },
        {
          "output_type": "stream",
          "name": "stderr",
          "text": [
            "Setting `pad_token_id` to `eos_token_id`:None for open-end generation.\n"
          ]
        },
        {
          "output_type": "stream",
          "name": "stdout",
          "text": [
            "Predicted label: sexist\n",
            "Elapsed time: 0:03:56.973931\n",
            "\n",
            "Testing sample 183/300 (Index: 292)\n",
            "Text: You’re a bastard lol. On a side note. I think it’s photoshopped. Those legs are way to thin to support her, and she isn’t even struggling to walk.\n",
            "True label: not sexist\n"
          ]
        },
        {
          "output_type": "stream",
          "name": "stderr",
          "text": [
            "Setting `pad_token_id` to `eos_token_id`:None for open-end generation.\n"
          ]
        },
        {
          "output_type": "stream",
          "name": "stdout",
          "text": [
            "Predicted label: sexist\n",
            "Elapsed time: 0:03:58.306502\n",
            "\n",
            "Testing sample 184/300 (Index: 289)\n",
            "Text: Damn now i have an idea. Making a fake Chad account and getting multiple roasties emotionally invested and then breaking their hearts, if they even have one. I shall find out for SCIENCE.\n",
            "True label: sexist\n"
          ]
        },
        {
          "output_type": "stream",
          "name": "stderr",
          "text": [
            "Setting `pad_token_id` to `eos_token_id`:None for open-end generation.\n"
          ]
        },
        {
          "output_type": "stream",
          "name": "stdout",
          "text": [
            "Predicted label: sexist\n",
            "Elapsed time: 0:03:59.708294\n",
            "\n",
            "Testing sample 185/300 (Index: 91)\n",
            "Text: I don't know if it would make it past the House but we can try to get a law passed saying that you can't turn your kid into a God damn fucking faggot ass drag queen or else you will spend some time in Federal prison getting boned up the ass.\n",
            "True label: not sexist\n"
          ]
        },
        {
          "output_type": "stream",
          "name": "stderr",
          "text": [
            "Setting `pad_token_id` to `eos_token_id`:None for open-end generation.\n"
          ]
        },
        {
          "output_type": "stream",
          "name": "stdout",
          "text": [
            "Predicted label: sexist\n",
            "Elapsed time: 0:04:01.062892\n",
            "\n",
            "Testing sample 186/300 (Index: 87)\n",
            "Text: No thank you I've had my self-confidence destroyed by Indian women since birth\n",
            "True label: sexist\n"
          ]
        },
        {
          "output_type": "stream",
          "name": "stderr",
          "text": [
            "Setting `pad_token_id` to `eos_token_id`:None for open-end generation.\n"
          ]
        },
        {
          "output_type": "stream",
          "name": "stdout",
          "text": [
            "Predicted label: sexist\n",
            "Elapsed time: 0:04:02.445187\n",
            "\n",
            "Testing sample 187/300 (Index: 296)\n",
            "Text: Alexa Chung Her father is 3/4 Chinese if that makes a difference. I'm pretty good at spotting mixes, so she does appear a little different but definitely not appearing like half or even 3/8s asian.\n",
            "True label: not sexist\n"
          ]
        },
        {
          "output_type": "stream",
          "name": "stderr",
          "text": [
            "Setting `pad_token_id` to `eos_token_id`:None for open-end generation.\n"
          ]
        },
        {
          "output_type": "stream",
          "name": "stdout",
          "text": [
            "Predicted label: sexist\n",
            "Elapsed time: 0:04:03.728595\n",
            "\n",
            "Testing sample 188/300 (Index: 290)\n",
            "Text: I had one punch me in the stomach. I return the favor back. First time I ever punch a lady(monster)\n",
            "True label: sexist\n"
          ]
        },
        {
          "output_type": "stream",
          "name": "stderr",
          "text": [
            "Setting `pad_token_id` to `eos_token_id`:None for open-end generation.\n"
          ]
        },
        {
          "output_type": "stream",
          "name": "stdout",
          "text": [
            "Predicted label: sexist\n",
            "Elapsed time: 0:04:05.010140\n",
            "\n",
            "Testing sample 189/300 (Index: 175)\n",
            "Text: This website needs stronger digital technology... shit takes way too long to post and view... need more RAM bitches!\n",
            "True label: sexist\n"
          ]
        },
        {
          "output_type": "stream",
          "name": "stderr",
          "text": [
            "Setting `pad_token_id` to `eos_token_id`:None for open-end generation.\n"
          ]
        },
        {
          "output_type": "stream",
          "name": "stdout",
          "text": [
            "Predicted label: sexist\n",
            "Elapsed time: 0:04:06.288624\n",
            "\n",
            "Testing sample 190/300 (Index: 272)\n",
            "Text: white girl is trash Truly surprising\n",
            "True label: sexist\n"
          ]
        },
        {
          "output_type": "stream",
          "name": "stderr",
          "text": [
            "Setting `pad_token_id` to `eos_token_id`:None for open-end generation.\n"
          ]
        },
        {
          "output_type": "stream",
          "name": "stdout",
          "text": [
            "Predicted label: sexist\n",
            "Elapsed time: 0:04:07.583170\n",
            "\n",
            "Testing sample 191/300 (Index: 73)\n",
            "Text: Raising women and children is demeaning. Allowing strangers to fuck you at will and aborting their unborn children with no consequences of fatherhood is empowering. #feminismiscancer\n",
            "True label: sexist\n"
          ]
        },
        {
          "output_type": "stream",
          "name": "stderr",
          "text": [
            "Setting `pad_token_id` to `eos_token_id`:None for open-end generation.\n"
          ]
        },
        {
          "output_type": "stream",
          "name": "stdout",
          "text": [
            "Predicted label: sexist\n",
            "Elapsed time: 0:04:08.858557\n",
            "\n",
            "Testing sample 192/300 (Index: 48)\n",
            "Text: First. Black Democrats upset that Black unemployment is down. Now. Feminists upset with good looking women so they get Grid girls fired. Next. LGBTQ community wants AIDS to come back.\n",
            "True label: not sexist\n"
          ]
        },
        {
          "output_type": "stream",
          "name": "stderr",
          "text": [
            "Setting `pad_token_id` to `eos_token_id`:None for open-end generation.\n"
          ]
        },
        {
          "output_type": "stream",
          "name": "stdout",
          "text": [
            "Predicted label: sexist\n",
            "Elapsed time: 0:04:10.218635\n",
            "\n",
            "Testing sample 193/300 (Index: 205)\n",
            "Text: I've had enough of leftie bastards,they must worship the devil!\n",
            "True label: not sexist\n"
          ]
        },
        {
          "output_type": "stream",
          "name": "stderr",
          "text": [
            "Setting `pad_token_id` to `eos_token_id`:None for open-end generation.\n"
          ]
        },
        {
          "output_type": "stream",
          "name": "stdout",
          "text": [
            "Predicted label: sexist\n",
            "Elapsed time: 0:04:11.598906\n",
            "\n",
            "Testing sample 194/300 (Index: 64)\n",
            "Text: Does this actually work? This seems like the easiest way to get prostitutes, undercover cops, or STDs.\n",
            "True label: not sexist\n"
          ]
        },
        {
          "output_type": "stream",
          "name": "stderr",
          "text": [
            "Setting `pad_token_id` to `eos_token_id`:None for open-end generation.\n"
          ]
        },
        {
          "output_type": "stream",
          "name": "stdout",
          "text": [
            "Predicted label: sexist\n",
            "Elapsed time: 0:04:13.005956\n",
            "\n",
            "Testing sample 195/300 (Index: 55)\n",
            "Text: Maybe to women that's what slaying means. But to men it's just racking up a pussy count.\n",
            "True label: sexist\n"
          ]
        },
        {
          "output_type": "stream",
          "name": "stderr",
          "text": [
            "Setting `pad_token_id` to `eos_token_id`:None for open-end generation.\n"
          ]
        },
        {
          "output_type": "stream",
          "name": "stdout",
          "text": [
            "Predicted label: sexist\n",
            "Elapsed time: 0:04:14.291284\n",
            "\n",
            "Testing sample 196/300 (Index: 187)\n",
            "Text: Are they going to record all Anti-White hate crimes? Are they going to record every Rape of young White girls by Moslems? Are they going to record every murder of Whites, by Black/Moslems?\n",
            "True label: not sexist\n"
          ]
        },
        {
          "output_type": "stream",
          "name": "stderr",
          "text": [
            "Setting `pad_token_id` to `eos_token_id`:None for open-end generation.\n"
          ]
        },
        {
          "output_type": "stream",
          "name": "stdout",
          "text": [
            "Predicted label: sexist\n",
            "Elapsed time: 0:04:15.574376\n",
            "\n",
            "Testing sample 197/300 (Index: 233)\n",
            "Text: I can give lots of info on this. Dm if you have questions. Yes youll meet lots of women doing this. However it has not made me any more successful with women if Im being honest.\n",
            "True label: not sexist\n"
          ]
        },
        {
          "output_type": "stream",
          "name": "stderr",
          "text": [
            "Setting `pad_token_id` to `eos_token_id`:None for open-end generation.\n"
          ]
        },
        {
          "output_type": "stream",
          "name": "stdout",
          "text": [
            "Predicted label: sexist\n",
            "Elapsed time: 0:04:16.850312\n",
            "\n",
            "Testing sample 198/300 (Index: 219)\n",
            "Text: Folks [USER] is what having a small cock looks like Poor little [USER]. Nobody likes him, he has a small pencil dick, he has problems meeting women, and he can't get his testosterone patch dosage correct!\n",
            "True label: not sexist\n"
          ]
        },
        {
          "output_type": "stream",
          "name": "stderr",
          "text": [
            "Setting `pad_token_id` to `eos_token_id`:None for open-end generation.\n"
          ]
        },
        {
          "output_type": "stream",
          "name": "stdout",
          "text": [
            "Predicted label: sexist\n",
            "Elapsed time: 0:04:18.126026\n",
            "\n",
            "Testing sample 199/300 (Index: 97)\n",
            "Text: Damn right. Contraceptives and carpet bombs. We made 'em, we can take 'em out. It is our right as the reason why they exist in the first place, we are their gods. We can giveth and we can taketh away. / Too far ?\n",
            "True label: not sexist\n"
          ]
        },
        {
          "output_type": "stream",
          "name": "stderr",
          "text": [
            "Setting `pad_token_id` to `eos_token_id`:None for open-end generation.\n"
          ]
        },
        {
          "output_type": "stream",
          "name": "stdout",
          "text": [
            "Predicted label: sexist\n",
            "Elapsed time: 0:04:19.402368\n",
            "\n",
            "Testing sample 200/300 (Index: 229)\n",
            "Text: Now we need a woman come out & accuse Hillary of sexual abuse. [USER]\n",
            "True label: not sexist\n"
          ]
        },
        {
          "output_type": "stream",
          "name": "stderr",
          "text": [
            "Setting `pad_token_id` to `eos_token_id`:None for open-end generation.\n"
          ]
        },
        {
          "output_type": "stream",
          "name": "stdout",
          "text": [
            "Predicted label: sexist\n",
            "Elapsed time: 0:04:20.677541\n",
            "\n",
            "Testing sample 201/300 (Index: 84)\n",
            "Text: I hope the DOJ goes after EVERY DEMOCRAT for ANY tax, bank, campaign fraud they can find. ANY of it! EVEN IF from 10 years ago. These political prosecutions will only end when the dems cry \"Uncle!\"\n",
            "True label: not sexist\n"
          ]
        },
        {
          "output_type": "stream",
          "name": "stderr",
          "text": [
            "Setting `pad_token_id` to `eos_token_id`:None for open-end generation.\n"
          ]
        },
        {
          "output_type": "stream",
          "name": "stdout",
          "text": [
            "Predicted label: sexist\n",
            "Elapsed time: 0:04:21.958075\n",
            "\n",
            "Testing sample 202/300 (Index: 2)\n",
            "Text: Old man mogs everyone in this sub\n",
            "True label: not sexist\n"
          ]
        },
        {
          "output_type": "stream",
          "name": "stderr",
          "text": [
            "Setting `pad_token_id` to `eos_token_id`:None for open-end generation.\n"
          ]
        },
        {
          "output_type": "stream",
          "name": "stdout",
          "text": [
            "Predicted label: sexist\n",
            "Elapsed time: 0:04:23.341985\n",
            "\n",
            "Testing sample 203/300 (Index: 37)\n",
            "Text: Why do women settle down with you after you spent your youth getting your dick wet with as many different pussies as you can? Because people change over time, they mature, they become different than they were ten years ago.\n",
            "True label: sexist\n"
          ]
        },
        {
          "output_type": "stream",
          "name": "stderr",
          "text": [
            "Setting `pad_token_id` to `eos_token_id`:None for open-end generation.\n"
          ]
        },
        {
          "output_type": "stream",
          "name": "stdout",
          "text": [
            "Predicted label: sexist\n",
            "Elapsed time: 0:04:24.727962\n",
            "\n",
            "Testing sample 204/300 (Index: 40)\n",
            "Text: How do you make Lady Gaga scream? Bite her clit off.\n",
            "True label: sexist\n"
          ]
        },
        {
          "output_type": "stream",
          "name": "stderr",
          "text": [
            "Setting `pad_token_id` to `eos_token_id`:None for open-end generation.\n"
          ]
        },
        {
          "output_type": "stream",
          "name": "stdout",
          "text": [
            "Predicted label: sexist\n",
            "Elapsed time: 0:04:26.119649\n",
            "\n",
            "Testing sample 205/300 (Index: 168)\n",
            "Text: Add about 400 lbs to her fat ass... And maybe\n",
            "True label: not sexist\n"
          ]
        },
        {
          "output_type": "stream",
          "name": "stderr",
          "text": [
            "Setting `pad_token_id` to `eos_token_id`:None for open-end generation.\n"
          ]
        },
        {
          "output_type": "stream",
          "name": "stdout",
          "text": [
            "Predicted label: sexist\n",
            "Elapsed time: 0:04:27.428240\n",
            "\n",
            "Testing sample 206/300 (Index: 50)\n",
            "Text: Depends on the girl, on both sides of this. Average girl gives an average blowjob, paid or not. And you can get high end escorts, or just more willing girls where it’s all on the table.\n",
            "True label: sexist\n"
          ]
        },
        {
          "output_type": "stream",
          "name": "stderr",
          "text": [
            "Setting `pad_token_id` to `eos_token_id`:None for open-end generation.\n"
          ]
        },
        {
          "output_type": "stream",
          "name": "stdout",
          "text": [
            "Predicted label: sexist\n",
            "Elapsed time: 0:04:28.707079\n",
            "\n",
            "Testing sample 207/300 (Index: 179)\n",
            "Text: My wife literally shoveled the snow yesterday. Get over yourselves. The reason women don't sleep with you is because of you. Not them.\n",
            "True label: not sexist\n"
          ]
        },
        {
          "output_type": "stream",
          "name": "stderr",
          "text": [
            "Setting `pad_token_id` to `eos_token_id`:None for open-end generation.\n"
          ]
        },
        {
          "output_type": "stream",
          "name": "stdout",
          "text": [
            "Predicted label: sexist\n",
            "Elapsed time: 0:04:29.984035\n",
            "\n",
            "Testing sample 208/300 (Index: 116)\n",
            "Text: Whores pimped out by ma n pa.\n",
            "True label: sexist\n"
          ]
        },
        {
          "output_type": "stream",
          "name": "stderr",
          "text": [
            "Setting `pad_token_id` to `eos_token_id`:None for open-end generation.\n"
          ]
        },
        {
          "output_type": "stream",
          "name": "stdout",
          "text": [
            "Predicted label: sexist\n",
            "Elapsed time: 0:04:31.261905\n",
            "\n",
            "Testing sample 209/300 (Index: 101)\n",
            "Text: Rapper Nelly settles with woman over sexual assault lawsuit. [URL]\n",
            "True label: not sexist\n"
          ]
        },
        {
          "output_type": "stream",
          "name": "stderr",
          "text": [
            "Setting `pad_token_id` to `eos_token_id`:None for open-end generation.\n"
          ]
        },
        {
          "output_type": "stream",
          "name": "stdout",
          "text": [
            "Predicted label: sexist\n",
            "Elapsed time: 0:04:32.541910\n",
            "\n",
            "Testing sample 210/300 (Index: 92)\n",
            "Text: courage precludes the wise and strong from prostrating to his base emotions. let the woman freak out. were cooler under pressure, so lets be cool under pressure. let the women attack us physically, were stronger. being punched by a woman is a joke.\n",
            "True label: sexist\n"
          ]
        },
        {
          "output_type": "stream",
          "name": "stderr",
          "text": [
            "Setting `pad_token_id` to `eos_token_id`:None for open-end generation.\n"
          ]
        },
        {
          "output_type": "stream",
          "name": "stdout",
          "text": [
            "Predicted label: sexist\n",
            "Elapsed time: 0:04:33.828202\n",
            "\n",
            "Testing sample 211/300 (Index: 200)\n",
            "Text: Truefemcels is troll idk about fa, inb4 bbw whaling starts ranting about fa having truecel women\n",
            "True label: not sexist\n"
          ]
        },
        {
          "output_type": "stream",
          "name": "stderr",
          "text": [
            "Setting `pad_token_id` to `eos_token_id`:None for open-end generation.\n"
          ]
        },
        {
          "output_type": "stream",
          "name": "stdout",
          "text": [
            "Predicted label: sexist\n",
            "Elapsed time: 0:04:35.122494\n",
            "\n",
            "Testing sample 212/300 (Index: 56)\n",
            "Text: The Latest: Spain suspects bought weapons after first attack - Tyranny News [URL]\n",
            "True label: not sexist\n"
          ]
        },
        {
          "output_type": "stream",
          "name": "stderr",
          "text": [
            "Setting `pad_token_id` to `eos_token_id`:None for open-end generation.\n"
          ]
        },
        {
          "output_type": "stream",
          "name": "stdout",
          "text": [
            "Predicted label: sexist\n",
            "Elapsed time: 0:04:36.506075\n",
            "\n",
            "Testing sample 213/300 (Index: 299)\n",
            "Text: I’d pay a weeks salary to have the opportunity to bitch slap that smarmy look off her face. God I hope she isn’t a grandma. What a nightmare for a kid. She is anything but huggable and boo-boo kissing material.\n",
            "True label: sexist\n"
          ]
        },
        {
          "output_type": "stream",
          "name": "stderr",
          "text": [
            "Setting `pad_token_id` to `eos_token_id`:None for open-end generation.\n"
          ]
        },
        {
          "output_type": "stream",
          "name": "stdout",
          "text": [
            "Predicted label: sexist\n",
            "Elapsed time: 0:04:37.892003\n",
            "\n",
            "Testing sample 214/300 (Index: 226)\n",
            "Text: Twitter hasn't suspended the account? They must really hate guys and whites lol\n",
            "True label: not sexist\n"
          ]
        },
        {
          "output_type": "stream",
          "name": "stderr",
          "text": [
            "Setting `pad_token_id` to `eos_token_id`:None for open-end generation.\n"
          ]
        },
        {
          "output_type": "stream",
          "name": "stdout",
          "text": [
            "Predicted label: sexist\n",
            "Elapsed time: 0:04:39.288346\n",
            "\n",
            "Testing sample 215/300 (Index: 217)\n",
            "Text: [USER] Like I posted in another post about disgusting b!tch, if she EVER has one I'm calling it premeditated murder!\n",
            "True label: sexist\n"
          ]
        },
        {
          "output_type": "stream",
          "name": "stderr",
          "text": [
            "Setting `pad_token_id` to `eos_token_id`:None for open-end generation.\n"
          ]
        },
        {
          "output_type": "stream",
          "name": "stdout",
          "text": [
            "Predicted label: sexist\n",
            "Elapsed time: 0:04:40.592365\n",
            "\n",
            "Testing sample 216/300 (Index: 47)\n",
            "Text: The new Europeans are into all kinds of sex....\n",
            "True label: not sexist\n"
          ]
        },
        {
          "output_type": "stream",
          "name": "stderr",
          "text": [
            "Setting `pad_token_id` to `eos_token_id`:None for open-end generation.\n"
          ]
        },
        {
          "output_type": "stream",
          "name": "stdout",
          "text": [
            "Predicted label: sexist\n",
            "Elapsed time: 0:04:41.868247\n",
            "\n",
            "Testing sample 217/300 (Index: 66)\n",
            "Text: This man deserves to be hailed a hero he looked in the eyes of an ugly four eyed hijab and gave hwr the only respect she deserves blood and death\n",
            "True label: sexist\n"
          ]
        },
        {
          "output_type": "stream",
          "name": "stderr",
          "text": [
            "Setting `pad_token_id` to `eos_token_id`:None for open-end generation.\n"
          ]
        },
        {
          "output_type": "stream",
          "name": "stdout",
          "text": [
            "Predicted label: sexist\n",
            "Elapsed time: 0:04:43.149248\n",
            "\n",
            "Testing sample 218/300 (Index: 233)\n",
            "Text: I can give lots of info on this. Dm if you have questions. Yes youll meet lots of women doing this. However it has not made me any more successful with women if Im being honest.\n",
            "True label: not sexist\n"
          ]
        },
        {
          "output_type": "stream",
          "name": "stderr",
          "text": [
            "Setting `pad_token_id` to `eos_token_id`:None for open-end generation.\n"
          ]
        },
        {
          "output_type": "stream",
          "name": "stdout",
          "text": [
            "Predicted label: sexist\n",
            "Elapsed time: 0:04:44.438026\n",
            "\n",
            "Testing sample 219/300 (Index: 281)\n",
            "Text: GL convincing the idiot masses ......Black pastors see Trump bringing 'new hope' -- but still need to convince their flocks .....[URL]\n",
            "True label: not sexist\n"
          ]
        },
        {
          "output_type": "stream",
          "name": "stderr",
          "text": [
            "Setting `pad_token_id` to `eos_token_id`:None for open-end generation.\n"
          ]
        },
        {
          "output_type": "stream",
          "name": "stdout",
          "text": [
            "Predicted label: sexist\n",
            "Elapsed time: 0:04:45.724042\n",
            "\n",
            "Testing sample 220/300 (Index: 217)\n",
            "Text: [USER] Like I posted in another post about disgusting b!tch, if she EVER has one I'm calling it premeditated murder!\n",
            "True label: sexist\n"
          ]
        },
        {
          "output_type": "stream",
          "name": "stderr",
          "text": [
            "Setting `pad_token_id` to `eos_token_id`:None for open-end generation.\n"
          ]
        },
        {
          "output_type": "stream",
          "name": "stdout",
          "text": [
            "Predicted label: sexist\n",
            "Elapsed time: 0:04:47.009831\n",
            "\n",
            "Testing sample 221/300 (Index: 244)\n",
            "Text: Like a typical woman, always waiting for the men to fix a problem instead of actually working on anything. Golf clap.\n",
            "True label: sexist\n"
          ]
        },
        {
          "output_type": "stream",
          "name": "stderr",
          "text": [
            "Setting `pad_token_id` to `eos_token_id`:None for open-end generation.\n"
          ]
        },
        {
          "output_type": "stream",
          "name": "stdout",
          "text": [
            "Predicted label: sexist\n",
            "Elapsed time: 0:04:48.301730\n",
            "\n",
            "Testing sample 222/300 (Index: 128)\n",
            "Text: Abused for four years, yet she marries him after 2.5 years of abuse? If it were true, then she's a f.....g masochistic moron.\n",
            "True label: sexist\n"
          ]
        },
        {
          "output_type": "stream",
          "name": "stderr",
          "text": [
            "Setting `pad_token_id` to `eos_token_id`:None for open-end generation.\n"
          ]
        },
        {
          "output_type": "stream",
          "name": "stdout",
          "text": [
            "Predicted label: sexist\n",
            "Elapsed time: 0:04:49.687706\n",
            "\n",
            "Testing sample 223/300 (Index: 270)\n",
            "Text: I try to act confident but girls dont even look at me\n",
            "True label: not sexist\n"
          ]
        },
        {
          "output_type": "stream",
          "name": "stderr",
          "text": [
            "Setting `pad_token_id` to `eos_token_id`:None for open-end generation.\n"
          ]
        },
        {
          "output_type": "stream",
          "name": "stdout",
          "text": [
            "Predicted label: sexist\n",
            "Elapsed time: 0:04:51.057458\n",
            "\n",
            "Testing sample 224/300 (Index: 62)\n",
            "Text: If You Thought Ashley Graham Couldn’t Get Any Worse, You Haven’t Seen Her In A Mullet [URL] [URL]\n",
            "True label: not sexist\n"
          ]
        },
        {
          "output_type": "stream",
          "name": "stderr",
          "text": [
            "Setting `pad_token_id` to `eos_token_id`:None for open-end generation.\n"
          ]
        },
        {
          "output_type": "stream",
          "name": "stdout",
          "text": [
            "Predicted label: sexist\n",
            "Elapsed time: 0:04:52.455779\n",
            "\n",
            "Testing sample 225/300 (Index: 130)\n",
            "Text: One time I approached a group of three girls with a simple \"can I drink with you\" because I was attracted to one of the girls. Her friend tried to 'guard' her until I started hitting on her instead for her personality.\n",
            "True label: not sexist\n"
          ]
        },
        {
          "output_type": "stream",
          "name": "stderr",
          "text": [
            "Setting `pad_token_id` to `eos_token_id`:None for open-end generation.\n"
          ]
        },
        {
          "output_type": "stream",
          "name": "stdout",
          "text": [
            "Predicted label: sexist\n",
            "Elapsed time: 0:04:53.734344\n",
            "\n",
            "Testing sample 226/300 (Index: 223)\n",
            "Text: What seems to be the case is.... if a female puts in her bio “Venmo me and see what happens”, “if you are not rich don’t HMU”, “if you are fat don’t HMU” then it’s perfectly fine but if a guy has some standards, apparently im a piece of shit.\n",
            "True label: sexist\n"
          ]
        },
        {
          "output_type": "stream",
          "name": "stderr",
          "text": [
            "Setting `pad_token_id` to `eos_token_id`:None for open-end generation.\n"
          ]
        },
        {
          "output_type": "stream",
          "name": "stdout",
          "text": [
            "Predicted label: sexist\n",
            "Elapsed time: 0:04:55.015520\n",
            "\n",
            "Testing sample 227/300 (Index: 213)\n",
            "Text: Kick the trans in her man eat\n",
            "True label: sexist\n"
          ]
        },
        {
          "output_type": "stream",
          "name": "stderr",
          "text": [
            "Setting `pad_token_id` to `eos_token_id`:None for open-end generation.\n"
          ]
        },
        {
          "output_type": "stream",
          "name": "stdout",
          "text": [
            "Predicted label: sexist\n",
            "Elapsed time: 0:04:56.293370\n",
            "\n",
            "Testing sample 228/300 (Index: 154)\n",
            "Text: As an Eagle Scout, I'm less than pleased with all of this. If women wanted to destroy the BSA, they've done it.\n",
            "True label: sexist\n"
          ]
        },
        {
          "output_type": "stream",
          "name": "stderr",
          "text": [
            "Setting `pad_token_id` to `eos_token_id`:None for open-end generation.\n"
          ]
        },
        {
          "output_type": "stream",
          "name": "stdout",
          "text": [
            "Predicted label: sexist\n",
            "Elapsed time: 0:04:57.580838\n",
            "\n",
            "Testing sample 229/300 (Index: 96)\n",
            "Text: Too many damn emojis.\n",
            "True label: not sexist\n"
          ]
        },
        {
          "output_type": "stream",
          "name": "stderr",
          "text": [
            "Setting `pad_token_id` to `eos_token_id`:None for open-end generation.\n"
          ]
        },
        {
          "output_type": "stream",
          "name": "stdout",
          "text": [
            "Predicted label: sexist\n",
            "Elapsed time: 0:04:58.858818\n",
            "\n",
            "Testing sample 230/300 (Index: 119)\n",
            "Text: You’re overthinking it completely. Whether you sit next to her or not next time you see her talk to her and ask her out...\n",
            "True label: not sexist\n"
          ]
        },
        {
          "output_type": "stream",
          "name": "stderr",
          "text": [
            "Setting `pad_token_id` to `eos_token_id`:None for open-end generation.\n"
          ]
        },
        {
          "output_type": "stream",
          "name": "stdout",
          "text": [
            "Predicted label: sexist\n",
            "Elapsed time: 0:05:00.129323\n",
            "\n",
            "Testing sample 231/300 (Index: 22)\n",
            "Text: *women spend all free time trying to block male only activities*\n",
            "True label: sexist\n"
          ]
        },
        {
          "output_type": "stream",
          "name": "stderr",
          "text": [
            "Setting `pad_token_id` to `eos_token_id`:None for open-end generation.\n"
          ]
        },
        {
          "output_type": "stream",
          "name": "stdout",
          "text": [
            "Predicted label: sexist\n",
            "Elapsed time: 0:05:01.418293\n",
            "\n",
            "Testing sample 232/300 (Index: 233)\n",
            "Text: I can give lots of info on this. Dm if you have questions. Yes youll meet lots of women doing this. However it has not made me any more successful with women if Im being honest.\n",
            "True label: not sexist\n"
          ]
        },
        {
          "output_type": "stream",
          "name": "stderr",
          "text": [
            "Setting `pad_token_id` to `eos_token_id`:None for open-end generation.\n"
          ]
        },
        {
          "output_type": "stream",
          "name": "stdout",
          "text": [
            "Predicted label: sexist\n",
            "Elapsed time: 0:05:02.766293\n",
            "\n",
            "Testing sample 233/300 (Index: 95)\n",
            "Text: Female logic tends to not be very logical, this especially applies to advice they give.\n",
            "True label: sexist\n"
          ]
        },
        {
          "output_type": "stream",
          "name": "stderr",
          "text": [
            "Setting `pad_token_id` to `eos_token_id`:None for open-end generation.\n"
          ]
        },
        {
          "output_type": "stream",
          "name": "stdout",
          "text": [
            "Predicted label: sexist\n",
            "Elapsed time: 0:05:04.135957\n",
            "\n",
            "Testing sample 234/300 (Index: 186)\n",
            "Text: Yeah man I had a plate who did everything for me, untill she started saying I was an enigma and some people talked to me about how I was an emotionless robot with her. I opened up abit and not even a week later she lost interest.\n",
            "True label: not sexist\n"
          ]
        },
        {
          "output_type": "stream",
          "name": "stderr",
          "text": [
            "Setting `pad_token_id` to `eos_token_id`:None for open-end generation.\n"
          ]
        },
        {
          "output_type": "stream",
          "name": "stdout",
          "text": [
            "Predicted label: sexist\n",
            "Elapsed time: 0:05:05.516990\n",
            "\n",
            "Testing sample 235/300 (Index: 129)\n",
            "Text: [URL] Guess who's birthday, which lord and savior that one women in that video from comet children and bondage was referencing. Guess who the Hell that disgusting bitch was fucking referencing! #PizzaGate guess what month where fucking in right now.\n",
            "True label: sexist\n"
          ]
        },
        {
          "output_type": "stream",
          "name": "stderr",
          "text": [
            "Setting `pad_token_id` to `eos_token_id`:None for open-end generation.\n"
          ]
        },
        {
          "output_type": "stream",
          "name": "stdout",
          "text": [
            "Predicted label: sexist\n",
            "Elapsed time: 0:05:06.822206\n",
            "\n",
            "Testing sample 236/300 (Index: 277)\n",
            "Text: Modern prostitution, only you never get any bang for you buck, only an idea and a picture.\n",
            "True label: not sexist\n"
          ]
        },
        {
          "output_type": "stream",
          "name": "stderr",
          "text": [
            "Setting `pad_token_id` to `eos_token_id`:None for open-end generation.\n"
          ]
        },
        {
          "output_type": "stream",
          "name": "stdout",
          "text": [
            "Predicted label: sexist\n",
            "Elapsed time: 0:05:08.102592\n",
            "\n",
            "Testing sample 237/300 (Index: 64)\n",
            "Text: Does this actually work? This seems like the easiest way to get prostitutes, undercover cops, or STDs.\n",
            "True label: not sexist\n"
          ]
        },
        {
          "output_type": "stream",
          "name": "stderr",
          "text": [
            "Setting `pad_token_id` to `eos_token_id`:None for open-end generation.\n"
          ]
        },
        {
          "output_type": "stream",
          "name": "stdout",
          "text": [
            "Predicted label: sexist\n",
            "Elapsed time: 0:05:09.382327\n",
            "\n",
            "Testing sample 238/300 (Index: 155)\n",
            "Text: If the court sides with the workers on this, businesses will not be able to cope with a cost of operations that is larger than incoming sales revenue.\n",
            "True label: not sexist\n"
          ]
        },
        {
          "output_type": "stream",
          "name": "stderr",
          "text": [
            "Setting `pad_token_id` to `eos_token_id`:None for open-end generation.\n"
          ]
        },
        {
          "output_type": "stream",
          "name": "stdout",
          "text": [
            "Predicted label: sexist\n",
            "Elapsed time: 0:05:10.658597\n",
            "\n",
            "Testing sample 239/300 (Index: 103)\n",
            "Text: So true girls don't know what they want and can't be loyal to anyone or anything. They just ride till they get a little bored then destroy him because they can't just leave like a normal person and find a new victim. They are black widows.\n",
            "True label: sexist\n"
          ]
        },
        {
          "output_type": "stream",
          "name": "stderr",
          "text": [
            "Setting `pad_token_id` to `eos_token_id`:None for open-end generation.\n"
          ]
        },
        {
          "output_type": "stream",
          "name": "stdout",
          "text": [
            "Predicted label: sexist\n",
            "Elapsed time: 0:05:11.948616\n",
            "\n",
            "Testing sample 240/300 (Index: 16)\n",
            "Text: Giving women all your money is good personality.\n",
            "True label: sexist\n"
          ]
        },
        {
          "output_type": "stream",
          "name": "stderr",
          "text": [
            "Setting `pad_token_id` to `eos_token_id`:None for open-end generation.\n"
          ]
        },
        {
          "output_type": "stream",
          "name": "stdout",
          "text": [
            "Predicted label: sexist\n",
            "Elapsed time: 0:05:13.222618\n",
            "\n",
            "Testing sample 241/300 (Index: 86)\n",
            "Text: You should've hit her.\n",
            "True label: sexist\n"
          ]
        },
        {
          "output_type": "stream",
          "name": "stderr",
          "text": [
            "Setting `pad_token_id` to `eos_token_id`:None for open-end generation.\n"
          ]
        },
        {
          "output_type": "stream",
          "name": "stdout",
          "text": [
            "Predicted label: sexist\n",
            "Elapsed time: 0:05:14.521251\n",
            "\n",
            "Testing sample 242/300 (Index: 120)\n",
            "Text: You think she is ready to have her genitals removed? [URL]\n",
            "True label: not sexist\n"
          ]
        },
        {
          "output_type": "stream",
          "name": "stderr",
          "text": [
            "Setting `pad_token_id` to `eos_token_id`:None for open-end generation.\n"
          ]
        },
        {
          "output_type": "stream",
          "name": "stdout",
          "text": [
            "Predicted label: sexist\n",
            "Elapsed time: 0:05:15.806361\n",
            "\n",
            "Testing sample 243/300 (Index: 93)\n",
            "Text: yall Fuck off\n",
            "True label: not sexist\n"
          ]
        },
        {
          "output_type": "stream",
          "name": "stderr",
          "text": [
            "Setting `pad_token_id` to `eos_token_id`:None for open-end generation.\n"
          ]
        },
        {
          "output_type": "stream",
          "name": "stdout",
          "text": [
            "Predicted label: sexist\n",
            "Elapsed time: 0:05:17.152349\n",
            "\n",
            "Testing sample 244/300 (Index: 194)\n",
            "Text: CRAZY BIMBO IS BACK! White Uncle Tom: Rachel Dolezal says she's \"Trans-Black.\" Ugh, this dumb bitch! I thought society was through with her! [URL]\n",
            "True label: sexist\n"
          ]
        },
        {
          "output_type": "stream",
          "name": "stderr",
          "text": [
            "Setting `pad_token_id` to `eos_token_id`:None for open-end generation.\n"
          ]
        },
        {
          "output_type": "stream",
          "name": "stdout",
          "text": [
            "Predicted label: sexist\n",
            "Elapsed time: 0:05:18.545061\n",
            "\n",
            "Testing sample 245/300 (Index: 176)\n",
            "Text: \"Only love can beat hate!\" It was not love that drove the Ottomans from Europe and liberated those they subjugated and oppressed, it was the winged hussars might and bravery.\n",
            "True label: not sexist\n"
          ]
        },
        {
          "output_type": "stream",
          "name": "stderr",
          "text": [
            "Setting `pad_token_id` to `eos_token_id`:None for open-end generation.\n"
          ]
        },
        {
          "output_type": "stream",
          "name": "stdout",
          "text": [
            "Predicted label: sexist\n",
            "Elapsed time: 0:05:19.838573\n",
            "\n",
            "Testing sample 246/300 (Index: 290)\n",
            "Text: I had one punch me in the stomach. I return the favor back. First time I ever punch a lady(monster)\n",
            "True label: sexist\n"
          ]
        },
        {
          "output_type": "stream",
          "name": "stderr",
          "text": [
            "Setting `pad_token_id` to `eos_token_id`:None for open-end generation.\n"
          ]
        },
        {
          "output_type": "stream",
          "name": "stdout",
          "text": [
            "Predicted label: sexist\n",
            "Elapsed time: 0:05:21.110358\n",
            "\n",
            "Testing sample 247/300 (Index: 150)\n",
            "Text: Typical praising of women and bashing of men. They're so predictable. And dumb.\n",
            "True label: sexist\n"
          ]
        },
        {
          "output_type": "stream",
          "name": "stderr",
          "text": [
            "Setting `pad_token_id` to `eos_token_id`:None for open-end generation.\n"
          ]
        },
        {
          "output_type": "stream",
          "name": "stdout",
          "text": [
            "Predicted label: sexist\n",
            "Elapsed time: 0:05:22.413391\n",
            "\n",
            "Testing sample 248/300 (Index: 191)\n",
            "Text: My cat I had for 15 years died and I broke down a little infront of a plate. Absolutely nothing changed. Just never bring it up again. Think of it as a test for her. If she leaves, she was trash to begin with.\n",
            "True label: not sexist\n"
          ]
        },
        {
          "output_type": "stream",
          "name": "stderr",
          "text": [
            "Setting `pad_token_id` to `eos_token_id`:None for open-end generation.\n"
          ]
        },
        {
          "output_type": "stream",
          "name": "stdout",
          "text": [
            "Predicted label: sexist\n",
            "Elapsed time: 0:05:23.694772\n",
            "\n",
            "Testing sample 249/300 (Index: 177)\n",
            "Text: I'm thinking of starting a kickstarter or something to deprogram her with a scientific Psyops campaign so we don't have to endure her debased shenanigans anymore. I'll take a $million bounty if we turn her into a legit evangelical.\n",
            "True label: not sexist\n"
          ]
        },
        {
          "output_type": "stream",
          "name": "stderr",
          "text": [
            "Setting `pad_token_id` to `eos_token_id`:None for open-end generation.\n"
          ]
        },
        {
          "output_type": "stream",
          "name": "stdout",
          "text": [
            "Predicted label: sexist\n",
            "Elapsed time: 0:05:24.975949\n",
            "\n",
            "Testing sample 250/300 (Index: 97)\n",
            "Text: Damn right. Contraceptives and carpet bombs. We made 'em, we can take 'em out. It is our right as the reason why they exist in the first place, we are their gods. We can giveth and we can taketh away. / Too far ?\n",
            "True label: not sexist\n"
          ]
        },
        {
          "output_type": "stream",
          "name": "stderr",
          "text": [
            "Setting `pad_token_id` to `eos_token_id`:None for open-end generation.\n"
          ]
        },
        {
          "output_type": "stream",
          "name": "stdout",
          "text": [
            "Predicted label: sexist\n",
            "Elapsed time: 0:05:26.258984\n",
            "\n",
            "Testing sample 251/300 (Index: 237)\n",
            "Text: I only know a few black women, but they all hate men and they are all single moms with varying amounts of baby daddies. Imo if you are a black dude who can keep down a job you deserve better than a black woman.\n",
            "True label: sexist\n"
          ]
        },
        {
          "output_type": "stream",
          "name": "stderr",
          "text": [
            "Setting `pad_token_id` to `eos_token_id`:None for open-end generation.\n"
          ]
        },
        {
          "output_type": "stream",
          "name": "stdout",
          "text": [
            "Predicted label: sexist\n",
            "Elapsed time: 0:05:27.561193\n",
            "\n",
            "Testing sample 252/300 (Index: 118)\n",
            "Text: \"Muh poor oppressed women\" What is this retarded faggot shit?\n",
            "True label: sexist\n"
          ]
        },
        {
          "output_type": "stream",
          "name": "stderr",
          "text": [
            "Setting `pad_token_id` to `eos_token_id`:None for open-end generation.\n"
          ]
        },
        {
          "output_type": "stream",
          "name": "stdout",
          "text": [
            "Predicted label: sexist\n",
            "Elapsed time: 0:05:28.845617\n",
            "\n",
            "Testing sample 253/300 (Index: 201)\n",
            "Text: AWALT, yes, but this sounds more than a cunty wife. Get to a hospital ASAP.\n",
            "True label: sexist\n"
          ]
        },
        {
          "output_type": "stream",
          "name": "stderr",
          "text": [
            "Setting `pad_token_id` to `eos_token_id`:None for open-end generation.\n"
          ]
        },
        {
          "output_type": "stream",
          "name": "stdout",
          "text": [
            "Predicted label: sexist\n",
            "Elapsed time: 0:05:30.181041\n",
            "\n",
            "Testing sample 254/300 (Index: 1)\n",
            "Text: Look at those eyes. Either someone unexpectedly just fisted her up the dumper, or that bitch is certifiably a nutburger.\n",
            "True label: sexist\n"
          ]
        },
        {
          "output_type": "stream",
          "name": "stderr",
          "text": [
            "Setting `pad_token_id` to `eos_token_id`:None for open-end generation.\n"
          ]
        },
        {
          "output_type": "stream",
          "name": "stdout",
          "text": [
            "Predicted label: sexist\n",
            "Elapsed time: 0:05:31.558272\n",
            "\n",
            "Testing sample 255/300 (Index: 227)\n",
            "Text: [USER] · 8h8 hours ago Shouldn’t the most infamous loser in history shut her pie hole at this point? It’s becoming an authentic tragedy. #TumblingHag [URL]\n",
            "True label: sexist\n"
          ]
        },
        {
          "output_type": "stream",
          "name": "stderr",
          "text": [
            "Setting `pad_token_id` to `eos_token_id`:None for open-end generation.\n"
          ]
        },
        {
          "output_type": "stream",
          "name": "stdout",
          "text": [
            "Predicted label: sexist\n",
            "Elapsed time: 0:05:32.849187\n",
            "\n",
            "Testing sample 256/300 (Index: 256)\n",
            "Text: No where near as bad as the average wife who not just prey's on the husband via divorce court, but destroys children's lives while she's at it.\n",
            "True label: sexist\n"
          ]
        },
        {
          "output_type": "stream",
          "name": "stderr",
          "text": [
            "Setting `pad_token_id` to `eos_token_id`:None for open-end generation.\n"
          ]
        },
        {
          "output_type": "stream",
          "name": "stdout",
          "text": [
            "Predicted label: sexist\n",
            "Elapsed time: 0:05:34.119605\n",
            "\n",
            "Testing sample 257/300 (Index: 28)\n",
            "Text: The ultimate stupid nigger, his cockroach mother I'm sure is on benifits too... Useless vermin.\n",
            "True label: sexist\n"
          ]
        },
        {
          "output_type": "stream",
          "name": "stderr",
          "text": [
            "Setting `pad_token_id` to `eos_token_id`:None for open-end generation.\n"
          ]
        },
        {
          "output_type": "stream",
          "name": "stdout",
          "text": [
            "Predicted label: sexist\n",
            "Elapsed time: 0:05:35.400887\n",
            "\n",
            "Testing sample 258/300 (Index: 185)\n",
            "Text: I'm so relieved to hear that, because I've been saving this pic since the 1930's\n",
            "True label: not sexist\n"
          ]
        },
        {
          "output_type": "stream",
          "name": "stderr",
          "text": [
            "Setting `pad_token_id` to `eos_token_id`:None for open-end generation.\n"
          ]
        },
        {
          "output_type": "stream",
          "name": "stdout",
          "text": [
            "Predicted label: sexist\n",
            "Elapsed time: 0:05:36.675375\n",
            "\n",
            "Testing sample 259/300 (Index: 183)\n",
            "Text: Well if you have a penis you have to wear skinny jeans and be a beta, if you own a vagina, don't wash it for a week and bow up and act tough BUT be sure to scream \"you hit a girl\" if you're punched. Oh and if you see a car coming MOVE OUT OF THE WAY!\n",
            "True label: sexist\n"
          ]
        },
        {
          "output_type": "stream",
          "name": "stderr",
          "text": [
            "Setting `pad_token_id` to `eos_token_id`:None for open-end generation.\n"
          ]
        },
        {
          "output_type": "stream",
          "name": "stdout",
          "text": [
            "Predicted label: sexist\n",
            "Elapsed time: 0:05:37.950072\n",
            "\n",
            "Testing sample 260/300 (Index: 188)\n",
            "Text: ZUMBIS EM BRASÍLIA EP 2 - A VOLTA DO MORTO-VIVO [URL]\n",
            "True label: not sexist\n"
          ]
        },
        {
          "output_type": "stream",
          "name": "stderr",
          "text": [
            "Setting `pad_token_id` to `eos_token_id`:None for open-end generation.\n"
          ]
        },
        {
          "output_type": "stream",
          "name": "stdout",
          "text": [
            "Predicted label: sexist\n",
            "Elapsed time: 0:05:39.221499\n",
            "\n",
            "Testing sample 261/300 (Index: 26)\n",
            "Text: Good - the grid girls can finally get back into F1\n",
            "True label: not sexist\n"
          ]
        },
        {
          "output_type": "stream",
          "name": "stderr",
          "text": [
            "Setting `pad_token_id` to `eos_token_id`:None for open-end generation.\n"
          ]
        },
        {
          "output_type": "stream",
          "name": "stdout",
          "text": [
            "Predicted label: sexist\n",
            "Elapsed time: 0:05:40.500571\n",
            "\n",
            "Testing sample 262/300 (Index: 141)\n",
            "Text: Coffee, drink, walk in the park. That way if she's retarded you only wasted 20 mins of your life.\n",
            "True label: not sexist\n"
          ]
        },
        {
          "output_type": "stream",
          "name": "stderr",
          "text": [
            "Setting `pad_token_id` to `eos_token_id`:None for open-end generation.\n"
          ]
        },
        {
          "output_type": "stream",
          "name": "stdout",
          "text": [
            "Predicted label: sexist\n",
            "Elapsed time: 0:05:41.777845\n",
            "\n",
            "Testing sample 263/300 (Index: 110)\n",
            "Text: Don't pay attention to what women say.\n",
            "True label: sexist\n"
          ]
        },
        {
          "output_type": "stream",
          "name": "stderr",
          "text": [
            "Setting `pad_token_id` to `eos_token_id`:None for open-end generation.\n"
          ]
        },
        {
          "output_type": "stream",
          "name": "stdout",
          "text": [
            "Predicted label: sexist\n",
            "Elapsed time: 0:05:43.130077\n",
            "\n",
            "Testing sample 264/300 (Index: 56)\n",
            "Text: The Latest: Spain suspects bought weapons after first attack - Tyranny News [URL]\n",
            "True label: not sexist\n"
          ]
        },
        {
          "output_type": "stream",
          "name": "stderr",
          "text": [
            "Setting `pad_token_id` to `eos_token_id`:None for open-end generation.\n"
          ]
        },
        {
          "output_type": "stream",
          "name": "stdout",
          "text": [
            "Predicted label: sexist\n",
            "Elapsed time: 0:05:44.498648\n",
            "\n",
            "Testing sample 265/300 (Index: 57)\n",
            "Text: oh no! So they are saying if I send my daught to college she might.... put on a hat? OH THE HUMANITY!!!!\n",
            "True label: not sexist\n"
          ]
        },
        {
          "output_type": "stream",
          "name": "stderr",
          "text": [
            "Setting `pad_token_id` to `eos_token_id`:None for open-end generation.\n"
          ]
        },
        {
          "output_type": "stream",
          "name": "stdout",
          "text": [
            "Predicted label: sexist\n",
            "Elapsed time: 0:05:45.785173\n",
            "\n",
            "Testing sample 266/300 (Index: 178)\n",
            "Text: merkel is stazi she has to go\n",
            "True label: not sexist\n"
          ]
        },
        {
          "output_type": "stream",
          "name": "stderr",
          "text": [
            "Setting `pad_token_id` to `eos_token_id`:None for open-end generation.\n"
          ]
        },
        {
          "output_type": "stream",
          "name": "stdout",
          "text": [
            "Predicted label: sexist\n",
            "Elapsed time: 0:05:47.079175\n",
            "\n",
            "Testing sample 267/300 (Index: 217)\n",
            "Text: [USER] Like I posted in another post about disgusting b!tch, if she EVER has one I'm calling it premeditated murder!\n",
            "True label: sexist\n"
          ]
        },
        {
          "output_type": "stream",
          "name": "stderr",
          "text": [
            "Setting `pad_token_id` to `eos_token_id`:None for open-end generation.\n"
          ]
        },
        {
          "output_type": "stream",
          "name": "stdout",
          "text": [
            "Predicted label: sexist\n",
            "Elapsed time: 0:05:48.357594\n",
            "\n",
            "Testing sample 268/300 (Index: 30)\n",
            "Text: If you’re 6’3” chad with a 2” dick she will find another chad. Maybe not an incel but fuck I can sympathize.\n",
            "True label: sexist\n"
          ]
        },
        {
          "output_type": "stream",
          "name": "stderr",
          "text": [
            "Setting `pad_token_id` to `eos_token_id`:None for open-end generation.\n"
          ]
        },
        {
          "output_type": "stream",
          "name": "stdout",
          "text": [
            "Predicted label: sexist\n",
            "Elapsed time: 0:05:49.635209\n",
            "\n",
            "Testing sample 269/300 (Index: 185)\n",
            "Text: I'm so relieved to hear that, because I've been saving this pic since the 1930's\n",
            "True label: not sexist\n"
          ]
        },
        {
          "output_type": "stream",
          "name": "stderr",
          "text": [
            "Setting `pad_token_id` to `eos_token_id`:None for open-end generation.\n"
          ]
        },
        {
          "output_type": "stream",
          "name": "stdout",
          "text": [
            "Predicted label: sexist\n",
            "Elapsed time: 0:05:50.909998\n",
            "\n",
            "Testing sample 270/300 (Index: 242)\n",
            "Text: #Hillary continues to blame everyone but herself. #MAGA #PresidentTrump #FakeNews [URL]\n",
            "True label: not sexist\n"
          ]
        },
        {
          "output_type": "stream",
          "name": "stderr",
          "text": [
            "Setting `pad_token_id` to `eos_token_id`:None for open-end generation.\n"
          ]
        },
        {
          "output_type": "stream",
          "name": "stdout",
          "text": [
            "Predicted label: sexist\n",
            "Elapsed time: 0:05:52.191556\n",
            "\n",
            "Testing sample 271/300 (Index: 151)\n",
            "Text: Shut it women\n",
            "True label: sexist\n"
          ]
        },
        {
          "output_type": "stream",
          "name": "stderr",
          "text": [
            "Setting `pad_token_id` to `eos_token_id`:None for open-end generation.\n"
          ]
        },
        {
          "output_type": "stream",
          "name": "stdout",
          "text": [
            "Predicted label: sexist\n",
            "Elapsed time: 0:05:53.476585\n",
            "\n",
            "Testing sample 272/300 (Index: 8)\n",
            "Text: That's female fantasy. I have a lot of experience in that field and nurses marry doctors all the time. Something statistics also support.\n",
            "True label: sexist\n"
          ]
        },
        {
          "output_type": "stream",
          "name": "stderr",
          "text": [
            "Setting `pad_token_id` to `eos_token_id`:None for open-end generation.\n"
          ]
        },
        {
          "output_type": "stream",
          "name": "stdout",
          "text": [
            "Predicted label: sexist\n",
            "Elapsed time: 0:05:54.753527\n",
            "\n",
            "Testing sample 273/300 (Index: 164)\n",
            "Text: \"wtf do you care what she does online\" It she has LTR potential it cares! Has nothing to do with \"sadness\" \"desperate\" or \"buthurt\"\n",
            "True label: not sexist\n"
          ]
        },
        {
          "output_type": "stream",
          "name": "stderr",
          "text": [
            "Setting `pad_token_id` to `eos_token_id`:None for open-end generation.\n"
          ]
        },
        {
          "output_type": "stream",
          "name": "stdout",
          "text": [
            "Predicted label: sexist\n",
            "Elapsed time: 0:05:56.088387\n",
            "\n",
            "Testing sample 274/300 (Index: 154)\n",
            "Text: As an Eagle Scout, I'm less than pleased with all of this. If women wanted to destroy the BSA, they've done it.\n",
            "True label: sexist\n"
          ]
        },
        {
          "output_type": "stream",
          "name": "stderr",
          "text": [
            "Setting `pad_token_id` to `eos_token_id`:None for open-end generation.\n"
          ]
        },
        {
          "output_type": "stream",
          "name": "stdout",
          "text": [
            "Predicted label: sexist\n",
            "Elapsed time: 0:05:57.463899\n",
            "\n",
            "Testing sample 275/300 (Index: 222)\n",
            "Text: Damn Global Warming! [URL]\n",
            "True label: not sexist\n"
          ]
        },
        {
          "output_type": "stream",
          "name": "stderr",
          "text": [
            "Setting `pad_token_id` to `eos_token_id`:None for open-end generation.\n"
          ]
        },
        {
          "output_type": "stream",
          "name": "stdout",
          "text": [
            "Predicted label: sexist\n",
            "Elapsed time: 0:05:58.744571\n",
            "\n",
            "Testing sample 276/300 (Index: 276)\n",
            "Text: Trump extortionist Stormy Daniels to facilitate cryptocurrency payments on her website for porn content - [URL] #news #finance #bitcoin #stormydaniels\n",
            "True label: not sexist\n"
          ]
        },
        {
          "output_type": "stream",
          "name": "stderr",
          "text": [
            "Setting `pad_token_id` to `eos_token_id`:None for open-end generation.\n"
          ]
        },
        {
          "output_type": "stream",
          "name": "stdout",
          "text": [
            "Predicted label: sexist\n",
            "Elapsed time: 0:06:00.022406\n",
            "\n",
            "Testing sample 277/300 (Index: 18)\n",
            "Text: How long will it take a woman to mentally move on from the situation? Cause they're fond of bringing up shit from before my ancestors\n",
            "True label: sexist\n"
          ]
        },
        {
          "output_type": "stream",
          "name": "stderr",
          "text": [
            "Setting `pad_token_id` to `eos_token_id`:None for open-end generation.\n"
          ]
        },
        {
          "output_type": "stream",
          "name": "stdout",
          "text": [
            "Predicted label: sexist\n",
            "Elapsed time: 0:06:01.299849\n",
            "\n",
            "Testing sample 278/300 (Index: 230)\n",
            "Text: Your wife could leave her phone at the office Women can’t be parted with Instagram for two minutes while taking shit mate, what are you talking about even?\n",
            "True label: sexist\n"
          ]
        },
        {
          "output_type": "stream",
          "name": "stderr",
          "text": [
            "Setting `pad_token_id` to `eos_token_id`:None for open-end generation.\n"
          ]
        },
        {
          "output_type": "stream",
          "name": "stdout",
          "text": [
            "Predicted label: sexist\n",
            "Elapsed time: 0:06:02.588888\n",
            "\n",
            "Testing sample 279/300 (Index: 165)\n",
            "Text: Tell that to Weev you lying shitskin son of a bitch.\n",
            "True label: sexist\n"
          ]
        },
        {
          "output_type": "stream",
          "name": "stderr",
          "text": [
            "Setting `pad_token_id` to `eos_token_id`:None for open-end generation.\n"
          ]
        },
        {
          "output_type": "stream",
          "name": "stdout",
          "text": [
            "Predicted label: sexist\n",
            "Elapsed time: 0:06:03.866216\n",
            "\n",
            "Testing sample 280/300 (Index: 241)\n",
            "Text: either shes a ho or shes not. If shes not u got no shot in 5 minutes. If she is it don't matter what you say ur golden.\n",
            "True label: sexist\n"
          ]
        },
        {
          "output_type": "stream",
          "name": "stderr",
          "text": [
            "Setting `pad_token_id` to `eos_token_id`:None for open-end generation.\n"
          ]
        },
        {
          "output_type": "stream",
          "name": "stdout",
          "text": [
            "Predicted label: sexist\n",
            "Elapsed time: 0:06:05.146546\n",
            "\n",
            "Testing sample 281/300 (Index: 257)\n",
            "Text: Rrrrrr im going to fuck u in the ass for this\n",
            "True label: not sexist\n"
          ]
        },
        {
          "output_type": "stream",
          "name": "stderr",
          "text": [
            "Setting `pad_token_id` to `eos_token_id`:None for open-end generation.\n"
          ]
        },
        {
          "output_type": "stream",
          "name": "stdout",
          "text": [
            "Predicted label: sexist\n",
            "Elapsed time: 0:06:06.433116\n",
            "\n",
            "Testing sample 282/300 (Index: 272)\n",
            "Text: white girl is trash Truly surprising\n",
            "True label: sexist\n"
          ]
        },
        {
          "output_type": "stream",
          "name": "stderr",
          "text": [
            "Setting `pad_token_id` to `eos_token_id`:None for open-end generation.\n"
          ]
        },
        {
          "output_type": "stream",
          "name": "stdout",
          "text": [
            "Predicted label: sexist\n",
            "Elapsed time: 0:06:07.722864\n",
            "\n",
            "Testing sample 283/300 (Index: 214)\n",
            "Text: Why the fuck would you go for crazy bitches?\n",
            "True label: sexist\n"
          ]
        },
        {
          "output_type": "stream",
          "name": "stderr",
          "text": [
            "Setting `pad_token_id` to `eos_token_id`:None for open-end generation.\n"
          ]
        },
        {
          "output_type": "stream",
          "name": "stdout",
          "text": [
            "Predicted label: sexist\n",
            "Elapsed time: 0:06:09.072857\n",
            "\n",
            "Testing sample 284/300 (Index: 166)\n",
            "Text: Absolutely! If these RINOs stab US all in the back - tossing their vote to the Democrats = WE WILL NEVER FORGET! It's a hardcore SMEAR CAMPAIGN w Hillary Clinton and her lawyers behind it all = EVIL BITCH.\n",
            "True label: sexist\n"
          ]
        },
        {
          "output_type": "stream",
          "name": "stderr",
          "text": [
            "Setting `pad_token_id` to `eos_token_id`:None for open-end generation.\n"
          ]
        },
        {
          "output_type": "stream",
          "name": "stdout",
          "text": [
            "Predicted label: sexist\n",
            "Elapsed time: 0:06:10.442386\n",
            "\n",
            "Testing sample 285/300 (Index: 261)\n",
            "Text: Soy boys PMS worse than women cause it's 24/7. They get their delicate feelings hurt because of lack of testosterone...It's a problem!\n",
            "True label: sexist\n"
          ]
        },
        {
          "output_type": "stream",
          "name": "stderr",
          "text": [
            "Setting `pad_token_id` to `eos_token_id`:None for open-end generation.\n"
          ]
        },
        {
          "output_type": "stream",
          "name": "stdout",
          "text": [
            "Predicted label: sexist\n",
            "Elapsed time: 0:06:11.729770\n",
            "\n",
            "Testing sample 286/300 (Index: 198)\n",
            "Text: other vapid whore. fuck the off like kindly \"I'm you girls\" not\n",
            "True label: sexist\n"
          ]
        },
        {
          "output_type": "stream",
          "name": "stderr",
          "text": [
            "Setting `pad_token_id` to `eos_token_id`:None for open-end generation.\n"
          ]
        },
        {
          "output_type": "stream",
          "name": "stdout",
          "text": [
            "Predicted label: sexist\n",
            "Elapsed time: 0:06:13.025317\n",
            "\n",
            "Testing sample 287/300 (Index: 83)\n",
            "Text: Go for more traditional women. They cheat at a far lower rate than city girls.\n",
            "True label: sexist\n"
          ]
        },
        {
          "output_type": "stream",
          "name": "stderr",
          "text": [
            "Setting `pad_token_id` to `eos_token_id`:None for open-end generation.\n"
          ]
        },
        {
          "output_type": "stream",
          "name": "stdout",
          "text": [
            "Predicted label: sexist\n",
            "Elapsed time: 0:06:14.308211\n",
            "\n",
            "Testing sample 288/300 (Index: 67)\n",
            "Text: Her career literally doesn't matter, neither does her degree or diploma. Agree with the rest.\n",
            "True label: not sexist\n"
          ]
        },
        {
          "output_type": "stream",
          "name": "stderr",
          "text": [
            "Setting `pad_token_id` to `eos_token_id`:None for open-end generation.\n"
          ]
        },
        {
          "output_type": "stream",
          "name": "stdout",
          "text": [
            "Predicted label: sexist\n",
            "Elapsed time: 0:06:15.578948\n",
            "\n",
            "Testing sample 289/300 (Index: 28)\n",
            "Text: The ultimate stupid nigger, his cockroach mother I'm sure is on benifits too... Useless vermin.\n",
            "True label: sexist\n"
          ]
        },
        {
          "output_type": "stream",
          "name": "stderr",
          "text": [
            "Setting `pad_token_id` to `eos_token_id`:None for open-end generation.\n"
          ]
        },
        {
          "output_type": "stream",
          "name": "stdout",
          "text": [
            "Predicted label: sexist\n",
            "Elapsed time: 0:06:16.860220\n",
            "\n",
            "Testing sample 290/300 (Index: 296)\n",
            "Text: Alexa Chung Her father is 3/4 Chinese if that makes a difference. I'm pretty good at spotting mixes, so she does appear a little different but definitely not appearing like half or even 3/8s asian.\n",
            "True label: not sexist\n"
          ]
        },
        {
          "output_type": "stream",
          "name": "stderr",
          "text": [
            "Setting `pad_token_id` to `eos_token_id`:None for open-end generation.\n"
          ]
        },
        {
          "output_type": "stream",
          "name": "stdout",
          "text": [
            "Predicted label: sexist\n",
            "Elapsed time: 0:06:18.143029\n",
            "\n",
            "Testing sample 291/300 (Index: 212)\n",
            "Text: It hasn't for many because this greedy bastard had to try and get it all for himself.\n",
            "True label: not sexist\n"
          ]
        },
        {
          "output_type": "stream",
          "name": "stderr",
          "text": [
            "Setting `pad_token_id` to `eos_token_id`:None for open-end generation.\n"
          ]
        },
        {
          "output_type": "stream",
          "name": "stdout",
          "text": [
            "Predicted label: sexist\n",
            "Elapsed time: 0:06:19.437181\n",
            "\n",
            "Testing sample 292/300 (Index: 38)\n",
            "Text: Yes, let's all be LECTURED by a Jack-ass like this Jimbo Bono's Bud in Red #BoycottedOscars #BoycottHollywood\n",
            "True label: not sexist\n"
          ]
        },
        {
          "output_type": "stream",
          "name": "stderr",
          "text": [
            "Setting `pad_token_id` to `eos_token_id`:None for open-end generation.\n"
          ]
        },
        {
          "output_type": "stream",
          "name": "stdout",
          "text": [
            "Predicted label: sexist\n",
            "Elapsed time: 0:06:20.716789\n",
            "\n",
            "Testing sample 293/300 (Index: 103)\n",
            "Text: So true girls don't know what they want and can't be loyal to anyone or anything. They just ride till they get a little bored then destroy him because they can't just leave like a normal person and find a new victim. They are black widows.\n",
            "True label: sexist\n"
          ]
        },
        {
          "output_type": "stream",
          "name": "stderr",
          "text": [
            "Setting `pad_token_id` to `eos_token_id`:None for open-end generation.\n"
          ]
        },
        {
          "output_type": "stream",
          "name": "stdout",
          "text": [
            "Predicted label: sexist\n",
            "Elapsed time: 0:06:22.056031\n",
            "\n",
            "Testing sample 294/300 (Index: 25)\n",
            "Text: Why did he move out? She's the cheater, she should be forced out.\n",
            "True label: sexist\n"
          ]
        },
        {
          "output_type": "stream",
          "name": "stderr",
          "text": [
            "Setting `pad_token_id` to `eos_token_id`:None for open-end generation.\n"
          ]
        },
        {
          "output_type": "stream",
          "name": "stdout",
          "text": [
            "Predicted label: sexist\n",
            "Elapsed time: 0:06:23.444639\n",
            "\n",
            "Testing sample 295/300 (Index: 87)\n",
            "Text: No thank you I've had my self-confidence destroyed by Indian women since birth\n",
            "True label: sexist\n"
          ]
        },
        {
          "output_type": "stream",
          "name": "stderr",
          "text": [
            "Setting `pad_token_id` to `eos_token_id`:None for open-end generation.\n"
          ]
        },
        {
          "output_type": "stream",
          "name": "stdout",
          "text": [
            "Predicted label: sexist\n",
            "Elapsed time: 0:06:24.728093\n",
            "\n",
            "Testing sample 296/300 (Index: 163)\n",
            "Text: Fucking lol. Bitches love trinkets.\n",
            "True label: sexist\n"
          ]
        },
        {
          "output_type": "stream",
          "name": "stderr",
          "text": [
            "Setting `pad_token_id` to `eos_token_id`:None for open-end generation.\n"
          ]
        },
        {
          "output_type": "stream",
          "name": "stdout",
          "text": [
            "Predicted label: sexist\n",
            "Elapsed time: 0:06:26.002007\n",
            "\n",
            "Testing sample 297/300 (Index: 97)\n",
            "Text: Damn right. Contraceptives and carpet bombs. We made 'em, we can take 'em out. It is our right as the reason why they exist in the first place, we are their gods. We can giveth and we can taketh away. / Too far ?\n",
            "True label: not sexist\n"
          ]
        },
        {
          "output_type": "stream",
          "name": "stderr",
          "text": [
            "Setting `pad_token_id` to `eos_token_id`:None for open-end generation.\n"
          ]
        },
        {
          "output_type": "stream",
          "name": "stdout",
          "text": [
            "Predicted label: sexist\n",
            "Elapsed time: 0:06:27.279546\n",
            "\n",
            "Testing sample 298/300 (Index: 27)\n",
            "Text: #Italy: #Muslim #migrant gropes American student’s girlfriend, then #stabs the student twice: [URL]\n",
            "True label: not sexist\n"
          ]
        },
        {
          "output_type": "stream",
          "name": "stderr",
          "text": [
            "Setting `pad_token_id` to `eos_token_id`:None for open-end generation.\n"
          ]
        },
        {
          "output_type": "stream",
          "name": "stdout",
          "text": [
            "Predicted label: sexist\n",
            "Elapsed time: 0:06:28.558906\n",
            "\n",
            "Testing sample 299/300 (Index: 39)\n",
            "Text: Sick fucks....santanic people need to burn in hell!!\n",
            "True label: not sexist\n"
          ]
        },
        {
          "output_type": "stream",
          "name": "stderr",
          "text": [
            "Setting `pad_token_id` to `eos_token_id`:None for open-end generation.\n"
          ]
        },
        {
          "output_type": "stream",
          "name": "stdout",
          "text": [
            "Predicted label: sexist\n",
            "Elapsed time: 0:06:29.838196\n",
            "\n",
            "Testing sample 300/300 (Index: 174)\n",
            "Text: This whore deserves to be shot to death. Women have no control. I hope someone shoots her to death in jail before she goes to trial. UK has the most fucked up feminist society.\n",
            "True label: sexist\n",
            "Predicted label: sexist\n",
            "Elapsed time: 0:06:31.114944\n",
            "\n",
            "\n",
            "Total processing time for 300 samples: 0:06:31.114983\n",
            "Average time per sample: 1.30 seconds\n",
            "\n",
            "Test Summary:\n",
            "Total samples tested: 300\n",
            "Accuracy: 50.00%\n"
          ]
        }
      ]
    },
    {
      "cell_type": "markdown",
      "metadata": {
        "id": "VKcQ0ZfO2Fya"
      },
      "source": [
        "## Notes\n",
        "\n",
        "1. According to our tests, it should take you ~10 mins to perform full inference on 300 samples."
      ]
    },
    {
      "cell_type": "markdown",
      "metadata": {
        "id": "KyZ8WU09zz-a"
      },
      "source": [
        "# [Task 4 - 0.5 points] Metrics\n",
        "\n",
        "In order to evaluate selected LLMs, we need to compute performance metrics.\n",
        "\n",
        "In particular, we are interested in computing **accuracy** since the provided data is balanced with respect to classification classes.\n",
        "\n",
        "Moreover, we want to compute the ratio of failed responses generated by models.\n",
        "\n",
        "That is, how frequent the LLM fails to follow instructions and provides incorrect responses that do not address the classification task.\n",
        "\n",
        "We denote this metric as **fail-ratio**.\n",
        "\n",
        "In summary, we parse generated responses as follows:\n",
        "- 1 if the model says YES\n",
        "- 0 if the model says NO\n",
        "- 0 if the model does not answer in either way"
      ]
    },
    {
      "cell_type": "markdown",
      "metadata": {
        "id": "y6lu64o80iX4"
      },
      "source": [
        "### Instructions\n",
        "\n",
        "In order to get Task 4 points, we require you to:\n",
        "\n",
        "* Write a ``compute_metrics`` function as the one reported below.\n",
        "* Compute metrics for the two selected LLMs."
      ]
    },
    {
      "cell_type": "code",
      "execution_count": null,
      "metadata": {
        "id": "9Fmcw_9v0k9D"
      },
      "outputs": [],
      "source": [
        "def compute_metrics(responses, y_true):\n",
        "  \"\"\"\n",
        "    This function takes predicted and ground-truth labels and compute metrics.\n",
        "    In particular, this function compute accuracy and fail-ratio metrics.\n",
        "    This function internally invokes `process_response` to compute metrics.\n",
        "\n",
        "    Inputs:\n",
        "      responses: generated LLM responses\n",
        "      y_true: ground-truth binary labels\n",
        "\n",
        "    Outputs:\n",
        "      dictionary containing desired metrics\n",
        "  \"\"\"\n",
        "  pass"
      ]
    },
    {
      "cell_type": "markdown",
      "metadata": {
        "id": "nHyvV4QD2vZS"
      },
      "source": [
        "# [Task 5 - 1.0 points] Few-shot Inference\n",
        "\n",
        "So far, we have tested models in a zero-shot fashion: we provide the input text to classify and instruct the model to generate a response.\n",
        "\n",
        "We are now interested in performing few-shot prompting to see the impact of providing demonstration examples.\n",
        "\n",
        "To do so, we slightly change the prompt template as follows."
      ]
    },
    {
      "cell_type": "code",
      "execution_count": null,
      "metadata": {
        "id": "pEqsOHz63ReW"
      },
      "outputs": [],
      "source": [
        "prompt = [\n",
        "    {\n",
        "        'role': 'system',\n",
        "        'content': 'You are an annotator for sexism detection.'\n",
        "    },\n",
        "    {\n",
        "        'role': 'user',\n",
        "        'content': \"\"\"Your task is to classify input text as containing sexism or not. Respond only YES or NO.\n",
        "\n",
        "        EXAMPLES:\n",
        "        {examples}\n",
        "\n",
        "        TEXT:\n",
        "        {text}\n",
        "\n",
        "        ANSWER:\n",
        "        \"\"\"\n",
        "    }\n",
        "]"
      ]
    },
    {
      "cell_type": "markdown",
      "metadata": {
        "id": "_SnaxuwN3ySF"
      },
      "source": [
        "The new prompt template reports some demonstration examples to instruct the model.\n",
        "\n",
        "Generally, we provide an equal number of demonstrations per class as shown in the example below."
      ]
    },
    {
      "cell_type": "code",
      "execution_count": null,
      "metadata": {
        "id": "8mNmRMQs4VCn"
      },
      "outputs": [],
      "source": [
        "prompt = [\n",
        "    {\n",
        "        'role': 'system',\n",
        "        'content': 'You are an annotator for sexism detection.'\n",
        "    },\n",
        "    {\n",
        "        'role': 'user',\n",
        "        'content': \"\"\"Your task is to classify input text as containing sexism or not. Respond only YES or NO.\n",
        "\n",
        "        EXAMPLES:\n",
        "        TEXT: **example 1**\n",
        "        ANSWER: YES\n",
        "        TEXT: **example 2**\n",
        "        ANSWER: NO\n",
        "\n",
        "        TEXT:\n",
        "        {text}\n",
        "\n",
        "        ANSWER:\n",
        "        \"\"\"\n",
        "    }\n",
        "]"
      ]
    },
    {
      "cell_type": "markdown",
      "metadata": {
        "id": "OE0XnaVr3CZz"
      },
      "source": [
        "## Instructions\n",
        "\n",
        "In order to get Task 5 points, we require you to:\n",
        "\n",
        "- Load ``demonstrations.csv`` and encode it into a ``pandas.DataFrame`` object.\n",
        "- Define a ``build_few_shot_demonstrations`` function as the one reported below.\n",
        "- Perform few-shot inference as in Task 3.\n",
        "- Compute metrics as in Task 4."
      ]
    },
    {
      "cell_type": "code",
      "execution_count": null,
      "metadata": {
        "id": "6oyxypUG3ltH"
      },
      "outputs": [],
      "source": [
        "def build_few_shot_demonstrations(demonstrations, num_per_class=2):\n",
        "  \"\"\"\n",
        "    Inputs:\n",
        "      demonstrations: the pandas.DataFrame object wrapping demonstrations.csv\n",
        "      num_per_class: number of demonstrations per class\n",
        "\n",
        "    Outputs:\n",
        "      a list of textual demonstrations to inject into the prompt template.\n",
        "  \"\"\"\n",
        "  pass"
      ]
    },
    {
      "cell_type": "markdown",
      "metadata": {
        "id": "dGpZWQb45XXK"
      },
      "source": [
        "## Notes\n",
        "\n",
        "1. You are free to pick any value for ``num_per_class``.\n",
        "\n",
        "2. According to our tests, few-shot prompting increases inference time by some minutes (we experimented with ``num_per_class`` $\\in [2, 4]$)."
      ]
    },
    {
      "cell_type": "markdown",
      "metadata": {
        "id": "XHuT1a1GLJnd"
      },
      "source": [
        "# [Task 6 - 1.0 points] Error Analysis\n",
        "\n",
        "We are now interested in evaluating model responses and comparing their performance.\n",
        "\n",
        "This analysis helps us in understanding\n",
        "\n",
        "- Classification task performance gap: are the models good at this task?\n",
        "- Generation quality: which kind of responses do models generate?\n",
        "- Errors: which kind of mistakes do models do?"
      ]
    },
    {
      "cell_type": "markdown",
      "metadata": {
        "id": "7kjEAHD4LJne"
      },
      "source": [
        "### Instructions\n",
        "\n",
        "In order to get Task 6 points, we require you to:\n",
        "\n",
        "* Compare classification performance of selected LLMs in a Table.\n",
        "* Compute confusion matrices for selected LLMs.\n",
        "* Briefly summarize your observations on generated responses."
      ]
    },
    {
      "cell_type": "markdown",
      "metadata": {
        "id": "8QWlVXJgLJne"
      },
      "source": [
        "# [Task 7 - 1.0 points] Report\n",
        "\n",
        "Wrap up your experiment in a short report (up to 2 pages)."
      ]
    },
    {
      "cell_type": "markdown",
      "metadata": {
        "id": "_fsdV99TLJne"
      },
      "source": [
        "### Instructions\n",
        "\n",
        "* Use the NLP course report template.\n",
        "* Summarize each task in the report following the provided template."
      ]
    },
    {
      "cell_type": "markdown",
      "metadata": {
        "id": "z-hUXYaLLJne"
      },
      "source": [
        "### Recommendations\n",
        "\n",
        "The report is not a copy-paste of graphs, tables, and command outputs.\n",
        "\n",
        "* Summarize classification performance in Table format.\n",
        "* **Do not** report command outputs or screenshots.\n",
        "* Report learning curves in Figure format.\n",
        "* The error analysis section should summarize your findings."
      ]
    },
    {
      "cell_type": "markdown",
      "metadata": {
        "id": "fURV8zfPLJne"
      },
      "source": [
        "# Submission\n",
        "\n",
        "* **Submit** your report in PDF format.\n",
        "* **Submit** your python notebook.\n",
        "* Make sure your notebook is **well organized**, with no temporary code, commented sections, tests, etc..."
      ]
    },
    {
      "cell_type": "markdown",
      "metadata": {
        "id": "zn1tUeYzLJne"
      },
      "source": [
        "# FAQ\n",
        "\n",
        "Please check this frequently asked questions before contacting us."
      ]
    },
    {
      "cell_type": "markdown",
      "metadata": {
        "id": "FYAOVGvKhtTQ"
      },
      "source": [
        "### Model cards\n",
        "\n",
        "You can pick any open-source model card you like.\n",
        "\n",
        "We recommend starting from those reported in this assignment."
      ]
    },
    {
      "cell_type": "markdown",
      "metadata": {
        "id": "PWG72N-LLJne"
      },
      "source": [
        "### Implementation\n",
        "\n",
        "Everything can be done via ``transformers`` APIs.\n",
        "\n",
        "However, you are free to test frameworks, such as [LangChain](https://www.langchain.com/), [LlamaIndex](https://www.llamaindex.ai/) [LitParrot](https://github.com/awesome-software/lit-parrot), provided that you correctly address task instructions."
      ]
    },
    {
      "cell_type": "markdown",
      "metadata": {
        "id": "9cplnq3dLJne"
      },
      "source": [
        "### Bonus Points\n",
        "\n",
        "0.5 bonus points are arbitrarily assigned based on significant contributions such as:\n",
        "\n",
        "- Outstanding error analysis\n",
        "- Masterclass code organization\n",
        "- Suitable extensions\n",
        "- Evaluate A1 dataset and perform comparison\n",
        "\n",
        "Note that bonus points are only assigned if all task points are attributed (i.e., 6/6)."
      ]
    },
    {
      "cell_type": "markdown",
      "metadata": {
        "id": "coy_pJ40LJne"
      },
      "source": [
        "### Prompt Template\n",
        "\n",
        "Do not change the provided prompt template.\n",
        "\n",
        "You are only allowed to change it in case of a possible extension."
      ]
    },
    {
      "cell_type": "markdown",
      "metadata": {
        "id": "aSiH0Xqj79wc"
      },
      "source": [
        "### Optimizations\n",
        "\n",
        "Any kind of code optimization (e.g., speedup model inference or reduce computational cost) is more than welcome!"
      ]
    },
    {
      "cell_type": "markdown",
      "metadata": {
        "id": "Jpr-LSK7LJnh"
      },
      "source": [
        "# The End"
      ]
    }
  ],
  "metadata": {
    "celltoolbar": "Slideshow",
    "colab": {
      "provenance": [],
      "toc_visible": true,
      "gpuType": "T4",
      "include_colab_link": true
    },
    "kernelspec": {
      "display_name": "Python 3",
      "name": "python3"
    },
    "language_info": {
      "codemirror_mode": {
        "name": "ipython",
        "version": 3
      },
      "file_extension": ".py",
      "mimetype": "text/x-python",
      "name": "python",
      "nbconvert_exporter": "python",
      "pygments_lexer": "ipython3",
      "version": "3.10.12"
    },
    "accelerator": "GPU",
    "widgets": {
      "application/vnd.jupyter.widget-state+json": {
        "d99509feb714404a81a3a95cb94e8085": {
          "model_module": "@jupyter-widgets/controls",
          "model_name": "HBoxModel",
          "model_module_version": "1.5.0",
          "state": {
            "_dom_classes": [],
            "_model_module": "@jupyter-widgets/controls",
            "_model_module_version": "1.5.0",
            "_model_name": "HBoxModel",
            "_view_count": null,
            "_view_module": "@jupyter-widgets/controls",
            "_view_module_version": "1.5.0",
            "_view_name": "HBoxView",
            "box_style": "",
            "children": [
              "IPY_MODEL_2950a71d744a46c79428317b00f3c745",
              "IPY_MODEL_e5d5b1550798411f9887d66fdf174a59",
              "IPY_MODEL_e2f4a3a2cd7642459df70bec81561c86"
            ],
            "layout": "IPY_MODEL_b26f95bcd62549da81b83e2d7524be5b"
          }
        },
        "2950a71d744a46c79428317b00f3c745": {
          "model_module": "@jupyter-widgets/controls",
          "model_name": "HTMLModel",
          "model_module_version": "1.5.0",
          "state": {
            "_dom_classes": [],
            "_model_module": "@jupyter-widgets/controls",
            "_model_module_version": "1.5.0",
            "_model_name": "HTMLModel",
            "_view_count": null,
            "_view_module": "@jupyter-widgets/controls",
            "_view_module_version": "1.5.0",
            "_view_name": "HTMLView",
            "description": "",
            "description_tooltip": null,
            "layout": "IPY_MODEL_76dcf2c4011c4b1da1a8f46b3a665d25",
            "placeholder": "​",
            "style": "IPY_MODEL_08899d6759d84d47b6784edc77cd0c20",
            "value": "tokenizer_config.json: 100%"
          }
        },
        "e5d5b1550798411f9887d66fdf174a59": {
          "model_module": "@jupyter-widgets/controls",
          "model_name": "FloatProgressModel",
          "model_module_version": "1.5.0",
          "state": {
            "_dom_classes": [],
            "_model_module": "@jupyter-widgets/controls",
            "_model_module_version": "1.5.0",
            "_model_name": "FloatProgressModel",
            "_view_count": null,
            "_view_module": "@jupyter-widgets/controls",
            "_view_module_version": "1.5.0",
            "_view_name": "ProgressView",
            "bar_style": "success",
            "description": "",
            "description_tooltip": null,
            "layout": "IPY_MODEL_4389bd5cbbc7404ebb2887994ed5561c",
            "max": 140874,
            "min": 0,
            "orientation": "horizontal",
            "style": "IPY_MODEL_ba3a66d8872849b789971d382085086d",
            "value": 140874
          }
        },
        "e2f4a3a2cd7642459df70bec81561c86": {
          "model_module": "@jupyter-widgets/controls",
          "model_name": "HTMLModel",
          "model_module_version": "1.5.0",
          "state": {
            "_dom_classes": [],
            "_model_module": "@jupyter-widgets/controls",
            "_model_module_version": "1.5.0",
            "_model_name": "HTMLModel",
            "_view_count": null,
            "_view_module": "@jupyter-widgets/controls",
            "_view_module_version": "1.5.0",
            "_view_name": "HTMLView",
            "description": "",
            "description_tooltip": null,
            "layout": "IPY_MODEL_4d281c9110da40eea30423523f9a7fe4",
            "placeholder": "​",
            "style": "IPY_MODEL_c5783f70c9ec48a7b3fd9cee751ad5eb",
            "value": " 141k/141k [00:00&lt;00:00, 2.83MB/s]"
          }
        },
        "b26f95bcd62549da81b83e2d7524be5b": {
          "model_module": "@jupyter-widgets/base",
          "model_name": "LayoutModel",
          "model_module_version": "1.2.0",
          "state": {
            "_model_module": "@jupyter-widgets/base",
            "_model_module_version": "1.2.0",
            "_model_name": "LayoutModel",
            "_view_count": null,
            "_view_module": "@jupyter-widgets/base",
            "_view_module_version": "1.2.0",
            "_view_name": "LayoutView",
            "align_content": null,
            "align_items": null,
            "align_self": null,
            "border": null,
            "bottom": null,
            "display": null,
            "flex": null,
            "flex_flow": null,
            "grid_area": null,
            "grid_auto_columns": null,
            "grid_auto_flow": null,
            "grid_auto_rows": null,
            "grid_column": null,
            "grid_gap": null,
            "grid_row": null,
            "grid_template_areas": null,
            "grid_template_columns": null,
            "grid_template_rows": null,
            "height": null,
            "justify_content": null,
            "justify_items": null,
            "left": null,
            "margin": null,
            "max_height": null,
            "max_width": null,
            "min_height": null,
            "min_width": null,
            "object_fit": null,
            "object_position": null,
            "order": null,
            "overflow": null,
            "overflow_x": null,
            "overflow_y": null,
            "padding": null,
            "right": null,
            "top": null,
            "visibility": null,
            "width": null
          }
        },
        "76dcf2c4011c4b1da1a8f46b3a665d25": {
          "model_module": "@jupyter-widgets/base",
          "model_name": "LayoutModel",
          "model_module_version": "1.2.0",
          "state": {
            "_model_module": "@jupyter-widgets/base",
            "_model_module_version": "1.2.0",
            "_model_name": "LayoutModel",
            "_view_count": null,
            "_view_module": "@jupyter-widgets/base",
            "_view_module_version": "1.2.0",
            "_view_name": "LayoutView",
            "align_content": null,
            "align_items": null,
            "align_self": null,
            "border": null,
            "bottom": null,
            "display": null,
            "flex": null,
            "flex_flow": null,
            "grid_area": null,
            "grid_auto_columns": null,
            "grid_auto_flow": null,
            "grid_auto_rows": null,
            "grid_column": null,
            "grid_gap": null,
            "grid_row": null,
            "grid_template_areas": null,
            "grid_template_columns": null,
            "grid_template_rows": null,
            "height": null,
            "justify_content": null,
            "justify_items": null,
            "left": null,
            "margin": null,
            "max_height": null,
            "max_width": null,
            "min_height": null,
            "min_width": null,
            "object_fit": null,
            "object_position": null,
            "order": null,
            "overflow": null,
            "overflow_x": null,
            "overflow_y": null,
            "padding": null,
            "right": null,
            "top": null,
            "visibility": null,
            "width": null
          }
        },
        "08899d6759d84d47b6784edc77cd0c20": {
          "model_module": "@jupyter-widgets/controls",
          "model_name": "DescriptionStyleModel",
          "model_module_version": "1.5.0",
          "state": {
            "_model_module": "@jupyter-widgets/controls",
            "_model_module_version": "1.5.0",
            "_model_name": "DescriptionStyleModel",
            "_view_count": null,
            "_view_module": "@jupyter-widgets/base",
            "_view_module_version": "1.2.0",
            "_view_name": "StyleView",
            "description_width": ""
          }
        },
        "4389bd5cbbc7404ebb2887994ed5561c": {
          "model_module": "@jupyter-widgets/base",
          "model_name": "LayoutModel",
          "model_module_version": "1.2.0",
          "state": {
            "_model_module": "@jupyter-widgets/base",
            "_model_module_version": "1.2.0",
            "_model_name": "LayoutModel",
            "_view_count": null,
            "_view_module": "@jupyter-widgets/base",
            "_view_module_version": "1.2.0",
            "_view_name": "LayoutView",
            "align_content": null,
            "align_items": null,
            "align_self": null,
            "border": null,
            "bottom": null,
            "display": null,
            "flex": null,
            "flex_flow": null,
            "grid_area": null,
            "grid_auto_columns": null,
            "grid_auto_flow": null,
            "grid_auto_rows": null,
            "grid_column": null,
            "grid_gap": null,
            "grid_row": null,
            "grid_template_areas": null,
            "grid_template_columns": null,
            "grid_template_rows": null,
            "height": null,
            "justify_content": null,
            "justify_items": null,
            "left": null,
            "margin": null,
            "max_height": null,
            "max_width": null,
            "min_height": null,
            "min_width": null,
            "object_fit": null,
            "object_position": null,
            "order": null,
            "overflow": null,
            "overflow_x": null,
            "overflow_y": null,
            "padding": null,
            "right": null,
            "top": null,
            "visibility": null,
            "width": null
          }
        },
        "ba3a66d8872849b789971d382085086d": {
          "model_module": "@jupyter-widgets/controls",
          "model_name": "ProgressStyleModel",
          "model_module_version": "1.5.0",
          "state": {
            "_model_module": "@jupyter-widgets/controls",
            "_model_module_version": "1.5.0",
            "_model_name": "ProgressStyleModel",
            "_view_count": null,
            "_view_module": "@jupyter-widgets/base",
            "_view_module_version": "1.2.0",
            "_view_name": "StyleView",
            "bar_color": null,
            "description_width": ""
          }
        },
        "4d281c9110da40eea30423523f9a7fe4": {
          "model_module": "@jupyter-widgets/base",
          "model_name": "LayoutModel",
          "model_module_version": "1.2.0",
          "state": {
            "_model_module": "@jupyter-widgets/base",
            "_model_module_version": "1.2.0",
            "_model_name": "LayoutModel",
            "_view_count": null,
            "_view_module": "@jupyter-widgets/base",
            "_view_module_version": "1.2.0",
            "_view_name": "LayoutView",
            "align_content": null,
            "align_items": null,
            "align_self": null,
            "border": null,
            "bottom": null,
            "display": null,
            "flex": null,
            "flex_flow": null,
            "grid_area": null,
            "grid_auto_columns": null,
            "grid_auto_flow": null,
            "grid_auto_rows": null,
            "grid_column": null,
            "grid_gap": null,
            "grid_row": null,
            "grid_template_areas": null,
            "grid_template_columns": null,
            "grid_template_rows": null,
            "height": null,
            "justify_content": null,
            "justify_items": null,
            "left": null,
            "margin": null,
            "max_height": null,
            "max_width": null,
            "min_height": null,
            "min_width": null,
            "object_fit": null,
            "object_position": null,
            "order": null,
            "overflow": null,
            "overflow_x": null,
            "overflow_y": null,
            "padding": null,
            "right": null,
            "top": null,
            "visibility": null,
            "width": null
          }
        },
        "c5783f70c9ec48a7b3fd9cee751ad5eb": {
          "model_module": "@jupyter-widgets/controls",
          "model_name": "DescriptionStyleModel",
          "model_module_version": "1.5.0",
          "state": {
            "_model_module": "@jupyter-widgets/controls",
            "_model_module_version": "1.5.0",
            "_model_name": "DescriptionStyleModel",
            "_view_count": null,
            "_view_module": "@jupyter-widgets/base",
            "_view_module_version": "1.2.0",
            "_view_name": "StyleView",
            "description_width": ""
          }
        },
        "cfa416cd5aec4c9ab151e2bf4a0cf286": {
          "model_module": "@jupyter-widgets/controls",
          "model_name": "HBoxModel",
          "model_module_version": "1.5.0",
          "state": {
            "_dom_classes": [],
            "_model_module": "@jupyter-widgets/controls",
            "_model_module_version": "1.5.0",
            "_model_name": "HBoxModel",
            "_view_count": null,
            "_view_module": "@jupyter-widgets/controls",
            "_view_module_version": "1.5.0",
            "_view_name": "HBoxView",
            "box_style": "",
            "children": [
              "IPY_MODEL_8d891039efdc40cbadb2444dd2f70586",
              "IPY_MODEL_4d4f2cf633aa4121b5a9c1cc0654ba33",
              "IPY_MODEL_e328425ec4334eedbc8ecd8860cb4888"
            ],
            "layout": "IPY_MODEL_1f4d8b2900ea45ba8e15a27c4fcdf72b"
          }
        },
        "8d891039efdc40cbadb2444dd2f70586": {
          "model_module": "@jupyter-widgets/controls",
          "model_name": "HTMLModel",
          "model_module_version": "1.5.0",
          "state": {
            "_dom_classes": [],
            "_model_module": "@jupyter-widgets/controls",
            "_model_module_version": "1.5.0",
            "_model_name": "HTMLModel",
            "_view_count": null,
            "_view_module": "@jupyter-widgets/controls",
            "_view_module_version": "1.5.0",
            "_view_name": "HTMLView",
            "description": "",
            "description_tooltip": null,
            "layout": "IPY_MODEL_a1122d61d5a74b549798f8253cd9302e",
            "placeholder": "​",
            "style": "IPY_MODEL_4e41c6b6ea47420ab809ef71cddcf10b",
            "value": "tokenizer.model: 100%"
          }
        },
        "4d4f2cf633aa4121b5a9c1cc0654ba33": {
          "model_module": "@jupyter-widgets/controls",
          "model_name": "FloatProgressModel",
          "model_module_version": "1.5.0",
          "state": {
            "_dom_classes": [],
            "_model_module": "@jupyter-widgets/controls",
            "_model_module_version": "1.5.0",
            "_model_name": "FloatProgressModel",
            "_view_count": null,
            "_view_module": "@jupyter-widgets/controls",
            "_view_module_version": "1.5.0",
            "_view_name": "ProgressView",
            "bar_style": "success",
            "description": "",
            "description_tooltip": null,
            "layout": "IPY_MODEL_ad9657e6f6dd49989ba3dfce6ff1a177",
            "max": 587404,
            "min": 0,
            "orientation": "horizontal",
            "style": "IPY_MODEL_7ea87a9b9810449a8c8c00c894531222",
            "value": 587404
          }
        },
        "e328425ec4334eedbc8ecd8860cb4888": {
          "model_module": "@jupyter-widgets/controls",
          "model_name": "HTMLModel",
          "model_module_version": "1.5.0",
          "state": {
            "_dom_classes": [],
            "_model_module": "@jupyter-widgets/controls",
            "_model_module_version": "1.5.0",
            "_model_name": "HTMLModel",
            "_view_count": null,
            "_view_module": "@jupyter-widgets/controls",
            "_view_module_version": "1.5.0",
            "_view_name": "HTMLView",
            "description": "",
            "description_tooltip": null,
            "layout": "IPY_MODEL_8ef84cc7f4e44f0eab02e6ca6e757c15",
            "placeholder": "​",
            "style": "IPY_MODEL_1fb76c2db8614f779f45965087700567",
            "value": " 587k/587k [00:00&lt;00:00, 12.1MB/s]"
          }
        },
        "1f4d8b2900ea45ba8e15a27c4fcdf72b": {
          "model_module": "@jupyter-widgets/base",
          "model_name": "LayoutModel",
          "model_module_version": "1.2.0",
          "state": {
            "_model_module": "@jupyter-widgets/base",
            "_model_module_version": "1.2.0",
            "_model_name": "LayoutModel",
            "_view_count": null,
            "_view_module": "@jupyter-widgets/base",
            "_view_module_version": "1.2.0",
            "_view_name": "LayoutView",
            "align_content": null,
            "align_items": null,
            "align_self": null,
            "border": null,
            "bottom": null,
            "display": null,
            "flex": null,
            "flex_flow": null,
            "grid_area": null,
            "grid_auto_columns": null,
            "grid_auto_flow": null,
            "grid_auto_rows": null,
            "grid_column": null,
            "grid_gap": null,
            "grid_row": null,
            "grid_template_areas": null,
            "grid_template_columns": null,
            "grid_template_rows": null,
            "height": null,
            "justify_content": null,
            "justify_items": null,
            "left": null,
            "margin": null,
            "max_height": null,
            "max_width": null,
            "min_height": null,
            "min_width": null,
            "object_fit": null,
            "object_position": null,
            "order": null,
            "overflow": null,
            "overflow_x": null,
            "overflow_y": null,
            "padding": null,
            "right": null,
            "top": null,
            "visibility": null,
            "width": null
          }
        },
        "a1122d61d5a74b549798f8253cd9302e": {
          "model_module": "@jupyter-widgets/base",
          "model_name": "LayoutModel",
          "model_module_version": "1.2.0",
          "state": {
            "_model_module": "@jupyter-widgets/base",
            "_model_module_version": "1.2.0",
            "_model_name": "LayoutModel",
            "_view_count": null,
            "_view_module": "@jupyter-widgets/base",
            "_view_module_version": "1.2.0",
            "_view_name": "LayoutView",
            "align_content": null,
            "align_items": null,
            "align_self": null,
            "border": null,
            "bottom": null,
            "display": null,
            "flex": null,
            "flex_flow": null,
            "grid_area": null,
            "grid_auto_columns": null,
            "grid_auto_flow": null,
            "grid_auto_rows": null,
            "grid_column": null,
            "grid_gap": null,
            "grid_row": null,
            "grid_template_areas": null,
            "grid_template_columns": null,
            "grid_template_rows": null,
            "height": null,
            "justify_content": null,
            "justify_items": null,
            "left": null,
            "margin": null,
            "max_height": null,
            "max_width": null,
            "min_height": null,
            "min_width": null,
            "object_fit": null,
            "object_position": null,
            "order": null,
            "overflow": null,
            "overflow_x": null,
            "overflow_y": null,
            "padding": null,
            "right": null,
            "top": null,
            "visibility": null,
            "width": null
          }
        },
        "4e41c6b6ea47420ab809ef71cddcf10b": {
          "model_module": "@jupyter-widgets/controls",
          "model_name": "DescriptionStyleModel",
          "model_module_version": "1.5.0",
          "state": {
            "_model_module": "@jupyter-widgets/controls",
            "_model_module_version": "1.5.0",
            "_model_name": "DescriptionStyleModel",
            "_view_count": null,
            "_view_module": "@jupyter-widgets/base",
            "_view_module_version": "1.2.0",
            "_view_name": "StyleView",
            "description_width": ""
          }
        },
        "ad9657e6f6dd49989ba3dfce6ff1a177": {
          "model_module": "@jupyter-widgets/base",
          "model_name": "LayoutModel",
          "model_module_version": "1.2.0",
          "state": {
            "_model_module": "@jupyter-widgets/base",
            "_model_module_version": "1.2.0",
            "_model_name": "LayoutModel",
            "_view_count": null,
            "_view_module": "@jupyter-widgets/base",
            "_view_module_version": "1.2.0",
            "_view_name": "LayoutView",
            "align_content": null,
            "align_items": null,
            "align_self": null,
            "border": null,
            "bottom": null,
            "display": null,
            "flex": null,
            "flex_flow": null,
            "grid_area": null,
            "grid_auto_columns": null,
            "grid_auto_flow": null,
            "grid_auto_rows": null,
            "grid_column": null,
            "grid_gap": null,
            "grid_row": null,
            "grid_template_areas": null,
            "grid_template_columns": null,
            "grid_template_rows": null,
            "height": null,
            "justify_content": null,
            "justify_items": null,
            "left": null,
            "margin": null,
            "max_height": null,
            "max_width": null,
            "min_height": null,
            "min_width": null,
            "object_fit": null,
            "object_position": null,
            "order": null,
            "overflow": null,
            "overflow_x": null,
            "overflow_y": null,
            "padding": null,
            "right": null,
            "top": null,
            "visibility": null,
            "width": null
          }
        },
        "7ea87a9b9810449a8c8c00c894531222": {
          "model_module": "@jupyter-widgets/controls",
          "model_name": "ProgressStyleModel",
          "model_module_version": "1.5.0",
          "state": {
            "_model_module": "@jupyter-widgets/controls",
            "_model_module_version": "1.5.0",
            "_model_name": "ProgressStyleModel",
            "_view_count": null,
            "_view_module": "@jupyter-widgets/base",
            "_view_module_version": "1.2.0",
            "_view_name": "StyleView",
            "bar_color": null,
            "description_width": ""
          }
        },
        "8ef84cc7f4e44f0eab02e6ca6e757c15": {
          "model_module": "@jupyter-widgets/base",
          "model_name": "LayoutModel",
          "model_module_version": "1.2.0",
          "state": {
            "_model_module": "@jupyter-widgets/base",
            "_model_module_version": "1.2.0",
            "_model_name": "LayoutModel",
            "_view_count": null,
            "_view_module": "@jupyter-widgets/base",
            "_view_module_version": "1.2.0",
            "_view_name": "LayoutView",
            "align_content": null,
            "align_items": null,
            "align_self": null,
            "border": null,
            "bottom": null,
            "display": null,
            "flex": null,
            "flex_flow": null,
            "grid_area": null,
            "grid_auto_columns": null,
            "grid_auto_flow": null,
            "grid_auto_rows": null,
            "grid_column": null,
            "grid_gap": null,
            "grid_row": null,
            "grid_template_areas": null,
            "grid_template_columns": null,
            "grid_template_rows": null,
            "height": null,
            "justify_content": null,
            "justify_items": null,
            "left": null,
            "margin": null,
            "max_height": null,
            "max_width": null,
            "min_height": null,
            "min_width": null,
            "object_fit": null,
            "object_position": null,
            "order": null,
            "overflow": null,
            "overflow_x": null,
            "overflow_y": null,
            "padding": null,
            "right": null,
            "top": null,
            "visibility": null,
            "width": null
          }
        },
        "1fb76c2db8614f779f45965087700567": {
          "model_module": "@jupyter-widgets/controls",
          "model_name": "DescriptionStyleModel",
          "model_module_version": "1.5.0",
          "state": {
            "_model_module": "@jupyter-widgets/controls",
            "_model_module_version": "1.5.0",
            "_model_name": "DescriptionStyleModel",
            "_view_count": null,
            "_view_module": "@jupyter-widgets/base",
            "_view_module_version": "1.2.0",
            "_view_name": "StyleView",
            "description_width": ""
          }
        },
        "9933f0493fdc4e04a224bbb543fa1526": {
          "model_module": "@jupyter-widgets/controls",
          "model_name": "HBoxModel",
          "model_module_version": "1.5.0",
          "state": {
            "_dom_classes": [],
            "_model_module": "@jupyter-widgets/controls",
            "_model_module_version": "1.5.0",
            "_model_name": "HBoxModel",
            "_view_count": null,
            "_view_module": "@jupyter-widgets/controls",
            "_view_module_version": "1.5.0",
            "_view_name": "HBoxView",
            "box_style": "",
            "children": [
              "IPY_MODEL_4f444fe374b74cfba26aec2198e9a713",
              "IPY_MODEL_838fda0348ca446ab14fab9e172324a1",
              "IPY_MODEL_a6476a23461e46d49266594693b409a0"
            ],
            "layout": "IPY_MODEL_2bbfeb7c396442f08378cf2d071e5d6f"
          }
        },
        "4f444fe374b74cfba26aec2198e9a713": {
          "model_module": "@jupyter-widgets/controls",
          "model_name": "HTMLModel",
          "model_module_version": "1.5.0",
          "state": {
            "_dom_classes": [],
            "_model_module": "@jupyter-widgets/controls",
            "_model_module_version": "1.5.0",
            "_model_name": "HTMLModel",
            "_view_count": null,
            "_view_module": "@jupyter-widgets/controls",
            "_view_module_version": "1.5.0",
            "_view_name": "HTMLView",
            "description": "",
            "description_tooltip": null,
            "layout": "IPY_MODEL_308a57deef3149199180ef2cbf65ecbc",
            "placeholder": "​",
            "style": "IPY_MODEL_58ca0073dedb48baab02f19a92497e88",
            "value": "tokenizer.json: 100%"
          }
        },
        "838fda0348ca446ab14fab9e172324a1": {
          "model_module": "@jupyter-widgets/controls",
          "model_name": "FloatProgressModel",
          "model_module_version": "1.5.0",
          "state": {
            "_dom_classes": [],
            "_model_module": "@jupyter-widgets/controls",
            "_model_module_version": "1.5.0",
            "_model_name": "FloatProgressModel",
            "_view_count": null,
            "_view_module": "@jupyter-widgets/controls",
            "_view_module_version": "1.5.0",
            "_view_name": "ProgressView",
            "bar_style": "success",
            "description": "",
            "description_tooltip": null,
            "layout": "IPY_MODEL_a772dda040c54334b626adbc91cdbc58",
            "max": 1961548,
            "min": 0,
            "orientation": "horizontal",
            "style": "IPY_MODEL_ca85b213550f458e8d6c72cbb9fa6a5f",
            "value": 1961548
          }
        },
        "a6476a23461e46d49266594693b409a0": {
          "model_module": "@jupyter-widgets/controls",
          "model_name": "HTMLModel",
          "model_module_version": "1.5.0",
          "state": {
            "_dom_classes": [],
            "_model_module": "@jupyter-widgets/controls",
            "_model_module_version": "1.5.0",
            "_model_name": "HTMLModel",
            "_view_count": null,
            "_view_module": "@jupyter-widgets/controls",
            "_view_module_version": "1.5.0",
            "_view_name": "HTMLView",
            "description": "",
            "description_tooltip": null,
            "layout": "IPY_MODEL_7a8b845a7751468a9a8f519f13b718ff",
            "placeholder": "​",
            "style": "IPY_MODEL_fe5c8787231a4a2b92bd23edc5c45995",
            "value": " 1.96M/1.96M [00:03&lt;00:00, 536kB/s]"
          }
        },
        "2bbfeb7c396442f08378cf2d071e5d6f": {
          "model_module": "@jupyter-widgets/base",
          "model_name": "LayoutModel",
          "model_module_version": "1.2.0",
          "state": {
            "_model_module": "@jupyter-widgets/base",
            "_model_module_version": "1.2.0",
            "_model_name": "LayoutModel",
            "_view_count": null,
            "_view_module": "@jupyter-widgets/base",
            "_view_module_version": "1.2.0",
            "_view_name": "LayoutView",
            "align_content": null,
            "align_items": null,
            "align_self": null,
            "border": null,
            "bottom": null,
            "display": null,
            "flex": null,
            "flex_flow": null,
            "grid_area": null,
            "grid_auto_columns": null,
            "grid_auto_flow": null,
            "grid_auto_rows": null,
            "grid_column": null,
            "grid_gap": null,
            "grid_row": null,
            "grid_template_areas": null,
            "grid_template_columns": null,
            "grid_template_rows": null,
            "height": null,
            "justify_content": null,
            "justify_items": null,
            "left": null,
            "margin": null,
            "max_height": null,
            "max_width": null,
            "min_height": null,
            "min_width": null,
            "object_fit": null,
            "object_position": null,
            "order": null,
            "overflow": null,
            "overflow_x": null,
            "overflow_y": null,
            "padding": null,
            "right": null,
            "top": null,
            "visibility": null,
            "width": null
          }
        },
        "308a57deef3149199180ef2cbf65ecbc": {
          "model_module": "@jupyter-widgets/base",
          "model_name": "LayoutModel",
          "model_module_version": "1.2.0",
          "state": {
            "_model_module": "@jupyter-widgets/base",
            "_model_module_version": "1.2.0",
            "_model_name": "LayoutModel",
            "_view_count": null,
            "_view_module": "@jupyter-widgets/base",
            "_view_module_version": "1.2.0",
            "_view_name": "LayoutView",
            "align_content": null,
            "align_items": null,
            "align_self": null,
            "border": null,
            "bottom": null,
            "display": null,
            "flex": null,
            "flex_flow": null,
            "grid_area": null,
            "grid_auto_columns": null,
            "grid_auto_flow": null,
            "grid_auto_rows": null,
            "grid_column": null,
            "grid_gap": null,
            "grid_row": null,
            "grid_template_areas": null,
            "grid_template_columns": null,
            "grid_template_rows": null,
            "height": null,
            "justify_content": null,
            "justify_items": null,
            "left": null,
            "margin": null,
            "max_height": null,
            "max_width": null,
            "min_height": null,
            "min_width": null,
            "object_fit": null,
            "object_position": null,
            "order": null,
            "overflow": null,
            "overflow_x": null,
            "overflow_y": null,
            "padding": null,
            "right": null,
            "top": null,
            "visibility": null,
            "width": null
          }
        },
        "58ca0073dedb48baab02f19a92497e88": {
          "model_module": "@jupyter-widgets/controls",
          "model_name": "DescriptionStyleModel",
          "model_module_version": "1.5.0",
          "state": {
            "_model_module": "@jupyter-widgets/controls",
            "_model_module_version": "1.5.0",
            "_model_name": "DescriptionStyleModel",
            "_view_count": null,
            "_view_module": "@jupyter-widgets/base",
            "_view_module_version": "1.2.0",
            "_view_name": "StyleView",
            "description_width": ""
          }
        },
        "a772dda040c54334b626adbc91cdbc58": {
          "model_module": "@jupyter-widgets/base",
          "model_name": "LayoutModel",
          "model_module_version": "1.2.0",
          "state": {
            "_model_module": "@jupyter-widgets/base",
            "_model_module_version": "1.2.0",
            "_model_name": "LayoutModel",
            "_view_count": null,
            "_view_module": "@jupyter-widgets/base",
            "_view_module_version": "1.2.0",
            "_view_name": "LayoutView",
            "align_content": null,
            "align_items": null,
            "align_self": null,
            "border": null,
            "bottom": null,
            "display": null,
            "flex": null,
            "flex_flow": null,
            "grid_area": null,
            "grid_auto_columns": null,
            "grid_auto_flow": null,
            "grid_auto_rows": null,
            "grid_column": null,
            "grid_gap": null,
            "grid_row": null,
            "grid_template_areas": null,
            "grid_template_columns": null,
            "grid_template_rows": null,
            "height": null,
            "justify_content": null,
            "justify_items": null,
            "left": null,
            "margin": null,
            "max_height": null,
            "max_width": null,
            "min_height": null,
            "min_width": null,
            "object_fit": null,
            "object_position": null,
            "order": null,
            "overflow": null,
            "overflow_x": null,
            "overflow_y": null,
            "padding": null,
            "right": null,
            "top": null,
            "visibility": null,
            "width": null
          }
        },
        "ca85b213550f458e8d6c72cbb9fa6a5f": {
          "model_module": "@jupyter-widgets/controls",
          "model_name": "ProgressStyleModel",
          "model_module_version": "1.5.0",
          "state": {
            "_model_module": "@jupyter-widgets/controls",
            "_model_module_version": "1.5.0",
            "_model_name": "ProgressStyleModel",
            "_view_count": null,
            "_view_module": "@jupyter-widgets/base",
            "_view_module_version": "1.2.0",
            "_view_name": "StyleView",
            "bar_color": null,
            "description_width": ""
          }
        },
        "7a8b845a7751468a9a8f519f13b718ff": {
          "model_module": "@jupyter-widgets/base",
          "model_name": "LayoutModel",
          "model_module_version": "1.2.0",
          "state": {
            "_model_module": "@jupyter-widgets/base",
            "_model_module_version": "1.2.0",
            "_model_name": "LayoutModel",
            "_view_count": null,
            "_view_module": "@jupyter-widgets/base",
            "_view_module_version": "1.2.0",
            "_view_name": "LayoutView",
            "align_content": null,
            "align_items": null,
            "align_self": null,
            "border": null,
            "bottom": null,
            "display": null,
            "flex": null,
            "flex_flow": null,
            "grid_area": null,
            "grid_auto_columns": null,
            "grid_auto_flow": null,
            "grid_auto_rows": null,
            "grid_column": null,
            "grid_gap": null,
            "grid_row": null,
            "grid_template_areas": null,
            "grid_template_columns": null,
            "grid_template_rows": null,
            "height": null,
            "justify_content": null,
            "justify_items": null,
            "left": null,
            "margin": null,
            "max_height": null,
            "max_width": null,
            "min_height": null,
            "min_width": null,
            "object_fit": null,
            "object_position": null,
            "order": null,
            "overflow": null,
            "overflow_x": null,
            "overflow_y": null,
            "padding": null,
            "right": null,
            "top": null,
            "visibility": null,
            "width": null
          }
        },
        "fe5c8787231a4a2b92bd23edc5c45995": {
          "model_module": "@jupyter-widgets/controls",
          "model_name": "DescriptionStyleModel",
          "model_module_version": "1.5.0",
          "state": {
            "_model_module": "@jupyter-widgets/controls",
            "_model_module_version": "1.5.0",
            "_model_name": "DescriptionStyleModel",
            "_view_count": null,
            "_view_module": "@jupyter-widgets/base",
            "_view_module_version": "1.2.0",
            "_view_name": "StyleView",
            "description_width": ""
          }
        },
        "b946e8aea13e4fb6b3f46928b5b23022": {
          "model_module": "@jupyter-widgets/controls",
          "model_name": "HBoxModel",
          "model_module_version": "1.5.0",
          "state": {
            "_dom_classes": [],
            "_model_module": "@jupyter-widgets/controls",
            "_model_module_version": "1.5.0",
            "_model_name": "HBoxModel",
            "_view_count": null,
            "_view_module": "@jupyter-widgets/controls",
            "_view_module_version": "1.5.0",
            "_view_name": "HBoxView",
            "box_style": "",
            "children": [
              "IPY_MODEL_8c04a56bd82a46789203ce90ae021281",
              "IPY_MODEL_9f951a6fd1a345f18143151b9a40ea00",
              "IPY_MODEL_3bbc0e2c72b647a7acc6361115a2ef8d"
            ],
            "layout": "IPY_MODEL_6eb23e0f54fd4f81b131a75bb4c9fef0"
          }
        },
        "8c04a56bd82a46789203ce90ae021281": {
          "model_module": "@jupyter-widgets/controls",
          "model_name": "HTMLModel",
          "model_module_version": "1.5.0",
          "state": {
            "_dom_classes": [],
            "_model_module": "@jupyter-widgets/controls",
            "_model_module_version": "1.5.0",
            "_model_name": "HTMLModel",
            "_view_count": null,
            "_view_module": "@jupyter-widgets/controls",
            "_view_module_version": "1.5.0",
            "_view_name": "HTMLView",
            "description": "",
            "description_tooltip": null,
            "layout": "IPY_MODEL_3e1cb1bb5859461db19f2e60603e0ca9",
            "placeholder": "​",
            "style": "IPY_MODEL_79122d0914ff4b63a9d4934f42e423d0",
            "value": "special_tokens_map.json: 100%"
          }
        },
        "9f951a6fd1a345f18143151b9a40ea00": {
          "model_module": "@jupyter-widgets/controls",
          "model_name": "FloatProgressModel",
          "model_module_version": "1.5.0",
          "state": {
            "_dom_classes": [],
            "_model_module": "@jupyter-widgets/controls",
            "_model_module_version": "1.5.0",
            "_model_name": "FloatProgressModel",
            "_view_count": null,
            "_view_module": "@jupyter-widgets/controls",
            "_view_module_version": "1.5.0",
            "_view_name": "ProgressView",
            "bar_style": "success",
            "description": "",
            "description_tooltip": null,
            "layout": "IPY_MODEL_a3d4b73ce26a424db8d5b0106e1bb213",
            "max": 414,
            "min": 0,
            "orientation": "horizontal",
            "style": "IPY_MODEL_7b21566df3954a3795e31111b9ff12ce",
            "value": 414
          }
        },
        "3bbc0e2c72b647a7acc6361115a2ef8d": {
          "model_module": "@jupyter-widgets/controls",
          "model_name": "HTMLModel",
          "model_module_version": "1.5.0",
          "state": {
            "_dom_classes": [],
            "_model_module": "@jupyter-widgets/controls",
            "_model_module_version": "1.5.0",
            "_model_name": "HTMLModel",
            "_view_count": null,
            "_view_module": "@jupyter-widgets/controls",
            "_view_module_version": "1.5.0",
            "_view_name": "HTMLView",
            "description": "",
            "description_tooltip": null,
            "layout": "IPY_MODEL_544ad55d427a44afa5617e2d2a8e0ca5",
            "placeholder": "​",
            "style": "IPY_MODEL_5356eef58cd0427c97e85f4d648fbe11",
            "value": " 414/414 [00:00&lt;00:00, 6.47kB/s]"
          }
        },
        "6eb23e0f54fd4f81b131a75bb4c9fef0": {
          "model_module": "@jupyter-widgets/base",
          "model_name": "LayoutModel",
          "model_module_version": "1.2.0",
          "state": {
            "_model_module": "@jupyter-widgets/base",
            "_model_module_version": "1.2.0",
            "_model_name": "LayoutModel",
            "_view_count": null,
            "_view_module": "@jupyter-widgets/base",
            "_view_module_version": "1.2.0",
            "_view_name": "LayoutView",
            "align_content": null,
            "align_items": null,
            "align_self": null,
            "border": null,
            "bottom": null,
            "display": null,
            "flex": null,
            "flex_flow": null,
            "grid_area": null,
            "grid_auto_columns": null,
            "grid_auto_flow": null,
            "grid_auto_rows": null,
            "grid_column": null,
            "grid_gap": null,
            "grid_row": null,
            "grid_template_areas": null,
            "grid_template_columns": null,
            "grid_template_rows": null,
            "height": null,
            "justify_content": null,
            "justify_items": null,
            "left": null,
            "margin": null,
            "max_height": null,
            "max_width": null,
            "min_height": null,
            "min_width": null,
            "object_fit": null,
            "object_position": null,
            "order": null,
            "overflow": null,
            "overflow_x": null,
            "overflow_y": null,
            "padding": null,
            "right": null,
            "top": null,
            "visibility": null,
            "width": null
          }
        },
        "3e1cb1bb5859461db19f2e60603e0ca9": {
          "model_module": "@jupyter-widgets/base",
          "model_name": "LayoutModel",
          "model_module_version": "1.2.0",
          "state": {
            "_model_module": "@jupyter-widgets/base",
            "_model_module_version": "1.2.0",
            "_model_name": "LayoutModel",
            "_view_count": null,
            "_view_module": "@jupyter-widgets/base",
            "_view_module_version": "1.2.0",
            "_view_name": "LayoutView",
            "align_content": null,
            "align_items": null,
            "align_self": null,
            "border": null,
            "bottom": null,
            "display": null,
            "flex": null,
            "flex_flow": null,
            "grid_area": null,
            "grid_auto_columns": null,
            "grid_auto_flow": null,
            "grid_auto_rows": null,
            "grid_column": null,
            "grid_gap": null,
            "grid_row": null,
            "grid_template_areas": null,
            "grid_template_columns": null,
            "grid_template_rows": null,
            "height": null,
            "justify_content": null,
            "justify_items": null,
            "left": null,
            "margin": null,
            "max_height": null,
            "max_width": null,
            "min_height": null,
            "min_width": null,
            "object_fit": null,
            "object_position": null,
            "order": null,
            "overflow": null,
            "overflow_x": null,
            "overflow_y": null,
            "padding": null,
            "right": null,
            "top": null,
            "visibility": null,
            "width": null
          }
        },
        "79122d0914ff4b63a9d4934f42e423d0": {
          "model_module": "@jupyter-widgets/controls",
          "model_name": "DescriptionStyleModel",
          "model_module_version": "1.5.0",
          "state": {
            "_model_module": "@jupyter-widgets/controls",
            "_model_module_version": "1.5.0",
            "_model_name": "DescriptionStyleModel",
            "_view_count": null,
            "_view_module": "@jupyter-widgets/base",
            "_view_module_version": "1.2.0",
            "_view_name": "StyleView",
            "description_width": ""
          }
        },
        "a3d4b73ce26a424db8d5b0106e1bb213": {
          "model_module": "@jupyter-widgets/base",
          "model_name": "LayoutModel",
          "model_module_version": "1.2.0",
          "state": {
            "_model_module": "@jupyter-widgets/base",
            "_model_module_version": "1.2.0",
            "_model_name": "LayoutModel",
            "_view_count": null,
            "_view_module": "@jupyter-widgets/base",
            "_view_module_version": "1.2.0",
            "_view_name": "LayoutView",
            "align_content": null,
            "align_items": null,
            "align_self": null,
            "border": null,
            "bottom": null,
            "display": null,
            "flex": null,
            "flex_flow": null,
            "grid_area": null,
            "grid_auto_columns": null,
            "grid_auto_flow": null,
            "grid_auto_rows": null,
            "grid_column": null,
            "grid_gap": null,
            "grid_row": null,
            "grid_template_areas": null,
            "grid_template_columns": null,
            "grid_template_rows": null,
            "height": null,
            "justify_content": null,
            "justify_items": null,
            "left": null,
            "margin": null,
            "max_height": null,
            "max_width": null,
            "min_height": null,
            "min_width": null,
            "object_fit": null,
            "object_position": null,
            "order": null,
            "overflow": null,
            "overflow_x": null,
            "overflow_y": null,
            "padding": null,
            "right": null,
            "top": null,
            "visibility": null,
            "width": null
          }
        },
        "7b21566df3954a3795e31111b9ff12ce": {
          "model_module": "@jupyter-widgets/controls",
          "model_name": "ProgressStyleModel",
          "model_module_version": "1.5.0",
          "state": {
            "_model_module": "@jupyter-widgets/controls",
            "_model_module_version": "1.5.0",
            "_model_name": "ProgressStyleModel",
            "_view_count": null,
            "_view_module": "@jupyter-widgets/base",
            "_view_module_version": "1.2.0",
            "_view_name": "StyleView",
            "bar_color": null,
            "description_width": ""
          }
        },
        "544ad55d427a44afa5617e2d2a8e0ca5": {
          "model_module": "@jupyter-widgets/base",
          "model_name": "LayoutModel",
          "model_module_version": "1.2.0",
          "state": {
            "_model_module": "@jupyter-widgets/base",
            "_model_module_version": "1.2.0",
            "_model_name": "LayoutModel",
            "_view_count": null,
            "_view_module": "@jupyter-widgets/base",
            "_view_module_version": "1.2.0",
            "_view_name": "LayoutView",
            "align_content": null,
            "align_items": null,
            "align_self": null,
            "border": null,
            "bottom": null,
            "display": null,
            "flex": null,
            "flex_flow": null,
            "grid_area": null,
            "grid_auto_columns": null,
            "grid_auto_flow": null,
            "grid_auto_rows": null,
            "grid_column": null,
            "grid_gap": null,
            "grid_row": null,
            "grid_template_areas": null,
            "grid_template_columns": null,
            "grid_template_rows": null,
            "height": null,
            "justify_content": null,
            "justify_items": null,
            "left": null,
            "margin": null,
            "max_height": null,
            "max_width": null,
            "min_height": null,
            "min_width": null,
            "object_fit": null,
            "object_position": null,
            "order": null,
            "overflow": null,
            "overflow_x": null,
            "overflow_y": null,
            "padding": null,
            "right": null,
            "top": null,
            "visibility": null,
            "width": null
          }
        },
        "5356eef58cd0427c97e85f4d648fbe11": {
          "model_module": "@jupyter-widgets/controls",
          "model_name": "DescriptionStyleModel",
          "model_module_version": "1.5.0",
          "state": {
            "_model_module": "@jupyter-widgets/controls",
            "_model_module_version": "1.5.0",
            "_model_name": "DescriptionStyleModel",
            "_view_count": null,
            "_view_module": "@jupyter-widgets/base",
            "_view_module_version": "1.2.0",
            "_view_name": "StyleView",
            "description_width": ""
          }
        },
        "6b7f548b64744823a99c8aeb29cf01df": {
          "model_module": "@jupyter-widgets/controls",
          "model_name": "HBoxModel",
          "model_module_version": "1.5.0",
          "state": {
            "_dom_classes": [],
            "_model_module": "@jupyter-widgets/controls",
            "_model_module_version": "1.5.0",
            "_model_name": "HBoxModel",
            "_view_count": null,
            "_view_module": "@jupyter-widgets/controls",
            "_view_module_version": "1.5.0",
            "_view_name": "HBoxView",
            "box_style": "",
            "children": [
              "IPY_MODEL_4e9a1d2a6f4f480da185b9d8f3f881e4",
              "IPY_MODEL_a611fb6b53ce40608a57b76361056434",
              "IPY_MODEL_22c16e4fa54e4a9db56ba6d9292308aa"
            ],
            "layout": "IPY_MODEL_3518577049194930bd92a70ef49c82c5"
          }
        },
        "4e9a1d2a6f4f480da185b9d8f3f881e4": {
          "model_module": "@jupyter-widgets/controls",
          "model_name": "HTMLModel",
          "model_module_version": "1.5.0",
          "state": {
            "_dom_classes": [],
            "_model_module": "@jupyter-widgets/controls",
            "_model_module_version": "1.5.0",
            "_model_name": "HTMLModel",
            "_view_count": null,
            "_view_module": "@jupyter-widgets/controls",
            "_view_module_version": "1.5.0",
            "_view_name": "HTMLView",
            "description": "",
            "description_tooltip": null,
            "layout": "IPY_MODEL_4d743977d5fe4cc3a82f6e035dbb64de",
            "placeholder": "​",
            "style": "IPY_MODEL_3a369a1e2a054b869a312b0f74f396b4",
            "value": "config.json: 100%"
          }
        },
        "a611fb6b53ce40608a57b76361056434": {
          "model_module": "@jupyter-widgets/controls",
          "model_name": "FloatProgressModel",
          "model_module_version": "1.5.0",
          "state": {
            "_dom_classes": [],
            "_model_module": "@jupyter-widgets/controls",
            "_model_module_version": "1.5.0",
            "_model_name": "FloatProgressModel",
            "_view_count": null,
            "_view_module": "@jupyter-widgets/controls",
            "_view_module_version": "1.5.0",
            "_view_name": "ProgressView",
            "bar_style": "success",
            "description": "",
            "description_tooltip": null,
            "layout": "IPY_MODEL_0504858aa72442229306aeecffc6353d",
            "max": 601,
            "min": 0,
            "orientation": "horizontal",
            "style": "IPY_MODEL_1916f21426bd4a74ab9292219d53a4ad",
            "value": 601
          }
        },
        "22c16e4fa54e4a9db56ba6d9292308aa": {
          "model_module": "@jupyter-widgets/controls",
          "model_name": "HTMLModel",
          "model_module_version": "1.5.0",
          "state": {
            "_dom_classes": [],
            "_model_module": "@jupyter-widgets/controls",
            "_model_module_version": "1.5.0",
            "_model_name": "HTMLModel",
            "_view_count": null,
            "_view_module": "@jupyter-widgets/controls",
            "_view_module_version": "1.5.0",
            "_view_name": "HTMLView",
            "description": "",
            "description_tooltip": null,
            "layout": "IPY_MODEL_6a3c72a0da064ccfb9c523f3634593b1",
            "placeholder": "​",
            "style": "IPY_MODEL_89e54f33cab042ad9863c26aa136bb50",
            "value": " 601/601 [00:00&lt;00:00, 41.8kB/s]"
          }
        },
        "3518577049194930bd92a70ef49c82c5": {
          "model_module": "@jupyter-widgets/base",
          "model_name": "LayoutModel",
          "model_module_version": "1.2.0",
          "state": {
            "_model_module": "@jupyter-widgets/base",
            "_model_module_version": "1.2.0",
            "_model_name": "LayoutModel",
            "_view_count": null,
            "_view_module": "@jupyter-widgets/base",
            "_view_module_version": "1.2.0",
            "_view_name": "LayoutView",
            "align_content": null,
            "align_items": null,
            "align_self": null,
            "border": null,
            "bottom": null,
            "display": null,
            "flex": null,
            "flex_flow": null,
            "grid_area": null,
            "grid_auto_columns": null,
            "grid_auto_flow": null,
            "grid_auto_rows": null,
            "grid_column": null,
            "grid_gap": null,
            "grid_row": null,
            "grid_template_areas": null,
            "grid_template_columns": null,
            "grid_template_rows": null,
            "height": null,
            "justify_content": null,
            "justify_items": null,
            "left": null,
            "margin": null,
            "max_height": null,
            "max_width": null,
            "min_height": null,
            "min_width": null,
            "object_fit": null,
            "object_position": null,
            "order": null,
            "overflow": null,
            "overflow_x": null,
            "overflow_y": null,
            "padding": null,
            "right": null,
            "top": null,
            "visibility": null,
            "width": null
          }
        },
        "4d743977d5fe4cc3a82f6e035dbb64de": {
          "model_module": "@jupyter-widgets/base",
          "model_name": "LayoutModel",
          "model_module_version": "1.2.0",
          "state": {
            "_model_module": "@jupyter-widgets/base",
            "_model_module_version": "1.2.0",
            "_model_name": "LayoutModel",
            "_view_count": null,
            "_view_module": "@jupyter-widgets/base",
            "_view_module_version": "1.2.0",
            "_view_name": "LayoutView",
            "align_content": null,
            "align_items": null,
            "align_self": null,
            "border": null,
            "bottom": null,
            "display": null,
            "flex": null,
            "flex_flow": null,
            "grid_area": null,
            "grid_auto_columns": null,
            "grid_auto_flow": null,
            "grid_auto_rows": null,
            "grid_column": null,
            "grid_gap": null,
            "grid_row": null,
            "grid_template_areas": null,
            "grid_template_columns": null,
            "grid_template_rows": null,
            "height": null,
            "justify_content": null,
            "justify_items": null,
            "left": null,
            "margin": null,
            "max_height": null,
            "max_width": null,
            "min_height": null,
            "min_width": null,
            "object_fit": null,
            "object_position": null,
            "order": null,
            "overflow": null,
            "overflow_x": null,
            "overflow_y": null,
            "padding": null,
            "right": null,
            "top": null,
            "visibility": null,
            "width": null
          }
        },
        "3a369a1e2a054b869a312b0f74f396b4": {
          "model_module": "@jupyter-widgets/controls",
          "model_name": "DescriptionStyleModel",
          "model_module_version": "1.5.0",
          "state": {
            "_model_module": "@jupyter-widgets/controls",
            "_model_module_version": "1.5.0",
            "_model_name": "DescriptionStyleModel",
            "_view_count": null,
            "_view_module": "@jupyter-widgets/base",
            "_view_module_version": "1.2.0",
            "_view_name": "StyleView",
            "description_width": ""
          }
        },
        "0504858aa72442229306aeecffc6353d": {
          "model_module": "@jupyter-widgets/base",
          "model_name": "LayoutModel",
          "model_module_version": "1.2.0",
          "state": {
            "_model_module": "@jupyter-widgets/base",
            "_model_module_version": "1.2.0",
            "_model_name": "LayoutModel",
            "_view_count": null,
            "_view_module": "@jupyter-widgets/base",
            "_view_module_version": "1.2.0",
            "_view_name": "LayoutView",
            "align_content": null,
            "align_items": null,
            "align_self": null,
            "border": null,
            "bottom": null,
            "display": null,
            "flex": null,
            "flex_flow": null,
            "grid_area": null,
            "grid_auto_columns": null,
            "grid_auto_flow": null,
            "grid_auto_rows": null,
            "grid_column": null,
            "grid_gap": null,
            "grid_row": null,
            "grid_template_areas": null,
            "grid_template_columns": null,
            "grid_template_rows": null,
            "height": null,
            "justify_content": null,
            "justify_items": null,
            "left": null,
            "margin": null,
            "max_height": null,
            "max_width": null,
            "min_height": null,
            "min_width": null,
            "object_fit": null,
            "object_position": null,
            "order": null,
            "overflow": null,
            "overflow_x": null,
            "overflow_y": null,
            "padding": null,
            "right": null,
            "top": null,
            "visibility": null,
            "width": null
          }
        },
        "1916f21426bd4a74ab9292219d53a4ad": {
          "model_module": "@jupyter-widgets/controls",
          "model_name": "ProgressStyleModel",
          "model_module_version": "1.5.0",
          "state": {
            "_model_module": "@jupyter-widgets/controls",
            "_model_module_version": "1.5.0",
            "_model_name": "ProgressStyleModel",
            "_view_count": null,
            "_view_module": "@jupyter-widgets/base",
            "_view_module_version": "1.2.0",
            "_view_name": "StyleView",
            "bar_color": null,
            "description_width": ""
          }
        },
        "6a3c72a0da064ccfb9c523f3634593b1": {
          "model_module": "@jupyter-widgets/base",
          "model_name": "LayoutModel",
          "model_module_version": "1.2.0",
          "state": {
            "_model_module": "@jupyter-widgets/base",
            "_model_module_version": "1.2.0",
            "_model_name": "LayoutModel",
            "_view_count": null,
            "_view_module": "@jupyter-widgets/base",
            "_view_module_version": "1.2.0",
            "_view_name": "LayoutView",
            "align_content": null,
            "align_items": null,
            "align_self": null,
            "border": null,
            "bottom": null,
            "display": null,
            "flex": null,
            "flex_flow": null,
            "grid_area": null,
            "grid_auto_columns": null,
            "grid_auto_flow": null,
            "grid_auto_rows": null,
            "grid_column": null,
            "grid_gap": null,
            "grid_row": null,
            "grid_template_areas": null,
            "grid_template_columns": null,
            "grid_template_rows": null,
            "height": null,
            "justify_content": null,
            "justify_items": null,
            "left": null,
            "margin": null,
            "max_height": null,
            "max_width": null,
            "min_height": null,
            "min_width": null,
            "object_fit": null,
            "object_position": null,
            "order": null,
            "overflow": null,
            "overflow_x": null,
            "overflow_y": null,
            "padding": null,
            "right": null,
            "top": null,
            "visibility": null,
            "width": null
          }
        },
        "89e54f33cab042ad9863c26aa136bb50": {
          "model_module": "@jupyter-widgets/controls",
          "model_name": "DescriptionStyleModel",
          "model_module_version": "1.5.0",
          "state": {
            "_model_module": "@jupyter-widgets/controls",
            "_model_module_version": "1.5.0",
            "_model_name": "DescriptionStyleModel",
            "_view_count": null,
            "_view_module": "@jupyter-widgets/base",
            "_view_module_version": "1.2.0",
            "_view_name": "StyleView",
            "description_width": ""
          }
        },
        "e679868d8e614b8dad960e1d08350f61": {
          "model_module": "@jupyter-widgets/controls",
          "model_name": "HBoxModel",
          "model_module_version": "1.5.0",
          "state": {
            "_dom_classes": [],
            "_model_module": "@jupyter-widgets/controls",
            "_model_module_version": "1.5.0",
            "_model_name": "HBoxModel",
            "_view_count": null,
            "_view_module": "@jupyter-widgets/controls",
            "_view_module_version": "1.5.0",
            "_view_name": "HBoxView",
            "box_style": "",
            "children": [
              "IPY_MODEL_9f7b81b6e89343039a93f5683bacb609",
              "IPY_MODEL_5a786dcb098345bc940fd60b5b85008d",
              "IPY_MODEL_1cb0799fd8ef4596ae4d0c64dca9de9a"
            ],
            "layout": "IPY_MODEL_604b079b879a4bd79a0845360b902302"
          }
        },
        "9f7b81b6e89343039a93f5683bacb609": {
          "model_module": "@jupyter-widgets/controls",
          "model_name": "HTMLModel",
          "model_module_version": "1.5.0",
          "state": {
            "_dom_classes": [],
            "_model_module": "@jupyter-widgets/controls",
            "_model_module_version": "1.5.0",
            "_model_name": "HTMLModel",
            "_view_count": null,
            "_view_module": "@jupyter-widgets/controls",
            "_view_module_version": "1.5.0",
            "_view_name": "HTMLView",
            "description": "",
            "description_tooltip": null,
            "layout": "IPY_MODEL_ba621cf8124e447685b05fecc1511524",
            "placeholder": "​",
            "style": "IPY_MODEL_096261e639f94d329f40154b9f00a7dc",
            "value": "model.safetensors.index.json: 100%"
          }
        },
        "5a786dcb098345bc940fd60b5b85008d": {
          "model_module": "@jupyter-widgets/controls",
          "model_name": "FloatProgressModel",
          "model_module_version": "1.5.0",
          "state": {
            "_dom_classes": [],
            "_model_module": "@jupyter-widgets/controls",
            "_model_module_version": "1.5.0",
            "_model_name": "FloatProgressModel",
            "_view_count": null,
            "_view_module": "@jupyter-widgets/controls",
            "_view_module_version": "1.5.0",
            "_view_name": "ProgressView",
            "bar_style": "success",
            "description": "",
            "description_tooltip": null,
            "layout": "IPY_MODEL_681339f78e32498f8f49c173ec476161",
            "max": 23950,
            "min": 0,
            "orientation": "horizontal",
            "style": "IPY_MODEL_fe79f6e65b694ff79eff04f68b882072",
            "value": 23950
          }
        },
        "1cb0799fd8ef4596ae4d0c64dca9de9a": {
          "model_module": "@jupyter-widgets/controls",
          "model_name": "HTMLModel",
          "model_module_version": "1.5.0",
          "state": {
            "_dom_classes": [],
            "_model_module": "@jupyter-widgets/controls",
            "_model_module_version": "1.5.0",
            "_model_name": "HTMLModel",
            "_view_count": null,
            "_view_module": "@jupyter-widgets/controls",
            "_view_module_version": "1.5.0",
            "_view_name": "HTMLView",
            "description": "",
            "description_tooltip": null,
            "layout": "IPY_MODEL_4859183cac184f4aa1a3b90475a35815",
            "placeholder": "​",
            "style": "IPY_MODEL_3708d6d31f064861b64303a0acb939cf",
            "value": " 23.9k/23.9k [00:00&lt;00:00, 516kB/s]"
          }
        },
        "604b079b879a4bd79a0845360b902302": {
          "model_module": "@jupyter-widgets/base",
          "model_name": "LayoutModel",
          "model_module_version": "1.2.0",
          "state": {
            "_model_module": "@jupyter-widgets/base",
            "_model_module_version": "1.2.0",
            "_model_name": "LayoutModel",
            "_view_count": null,
            "_view_module": "@jupyter-widgets/base",
            "_view_module_version": "1.2.0",
            "_view_name": "LayoutView",
            "align_content": null,
            "align_items": null,
            "align_self": null,
            "border": null,
            "bottom": null,
            "display": null,
            "flex": null,
            "flex_flow": null,
            "grid_area": null,
            "grid_auto_columns": null,
            "grid_auto_flow": null,
            "grid_auto_rows": null,
            "grid_column": null,
            "grid_gap": null,
            "grid_row": null,
            "grid_template_areas": null,
            "grid_template_columns": null,
            "grid_template_rows": null,
            "height": null,
            "justify_content": null,
            "justify_items": null,
            "left": null,
            "margin": null,
            "max_height": null,
            "max_width": null,
            "min_height": null,
            "min_width": null,
            "object_fit": null,
            "object_position": null,
            "order": null,
            "overflow": null,
            "overflow_x": null,
            "overflow_y": null,
            "padding": null,
            "right": null,
            "top": null,
            "visibility": null,
            "width": null
          }
        },
        "ba621cf8124e447685b05fecc1511524": {
          "model_module": "@jupyter-widgets/base",
          "model_name": "LayoutModel",
          "model_module_version": "1.2.0",
          "state": {
            "_model_module": "@jupyter-widgets/base",
            "_model_module_version": "1.2.0",
            "_model_name": "LayoutModel",
            "_view_count": null,
            "_view_module": "@jupyter-widgets/base",
            "_view_module_version": "1.2.0",
            "_view_name": "LayoutView",
            "align_content": null,
            "align_items": null,
            "align_self": null,
            "border": null,
            "bottom": null,
            "display": null,
            "flex": null,
            "flex_flow": null,
            "grid_area": null,
            "grid_auto_columns": null,
            "grid_auto_flow": null,
            "grid_auto_rows": null,
            "grid_column": null,
            "grid_gap": null,
            "grid_row": null,
            "grid_template_areas": null,
            "grid_template_columns": null,
            "grid_template_rows": null,
            "height": null,
            "justify_content": null,
            "justify_items": null,
            "left": null,
            "margin": null,
            "max_height": null,
            "max_width": null,
            "min_height": null,
            "min_width": null,
            "object_fit": null,
            "object_position": null,
            "order": null,
            "overflow": null,
            "overflow_x": null,
            "overflow_y": null,
            "padding": null,
            "right": null,
            "top": null,
            "visibility": null,
            "width": null
          }
        },
        "096261e639f94d329f40154b9f00a7dc": {
          "model_module": "@jupyter-widgets/controls",
          "model_name": "DescriptionStyleModel",
          "model_module_version": "1.5.0",
          "state": {
            "_model_module": "@jupyter-widgets/controls",
            "_model_module_version": "1.5.0",
            "_model_name": "DescriptionStyleModel",
            "_view_count": null,
            "_view_module": "@jupyter-widgets/base",
            "_view_module_version": "1.2.0",
            "_view_name": "StyleView",
            "description_width": ""
          }
        },
        "681339f78e32498f8f49c173ec476161": {
          "model_module": "@jupyter-widgets/base",
          "model_name": "LayoutModel",
          "model_module_version": "1.2.0",
          "state": {
            "_model_module": "@jupyter-widgets/base",
            "_model_module_version": "1.2.0",
            "_model_name": "LayoutModel",
            "_view_count": null,
            "_view_module": "@jupyter-widgets/base",
            "_view_module_version": "1.2.0",
            "_view_name": "LayoutView",
            "align_content": null,
            "align_items": null,
            "align_self": null,
            "border": null,
            "bottom": null,
            "display": null,
            "flex": null,
            "flex_flow": null,
            "grid_area": null,
            "grid_auto_columns": null,
            "grid_auto_flow": null,
            "grid_auto_rows": null,
            "grid_column": null,
            "grid_gap": null,
            "grid_row": null,
            "grid_template_areas": null,
            "grid_template_columns": null,
            "grid_template_rows": null,
            "height": null,
            "justify_content": null,
            "justify_items": null,
            "left": null,
            "margin": null,
            "max_height": null,
            "max_width": null,
            "min_height": null,
            "min_width": null,
            "object_fit": null,
            "object_position": null,
            "order": null,
            "overflow": null,
            "overflow_x": null,
            "overflow_y": null,
            "padding": null,
            "right": null,
            "top": null,
            "visibility": null,
            "width": null
          }
        },
        "fe79f6e65b694ff79eff04f68b882072": {
          "model_module": "@jupyter-widgets/controls",
          "model_name": "ProgressStyleModel",
          "model_module_version": "1.5.0",
          "state": {
            "_model_module": "@jupyter-widgets/controls",
            "_model_module_version": "1.5.0",
            "_model_name": "ProgressStyleModel",
            "_view_count": null,
            "_view_module": "@jupyter-widgets/base",
            "_view_module_version": "1.2.0",
            "_view_name": "StyleView",
            "bar_color": null,
            "description_width": ""
          }
        },
        "4859183cac184f4aa1a3b90475a35815": {
          "model_module": "@jupyter-widgets/base",
          "model_name": "LayoutModel",
          "model_module_version": "1.2.0",
          "state": {
            "_model_module": "@jupyter-widgets/base",
            "_model_module_version": "1.2.0",
            "_model_name": "LayoutModel",
            "_view_count": null,
            "_view_module": "@jupyter-widgets/base",
            "_view_module_version": "1.2.0",
            "_view_name": "LayoutView",
            "align_content": null,
            "align_items": null,
            "align_self": null,
            "border": null,
            "bottom": null,
            "display": null,
            "flex": null,
            "flex_flow": null,
            "grid_area": null,
            "grid_auto_columns": null,
            "grid_auto_flow": null,
            "grid_auto_rows": null,
            "grid_column": null,
            "grid_gap": null,
            "grid_row": null,
            "grid_template_areas": null,
            "grid_template_columns": null,
            "grid_template_rows": null,
            "height": null,
            "justify_content": null,
            "justify_items": null,
            "left": null,
            "margin": null,
            "max_height": null,
            "max_width": null,
            "min_height": null,
            "min_width": null,
            "object_fit": null,
            "object_position": null,
            "order": null,
            "overflow": null,
            "overflow_x": null,
            "overflow_y": null,
            "padding": null,
            "right": null,
            "top": null,
            "visibility": null,
            "width": null
          }
        },
        "3708d6d31f064861b64303a0acb939cf": {
          "model_module": "@jupyter-widgets/controls",
          "model_name": "DescriptionStyleModel",
          "model_module_version": "1.5.0",
          "state": {
            "_model_module": "@jupyter-widgets/controls",
            "_model_module_version": "1.5.0",
            "_model_name": "DescriptionStyleModel",
            "_view_count": null,
            "_view_module": "@jupyter-widgets/base",
            "_view_module_version": "1.2.0",
            "_view_name": "StyleView",
            "description_width": ""
          }
        },
        "ac0022817cc8487c8f9991161f4f86f1": {
          "model_module": "@jupyter-widgets/controls",
          "model_name": "HBoxModel",
          "model_module_version": "1.5.0",
          "state": {
            "_dom_classes": [],
            "_model_module": "@jupyter-widgets/controls",
            "_model_module_version": "1.5.0",
            "_model_name": "HBoxModel",
            "_view_count": null,
            "_view_module": "@jupyter-widgets/controls",
            "_view_module_version": "1.5.0",
            "_view_name": "HBoxView",
            "box_style": "",
            "children": [
              "IPY_MODEL_23c97d83f68047d68e9014b616a6357d",
              "IPY_MODEL_5d4feda1174a4e2d9a8ea082b5150c50",
              "IPY_MODEL_e55f049d9708439d8a6e9663cc42dfa7"
            ],
            "layout": "IPY_MODEL_04ca22d4578b4f308b0071c60ebf5f75"
          }
        },
        "23c97d83f68047d68e9014b616a6357d": {
          "model_module": "@jupyter-widgets/controls",
          "model_name": "HTMLModel",
          "model_module_version": "1.5.0",
          "state": {
            "_dom_classes": [],
            "_model_module": "@jupyter-widgets/controls",
            "_model_module_version": "1.5.0",
            "_model_name": "HTMLModel",
            "_view_count": null,
            "_view_module": "@jupyter-widgets/controls",
            "_view_module_version": "1.5.0",
            "_view_name": "HTMLView",
            "description": "",
            "description_tooltip": null,
            "layout": "IPY_MODEL_35908858b1d34feb948873a366ca2447",
            "placeholder": "​",
            "style": "IPY_MODEL_224775f4ac7a48c8b2b97c30cd3703ee",
            "value": "Downloading shards: 100%"
          }
        },
        "5d4feda1174a4e2d9a8ea082b5150c50": {
          "model_module": "@jupyter-widgets/controls",
          "model_name": "FloatProgressModel",
          "model_module_version": "1.5.0",
          "state": {
            "_dom_classes": [],
            "_model_module": "@jupyter-widgets/controls",
            "_model_module_version": "1.5.0",
            "_model_name": "FloatProgressModel",
            "_view_count": null,
            "_view_module": "@jupyter-widgets/controls",
            "_view_module_version": "1.5.0",
            "_view_name": "ProgressView",
            "bar_style": "success",
            "description": "",
            "description_tooltip": null,
            "layout": "IPY_MODEL_6eeeeb1a0e6341d18c8d30b8897778aa",
            "max": 3,
            "min": 0,
            "orientation": "horizontal",
            "style": "IPY_MODEL_723d592d23e14042a1d63b12907de4b4",
            "value": 3
          }
        },
        "e55f049d9708439d8a6e9663cc42dfa7": {
          "model_module": "@jupyter-widgets/controls",
          "model_name": "HTMLModel",
          "model_module_version": "1.5.0",
          "state": {
            "_dom_classes": [],
            "_model_module": "@jupyter-widgets/controls",
            "_model_module_version": "1.5.0",
            "_model_name": "HTMLModel",
            "_view_count": null,
            "_view_module": "@jupyter-widgets/controls",
            "_view_module_version": "1.5.0",
            "_view_name": "HTMLView",
            "description": "",
            "description_tooltip": null,
            "layout": "IPY_MODEL_f9f420636d4c42f99db8bf0ad7c856c2",
            "placeholder": "​",
            "style": "IPY_MODEL_3defd69ddb5c4be8b772e2686ddeb2d6",
            "value": " 3/3 [05:45&lt;00:00, 113.89s/it]"
          }
        },
        "04ca22d4578b4f308b0071c60ebf5f75": {
          "model_module": "@jupyter-widgets/base",
          "model_name": "LayoutModel",
          "model_module_version": "1.2.0",
          "state": {
            "_model_module": "@jupyter-widgets/base",
            "_model_module_version": "1.2.0",
            "_model_name": "LayoutModel",
            "_view_count": null,
            "_view_module": "@jupyter-widgets/base",
            "_view_module_version": "1.2.0",
            "_view_name": "LayoutView",
            "align_content": null,
            "align_items": null,
            "align_self": null,
            "border": null,
            "bottom": null,
            "display": null,
            "flex": null,
            "flex_flow": null,
            "grid_area": null,
            "grid_auto_columns": null,
            "grid_auto_flow": null,
            "grid_auto_rows": null,
            "grid_column": null,
            "grid_gap": null,
            "grid_row": null,
            "grid_template_areas": null,
            "grid_template_columns": null,
            "grid_template_rows": null,
            "height": null,
            "justify_content": null,
            "justify_items": null,
            "left": null,
            "margin": null,
            "max_height": null,
            "max_width": null,
            "min_height": null,
            "min_width": null,
            "object_fit": null,
            "object_position": null,
            "order": null,
            "overflow": null,
            "overflow_x": null,
            "overflow_y": null,
            "padding": null,
            "right": null,
            "top": null,
            "visibility": null,
            "width": null
          }
        },
        "35908858b1d34feb948873a366ca2447": {
          "model_module": "@jupyter-widgets/base",
          "model_name": "LayoutModel",
          "model_module_version": "1.2.0",
          "state": {
            "_model_module": "@jupyter-widgets/base",
            "_model_module_version": "1.2.0",
            "_model_name": "LayoutModel",
            "_view_count": null,
            "_view_module": "@jupyter-widgets/base",
            "_view_module_version": "1.2.0",
            "_view_name": "LayoutView",
            "align_content": null,
            "align_items": null,
            "align_self": null,
            "border": null,
            "bottom": null,
            "display": null,
            "flex": null,
            "flex_flow": null,
            "grid_area": null,
            "grid_auto_columns": null,
            "grid_auto_flow": null,
            "grid_auto_rows": null,
            "grid_column": null,
            "grid_gap": null,
            "grid_row": null,
            "grid_template_areas": null,
            "grid_template_columns": null,
            "grid_template_rows": null,
            "height": null,
            "justify_content": null,
            "justify_items": null,
            "left": null,
            "margin": null,
            "max_height": null,
            "max_width": null,
            "min_height": null,
            "min_width": null,
            "object_fit": null,
            "object_position": null,
            "order": null,
            "overflow": null,
            "overflow_x": null,
            "overflow_y": null,
            "padding": null,
            "right": null,
            "top": null,
            "visibility": null,
            "width": null
          }
        },
        "224775f4ac7a48c8b2b97c30cd3703ee": {
          "model_module": "@jupyter-widgets/controls",
          "model_name": "DescriptionStyleModel",
          "model_module_version": "1.5.0",
          "state": {
            "_model_module": "@jupyter-widgets/controls",
            "_model_module_version": "1.5.0",
            "_model_name": "DescriptionStyleModel",
            "_view_count": null,
            "_view_module": "@jupyter-widgets/base",
            "_view_module_version": "1.2.0",
            "_view_name": "StyleView",
            "description_width": ""
          }
        },
        "6eeeeb1a0e6341d18c8d30b8897778aa": {
          "model_module": "@jupyter-widgets/base",
          "model_name": "LayoutModel",
          "model_module_version": "1.2.0",
          "state": {
            "_model_module": "@jupyter-widgets/base",
            "_model_module_version": "1.2.0",
            "_model_name": "LayoutModel",
            "_view_count": null,
            "_view_module": "@jupyter-widgets/base",
            "_view_module_version": "1.2.0",
            "_view_name": "LayoutView",
            "align_content": null,
            "align_items": null,
            "align_self": null,
            "border": null,
            "bottom": null,
            "display": null,
            "flex": null,
            "flex_flow": null,
            "grid_area": null,
            "grid_auto_columns": null,
            "grid_auto_flow": null,
            "grid_auto_rows": null,
            "grid_column": null,
            "grid_gap": null,
            "grid_row": null,
            "grid_template_areas": null,
            "grid_template_columns": null,
            "grid_template_rows": null,
            "height": null,
            "justify_content": null,
            "justify_items": null,
            "left": null,
            "margin": null,
            "max_height": null,
            "max_width": null,
            "min_height": null,
            "min_width": null,
            "object_fit": null,
            "object_position": null,
            "order": null,
            "overflow": null,
            "overflow_x": null,
            "overflow_y": null,
            "padding": null,
            "right": null,
            "top": null,
            "visibility": null,
            "width": null
          }
        },
        "723d592d23e14042a1d63b12907de4b4": {
          "model_module": "@jupyter-widgets/controls",
          "model_name": "ProgressStyleModel",
          "model_module_version": "1.5.0",
          "state": {
            "_model_module": "@jupyter-widgets/controls",
            "_model_module_version": "1.5.0",
            "_model_name": "ProgressStyleModel",
            "_view_count": null,
            "_view_module": "@jupyter-widgets/base",
            "_view_module_version": "1.2.0",
            "_view_name": "StyleView",
            "bar_color": null,
            "description_width": ""
          }
        },
        "f9f420636d4c42f99db8bf0ad7c856c2": {
          "model_module": "@jupyter-widgets/base",
          "model_name": "LayoutModel",
          "model_module_version": "1.2.0",
          "state": {
            "_model_module": "@jupyter-widgets/base",
            "_model_module_version": "1.2.0",
            "_model_name": "LayoutModel",
            "_view_count": null,
            "_view_module": "@jupyter-widgets/base",
            "_view_module_version": "1.2.0",
            "_view_name": "LayoutView",
            "align_content": null,
            "align_items": null,
            "align_self": null,
            "border": null,
            "bottom": null,
            "display": null,
            "flex": null,
            "flex_flow": null,
            "grid_area": null,
            "grid_auto_columns": null,
            "grid_auto_flow": null,
            "grid_auto_rows": null,
            "grid_column": null,
            "grid_gap": null,
            "grid_row": null,
            "grid_template_areas": null,
            "grid_template_columns": null,
            "grid_template_rows": null,
            "height": null,
            "justify_content": null,
            "justify_items": null,
            "left": null,
            "margin": null,
            "max_height": null,
            "max_width": null,
            "min_height": null,
            "min_width": null,
            "object_fit": null,
            "object_position": null,
            "order": null,
            "overflow": null,
            "overflow_x": null,
            "overflow_y": null,
            "padding": null,
            "right": null,
            "top": null,
            "visibility": null,
            "width": null
          }
        },
        "3defd69ddb5c4be8b772e2686ddeb2d6": {
          "model_module": "@jupyter-widgets/controls",
          "model_name": "DescriptionStyleModel",
          "model_module_version": "1.5.0",
          "state": {
            "_model_module": "@jupyter-widgets/controls",
            "_model_module_version": "1.5.0",
            "_model_name": "DescriptionStyleModel",
            "_view_count": null,
            "_view_module": "@jupyter-widgets/base",
            "_view_module_version": "1.2.0",
            "_view_name": "StyleView",
            "description_width": ""
          }
        },
        "031f3809e3344cc9ba1096b0c4e909e9": {
          "model_module": "@jupyter-widgets/controls",
          "model_name": "HBoxModel",
          "model_module_version": "1.5.0",
          "state": {
            "_dom_classes": [],
            "_model_module": "@jupyter-widgets/controls",
            "_model_module_version": "1.5.0",
            "_model_name": "HBoxModel",
            "_view_count": null,
            "_view_module": "@jupyter-widgets/controls",
            "_view_module_version": "1.5.0",
            "_view_name": "HBoxView",
            "box_style": "",
            "children": [
              "IPY_MODEL_a4c53ea9171b41e69f2f764d70903797",
              "IPY_MODEL_cc9c3429e4e44df081f6d72b849a0b8b",
              "IPY_MODEL_5fdad33892f842d787dafb93bc3420c3"
            ],
            "layout": "IPY_MODEL_09dba792c97c40a6b45014b5dd9de55a"
          }
        },
        "a4c53ea9171b41e69f2f764d70903797": {
          "model_module": "@jupyter-widgets/controls",
          "model_name": "HTMLModel",
          "model_module_version": "1.5.0",
          "state": {
            "_dom_classes": [],
            "_model_module": "@jupyter-widgets/controls",
            "_model_module_version": "1.5.0",
            "_model_name": "HTMLModel",
            "_view_count": null,
            "_view_module": "@jupyter-widgets/controls",
            "_view_module_version": "1.5.0",
            "_view_name": "HTMLView",
            "description": "",
            "description_tooltip": null,
            "layout": "IPY_MODEL_e6b44a56a8654600afd7cde554a093da",
            "placeholder": "​",
            "style": "IPY_MODEL_29da1bfc62384b1b8385690437775220",
            "value": "model-00001-of-00003.safetensors: 100%"
          }
        },
        "cc9c3429e4e44df081f6d72b849a0b8b": {
          "model_module": "@jupyter-widgets/controls",
          "model_name": "FloatProgressModel",
          "model_module_version": "1.5.0",
          "state": {
            "_dom_classes": [],
            "_model_module": "@jupyter-widgets/controls",
            "_model_module_version": "1.5.0",
            "_model_name": "FloatProgressModel",
            "_view_count": null,
            "_view_module": "@jupyter-widgets/controls",
            "_view_module_version": "1.5.0",
            "_view_name": "ProgressView",
            "bar_style": "success",
            "description": "",
            "description_tooltip": null,
            "layout": "IPY_MODEL_7f6e4d78462c462eb539914a1e2b2ccc",
            "max": 4949453792,
            "min": 0,
            "orientation": "horizontal",
            "style": "IPY_MODEL_0ed3ad0cf74b4a96aa7fbe993e2205c6",
            "value": 4949453792
          }
        },
        "5fdad33892f842d787dafb93bc3420c3": {
          "model_module": "@jupyter-widgets/controls",
          "model_name": "HTMLModel",
          "model_module_version": "1.5.0",
          "state": {
            "_dom_classes": [],
            "_model_module": "@jupyter-widgets/controls",
            "_model_module_version": "1.5.0",
            "_model_name": "HTMLModel",
            "_view_count": null,
            "_view_module": "@jupyter-widgets/controls",
            "_view_module_version": "1.5.0",
            "_view_name": "HTMLView",
            "description": "",
            "description_tooltip": null,
            "layout": "IPY_MODEL_2c6281e915f84d889f85b6f791da64f0",
            "placeholder": "​",
            "style": "IPY_MODEL_31f32cf00cab4b2db69f4b2db9b7ad22",
            "value": " 4.95G/4.95G [01:57&lt;00:00, 41.2MB/s]"
          }
        },
        "09dba792c97c40a6b45014b5dd9de55a": {
          "model_module": "@jupyter-widgets/base",
          "model_name": "LayoutModel",
          "model_module_version": "1.2.0",
          "state": {
            "_model_module": "@jupyter-widgets/base",
            "_model_module_version": "1.2.0",
            "_model_name": "LayoutModel",
            "_view_count": null,
            "_view_module": "@jupyter-widgets/base",
            "_view_module_version": "1.2.0",
            "_view_name": "LayoutView",
            "align_content": null,
            "align_items": null,
            "align_self": null,
            "border": null,
            "bottom": null,
            "display": null,
            "flex": null,
            "flex_flow": null,
            "grid_area": null,
            "grid_auto_columns": null,
            "grid_auto_flow": null,
            "grid_auto_rows": null,
            "grid_column": null,
            "grid_gap": null,
            "grid_row": null,
            "grid_template_areas": null,
            "grid_template_columns": null,
            "grid_template_rows": null,
            "height": null,
            "justify_content": null,
            "justify_items": null,
            "left": null,
            "margin": null,
            "max_height": null,
            "max_width": null,
            "min_height": null,
            "min_width": null,
            "object_fit": null,
            "object_position": null,
            "order": null,
            "overflow": null,
            "overflow_x": null,
            "overflow_y": null,
            "padding": null,
            "right": null,
            "top": null,
            "visibility": null,
            "width": null
          }
        },
        "e6b44a56a8654600afd7cde554a093da": {
          "model_module": "@jupyter-widgets/base",
          "model_name": "LayoutModel",
          "model_module_version": "1.2.0",
          "state": {
            "_model_module": "@jupyter-widgets/base",
            "_model_module_version": "1.2.0",
            "_model_name": "LayoutModel",
            "_view_count": null,
            "_view_module": "@jupyter-widgets/base",
            "_view_module_version": "1.2.0",
            "_view_name": "LayoutView",
            "align_content": null,
            "align_items": null,
            "align_self": null,
            "border": null,
            "bottom": null,
            "display": null,
            "flex": null,
            "flex_flow": null,
            "grid_area": null,
            "grid_auto_columns": null,
            "grid_auto_flow": null,
            "grid_auto_rows": null,
            "grid_column": null,
            "grid_gap": null,
            "grid_row": null,
            "grid_template_areas": null,
            "grid_template_columns": null,
            "grid_template_rows": null,
            "height": null,
            "justify_content": null,
            "justify_items": null,
            "left": null,
            "margin": null,
            "max_height": null,
            "max_width": null,
            "min_height": null,
            "min_width": null,
            "object_fit": null,
            "object_position": null,
            "order": null,
            "overflow": null,
            "overflow_x": null,
            "overflow_y": null,
            "padding": null,
            "right": null,
            "top": null,
            "visibility": null,
            "width": null
          }
        },
        "29da1bfc62384b1b8385690437775220": {
          "model_module": "@jupyter-widgets/controls",
          "model_name": "DescriptionStyleModel",
          "model_module_version": "1.5.0",
          "state": {
            "_model_module": "@jupyter-widgets/controls",
            "_model_module_version": "1.5.0",
            "_model_name": "DescriptionStyleModel",
            "_view_count": null,
            "_view_module": "@jupyter-widgets/base",
            "_view_module_version": "1.2.0",
            "_view_name": "StyleView",
            "description_width": ""
          }
        },
        "7f6e4d78462c462eb539914a1e2b2ccc": {
          "model_module": "@jupyter-widgets/base",
          "model_name": "LayoutModel",
          "model_module_version": "1.2.0",
          "state": {
            "_model_module": "@jupyter-widgets/base",
            "_model_module_version": "1.2.0",
            "_model_name": "LayoutModel",
            "_view_count": null,
            "_view_module": "@jupyter-widgets/base",
            "_view_module_version": "1.2.0",
            "_view_name": "LayoutView",
            "align_content": null,
            "align_items": null,
            "align_self": null,
            "border": null,
            "bottom": null,
            "display": null,
            "flex": null,
            "flex_flow": null,
            "grid_area": null,
            "grid_auto_columns": null,
            "grid_auto_flow": null,
            "grid_auto_rows": null,
            "grid_column": null,
            "grid_gap": null,
            "grid_row": null,
            "grid_template_areas": null,
            "grid_template_columns": null,
            "grid_template_rows": null,
            "height": null,
            "justify_content": null,
            "justify_items": null,
            "left": null,
            "margin": null,
            "max_height": null,
            "max_width": null,
            "min_height": null,
            "min_width": null,
            "object_fit": null,
            "object_position": null,
            "order": null,
            "overflow": null,
            "overflow_x": null,
            "overflow_y": null,
            "padding": null,
            "right": null,
            "top": null,
            "visibility": null,
            "width": null
          }
        },
        "0ed3ad0cf74b4a96aa7fbe993e2205c6": {
          "model_module": "@jupyter-widgets/controls",
          "model_name": "ProgressStyleModel",
          "model_module_version": "1.5.0",
          "state": {
            "_model_module": "@jupyter-widgets/controls",
            "_model_module_version": "1.5.0",
            "_model_name": "ProgressStyleModel",
            "_view_count": null,
            "_view_module": "@jupyter-widgets/base",
            "_view_module_version": "1.2.0",
            "_view_name": "StyleView",
            "bar_color": null,
            "description_width": ""
          }
        },
        "2c6281e915f84d889f85b6f791da64f0": {
          "model_module": "@jupyter-widgets/base",
          "model_name": "LayoutModel",
          "model_module_version": "1.2.0",
          "state": {
            "_model_module": "@jupyter-widgets/base",
            "_model_module_version": "1.2.0",
            "_model_name": "LayoutModel",
            "_view_count": null,
            "_view_module": "@jupyter-widgets/base",
            "_view_module_version": "1.2.0",
            "_view_name": "LayoutView",
            "align_content": null,
            "align_items": null,
            "align_self": null,
            "border": null,
            "bottom": null,
            "display": null,
            "flex": null,
            "flex_flow": null,
            "grid_area": null,
            "grid_auto_columns": null,
            "grid_auto_flow": null,
            "grid_auto_rows": null,
            "grid_column": null,
            "grid_gap": null,
            "grid_row": null,
            "grid_template_areas": null,
            "grid_template_columns": null,
            "grid_template_rows": null,
            "height": null,
            "justify_content": null,
            "justify_items": null,
            "left": null,
            "margin": null,
            "max_height": null,
            "max_width": null,
            "min_height": null,
            "min_width": null,
            "object_fit": null,
            "object_position": null,
            "order": null,
            "overflow": null,
            "overflow_x": null,
            "overflow_y": null,
            "padding": null,
            "right": null,
            "top": null,
            "visibility": null,
            "width": null
          }
        },
        "31f32cf00cab4b2db69f4b2db9b7ad22": {
          "model_module": "@jupyter-widgets/controls",
          "model_name": "DescriptionStyleModel",
          "model_module_version": "1.5.0",
          "state": {
            "_model_module": "@jupyter-widgets/controls",
            "_model_module_version": "1.5.0",
            "_model_name": "DescriptionStyleModel",
            "_view_count": null,
            "_view_module": "@jupyter-widgets/base",
            "_view_module_version": "1.2.0",
            "_view_name": "StyleView",
            "description_width": ""
          }
        },
        "eaa73a2fcf5a4684b0b0280a72f74477": {
          "model_module": "@jupyter-widgets/controls",
          "model_name": "HBoxModel",
          "model_module_version": "1.5.0",
          "state": {
            "_dom_classes": [],
            "_model_module": "@jupyter-widgets/controls",
            "_model_module_version": "1.5.0",
            "_model_name": "HBoxModel",
            "_view_count": null,
            "_view_module": "@jupyter-widgets/controls",
            "_view_module_version": "1.5.0",
            "_view_name": "HBoxView",
            "box_style": "",
            "children": [
              "IPY_MODEL_d004af7aa2df4bb7bb6bc8a3d8fd18fb",
              "IPY_MODEL_96b739eb0cd14f5cbe3e1f799972e112",
              "IPY_MODEL_75b8adcb961842658bfecf40ad3cbcab"
            ],
            "layout": "IPY_MODEL_8c903cffe241485db4c4c76ebe600e5f"
          }
        },
        "d004af7aa2df4bb7bb6bc8a3d8fd18fb": {
          "model_module": "@jupyter-widgets/controls",
          "model_name": "HTMLModel",
          "model_module_version": "1.5.0",
          "state": {
            "_dom_classes": [],
            "_model_module": "@jupyter-widgets/controls",
            "_model_module_version": "1.5.0",
            "_model_name": "HTMLModel",
            "_view_count": null,
            "_view_module": "@jupyter-widgets/controls",
            "_view_module_version": "1.5.0",
            "_view_name": "HTMLView",
            "description": "",
            "description_tooltip": null,
            "layout": "IPY_MODEL_41843eb44d9943d5bf75b836d9e4009e",
            "placeholder": "​",
            "style": "IPY_MODEL_502a3869a5334e5dbca808cee06836e0",
            "value": "model-00002-of-00003.safetensors: 100%"
          }
        },
        "96b739eb0cd14f5cbe3e1f799972e112": {
          "model_module": "@jupyter-widgets/controls",
          "model_name": "FloatProgressModel",
          "model_module_version": "1.5.0",
          "state": {
            "_dom_classes": [],
            "_model_module": "@jupyter-widgets/controls",
            "_model_module_version": "1.5.0",
            "_model_name": "FloatProgressModel",
            "_view_count": null,
            "_view_module": "@jupyter-widgets/controls",
            "_view_module_version": "1.5.0",
            "_view_name": "ProgressView",
            "bar_style": "success",
            "description": "",
            "description_tooltip": null,
            "layout": "IPY_MODEL_497fbdb746c848e497e329ee25a11636",
            "max": 4999819336,
            "min": 0,
            "orientation": "horizontal",
            "style": "IPY_MODEL_b449e8418ddc463f9a9867c451809edd",
            "value": 4999819336
          }
        },
        "75b8adcb961842658bfecf40ad3cbcab": {
          "model_module": "@jupyter-widgets/controls",
          "model_name": "HTMLModel",
          "model_module_version": "1.5.0",
          "state": {
            "_dom_classes": [],
            "_model_module": "@jupyter-widgets/controls",
            "_model_module_version": "1.5.0",
            "_model_name": "HTMLModel",
            "_view_count": null,
            "_view_module": "@jupyter-widgets/controls",
            "_view_module_version": "1.5.0",
            "_view_name": "HTMLView",
            "description": "",
            "description_tooltip": null,
            "layout": "IPY_MODEL_352218e6ca02400f87c0744af4dc9aa4",
            "placeholder": "​",
            "style": "IPY_MODEL_b8dee78c285148bdb0cc6e7148e5a215",
            "value": " 5.00G/5.00G [01:58&lt;00:00, 41.9MB/s]"
          }
        },
        "8c903cffe241485db4c4c76ebe600e5f": {
          "model_module": "@jupyter-widgets/base",
          "model_name": "LayoutModel",
          "model_module_version": "1.2.0",
          "state": {
            "_model_module": "@jupyter-widgets/base",
            "_model_module_version": "1.2.0",
            "_model_name": "LayoutModel",
            "_view_count": null,
            "_view_module": "@jupyter-widgets/base",
            "_view_module_version": "1.2.0",
            "_view_name": "LayoutView",
            "align_content": null,
            "align_items": null,
            "align_self": null,
            "border": null,
            "bottom": null,
            "display": null,
            "flex": null,
            "flex_flow": null,
            "grid_area": null,
            "grid_auto_columns": null,
            "grid_auto_flow": null,
            "grid_auto_rows": null,
            "grid_column": null,
            "grid_gap": null,
            "grid_row": null,
            "grid_template_areas": null,
            "grid_template_columns": null,
            "grid_template_rows": null,
            "height": null,
            "justify_content": null,
            "justify_items": null,
            "left": null,
            "margin": null,
            "max_height": null,
            "max_width": null,
            "min_height": null,
            "min_width": null,
            "object_fit": null,
            "object_position": null,
            "order": null,
            "overflow": null,
            "overflow_x": null,
            "overflow_y": null,
            "padding": null,
            "right": null,
            "top": null,
            "visibility": null,
            "width": null
          }
        },
        "41843eb44d9943d5bf75b836d9e4009e": {
          "model_module": "@jupyter-widgets/base",
          "model_name": "LayoutModel",
          "model_module_version": "1.2.0",
          "state": {
            "_model_module": "@jupyter-widgets/base",
            "_model_module_version": "1.2.0",
            "_model_name": "LayoutModel",
            "_view_count": null,
            "_view_module": "@jupyter-widgets/base",
            "_view_module_version": "1.2.0",
            "_view_name": "LayoutView",
            "align_content": null,
            "align_items": null,
            "align_self": null,
            "border": null,
            "bottom": null,
            "display": null,
            "flex": null,
            "flex_flow": null,
            "grid_area": null,
            "grid_auto_columns": null,
            "grid_auto_flow": null,
            "grid_auto_rows": null,
            "grid_column": null,
            "grid_gap": null,
            "grid_row": null,
            "grid_template_areas": null,
            "grid_template_columns": null,
            "grid_template_rows": null,
            "height": null,
            "justify_content": null,
            "justify_items": null,
            "left": null,
            "margin": null,
            "max_height": null,
            "max_width": null,
            "min_height": null,
            "min_width": null,
            "object_fit": null,
            "object_position": null,
            "order": null,
            "overflow": null,
            "overflow_x": null,
            "overflow_y": null,
            "padding": null,
            "right": null,
            "top": null,
            "visibility": null,
            "width": null
          }
        },
        "502a3869a5334e5dbca808cee06836e0": {
          "model_module": "@jupyter-widgets/controls",
          "model_name": "DescriptionStyleModel",
          "model_module_version": "1.5.0",
          "state": {
            "_model_module": "@jupyter-widgets/controls",
            "_model_module_version": "1.5.0",
            "_model_name": "DescriptionStyleModel",
            "_view_count": null,
            "_view_module": "@jupyter-widgets/base",
            "_view_module_version": "1.2.0",
            "_view_name": "StyleView",
            "description_width": ""
          }
        },
        "497fbdb746c848e497e329ee25a11636": {
          "model_module": "@jupyter-widgets/base",
          "model_name": "LayoutModel",
          "model_module_version": "1.2.0",
          "state": {
            "_model_module": "@jupyter-widgets/base",
            "_model_module_version": "1.2.0",
            "_model_name": "LayoutModel",
            "_view_count": null,
            "_view_module": "@jupyter-widgets/base",
            "_view_module_version": "1.2.0",
            "_view_name": "LayoutView",
            "align_content": null,
            "align_items": null,
            "align_self": null,
            "border": null,
            "bottom": null,
            "display": null,
            "flex": null,
            "flex_flow": null,
            "grid_area": null,
            "grid_auto_columns": null,
            "grid_auto_flow": null,
            "grid_auto_rows": null,
            "grid_column": null,
            "grid_gap": null,
            "grid_row": null,
            "grid_template_areas": null,
            "grid_template_columns": null,
            "grid_template_rows": null,
            "height": null,
            "justify_content": null,
            "justify_items": null,
            "left": null,
            "margin": null,
            "max_height": null,
            "max_width": null,
            "min_height": null,
            "min_width": null,
            "object_fit": null,
            "object_position": null,
            "order": null,
            "overflow": null,
            "overflow_x": null,
            "overflow_y": null,
            "padding": null,
            "right": null,
            "top": null,
            "visibility": null,
            "width": null
          }
        },
        "b449e8418ddc463f9a9867c451809edd": {
          "model_module": "@jupyter-widgets/controls",
          "model_name": "ProgressStyleModel",
          "model_module_version": "1.5.0",
          "state": {
            "_model_module": "@jupyter-widgets/controls",
            "_model_module_version": "1.5.0",
            "_model_name": "ProgressStyleModel",
            "_view_count": null,
            "_view_module": "@jupyter-widgets/base",
            "_view_module_version": "1.2.0",
            "_view_name": "StyleView",
            "bar_color": null,
            "description_width": ""
          }
        },
        "352218e6ca02400f87c0744af4dc9aa4": {
          "model_module": "@jupyter-widgets/base",
          "model_name": "LayoutModel",
          "model_module_version": "1.2.0",
          "state": {
            "_model_module": "@jupyter-widgets/base",
            "_model_module_version": "1.2.0",
            "_model_name": "LayoutModel",
            "_view_count": null,
            "_view_module": "@jupyter-widgets/base",
            "_view_module_version": "1.2.0",
            "_view_name": "LayoutView",
            "align_content": null,
            "align_items": null,
            "align_self": null,
            "border": null,
            "bottom": null,
            "display": null,
            "flex": null,
            "flex_flow": null,
            "grid_area": null,
            "grid_auto_columns": null,
            "grid_auto_flow": null,
            "grid_auto_rows": null,
            "grid_column": null,
            "grid_gap": null,
            "grid_row": null,
            "grid_template_areas": null,
            "grid_template_columns": null,
            "grid_template_rows": null,
            "height": null,
            "justify_content": null,
            "justify_items": null,
            "left": null,
            "margin": null,
            "max_height": null,
            "max_width": null,
            "min_height": null,
            "min_width": null,
            "object_fit": null,
            "object_position": null,
            "order": null,
            "overflow": null,
            "overflow_x": null,
            "overflow_y": null,
            "padding": null,
            "right": null,
            "top": null,
            "visibility": null,
            "width": null
          }
        },
        "b8dee78c285148bdb0cc6e7148e5a215": {
          "model_module": "@jupyter-widgets/controls",
          "model_name": "DescriptionStyleModel",
          "model_module_version": "1.5.0",
          "state": {
            "_model_module": "@jupyter-widgets/controls",
            "_model_module_version": "1.5.0",
            "_model_name": "DescriptionStyleModel",
            "_view_count": null,
            "_view_module": "@jupyter-widgets/base",
            "_view_module_version": "1.2.0",
            "_view_name": "StyleView",
            "description_width": ""
          }
        },
        "a84f9a6ad90849fbb58ddd5471cad2c3": {
          "model_module": "@jupyter-widgets/controls",
          "model_name": "HBoxModel",
          "model_module_version": "1.5.0",
          "state": {
            "_dom_classes": [],
            "_model_module": "@jupyter-widgets/controls",
            "_model_module_version": "1.5.0",
            "_model_name": "HBoxModel",
            "_view_count": null,
            "_view_module": "@jupyter-widgets/controls",
            "_view_module_version": "1.5.0",
            "_view_name": "HBoxView",
            "box_style": "",
            "children": [
              "IPY_MODEL_4c2a4bd133164f41a366353975cdbd25",
              "IPY_MODEL_a048f173a7a3450cbbe738045cf7dfd2",
              "IPY_MODEL_8f3f4303d22a4cd08bc6dfd91f98c967"
            ],
            "layout": "IPY_MODEL_d0776a7cf3574d90866d3a575ffbbb42"
          }
        },
        "4c2a4bd133164f41a366353975cdbd25": {
          "model_module": "@jupyter-widgets/controls",
          "model_name": "HTMLModel",
          "model_module_version": "1.5.0",
          "state": {
            "_dom_classes": [],
            "_model_module": "@jupyter-widgets/controls",
            "_model_module_version": "1.5.0",
            "_model_name": "HTMLModel",
            "_view_count": null,
            "_view_module": "@jupyter-widgets/controls",
            "_view_module_version": "1.5.0",
            "_view_name": "HTMLView",
            "description": "",
            "description_tooltip": null,
            "layout": "IPY_MODEL_55a3394235e542138e009acb6ae48238",
            "placeholder": "​",
            "style": "IPY_MODEL_1a1983467c5e4d42947ae9c05a422db1",
            "value": "model-00003-of-00003.safetensors: 100%"
          }
        },
        "a048f173a7a3450cbbe738045cf7dfd2": {
          "model_module": "@jupyter-widgets/controls",
          "model_name": "FloatProgressModel",
          "model_module_version": "1.5.0",
          "state": {
            "_dom_classes": [],
            "_model_module": "@jupyter-widgets/controls",
            "_model_module_version": "1.5.0",
            "_model_name": "FloatProgressModel",
            "_view_count": null,
            "_view_module": "@jupyter-widgets/controls",
            "_view_module_version": "1.5.0",
            "_view_name": "ProgressView",
            "bar_style": "success",
            "description": "",
            "description_tooltip": null,
            "layout": "IPY_MODEL_43c324aded95416abe5353ac4d8c09b3",
            "max": 4546807800,
            "min": 0,
            "orientation": "horizontal",
            "style": "IPY_MODEL_f86fac8b833342d5af58358a01a62c0d",
            "value": 4546807800
          }
        },
        "8f3f4303d22a4cd08bc6dfd91f98c967": {
          "model_module": "@jupyter-widgets/controls",
          "model_name": "HTMLModel",
          "model_module_version": "1.5.0",
          "state": {
            "_dom_classes": [],
            "_model_module": "@jupyter-widgets/controls",
            "_model_module_version": "1.5.0",
            "_model_name": "HTMLModel",
            "_view_count": null,
            "_view_module": "@jupyter-widgets/controls",
            "_view_module_version": "1.5.0",
            "_view_name": "HTMLView",
            "description": "",
            "description_tooltip": null,
            "layout": "IPY_MODEL_95b6b542a267462d91d1df1b1187209a",
            "placeholder": "​",
            "style": "IPY_MODEL_59e587b4d741468190e8e86345f41348",
            "value": " 4.55G/4.55G [01:47&lt;00:00, 42.3MB/s]"
          }
        },
        "d0776a7cf3574d90866d3a575ffbbb42": {
          "model_module": "@jupyter-widgets/base",
          "model_name": "LayoutModel",
          "model_module_version": "1.2.0",
          "state": {
            "_model_module": "@jupyter-widgets/base",
            "_model_module_version": "1.2.0",
            "_model_name": "LayoutModel",
            "_view_count": null,
            "_view_module": "@jupyter-widgets/base",
            "_view_module_version": "1.2.0",
            "_view_name": "LayoutView",
            "align_content": null,
            "align_items": null,
            "align_self": null,
            "border": null,
            "bottom": null,
            "display": null,
            "flex": null,
            "flex_flow": null,
            "grid_area": null,
            "grid_auto_columns": null,
            "grid_auto_flow": null,
            "grid_auto_rows": null,
            "grid_column": null,
            "grid_gap": null,
            "grid_row": null,
            "grid_template_areas": null,
            "grid_template_columns": null,
            "grid_template_rows": null,
            "height": null,
            "justify_content": null,
            "justify_items": null,
            "left": null,
            "margin": null,
            "max_height": null,
            "max_width": null,
            "min_height": null,
            "min_width": null,
            "object_fit": null,
            "object_position": null,
            "order": null,
            "overflow": null,
            "overflow_x": null,
            "overflow_y": null,
            "padding": null,
            "right": null,
            "top": null,
            "visibility": null,
            "width": null
          }
        },
        "55a3394235e542138e009acb6ae48238": {
          "model_module": "@jupyter-widgets/base",
          "model_name": "LayoutModel",
          "model_module_version": "1.2.0",
          "state": {
            "_model_module": "@jupyter-widgets/base",
            "_model_module_version": "1.2.0",
            "_model_name": "LayoutModel",
            "_view_count": null,
            "_view_module": "@jupyter-widgets/base",
            "_view_module_version": "1.2.0",
            "_view_name": "LayoutView",
            "align_content": null,
            "align_items": null,
            "align_self": null,
            "border": null,
            "bottom": null,
            "display": null,
            "flex": null,
            "flex_flow": null,
            "grid_area": null,
            "grid_auto_columns": null,
            "grid_auto_flow": null,
            "grid_auto_rows": null,
            "grid_column": null,
            "grid_gap": null,
            "grid_row": null,
            "grid_template_areas": null,
            "grid_template_columns": null,
            "grid_template_rows": null,
            "height": null,
            "justify_content": null,
            "justify_items": null,
            "left": null,
            "margin": null,
            "max_height": null,
            "max_width": null,
            "min_height": null,
            "min_width": null,
            "object_fit": null,
            "object_position": null,
            "order": null,
            "overflow": null,
            "overflow_x": null,
            "overflow_y": null,
            "padding": null,
            "right": null,
            "top": null,
            "visibility": null,
            "width": null
          }
        },
        "1a1983467c5e4d42947ae9c05a422db1": {
          "model_module": "@jupyter-widgets/controls",
          "model_name": "DescriptionStyleModel",
          "model_module_version": "1.5.0",
          "state": {
            "_model_module": "@jupyter-widgets/controls",
            "_model_module_version": "1.5.0",
            "_model_name": "DescriptionStyleModel",
            "_view_count": null,
            "_view_module": "@jupyter-widgets/base",
            "_view_module_version": "1.2.0",
            "_view_name": "StyleView",
            "description_width": ""
          }
        },
        "43c324aded95416abe5353ac4d8c09b3": {
          "model_module": "@jupyter-widgets/base",
          "model_name": "LayoutModel",
          "model_module_version": "1.2.0",
          "state": {
            "_model_module": "@jupyter-widgets/base",
            "_model_module_version": "1.2.0",
            "_model_name": "LayoutModel",
            "_view_count": null,
            "_view_module": "@jupyter-widgets/base",
            "_view_module_version": "1.2.0",
            "_view_name": "LayoutView",
            "align_content": null,
            "align_items": null,
            "align_self": null,
            "border": null,
            "bottom": null,
            "display": null,
            "flex": null,
            "flex_flow": null,
            "grid_area": null,
            "grid_auto_columns": null,
            "grid_auto_flow": null,
            "grid_auto_rows": null,
            "grid_column": null,
            "grid_gap": null,
            "grid_row": null,
            "grid_template_areas": null,
            "grid_template_columns": null,
            "grid_template_rows": null,
            "height": null,
            "justify_content": null,
            "justify_items": null,
            "left": null,
            "margin": null,
            "max_height": null,
            "max_width": null,
            "min_height": null,
            "min_width": null,
            "object_fit": null,
            "object_position": null,
            "order": null,
            "overflow": null,
            "overflow_x": null,
            "overflow_y": null,
            "padding": null,
            "right": null,
            "top": null,
            "visibility": null,
            "width": null
          }
        },
        "f86fac8b833342d5af58358a01a62c0d": {
          "model_module": "@jupyter-widgets/controls",
          "model_name": "ProgressStyleModel",
          "model_module_version": "1.5.0",
          "state": {
            "_model_module": "@jupyter-widgets/controls",
            "_model_module_version": "1.5.0",
            "_model_name": "ProgressStyleModel",
            "_view_count": null,
            "_view_module": "@jupyter-widgets/base",
            "_view_module_version": "1.2.0",
            "_view_name": "StyleView",
            "bar_color": null,
            "description_width": ""
          }
        },
        "95b6b542a267462d91d1df1b1187209a": {
          "model_module": "@jupyter-widgets/base",
          "model_name": "LayoutModel",
          "model_module_version": "1.2.0",
          "state": {
            "_model_module": "@jupyter-widgets/base",
            "_model_module_version": "1.2.0",
            "_model_name": "LayoutModel",
            "_view_count": null,
            "_view_module": "@jupyter-widgets/base",
            "_view_module_version": "1.2.0",
            "_view_name": "LayoutView",
            "align_content": null,
            "align_items": null,
            "align_self": null,
            "border": null,
            "bottom": null,
            "display": null,
            "flex": null,
            "flex_flow": null,
            "grid_area": null,
            "grid_auto_columns": null,
            "grid_auto_flow": null,
            "grid_auto_rows": null,
            "grid_column": null,
            "grid_gap": null,
            "grid_row": null,
            "grid_template_areas": null,
            "grid_template_columns": null,
            "grid_template_rows": null,
            "height": null,
            "justify_content": null,
            "justify_items": null,
            "left": null,
            "margin": null,
            "max_height": null,
            "max_width": null,
            "min_height": null,
            "min_width": null,
            "object_fit": null,
            "object_position": null,
            "order": null,
            "overflow": null,
            "overflow_x": null,
            "overflow_y": null,
            "padding": null,
            "right": null,
            "top": null,
            "visibility": null,
            "width": null
          }
        },
        "59e587b4d741468190e8e86345f41348": {
          "model_module": "@jupyter-widgets/controls",
          "model_name": "DescriptionStyleModel",
          "model_module_version": "1.5.0",
          "state": {
            "_model_module": "@jupyter-widgets/controls",
            "_model_module_version": "1.5.0",
            "_model_name": "DescriptionStyleModel",
            "_view_count": null,
            "_view_module": "@jupyter-widgets/base",
            "_view_module_version": "1.2.0",
            "_view_name": "StyleView",
            "description_width": ""
          }
        },
        "fe8d84e5d7bf4566b71d3792e44711cc": {
          "model_module": "@jupyter-widgets/controls",
          "model_name": "HBoxModel",
          "model_module_version": "1.5.0",
          "state": {
            "_dom_classes": [],
            "_model_module": "@jupyter-widgets/controls",
            "_model_module_version": "1.5.0",
            "_model_name": "HBoxModel",
            "_view_count": null,
            "_view_module": "@jupyter-widgets/controls",
            "_view_module_version": "1.5.0",
            "_view_name": "HBoxView",
            "box_style": "",
            "children": [
              "IPY_MODEL_ca7bd26c2e9e441187bf54e74b1ea0b2",
              "IPY_MODEL_f57647b45f784552a44581df99dd83bd",
              "IPY_MODEL_23addea401504dc9bc532e796f907d28"
            ],
            "layout": "IPY_MODEL_02c9e1cb656b446e987c1b38a0ea6949"
          }
        },
        "ca7bd26c2e9e441187bf54e74b1ea0b2": {
          "model_module": "@jupyter-widgets/controls",
          "model_name": "HTMLModel",
          "model_module_version": "1.5.0",
          "state": {
            "_dom_classes": [],
            "_model_module": "@jupyter-widgets/controls",
            "_model_module_version": "1.5.0",
            "_model_name": "HTMLModel",
            "_view_count": null,
            "_view_module": "@jupyter-widgets/controls",
            "_view_module_version": "1.5.0",
            "_view_name": "HTMLView",
            "description": "",
            "description_tooltip": null,
            "layout": "IPY_MODEL_4032177c3b5c4c1ea3c1fe571e548b45",
            "placeholder": "​",
            "style": "IPY_MODEL_163d8fd5243b427789c5181b0de58009",
            "value": "Loading checkpoint shards: 100%"
          }
        },
        "f57647b45f784552a44581df99dd83bd": {
          "model_module": "@jupyter-widgets/controls",
          "model_name": "FloatProgressModel",
          "model_module_version": "1.5.0",
          "state": {
            "_dom_classes": [],
            "_model_module": "@jupyter-widgets/controls",
            "_model_module_version": "1.5.0",
            "_model_name": "FloatProgressModel",
            "_view_count": null,
            "_view_module": "@jupyter-widgets/controls",
            "_view_module_version": "1.5.0",
            "_view_name": "ProgressView",
            "bar_style": "success",
            "description": "",
            "description_tooltip": null,
            "layout": "IPY_MODEL_6e1134ee826c484bae5211686df6bdcc",
            "max": 3,
            "min": 0,
            "orientation": "horizontal",
            "style": "IPY_MODEL_313d8fbfeb0f4b40a3ec2e520e48977e",
            "value": 3
          }
        },
        "23addea401504dc9bc532e796f907d28": {
          "model_module": "@jupyter-widgets/controls",
          "model_name": "HTMLModel",
          "model_module_version": "1.5.0",
          "state": {
            "_dom_classes": [],
            "_model_module": "@jupyter-widgets/controls",
            "_model_module_version": "1.5.0",
            "_model_name": "HTMLModel",
            "_view_count": null,
            "_view_module": "@jupyter-widgets/controls",
            "_view_module_version": "1.5.0",
            "_view_name": "HTMLView",
            "description": "",
            "description_tooltip": null,
            "layout": "IPY_MODEL_a8560285b9d64a4db8e5d6e0580a73d5",
            "placeholder": "​",
            "style": "IPY_MODEL_05126e2139f54d568d5c5890db77ab5c",
            "value": " 3/3 [01:05&lt;00:00, 21.53s/it]"
          }
        },
        "02c9e1cb656b446e987c1b38a0ea6949": {
          "model_module": "@jupyter-widgets/base",
          "model_name": "LayoutModel",
          "model_module_version": "1.2.0",
          "state": {
            "_model_module": "@jupyter-widgets/base",
            "_model_module_version": "1.2.0",
            "_model_name": "LayoutModel",
            "_view_count": null,
            "_view_module": "@jupyter-widgets/base",
            "_view_module_version": "1.2.0",
            "_view_name": "LayoutView",
            "align_content": null,
            "align_items": null,
            "align_self": null,
            "border": null,
            "bottom": null,
            "display": null,
            "flex": null,
            "flex_flow": null,
            "grid_area": null,
            "grid_auto_columns": null,
            "grid_auto_flow": null,
            "grid_auto_rows": null,
            "grid_column": null,
            "grid_gap": null,
            "grid_row": null,
            "grid_template_areas": null,
            "grid_template_columns": null,
            "grid_template_rows": null,
            "height": null,
            "justify_content": null,
            "justify_items": null,
            "left": null,
            "margin": null,
            "max_height": null,
            "max_width": null,
            "min_height": null,
            "min_width": null,
            "object_fit": null,
            "object_position": null,
            "order": null,
            "overflow": null,
            "overflow_x": null,
            "overflow_y": null,
            "padding": null,
            "right": null,
            "top": null,
            "visibility": null,
            "width": null
          }
        },
        "4032177c3b5c4c1ea3c1fe571e548b45": {
          "model_module": "@jupyter-widgets/base",
          "model_name": "LayoutModel",
          "model_module_version": "1.2.0",
          "state": {
            "_model_module": "@jupyter-widgets/base",
            "_model_module_version": "1.2.0",
            "_model_name": "LayoutModel",
            "_view_count": null,
            "_view_module": "@jupyter-widgets/base",
            "_view_module_version": "1.2.0",
            "_view_name": "LayoutView",
            "align_content": null,
            "align_items": null,
            "align_self": null,
            "border": null,
            "bottom": null,
            "display": null,
            "flex": null,
            "flex_flow": null,
            "grid_area": null,
            "grid_auto_columns": null,
            "grid_auto_flow": null,
            "grid_auto_rows": null,
            "grid_column": null,
            "grid_gap": null,
            "grid_row": null,
            "grid_template_areas": null,
            "grid_template_columns": null,
            "grid_template_rows": null,
            "height": null,
            "justify_content": null,
            "justify_items": null,
            "left": null,
            "margin": null,
            "max_height": null,
            "max_width": null,
            "min_height": null,
            "min_width": null,
            "object_fit": null,
            "object_position": null,
            "order": null,
            "overflow": null,
            "overflow_x": null,
            "overflow_y": null,
            "padding": null,
            "right": null,
            "top": null,
            "visibility": null,
            "width": null
          }
        },
        "163d8fd5243b427789c5181b0de58009": {
          "model_module": "@jupyter-widgets/controls",
          "model_name": "DescriptionStyleModel",
          "model_module_version": "1.5.0",
          "state": {
            "_model_module": "@jupyter-widgets/controls",
            "_model_module_version": "1.5.0",
            "_model_name": "DescriptionStyleModel",
            "_view_count": null,
            "_view_module": "@jupyter-widgets/base",
            "_view_module_version": "1.2.0",
            "_view_name": "StyleView",
            "description_width": ""
          }
        },
        "6e1134ee826c484bae5211686df6bdcc": {
          "model_module": "@jupyter-widgets/base",
          "model_name": "LayoutModel",
          "model_module_version": "1.2.0",
          "state": {
            "_model_module": "@jupyter-widgets/base",
            "_model_module_version": "1.2.0",
            "_model_name": "LayoutModel",
            "_view_count": null,
            "_view_module": "@jupyter-widgets/base",
            "_view_module_version": "1.2.0",
            "_view_name": "LayoutView",
            "align_content": null,
            "align_items": null,
            "align_self": null,
            "border": null,
            "bottom": null,
            "display": null,
            "flex": null,
            "flex_flow": null,
            "grid_area": null,
            "grid_auto_columns": null,
            "grid_auto_flow": null,
            "grid_auto_rows": null,
            "grid_column": null,
            "grid_gap": null,
            "grid_row": null,
            "grid_template_areas": null,
            "grid_template_columns": null,
            "grid_template_rows": null,
            "height": null,
            "justify_content": null,
            "justify_items": null,
            "left": null,
            "margin": null,
            "max_height": null,
            "max_width": null,
            "min_height": null,
            "min_width": null,
            "object_fit": null,
            "object_position": null,
            "order": null,
            "overflow": null,
            "overflow_x": null,
            "overflow_y": null,
            "padding": null,
            "right": null,
            "top": null,
            "visibility": null,
            "width": null
          }
        },
        "313d8fbfeb0f4b40a3ec2e520e48977e": {
          "model_module": "@jupyter-widgets/controls",
          "model_name": "ProgressStyleModel",
          "model_module_version": "1.5.0",
          "state": {
            "_model_module": "@jupyter-widgets/controls",
            "_model_module_version": "1.5.0",
            "_model_name": "ProgressStyleModel",
            "_view_count": null,
            "_view_module": "@jupyter-widgets/base",
            "_view_module_version": "1.2.0",
            "_view_name": "StyleView",
            "bar_color": null,
            "description_width": ""
          }
        },
        "a8560285b9d64a4db8e5d6e0580a73d5": {
          "model_module": "@jupyter-widgets/base",
          "model_name": "LayoutModel",
          "model_module_version": "1.2.0",
          "state": {
            "_model_module": "@jupyter-widgets/base",
            "_model_module_version": "1.2.0",
            "_model_name": "LayoutModel",
            "_view_count": null,
            "_view_module": "@jupyter-widgets/base",
            "_view_module_version": "1.2.0",
            "_view_name": "LayoutView",
            "align_content": null,
            "align_items": null,
            "align_self": null,
            "border": null,
            "bottom": null,
            "display": null,
            "flex": null,
            "flex_flow": null,
            "grid_area": null,
            "grid_auto_columns": null,
            "grid_auto_flow": null,
            "grid_auto_rows": null,
            "grid_column": null,
            "grid_gap": null,
            "grid_row": null,
            "grid_template_areas": null,
            "grid_template_columns": null,
            "grid_template_rows": null,
            "height": null,
            "justify_content": null,
            "justify_items": null,
            "left": null,
            "margin": null,
            "max_height": null,
            "max_width": null,
            "min_height": null,
            "min_width": null,
            "object_fit": null,
            "object_position": null,
            "order": null,
            "overflow": null,
            "overflow_x": null,
            "overflow_y": null,
            "padding": null,
            "right": null,
            "top": null,
            "visibility": null,
            "width": null
          }
        },
        "05126e2139f54d568d5c5890db77ab5c": {
          "model_module": "@jupyter-widgets/controls",
          "model_name": "DescriptionStyleModel",
          "model_module_version": "1.5.0",
          "state": {
            "_model_module": "@jupyter-widgets/controls",
            "_model_module_version": "1.5.0",
            "_model_name": "DescriptionStyleModel",
            "_view_count": null,
            "_view_module": "@jupyter-widgets/base",
            "_view_module_version": "1.2.0",
            "_view_name": "StyleView",
            "description_width": ""
          }
        },
        "65ff1a37fa704242aea23033cef45020": {
          "model_module": "@jupyter-widgets/controls",
          "model_name": "HBoxModel",
          "model_module_version": "1.5.0",
          "state": {
            "_dom_classes": [],
            "_model_module": "@jupyter-widgets/controls",
            "_model_module_version": "1.5.0",
            "_model_name": "HBoxModel",
            "_view_count": null,
            "_view_module": "@jupyter-widgets/controls",
            "_view_module_version": "1.5.0",
            "_view_name": "HBoxView",
            "box_style": "",
            "children": [
              "IPY_MODEL_a719880c46334ac2bd0e6133c1fb0b37",
              "IPY_MODEL_c8520c65f4ae458987a134afc033c939",
              "IPY_MODEL_ed6bbc7065b24e428c0ee8897b3bbd27"
            ],
            "layout": "IPY_MODEL_94d341ffc778431da443ee70dd37e093"
          }
        },
        "a719880c46334ac2bd0e6133c1fb0b37": {
          "model_module": "@jupyter-widgets/controls",
          "model_name": "HTMLModel",
          "model_module_version": "1.5.0",
          "state": {
            "_dom_classes": [],
            "_model_module": "@jupyter-widgets/controls",
            "_model_module_version": "1.5.0",
            "_model_name": "HTMLModel",
            "_view_count": null,
            "_view_module": "@jupyter-widgets/controls",
            "_view_module_version": "1.5.0",
            "_view_name": "HTMLView",
            "description": "",
            "description_tooltip": null,
            "layout": "IPY_MODEL_65c1ea1a72b640b0af502f3aaed98b5b",
            "placeholder": "​",
            "style": "IPY_MODEL_95230bfecc72477ea91e3cce68f97b8b",
            "value": "generation_config.json: 100%"
          }
        },
        "c8520c65f4ae458987a134afc033c939": {
          "model_module": "@jupyter-widgets/controls",
          "model_name": "FloatProgressModel",
          "model_module_version": "1.5.0",
          "state": {
            "_dom_classes": [],
            "_model_module": "@jupyter-widgets/controls",
            "_model_module_version": "1.5.0",
            "_model_name": "FloatProgressModel",
            "_view_count": null,
            "_view_module": "@jupyter-widgets/controls",
            "_view_module_version": "1.5.0",
            "_view_name": "ProgressView",
            "bar_style": "success",
            "description": "",
            "description_tooltip": null,
            "layout": "IPY_MODEL_81b65c61d740415c8873b3ced7ab46b9",
            "max": 116,
            "min": 0,
            "orientation": "horizontal",
            "style": "IPY_MODEL_4242d3e9cdbd4e07bb58451b583b33c7",
            "value": 116
          }
        },
        "ed6bbc7065b24e428c0ee8897b3bbd27": {
          "model_module": "@jupyter-widgets/controls",
          "model_name": "HTMLModel",
          "model_module_version": "1.5.0",
          "state": {
            "_dom_classes": [],
            "_model_module": "@jupyter-widgets/controls",
            "_model_module_version": "1.5.0",
            "_model_name": "HTMLModel",
            "_view_count": null,
            "_view_module": "@jupyter-widgets/controls",
            "_view_module_version": "1.5.0",
            "_view_name": "HTMLView",
            "description": "",
            "description_tooltip": null,
            "layout": "IPY_MODEL_d5e7b13fe837441b869f18c59af099ca",
            "placeholder": "​",
            "style": "IPY_MODEL_71097df507584b9195ce0cfcb8210ad0",
            "value": " 116/116 [00:00&lt;00:00, 8.02kB/s]"
          }
        },
        "94d341ffc778431da443ee70dd37e093": {
          "model_module": "@jupyter-widgets/base",
          "model_name": "LayoutModel",
          "model_module_version": "1.2.0",
          "state": {
            "_model_module": "@jupyter-widgets/base",
            "_model_module_version": "1.2.0",
            "_model_name": "LayoutModel",
            "_view_count": null,
            "_view_module": "@jupyter-widgets/base",
            "_view_module_version": "1.2.0",
            "_view_name": "LayoutView",
            "align_content": null,
            "align_items": null,
            "align_self": null,
            "border": null,
            "bottom": null,
            "display": null,
            "flex": null,
            "flex_flow": null,
            "grid_area": null,
            "grid_auto_columns": null,
            "grid_auto_flow": null,
            "grid_auto_rows": null,
            "grid_column": null,
            "grid_gap": null,
            "grid_row": null,
            "grid_template_areas": null,
            "grid_template_columns": null,
            "grid_template_rows": null,
            "height": null,
            "justify_content": null,
            "justify_items": null,
            "left": null,
            "margin": null,
            "max_height": null,
            "max_width": null,
            "min_height": null,
            "min_width": null,
            "object_fit": null,
            "object_position": null,
            "order": null,
            "overflow": null,
            "overflow_x": null,
            "overflow_y": null,
            "padding": null,
            "right": null,
            "top": null,
            "visibility": null,
            "width": null
          }
        },
        "65c1ea1a72b640b0af502f3aaed98b5b": {
          "model_module": "@jupyter-widgets/base",
          "model_name": "LayoutModel",
          "model_module_version": "1.2.0",
          "state": {
            "_model_module": "@jupyter-widgets/base",
            "_model_module_version": "1.2.0",
            "_model_name": "LayoutModel",
            "_view_count": null,
            "_view_module": "@jupyter-widgets/base",
            "_view_module_version": "1.2.0",
            "_view_name": "LayoutView",
            "align_content": null,
            "align_items": null,
            "align_self": null,
            "border": null,
            "bottom": null,
            "display": null,
            "flex": null,
            "flex_flow": null,
            "grid_area": null,
            "grid_auto_columns": null,
            "grid_auto_flow": null,
            "grid_auto_rows": null,
            "grid_column": null,
            "grid_gap": null,
            "grid_row": null,
            "grid_template_areas": null,
            "grid_template_columns": null,
            "grid_template_rows": null,
            "height": null,
            "justify_content": null,
            "justify_items": null,
            "left": null,
            "margin": null,
            "max_height": null,
            "max_width": null,
            "min_height": null,
            "min_width": null,
            "object_fit": null,
            "object_position": null,
            "order": null,
            "overflow": null,
            "overflow_x": null,
            "overflow_y": null,
            "padding": null,
            "right": null,
            "top": null,
            "visibility": null,
            "width": null
          }
        },
        "95230bfecc72477ea91e3cce68f97b8b": {
          "model_module": "@jupyter-widgets/controls",
          "model_name": "DescriptionStyleModel",
          "model_module_version": "1.5.0",
          "state": {
            "_model_module": "@jupyter-widgets/controls",
            "_model_module_version": "1.5.0",
            "_model_name": "DescriptionStyleModel",
            "_view_count": null,
            "_view_module": "@jupyter-widgets/base",
            "_view_module_version": "1.2.0",
            "_view_name": "StyleView",
            "description_width": ""
          }
        },
        "81b65c61d740415c8873b3ced7ab46b9": {
          "model_module": "@jupyter-widgets/base",
          "model_name": "LayoutModel",
          "model_module_version": "1.2.0",
          "state": {
            "_model_module": "@jupyter-widgets/base",
            "_model_module_version": "1.2.0",
            "_model_name": "LayoutModel",
            "_view_count": null,
            "_view_module": "@jupyter-widgets/base",
            "_view_module_version": "1.2.0",
            "_view_name": "LayoutView",
            "align_content": null,
            "align_items": null,
            "align_self": null,
            "border": null,
            "bottom": null,
            "display": null,
            "flex": null,
            "flex_flow": null,
            "grid_area": null,
            "grid_auto_columns": null,
            "grid_auto_flow": null,
            "grid_auto_rows": null,
            "grid_column": null,
            "grid_gap": null,
            "grid_row": null,
            "grid_template_areas": null,
            "grid_template_columns": null,
            "grid_template_rows": null,
            "height": null,
            "justify_content": null,
            "justify_items": null,
            "left": null,
            "margin": null,
            "max_height": null,
            "max_width": null,
            "min_height": null,
            "min_width": null,
            "object_fit": null,
            "object_position": null,
            "order": null,
            "overflow": null,
            "overflow_x": null,
            "overflow_y": null,
            "padding": null,
            "right": null,
            "top": null,
            "visibility": null,
            "width": null
          }
        },
        "4242d3e9cdbd4e07bb58451b583b33c7": {
          "model_module": "@jupyter-widgets/controls",
          "model_name": "ProgressStyleModel",
          "model_module_version": "1.5.0",
          "state": {
            "_model_module": "@jupyter-widgets/controls",
            "_model_module_version": "1.5.0",
            "_model_name": "ProgressStyleModel",
            "_view_count": null,
            "_view_module": "@jupyter-widgets/base",
            "_view_module_version": "1.2.0",
            "_view_name": "StyleView",
            "bar_color": null,
            "description_width": ""
          }
        },
        "d5e7b13fe837441b869f18c59af099ca": {
          "model_module": "@jupyter-widgets/base",
          "model_name": "LayoutModel",
          "model_module_version": "1.2.0",
          "state": {
            "_model_module": "@jupyter-widgets/base",
            "_model_module_version": "1.2.0",
            "_model_name": "LayoutModel",
            "_view_count": null,
            "_view_module": "@jupyter-widgets/base",
            "_view_module_version": "1.2.0",
            "_view_name": "LayoutView",
            "align_content": null,
            "align_items": null,
            "align_self": null,
            "border": null,
            "bottom": null,
            "display": null,
            "flex": null,
            "flex_flow": null,
            "grid_area": null,
            "grid_auto_columns": null,
            "grid_auto_flow": null,
            "grid_auto_rows": null,
            "grid_column": null,
            "grid_gap": null,
            "grid_row": null,
            "grid_template_areas": null,
            "grid_template_columns": null,
            "grid_template_rows": null,
            "height": null,
            "justify_content": null,
            "justify_items": null,
            "left": null,
            "margin": null,
            "max_height": null,
            "max_width": null,
            "min_height": null,
            "min_width": null,
            "object_fit": null,
            "object_position": null,
            "order": null,
            "overflow": null,
            "overflow_x": null,
            "overflow_y": null,
            "padding": null,
            "right": null,
            "top": null,
            "visibility": null,
            "width": null
          }
        },
        "71097df507584b9195ce0cfcb8210ad0": {
          "model_module": "@jupyter-widgets/controls",
          "model_name": "DescriptionStyleModel",
          "model_module_version": "1.5.0",
          "state": {
            "_model_module": "@jupyter-widgets/controls",
            "_model_module_version": "1.5.0",
            "_model_name": "DescriptionStyleModel",
            "_view_count": null,
            "_view_module": "@jupyter-widgets/base",
            "_view_module_version": "1.2.0",
            "_view_name": "StyleView",
            "description_width": ""
          }
        }
      }
    }
  },
  "nbformat": 4,
  "nbformat_minor": 0
}